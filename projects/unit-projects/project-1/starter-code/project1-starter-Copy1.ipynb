{
 "cells": [
  {
   "cell_type": "markdown",
   "metadata": {},
   "source": [
    "# Project 1\n",
    "\n",
    "In this first project you will create a framework to scope out data science projects. This framework will provide you with a guide to develop a well-articulated problem statement and analysis plan that will be robust and reproducible."
   ]
  },
  {
   "cell_type": "markdown",
   "metadata": {},
   "source": [
    "## Exercise 1: Read and evaluate the following problem statement: \n",
    "Determine which free-tier customers will covert to paying customers, using demographic data collected at signup (age, gender, location, and profession) and customer useage data (days since last log in, and activity score 1 = active user, 0= inactive user) based on Hooli data from Jan-Apr 2015. \n"
   ]
  },
  {
   "cell_type": "markdown",
   "metadata": {},
   "source": [
    "#### 1. What is the outcome?"
   ]
  },
  {
   "cell_type": "markdown",
   "metadata": {},
   "source": [
    "Answer: \n",
    " - quantitative deliverable: Count of conversion to paying customers\n",
    " - prediction deliverable: Likelihood of conversion to paying customers"
   ]
  },
  {
   "cell_type": "markdown",
   "metadata": {},
   "source": [
    "#### 2. What are the predictors/covariates? "
   ]
  },
  {
   "cell_type": "markdown",
   "metadata": {},
   "source": [
    "Answer: \n",
    "- predictors are age, gender, location, and profession\n",
    "- days since last log in should be a covariate, since it is an independant variable and relates to time"
   ]
  },
  {
   "cell_type": "markdown",
   "metadata": {},
   "source": [
    "#### 3. What timeframe is this data relevent for?"
   ]
  },
  {
   "cell_type": "markdown",
   "metadata": {},
   "source": [
    "Answer: Jan-Apr 2015"
   ]
  },
  {
   "cell_type": "markdown",
   "metadata": {},
   "source": [
    "#### 4. What is the hypothesis?"
   ]
  },
  {
   "cell_type": "markdown",
   "metadata": {},
   "source": [
    "Answer: Using a null hypothesis...    \n",
    "H0: The features, age, gender, location, and profession of free-tier customers are not related to their eventual choice to become paying customers"
   ]
  },
  {
   "cell_type": "markdown",
   "metadata": {},
   "source": [
    "## Exercise 2: Let's get started with our dataset (use admissions.csv)"
   ]
  },
  {
   "cell_type": "markdown",
   "metadata": {},
   "source": [
    "#### 1. Create a data dictionary "
   ]
  },
  {
   "cell_type": "markdown",
   "metadata": {},
   "source": [
    "Answer: \n",
    "\n",
    "Variable | Description | Type of Variable\n",
    "---| ---| ---\n",
    "Var 1 | 0 = not thing 1 = thing | categorical\n",
    "Var 2 | thing in unit X | continuous \n"
   ]
  },
  {
   "cell_type": "code",
   "execution_count": 6,
   "metadata": {
    "collapsed": true
   },
   "outputs": [],
   "source": [
    "import numpy as np\n",
    "import pandas as pd\n",
    "%matplotlib inline"
   ]
  },
  {
   "cell_type": "code",
   "execution_count": 7,
   "metadata": {
    "collapsed": true
   },
   "outputs": [],
   "source": [
    "df = pd.read_csv('../assets/admissions.csv')"
   ]
  },
  {
   "cell_type": "code",
   "execution_count": 8,
   "metadata": {
    "collapsed": true
   },
   "outputs": [],
   "source": [
    "gres = list(df['gre'])\n",
    "gpas = list(df['gpa'])\n",
    "prestiges = list(df['prestige'])\n",
    "admits = list(df['admit'])"
   ]
  },
  {
   "cell_type": "code",
   "execution_count": 18,
   "metadata": {
    "collapsed": true
   },
   "outputs": [],
   "source": [
    "data_dictionary = {}\n",
    "data_dictionary['Variable'] = [\"admit\", \"gre\", \"gpa\", \"prestige\"]\n",
    "data_dictionary['Data Type'] = [\"Boolean\", \"Float\", \"Float\", \"Float\"]\n",
    "data_dictionary['Type of Variable'] = [\"categorical\", \"continuous\", \"continuous\", \"continuous\"]\n",
    "data_dictionary['Description'] = [\"True/False\", \"values between 130 - 170\", \"4.0 Scale\", \"1 - 4, 1 is highest\"]\n"
   ]
  },
  {
   "cell_type": "code",
   "execution_count": 19,
   "metadata": {},
   "outputs": [
    {
     "data": {
      "text/html": [
       "<div>\n",
       "<style>\n",
       "    .dataframe thead tr:only-child th {\n",
       "        text-align: right;\n",
       "    }\n",
       "\n",
       "    .dataframe thead th {\n",
       "        text-align: left;\n",
       "    }\n",
       "\n",
       "    .dataframe tbody tr th {\n",
       "        vertical-align: top;\n",
       "    }\n",
       "</style>\n",
       "<table border=\"1\" class=\"dataframe\">\n",
       "  <thead>\n",
       "    <tr style=\"text-align: right;\">\n",
       "      <th></th>\n",
       "      <th>Data Type</th>\n",
       "      <th>Description</th>\n",
       "      <th>Type of Variable</th>\n",
       "      <th>Variable</th>\n",
       "    </tr>\n",
       "  </thead>\n",
       "  <tbody>\n",
       "    <tr>\n",
       "      <th>0</th>\n",
       "      <td>Boolean</td>\n",
       "      <td>True/False</td>\n",
       "      <td>categorical</td>\n",
       "      <td>admit</td>\n",
       "    </tr>\n",
       "    <tr>\n",
       "      <th>1</th>\n",
       "      <td>Float</td>\n",
       "      <td>values between 130 - 170</td>\n",
       "      <td>continuous</td>\n",
       "      <td>gre</td>\n",
       "    </tr>\n",
       "    <tr>\n",
       "      <th>2</th>\n",
       "      <td>Float</td>\n",
       "      <td>4.0 Scale</td>\n",
       "      <td>continuous</td>\n",
       "      <td>gpa</td>\n",
       "    </tr>\n",
       "    <tr>\n",
       "      <th>3</th>\n",
       "      <td>Float</td>\n",
       "      <td>1 - 4, 1 is highest</td>\n",
       "      <td>continuous</td>\n",
       "      <td>prestige</td>\n",
       "    </tr>\n",
       "  </tbody>\n",
       "</table>\n",
       "</div>"
      ],
      "text/plain": [
       "  Data Type               Description Type of Variable  Variable\n",
       "0   Boolean                True/False      categorical     admit\n",
       "1     Float  values between 130 - 170       continuous       gre\n",
       "2     Float                 4.0 Scale       continuous       gpa\n",
       "3     Float       1 - 4, 1 is highest       continuous  prestige"
      ]
     },
     "execution_count": 19,
     "metadata": {},
     "output_type": "execute_result"
    }
   ],
   "source": [
    "new_ddata = pd.DataFrame(data_dictionary)\n",
    "new_ddata"
   ]
  },
  {
   "cell_type": "markdown",
   "metadata": {},
   "source": [
    "We would like to explore the association between X and Y "
   ]
  },
  {
   "cell_type": "markdown",
   "metadata": {},
   "source": [
    "#### 2. What is the outcome?"
   ]
  },
  {
   "cell_type": "markdown",
   "metadata": {},
   "source": [
    "Answer:  We are trying to predict admit"
   ]
  },
  {
   "cell_type": "markdown",
   "metadata": {},
   "source": [
    "#### 3. What are the predictors/covariates? "
   ]
  },
  {
   "cell_type": "markdown",
   "metadata": {},
   "source": [
    "Answer:  gpa, gre, prestige"
   ]
  },
  {
   "cell_type": "markdown",
   "metadata": {},
   "source": [
    "#### 4. What timeframe is this data relevent for?"
   ]
  },
  {
   "cell_type": "markdown",
   "metadata": {},
   "source": [
    "Answer:  There is no time interval indicated in the data"
   ]
  },
  {
   "cell_type": "markdown",
   "metadata": {},
   "source": [
    "#### 5. What is the hypothesis?"
   ]
  },
  {
   "cell_type": "markdown",
   "metadata": {},
   "source": [
    "Answer:  \n",
    "H0:  All predictor variable coefficients are equal to zero  \n",
    "$\\beta_{gre} + \\beta_{gpa} +  \\beta_{prestige} = 0$"
   ]
  },
  {
   "cell_type": "markdown",
   "metadata": {},
   "source": [
    "#### 6. Using the above information, write a well-formed problem statement. \n"
   ]
  },
  {
   "cell_type": "markdown",
   "metadata": {},
   "source": [
    "Answer:\n",
    "- We want to see if we can predict if a student will be admitted if they have comparable gpas, gre scores, and associate the school with high prestige\n",
    "\n",
    "\n",
    "\n",
    "We have data on gre, gpa, and prestige, but we don't know if there is a relation to admission\n",
    " - Do gre scores, gpas, and college prestige affect a schools decision to admit?\n",
    " - Can we predict admission to this school based on three factors?\n",
    " - Can we predict probability of admission to this school based on 3 factors?"
   ]
  },
  {
   "cell_type": "markdown",
   "metadata": {},
   "source": [
    "## Exercise 3: Exploratory Analysis Plan (Materials will be covered on Tuesday's class)"
   ]
  },
  {
   "cell_type": "markdown",
   "metadata": {},
   "source": [
    "Using the lab from a class as a guide, create an exploratory analysis plan. "
   ]
  },
  {
   "cell_type": "markdown",
   "metadata": {},
   "source": [
    "#### 1. What are the goals of the exploratory analysis? "
   ]
  },
  {
   "cell_type": "markdown",
   "metadata": {
    "collapsed": true
   },
   "source": [
    "Answer: We want to download the data in a suitable format, create a data dictionary, that describes the features and the datapoints.  Then we want to sort the data into categorical and continuous variables.  We can also sort the data into meaningful match-ups in order to investigate the correlation of the features to their target.  \n",
    "We also look at statistical data, such as mean, median, mode, and standard deviation.  We look at the distribution of the data and decide on a model to predict correlation of variables to their target"
   ]
  },
  {
   "cell_type": "markdown",
   "metadata": {},
   "source": [
    "#### 2a. What are the assumptions of the distribution of data? "
   ]
  },
  {
   "cell_type": "markdown",
   "metadata": {},
   "source": [
    "Answer: Assume a normal distribution"
   ]
  },
  {
   "cell_type": "markdown",
   "metadata": {},
   "source": [
    "#### 2b. How will determine the distribution of your data? "
   ]
  },
  {
   "cell_type": "markdown",
   "metadata": {
    "collapsed": true
   },
   "source": [
    "Answer: df.describe() will show the interquartile range of your data, including the mean, median and standard deviation"
   ]
  },
  {
   "cell_type": "markdown",
   "metadata": {},
   "source": [
    "#### 3a. How might outliers impact your analysis? "
   ]
  },
  {
   "cell_type": "markdown",
   "metadata": {
    "collapsed": true
   },
   "source": [
    "Answer: they change the stretch of the box plot, and have an extreme impact on the mean."
   ]
  },
  {
   "cell_type": "markdown",
   "metadata": {},
   "source": [
    "#### 3b. How will you test for outliers? "
   ]
  },
  {
   "cell_type": "markdown",
   "metadata": {},
   "source": [
    "Answer:  Multiply 1.5 times the q3"
   ]
  },
  {
   "cell_type": "markdown",
   "metadata": {},
   "source": [
    "#### 4a. What is colinearity? "
   ]
  },
  {
   "cell_type": "markdown",
   "metadata": {
    "collapsed": true
   },
   "source": [
    "Answer: Collinearity is when two or more predictors are related."
   ]
  },
  {
   "cell_type": "markdown",
   "metadata": {},
   "source": [
    "#### 4b. How will you test for colinearity? "
   ]
  },
  {
   "cell_type": "markdown",
   "metadata": {},
   "source": [
    "Answer:  use a scatter plot to see the relation or use df.corr()\n",
    "- collinear datapoints will appear to form a line"
   ]
  },
  {
   "cell_type": "markdown",
   "metadata": {},
   "source": [
    "\n",
    "#### 5. What is your exploratory analysis plan?\n",
    "Using the above information, write an exploratory analysis plan that would allow you or a colleague to reproduce your analysis 1 year from now. "
   ]
  },
  {
   "cell_type": "markdown",
   "metadata": {},
   "source": [
    "Answer: download the same data, create a data dictionary, and look at statistical data, searching for statistically significant patterns of correlation.  As mentioned earlier, there is no time data associated with the dataframe in question.  So, simply downloading the same data, using the same python packages to visualize it and compute the values of statistical significance, would likely reproduce the same result."
   ]
  },
  {
   "cell_type": "markdown",
   "metadata": {},
   "source": [
    "## Bonus Questions:\n",
    "1. Outline your analysis method for predicting your outcome\n",
    "2. Write an alternative problem statement for your dataset\n",
    "3. Articulate the assumptions and risks of the alternative model"
   ]
  },
  {
   "cell_type": "markdown",
   "metadata": {
    "collapsed": true
   },
   "source": [
    "##### 1. EDA Outline for predicting outcome\n",
    "\n",
    "Identify the Problem\n",
    " - Identify Business/Product Objectives\n",
    " - Identify and Hypothesize goals and criteria for success\n",
    " - Create a set of questions for identifying correct data set\n",
    " \n",
    "Acquire the Data\n",
    " - identify the \"right\" data set or sets\n",
    " - Import data and set up local or remote data structure\n",
    " - Determine the Most Appropriate tools to work with the data\n",
    " \n",
    "Parse the Data\n",
    " - Read any documentation provided with the data\n",
    " - Perform EDA (Exploratory Data Analysis)\n",
    " - Verify the Quality of the Data\n",
    " \n",
    "Mine the Data\n",
    " - Determine the sampling methodology and sample data\n",
    " - Format, clean slice, and combine data in Python\n",
    " - Create necessary derived columns from the data (new data)\n",
    "\n",
    "\n",
    "Refine the Data\n",
    " - Identify Trends and Outliers\n",
    " - Apply descriptive and inferential statistics\n",
    " - Document and transform data\n",
    " \n",
    "Build a Data Model\n",
    " - Select Appropriate Model\n",
    " - Build Model\n",
    " - Evaluate and Refine Model\n",
    " \n",
    "Present the Results\n",
    " - Summarize Findings with narative storytelling techniques\n",
    " - Present Limitations and assumptions of your analysis\n",
    " - Identify follow-up problems and questions for future analysis"
   ]
  },
  {
   "cell_type": "markdown",
   "metadata": {},
   "source": [
    "##### 2. Alternate Problem Statement\n",
    "\n",
    "H1:  alternate hypothesis that at least one of them is different not zero  \n",
    " - $\\beta_{gre} + \\beta_{gpa} +  \\beta_{prestige} > 0$\n",
    " - $\\beta_{gre} + \\beta_{gpa} +  \\beta_{prestige} < 0$"
   ]
  },
  {
   "cell_type": "markdown",
   "metadata": {},
   "source": [
    "##### 3. Assumptions and risks of alternative model\n",
    "\n",
    "There is no time data, so this snapshot dataset could be outdated\n",
    "small dataset and number of variables\n",
    "\n",
    "##### Limitations:\n",
    "- There are few (4) features to this dataset, any one of them or all of them could be covariates\n",
    "- time is a convenient covariate, but we do not have it in this data set.\n",
    "\n",
    "scale of the datapoints is irregular... \n",
    "- we need to treat each feature separately, and, \n",
    "- for prestige, make it into four variables\n",
    "\n",
    "compare gpa range (0 - 4) and prestige range (1 - 4) \n",
    "- they are on different scales, and reversed, since highest gpa is 4.0 and highest prestige is 1.0"
   ]
  },
  {
   "cell_type": "code",
   "execution_count": null,
   "metadata": {
    "collapsed": true
   },
   "outputs": [],
   "source": []
  }
 ],
 "metadata": {
  "kernelspec": {
   "display_name": "Python 2",
   "language": "python",
   "name": "python2"
  },
  "language_info": {
   "codemirror_mode": {
    "name": "ipython",
    "version": 2
   },
   "file_extension": ".py",
   "mimetype": "text/x-python",
   "name": "python",
   "nbconvert_exporter": "python",
   "pygments_lexer": "ipython2",
   "version": "2.7.13"
  }
 },
 "nbformat": 4,
 "nbformat_minor": 1
}
