{
 "cells": [
  {
   "cell_type": "markdown",
   "metadata": {},
   "source": [
    "# Problem Statement\n",
    "\n",
    "The airline dataset contains 21 features and  1048 observations.\n",
    "\n",
    "\n",
    "The dataset’s 21 features are:   \n",
    "'year', 'month', 'carrier', 'carrier_name', 'airport', 'airport_name', 'arr_flights', 'arr_del15', 'carrier_ct', 'weather_ct', 'nas_ct', 'security_ct', 'late_aircraft_ct', 'arr_cancelled', 'arr_diverted', 'arr_delay', 'carrier_delay', 'weather_delay', 'nas_delay', 'security_delay', and 'late_aircraft_delay'.\n",
    "  \n",
    "Based on these features, we will analyze the relationship between reasons for flight delays for arriving flights to Denver International airport.  Our Null Hypothesis (H0) is there is no relationship between <feature_x> and <target_y>.  Our secondary hypothesis (H1)will address features and target relationships that show a correlation.  And we will try to answer these questions:\n",
    "\n",
    "Is there a relationship between delays and airline?\n",
    "-\tCreate a data subset:\n",
    "    - Group by airline and delayed\n",
    "    - Group by airline and type of delay\n",
    "Is there a relationship between delays and destination?\n",
    "-\tCreate a data subset:\n",
    "    - Group by airline and destination\n",
    "    - Group by airline and type of delay\n",
    "\n",
    "Can we use 'late_aircraft_delay' as the target variable for a regression problem?\n",
    "Can we classify the delayed feature into delayed and not delayed? And make a classification problem?\t\n",
    "\n",
    "## Methods\n",
    "\n",
    "Begin with simple OLS Linear Regression and from there compare its performance to Lasso, Ridge, and Elasticnet.\n",
    "\n",
    "We are looking for a model performance close to 90.\n",
    "\n",
    "We will look at how many variables we use in our model and add or subtract based on what performs best.\n",
    "\n",
    "We will look at subsets of the data to determine what feature combinations work best based on error metrics such as MSE and MAE."
   ]
  },
  {
   "attachments": {},
   "cell_type": "markdown",
   "metadata": {},
   "source": [
    "## Explanation of the Data\n",
    "Delay types are:\n",
    "Air Carrier:   The cause of the cancellation or delay was due to circumstances within the airline's control (e.g. maintenance or crew problems, aircraft cleaning, baggage loading, fueling, etc.).\n",
    "Extreme Weather:   Significant meteorological conditions (actual or forecasted) that, in the judgment of the carrier, delays or prevents the operation of a flight such as tornado, blizzard or hurricane.\n",
    "National Aviation System (NAS):   Delays and cancellations attributable to the national aviation system that refer to a broad set of conditions, such as non-extreme weather conditions, airport operations, heavy traffic volume, and air traffic control.\n",
    "Late-arriving aircraft:   A previous flight with same aircraft arrived late, causing the present flight to depart late.\n",
    "Security:   Delays or cancellations caused by evacuation of a terminal or concourse, re-boarding of aircraft because of security breach, inoperative screening equipment and/or long lines in excess of 29 minutes at screening areas.\n",
    "\n",
    "## Feature Selection\n",
    "Use cross validation to help account for bias.  We will generate several models on different cross-sections of the final data, measure the performance of each, and find the mean performance.  Using k-fold cross-validation, the score may be lower, but will be less biased.  We trade bias for generalized error.\n",
    "  \n",
    "We will evaluate the model fit with gridsearchCV to find what setup worked best, and minimize loss with gradient descent\n",
    "  \n",
    "Finally, we will determine which alternate features could also be predicted.  For example, if we are predicting the best time to fly, we will have different class labels (day, night, etc) to predict.  Then we will begin with KNN, and progress to more complex modeling if necessary.\n",
    "\n",
    "## Goals, Criteria, Success, Questions, Assumptions\n",
    "\n",
    "We are looking to use a regression model to predict the length of delay given an airline and a destination as condition.\n",
    "\n",
    "If the model is linear, then the OLS method would be appropriate to solve this problem.  It is possible that the problem may be more complex.  We might need more data.  We might need to examine more relationships between variables.  We might need to use different models or tune hyperparameters differently to achieve better results.\n",
    "\n",
    "### Domain Knowledge\n",
    "There s a similar project in Kaggle.  It uses 2013 and 2014 as training sets and 2015 as a test set.  \n"
   ]
  },
  {
   "cell_type": "code",
   "execution_count": null,
   "metadata": {
    "collapsed": true
   },
   "outputs": [],
   "source": []
  }
 ],
 "metadata": {
  "kernelspec": {
   "display_name": "Python 2",
   "language": "python",
   "name": "python2"
  },
  "language_info": {
   "codemirror_mode": {
    "name": "ipython",
    "version": 2
   },
   "file_extension": ".py",
   "mimetype": "text/x-python",
   "name": "python",
   "nbconvert_exporter": "python",
   "pygments_lexer": "ipython2",
   "version": "2.7.13"
  }
 },
 "nbformat": 4,
 "nbformat_minor": 2
}
