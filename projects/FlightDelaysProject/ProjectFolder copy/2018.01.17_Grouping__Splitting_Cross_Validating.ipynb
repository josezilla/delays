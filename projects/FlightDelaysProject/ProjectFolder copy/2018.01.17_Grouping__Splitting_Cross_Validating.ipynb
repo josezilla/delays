{
 "cells": [
  {
   "cell_type": "markdown",
   "metadata": {},
   "source": [
    "2018.01.17"
   ]
  },
  {
   "cell_type": "code",
   "execution_count": 1,
   "metadata": {
    "collapsed": true
   },
   "outputs": [],
   "source": [
    "import numpy as np\n",
    "import pandas as pd\n",
    "import re\n",
    "import seaborn as sns\n",
    "import matplotlib.pyplot as plt\n",
    "\n",
    "from pygeocoder import Geocoder\n",
    "from mpl_toolkits.basemap import Basemap\n",
    "\n",
    "%matplotlib inline"
   ]
  },
  {
   "cell_type": "markdown",
   "metadata": {},
   "source": [
    "## Import the csv"
   ]
  },
  {
   "cell_type": "code",
   "execution_count": 2,
   "metadata": {
    "collapsed": true
   },
   "outputs": [],
   "source": [
    "# where this data came from: https://www.transtats.bts.gov/OT_Delay/OT_DelayCause1.asp?pn=1\n",
    "orig_data = pd.read_csv('./project_datasets/682464398_102017_1651_airline_delay_causes.csv', skipinitialspace=True)"
   ]
  },
  {
   "cell_type": "markdown",
   "metadata": {},
   "source": [
    "## Clean the data"
   ]
  },
  {
   "cell_type": "markdown",
   "metadata": {},
   "source": [
    "### drop the extraneous column that has no information"
   ]
  },
  {
   "cell_type": "code",
   "execution_count": 3,
   "metadata": {
    "collapsed": true
   },
   "outputs": [],
   "source": [
    "data_right_columns = orig_data.drop('Unnamed: 21', axis=1)"
   ]
  },
  {
   "cell_type": "markdown",
   "metadata": {},
   "source": [
    "Some of the column names have initial space, so we use a regular expression  \n",
    "\n",
    "to make them easier to work with programmatically"
   ]
  },
  {
   "cell_type": "code",
   "execution_count": 4,
   "metadata": {},
   "outputs": [
    {
     "data": {
      "text/plain": [
       "Index([u'year', u'month', u'carrier', u'carrier_name', u'airport',\n",
       "       u'airport_name', u'arr_flights', u'arr_del15', u'carrier_ct',\n",
       "       u'weather_ct', u'nas_ct', u'security_ct', u'late_aircraft_ct',\n",
       "       u'arr_cancelled', u'arr_diverted', u'arr_delay', u'carrier_delay',\n",
       "       u'weather_delay', u'nas_delay', u'security_delay',\n",
       "       u'late_aircraft_delay'],\n",
       "      dtype='object')"
      ]
     },
     "execution_count": 4,
     "metadata": {},
     "output_type": "execute_result"
    }
   ],
   "source": [
    "columns = []\n",
    "for i, col in enumerate(data_right_columns.columns):\n",
    "    global columns\n",
    "    col = re.sub(r'\\s+', '', col)\n",
    "    columns.append(col)\n",
    "data_right_columns.columns = columns\n",
    "data_right_columns.columns"
   ]
  },
  {
   "cell_type": "markdown",
   "metadata": {},
   "source": [
    "### Dropping the NaN rows as invalid data, it is a small percentage of the entire dataset"
   ]
  },
  {
   "cell_type": "code",
   "execution_count": 5,
   "metadata": {},
   "outputs": [
    {
     "data": {
      "text/plain": [
       "(11193, 21)"
      ]
     },
     "execution_count": 5,
     "metadata": {},
     "output_type": "execute_result"
    }
   ],
   "source": [
    "data_right_columns.shape"
   ]
  },
  {
   "cell_type": "code",
   "execution_count": 6,
   "metadata": {
    "collapsed": true
   },
   "outputs": [],
   "source": [
    "data_NoNaN = data_right_columns.dropna(axis=0)"
   ]
  },
  {
   "cell_type": "markdown",
   "metadata": {},
   "source": [
    "So, the Nans have been dropped..."
   ]
  },
  {
   "cell_type": "markdown",
   "metadata": {},
   "source": [
    "### We wil now use the first variable, `data_NoNaN` and set it to `data` ...\n",
    "\n",
    "The next four strategies of NaN handling are commented out, but also will be `data`"
   ]
  },
  {
   "cell_type": "code",
   "execution_count": 7,
   "metadata": {
    "collapsed": true
   },
   "outputs": [],
   "source": [
    "data = data_NoNaN"
   ]
  },
  {
   "cell_type": "markdown",
   "metadata": {
    "collapsed": true
   },
   "source": [
    "Looking at the shape of our data, the 18 dropped values, give us 11173 observations and 21 features"
   ]
  },
  {
   "cell_type": "code",
   "execution_count": 8,
   "metadata": {},
   "outputs": [
    {
     "data": {
      "text/plain": [
       "(11173, 21)"
      ]
     },
     "execution_count": 8,
     "metadata": {},
     "output_type": "execute_result"
    }
   ],
   "source": [
    "data.shape"
   ]
  },
  {
   "cell_type": "markdown",
   "metadata": {},
   "source": [
    "# Target\n",
    "We have determined that the goal of this data analysis is to predict delayed flights, given certain conditions based on the dataset.  Therefore the target variable is `arr_del15`\n",
    "\n",
    "\n"
   ]
  },
  {
   "cell_type": "markdown",
   "metadata": {},
   "source": [
    "Let's make the target variable binary."
   ]
  },
  {
   "cell_type": "code",
   "execution_count": 9,
   "metadata": {},
   "outputs": [
    {
     "name": "stderr",
     "output_type": "stream",
     "text": [
      "/Users/jg/anaconda/lib/python2.7/site-packages/ipykernel_launcher.py:1: SettingWithCopyWarning: \n",
      "A value is trying to be set on a copy of a slice from a DataFrame.\n",
      "Try using .loc[row_indexer,col_indexer] = value instead\n",
      "\n",
      "See the caveats in the documentation: http://pandas.pydata.org/pandas-docs/stable/indexing.html#indexing-view-versus-copy\n",
      "  \"\"\"Entry point for launching an IPython kernel.\n"
     ]
    },
    {
     "data": {
      "text/plain": [
       "1    6651\n",
       "0    4522\n",
       "Name: target, dtype: int64"
      ]
     },
     "execution_count": 9,
     "metadata": {},
     "output_type": "execute_result"
    }
   ],
   "source": [
    "data['target'] = [1 if targ >= 15.0 else 0 for targ in data.arr_del15]\n",
    "data['target'].value_counts()"
   ]
  },
  {
   "cell_type": "markdown",
   "metadata": {},
   "source": [
    "#### Now that `target_x` has been created and added to the dataframe, `data`, `arr_del15` needs to be dropped since it is now redundant"
   ]
  },
  {
   "cell_type": "code",
   "execution_count": 10,
   "metadata": {},
   "outputs": [
    {
     "data": {
      "text/plain": [
       "Index([u'year', u'month', u'carrier', u'carrier_name', u'airport',\n",
       "       u'airport_name', u'arr_flights', u'carrier_ct', u'weather_ct',\n",
       "       u'nas_ct', u'security_ct', u'late_aircraft_ct', u'arr_cancelled',\n",
       "       u'arr_diverted', u'arr_delay', u'carrier_delay', u'weather_delay',\n",
       "       u'nas_delay', u'security_delay', u'late_aircraft_delay', u'target'],\n",
       "      dtype='object')"
      ]
     },
     "execution_count": 10,
     "metadata": {},
     "output_type": "execute_result"
    }
   ],
   "source": [
    "data = data.drop('arr_del15', axis=1)\n",
    "data.columns"
   ]
  },
  {
   "cell_type": "markdown",
   "metadata": {},
   "source": [
    "`data.columns` is a list of all 21 features including the target variable"
   ]
  },
  {
   "cell_type": "code",
   "execution_count": 11,
   "metadata": {},
   "outputs": [
    {
     "data": {
      "text/plain": [
       "21"
      ]
     },
     "execution_count": 11,
     "metadata": {},
     "output_type": "execute_result"
    }
   ],
   "source": [
    "len(data.columns)"
   ]
  },
  {
   "cell_type": "markdown",
   "metadata": {},
   "source": [
    "# Statistical Analysis  0.0"
   ]
  },
  {
   "cell_type": "code",
   "execution_count": 12,
   "metadata": {},
   "outputs": [
    {
     "data": {
      "text/html": [
       "<div>\n",
       "<style>\n",
       "    .dataframe thead tr:only-child th {\n",
       "        text-align: right;\n",
       "    }\n",
       "\n",
       "    .dataframe thead th {\n",
       "        text-align: left;\n",
       "    }\n",
       "\n",
       "    .dataframe tbody tr th {\n",
       "        vertical-align: top;\n",
       "    }\n",
       "</style>\n",
       "<table border=\"1\" class=\"dataframe\">\n",
       "  <thead>\n",
       "    <tr style=\"text-align: right;\">\n",
       "      <th></th>\n",
       "      <th>year</th>\n",
       "      <th>month</th>\n",
       "      <th>arr_flights</th>\n",
       "      <th>carrier_ct</th>\n",
       "      <th>weather_ct</th>\n",
       "      <th>nas_ct</th>\n",
       "      <th>security_ct</th>\n",
       "      <th>late_aircraft_ct</th>\n",
       "      <th>arr_cancelled</th>\n",
       "      <th>arr_diverted</th>\n",
       "      <th>arr_delay</th>\n",
       "      <th>carrier_delay</th>\n",
       "      <th>weather_delay</th>\n",
       "      <th>nas_delay</th>\n",
       "      <th>security_delay</th>\n",
       "      <th>late_aircraft_delay</th>\n",
       "      <th>target</th>\n",
       "    </tr>\n",
       "  </thead>\n",
       "  <tbody>\n",
       "    <tr>\n",
       "      <th>count</th>\n",
       "      <td>11173.0</td>\n",
       "      <td>11173.000000</td>\n",
       "      <td>11173.000000</td>\n",
       "      <td>11173.000000</td>\n",
       "      <td>11173.000000</td>\n",
       "      <td>11173.000000</td>\n",
       "      <td>11173.000000</td>\n",
       "      <td>11173.000000</td>\n",
       "      <td>11173.000000</td>\n",
       "      <td>11173.000000</td>\n",
       "      <td>11173.000000</td>\n",
       "      <td>11173.000000</td>\n",
       "      <td>11173.000000</td>\n",
       "      <td>11173.000000</td>\n",
       "      <td>11173.000000</td>\n",
       "      <td>11173.000000</td>\n",
       "      <td>11173.000000</td>\n",
       "    </tr>\n",
       "    <tr>\n",
       "      <th>mean</th>\n",
       "      <td>2016.0</td>\n",
       "      <td>6.025239</td>\n",
       "      <td>461.532892</td>\n",
       "      <td>22.628786</td>\n",
       "      <td>2.278168</td>\n",
       "      <td>24.216326</td>\n",
       "      <td>0.146415</td>\n",
       "      <td>27.759464</td>\n",
       "      <td>5.226528</td>\n",
       "      <td>1.109371</td>\n",
       "      <td>4762.861541</td>\n",
       "      <td>1557.819565</td>\n",
       "      <td>203.253379</td>\n",
       "      <td>1140.141233</td>\n",
       "      <td>6.610669</td>\n",
       "      <td>1855.036696</td>\n",
       "      <td>0.595274</td>\n",
       "    </tr>\n",
       "    <tr>\n",
       "      <th>std</th>\n",
       "      <td>0.0</td>\n",
       "      <td>3.157616</td>\n",
       "      <td>1170.892758</td>\n",
       "      <td>51.024876</td>\n",
       "      <td>6.806785</td>\n",
       "      <td>66.990992</td>\n",
       "      <td>0.578833</td>\n",
       "      <td>72.339762</td>\n",
       "      <td>20.253243</td>\n",
       "      <td>4.600183</td>\n",
       "      <td>12999.978334</td>\n",
       "      <td>4469.262529</td>\n",
       "      <td>674.118573</td>\n",
       "      <td>3690.589513</td>\n",
       "      <td>31.161224</td>\n",
       "      <td>5125.250783</td>\n",
       "      <td>0.490861</td>\n",
       "    </tr>\n",
       "    <tr>\n",
       "      <th>min</th>\n",
       "      <td>2016.0</td>\n",
       "      <td>1.000000</td>\n",
       "      <td>1.000000</td>\n",
       "      <td>0.000000</td>\n",
       "      <td>0.000000</td>\n",
       "      <td>0.000000</td>\n",
       "      <td>0.000000</td>\n",
       "      <td>0.000000</td>\n",
       "      <td>0.000000</td>\n",
       "      <td>0.000000</td>\n",
       "      <td>0.000000</td>\n",
       "      <td>0.000000</td>\n",
       "      <td>0.000000</td>\n",
       "      <td>0.000000</td>\n",
       "      <td>0.000000</td>\n",
       "      <td>0.000000</td>\n",
       "      <td>0.000000</td>\n",
       "    </tr>\n",
       "    <tr>\n",
       "      <th>25%</th>\n",
       "      <td>2016.0</td>\n",
       "      <td>3.000000</td>\n",
       "      <td>60.000000</td>\n",
       "      <td>2.720000</td>\n",
       "      <td>0.000000</td>\n",
       "      <td>1.440000</td>\n",
       "      <td>0.000000</td>\n",
       "      <td>1.950000</td>\n",
       "      <td>0.000000</td>\n",
       "      <td>0.000000</td>\n",
       "      <td>419.000000</td>\n",
       "      <td>139.000000</td>\n",
       "      <td>0.000000</td>\n",
       "      <td>49.000000</td>\n",
       "      <td>0.000000</td>\n",
       "      <td>102.000000</td>\n",
       "      <td>0.000000</td>\n",
       "    </tr>\n",
       "    <tr>\n",
       "      <th>50%</th>\n",
       "      <td>2016.0</td>\n",
       "      <td>6.000000</td>\n",
       "      <td>133.000000</td>\n",
       "      <td>7.520000</td>\n",
       "      <td>0.270000</td>\n",
       "      <td>4.770000</td>\n",
       "      <td>0.000000</td>\n",
       "      <td>6.310000</td>\n",
       "      <td>1.000000</td>\n",
       "      <td>0.000000</td>\n",
       "      <td>1174.000000</td>\n",
       "      <td>452.000000</td>\n",
       "      <td>14.000000</td>\n",
       "      <td>173.000000</td>\n",
       "      <td>0.000000</td>\n",
       "      <td>404.000000</td>\n",
       "      <td>1.000000</td>\n",
       "    </tr>\n",
       "    <tr>\n",
       "      <th>75%</th>\n",
       "      <td>2016.0</td>\n",
       "      <td>9.000000</td>\n",
       "      <td>343.000000</td>\n",
       "      <td>19.300000</td>\n",
       "      <td>1.740000</td>\n",
       "      <td>14.010000</td>\n",
       "      <td>0.000000</td>\n",
       "      <td>18.520000</td>\n",
       "      <td>3.000000</td>\n",
       "      <td>1.000000</td>\n",
       "      <td>3334.000000</td>\n",
       "      <td>1226.000000</td>\n",
       "      <td>133.000000</td>\n",
       "      <td>550.000000</td>\n",
       "      <td>0.000000</td>\n",
       "      <td>1308.000000</td>\n",
       "      <td>1.000000</td>\n",
       "    </tr>\n",
       "    <tr>\n",
       "      <th>max</th>\n",
       "      <td>2016.0</td>\n",
       "      <td>11.000000</td>\n",
       "      <td>21977.000000</td>\n",
       "      <td>1242.160000</td>\n",
       "      <td>168.440000</td>\n",
       "      <td>1092.620000</td>\n",
       "      <td>11.730000</td>\n",
       "      <td>1320.090000</td>\n",
       "      <td>598.000000</td>\n",
       "      <td>110.000000</td>\n",
       "      <td>395609.000000</td>\n",
       "      <td>196944.000000</td>\n",
       "      <td>17400.000000</td>\n",
       "      <td>74898.000000</td>\n",
       "      <td>933.000000</td>\n",
       "      <td>129200.000000</td>\n",
       "      <td>1.000000</td>\n",
       "    </tr>\n",
       "  </tbody>\n",
       "</table>\n",
       "</div>"
      ],
      "text/plain": [
       "          year         month   arr_flights    carrier_ct    weather_ct  \\\n",
       "count  11173.0  11173.000000  11173.000000  11173.000000  11173.000000   \n",
       "mean    2016.0      6.025239    461.532892     22.628786      2.278168   \n",
       "std        0.0      3.157616   1170.892758     51.024876      6.806785   \n",
       "min     2016.0      1.000000      1.000000      0.000000      0.000000   \n",
       "25%     2016.0      3.000000     60.000000      2.720000      0.000000   \n",
       "50%     2016.0      6.000000    133.000000      7.520000      0.270000   \n",
       "75%     2016.0      9.000000    343.000000     19.300000      1.740000   \n",
       "max     2016.0     11.000000  21977.000000   1242.160000    168.440000   \n",
       "\n",
       "             nas_ct   security_ct  late_aircraft_ct  arr_cancelled  \\\n",
       "count  11173.000000  11173.000000      11173.000000   11173.000000   \n",
       "mean      24.216326      0.146415         27.759464       5.226528   \n",
       "std       66.990992      0.578833         72.339762      20.253243   \n",
       "min        0.000000      0.000000          0.000000       0.000000   \n",
       "25%        1.440000      0.000000          1.950000       0.000000   \n",
       "50%        4.770000      0.000000          6.310000       1.000000   \n",
       "75%       14.010000      0.000000         18.520000       3.000000   \n",
       "max     1092.620000     11.730000       1320.090000     598.000000   \n",
       "\n",
       "       arr_diverted      arr_delay  carrier_delay  weather_delay  \\\n",
       "count  11173.000000   11173.000000   11173.000000   11173.000000   \n",
       "mean       1.109371    4762.861541    1557.819565     203.253379   \n",
       "std        4.600183   12999.978334    4469.262529     674.118573   \n",
       "min        0.000000       0.000000       0.000000       0.000000   \n",
       "25%        0.000000     419.000000     139.000000       0.000000   \n",
       "50%        0.000000    1174.000000     452.000000      14.000000   \n",
       "75%        1.000000    3334.000000    1226.000000     133.000000   \n",
       "max      110.000000  395609.000000  196944.000000   17400.000000   \n",
       "\n",
       "          nas_delay  security_delay  late_aircraft_delay        target  \n",
       "count  11173.000000    11173.000000         11173.000000  11173.000000  \n",
       "mean    1140.141233        6.610669          1855.036696      0.595274  \n",
       "std     3690.589513       31.161224          5125.250783      0.490861  \n",
       "min        0.000000        0.000000             0.000000      0.000000  \n",
       "25%       49.000000        0.000000           102.000000      0.000000  \n",
       "50%      173.000000        0.000000           404.000000      1.000000  \n",
       "75%      550.000000        0.000000          1308.000000      1.000000  \n",
       "max    74898.000000      933.000000        129200.000000      1.000000  "
      ]
     },
     "execution_count": 12,
     "metadata": {},
     "output_type": "execute_result"
    }
   ],
   "source": [
    "data.describe()"
   ]
  },
  {
   "cell_type": "markdown",
   "metadata": {},
   "source": [
    "We gain little insight into the dataset by calling `describe()` so early into the data analysis.  \n",
    "\n",
    "Note that the categorical variables `'carrier'`, `'carrier_name'`, `'airport'` and `'airport_name'` are not included in the `.describe()` statistics.\n",
    "\n",
    "We need to describe the data in a way that can be used as reasonable arguments for correlation between variables."
   ]
  },
  {
   "cell_type": "markdown",
   "metadata": {},
   "source": [
    "# Modeling"
   ]
  },
  {
   "cell_type": "markdown",
   "metadata": {},
   "source": [
    "X is the dataset and y is the target"
   ]
  },
  {
   "cell_type": "code",
   "execution_count": 13,
   "metadata": {
    "collapsed": true
   },
   "outputs": [],
   "source": [
    "X = data.iloc[:, 6:20]\n",
    "y = data.iloc[:, 20]"
   ]
  },
  {
   "cell_type": "code",
   "execution_count": 14,
   "metadata": {
    "collapsed": true
   },
   "outputs": [],
   "source": [
    "from sklearn.linear_model import LogisticRegression"
   ]
  },
  {
   "cell_type": "code",
   "execution_count": 15,
   "metadata": {
    "collapsed": true
   },
   "outputs": [],
   "source": [
    "from sklearn.model_selection import train_test_split"
   ]
  },
  {
   "cell_type": "code",
   "execution_count": 16,
   "metadata": {
    "collapsed": true
   },
   "outputs": [],
   "source": [
    "X_train, X_test, y_train, y_test = train_test_split(X, y, test_size=0.33, random_state=42)"
   ]
  },
  {
   "cell_type": "code",
   "execution_count": 17,
   "metadata": {
    "collapsed": true
   },
   "outputs": [],
   "source": [
    "logit_reg = LogisticRegression()"
   ]
  },
  {
   "cell_type": "code",
   "execution_count": 18,
   "metadata": {},
   "outputs": [
    {
     "data": {
      "text/plain": [
       "LogisticRegression(C=1.0, class_weight=None, dual=False, fit_intercept=True,\n",
       "          intercept_scaling=1, max_iter=100, multi_class='ovr', n_jobs=1,\n",
       "          penalty='l2', random_state=None, solver='liblinear', tol=0.0001,\n",
       "          verbose=0, warm_start=False)"
      ]
     },
     "execution_count": 18,
     "metadata": {},
     "output_type": "execute_result"
    }
   ],
   "source": [
    "logit_reg.fit(X_train, y_train)"
   ]
  },
  {
   "cell_type": "code",
   "execution_count": 19,
   "metadata": {},
   "outputs": [
    {
     "name": "stdout",
     "output_type": "stream",
     "text": [
      "Test set score: 0.98\n"
     ]
    }
   ],
   "source": [
    "print (\"Test set score: {:.2f}\".format(logit_reg.score(X_test, y_test)))"
   ]
  },
  {
   "cell_type": "markdown",
   "metadata": {},
   "source": [
    "### Cross-Validation in Sci-Kit Learn"
   ]
  },
  {
   "cell_type": "code",
   "execution_count": 20,
   "metadata": {
    "collapsed": true
   },
   "outputs": [],
   "source": [
    "from sklearn.model_selection import cross_val_score"
   ]
  },
  {
   "cell_type": "code",
   "execution_count": 21,
   "metadata": {
    "collapsed": true
   },
   "outputs": [],
   "source": [
    "logit_reg2 = LogisticRegression()\n",
    "scores2 = cross_val_score(logit_reg2, X, y)"
   ]
  },
  {
   "cell_type": "code",
   "execution_count": 22,
   "metadata": {},
   "outputs": [
    {
     "name": "stdout",
     "output_type": "stream",
     "text": [
      "Cross-Validation Score:[ 0.97100671  0.99516649  0.99355532]\n"
     ]
    }
   ],
   "source": [
    "print (\"Cross-Validation Score:{}\".format(scores2))"
   ]
  },
  {
   "cell_type": "code",
   "execution_count": 23,
   "metadata": {},
   "outputs": [
    {
     "name": "stdout",
     "output_type": "stream",
     "text": [
      "Average Cross-Validation Score:0.986576171974\n"
     ]
    }
   ],
   "source": [
    "print (\"Average Cross-Validation Score:{}\".format(scores2.mean()))"
   ]
  },
  {
   "cell_type": "markdown",
   "metadata": {},
   "source": [
    "### K-Fold Cross-Validation in Sci-Kit Learn"
   ]
  },
  {
   "cell_type": "code",
   "execution_count": 24,
   "metadata": {
    "collapsed": true
   },
   "outputs": [],
   "source": [
    "from sklearn.model_selection import KFold"
   ]
  },
  {
   "cell_type": "code",
   "execution_count": 25,
   "metadata": {
    "collapsed": true
   },
   "outputs": [],
   "source": [
    "kfold = KFold(n_splits=2)"
   ]
  },
  {
   "cell_type": "code",
   "execution_count": 26,
   "metadata": {},
   "outputs": [
    {
     "name": "stdout",
     "output_type": "stream",
     "text": [
      "Cross-Validation Scores:\n"
     ]
    }
   ],
   "source": [
    "print (\"Cross-Validation Scores:\".format(cross_val_score(logit_reg2, X, y, cv=kfold)))"
   ]
  },
  {
   "cell_type": "markdown",
   "metadata": {},
   "source": [
    "### Stratified kFold"
   ]
  },
  {
   "cell_type": "code",
   "execution_count": null,
   "metadata": {
    "collapsed": true
   },
   "outputs": [],
   "source": []
  },
  {
   "cell_type": "code",
   "execution_count": null,
   "metadata": {
    "collapsed": true
   },
   "outputs": [],
   "source": []
  },
  {
   "cell_type": "markdown",
   "metadata": {},
   "source": [
    "# Re-Do Modeling with better data\n",
    "There are many data columns that may produce a result when fit into our models, but the numbers they output do not make sense.  Our largest data-grouping is by categorical and numeric variables.\n",
    "\n",
    "\n",
    "As such, the split will be columns --d-- through --d--\n",
    "\n",
    "\n",
    "Additionally, we need to create dummy variable columns for some of the data so that, though it is categorical it will fit models and be calculated as if it were numeric."
   ]
  },
  {
   "cell_type": "markdown",
   "metadata": {},
   "source": [
    "## Group by Categorical / Numeric"
   ]
  },
  {
   "cell_type": "code",
   "execution_count": 27,
   "metadata": {
    "collapsed": true
   },
   "outputs": [],
   "source": [
    "col_numeric = data.select_dtypes(include=[np.number]).columns.tolist()\n",
    "col_categorical = data.select_dtypes(include=[np.object]).columns.tolist()"
   ]
  },
  {
   "cell_type": "markdown",
   "metadata": {},
   "source": [
    "`select_dtypes()` selected `year` and `month` as numeric. They are now separated so that pure numeric columns may be seen graphically\n"
   ]
  },
  {
   "cell_type": "markdown",
   "metadata": {},
   "source": [
    "Use `year` and `month` separately in the `col_year_month` variable"
   ]
  },
  {
   "cell_type": "code",
   "execution_count": 28,
   "metadata": {},
   "outputs": [
    {
     "data": {
      "text/plain": [
       "['year', 'month']"
      ]
     },
     "execution_count": 28,
     "metadata": {},
     "output_type": "execute_result"
    }
   ],
   "source": [
    "# `col_year_month` is the first variable we see below in the Quick Summary__________ first [1st]\n",
    "col_year_month = col_numeric[0:2]\n",
    "col_year_month"
   ]
  },
  {
   "cell_type": "markdown",
   "metadata": {},
   "source": [
    "### Remove redundant columns\n",
    "Of the four columns in `col_categorical`, only two are relevant since the other two contain the same information"
   ]
  },
  {
   "cell_type": "code",
   "execution_count": 29,
   "metadata": {
    "scrolled": true
   },
   "outputs": [
    {
     "data": {
      "text/html": [
       "<style  type=\"text/css\" >\n",
       "    #T_a5f67659_fbdf_11e7_aeca_34363bc3fb0crow0_col0 {\n",
       "            color:  black;\n",
       "        }    #T_a5f67659_fbdf_11e7_aeca_34363bc3fb0crow0_col1 {\n",
       "            color:  red;\n",
       "        }    #T_a5f67659_fbdf_11e7_aeca_34363bc3fb0crow0_col2 {\n",
       "            color:  black;\n",
       "        }    #T_a5f67659_fbdf_11e7_aeca_34363bc3fb0crow0_col3 {\n",
       "            color:  red;\n",
       "        }    #T_a5f67659_fbdf_11e7_aeca_34363bc3fb0crow1_col0 {\n",
       "            color:  black;\n",
       "        }    #T_a5f67659_fbdf_11e7_aeca_34363bc3fb0crow1_col1 {\n",
       "            color:  red;\n",
       "        }    #T_a5f67659_fbdf_11e7_aeca_34363bc3fb0crow1_col2 {\n",
       "            color:  black;\n",
       "        }    #T_a5f67659_fbdf_11e7_aeca_34363bc3fb0crow1_col3 {\n",
       "            color:  red;\n",
       "        }    #T_a5f67659_fbdf_11e7_aeca_34363bc3fb0crow2_col0 {\n",
       "            color:  black;\n",
       "        }    #T_a5f67659_fbdf_11e7_aeca_34363bc3fb0crow2_col1 {\n",
       "            color:  red;\n",
       "        }    #T_a5f67659_fbdf_11e7_aeca_34363bc3fb0crow2_col2 {\n",
       "            color:  black;\n",
       "        }    #T_a5f67659_fbdf_11e7_aeca_34363bc3fb0crow2_col3 {\n",
       "            color:  red;\n",
       "        }    #T_a5f67659_fbdf_11e7_aeca_34363bc3fb0crow3_col0 {\n",
       "            color:  black;\n",
       "        }    #T_a5f67659_fbdf_11e7_aeca_34363bc3fb0crow3_col1 {\n",
       "            color:  red;\n",
       "        }    #T_a5f67659_fbdf_11e7_aeca_34363bc3fb0crow3_col2 {\n",
       "            color:  black;\n",
       "        }    #T_a5f67659_fbdf_11e7_aeca_34363bc3fb0crow3_col3 {\n",
       "            color:  red;\n",
       "        }    #T_a5f67659_fbdf_11e7_aeca_34363bc3fb0crow4_col0 {\n",
       "            color:  black;\n",
       "        }    #T_a5f67659_fbdf_11e7_aeca_34363bc3fb0crow4_col1 {\n",
       "            color:  red;\n",
       "        }    #T_a5f67659_fbdf_11e7_aeca_34363bc3fb0crow4_col2 {\n",
       "            color:  black;\n",
       "        }    #T_a5f67659_fbdf_11e7_aeca_34363bc3fb0crow4_col3 {\n",
       "            color:  red;\n",
       "        }</style>  \n",
       "<table id=\"T_a5f67659_fbdf_11e7_aeca_34363bc3fb0c\" > \n",
       "<thead>    <tr> \n",
       "        <th class=\"blank level0\" ></th> \n",
       "        <th class=\"col_heading level0 col0\" >carrier</th> \n",
       "        <th class=\"col_heading level0 col1\" >carrier_name</th> \n",
       "        <th class=\"col_heading level0 col2\" >airport</th> \n",
       "        <th class=\"col_heading level0 col3\" >airport_name</th> \n",
       "    </tr></thead> \n",
       "<tbody>    <tr> \n",
       "        <th id=\"T_a5f67659_fbdf_11e7_aeca_34363bc3fb0c\" class=\"row_heading level0 row0\" >0</th> \n",
       "        <td id=\"T_a5f67659_fbdf_11e7_aeca_34363bc3fb0crow0_col0\" class=\"data row0 col0\" >AA</td> \n",
       "        <td id=\"T_a5f67659_fbdf_11e7_aeca_34363bc3fb0crow0_col1\" class=\"data row0 col1\" >American Airlines Inc.</td> \n",
       "        <td id=\"T_a5f67659_fbdf_11e7_aeca_34363bc3fb0crow0_col2\" class=\"data row0 col2\" >DFW</td> \n",
       "        <td id=\"T_a5f67659_fbdf_11e7_aeca_34363bc3fb0crow0_col3\" class=\"data row0 col3\" >Dallas/Fort Worth, TX: Dallas/Fort Worth International</td> \n",
       "    </tr>    <tr> \n",
       "        <th id=\"T_a5f67659_fbdf_11e7_aeca_34363bc3fb0c\" class=\"row_heading level0 row1\" >1</th> \n",
       "        <td id=\"T_a5f67659_fbdf_11e7_aeca_34363bc3fb0crow1_col0\" class=\"data row1 col0\" >AA</td> \n",
       "        <td id=\"T_a5f67659_fbdf_11e7_aeca_34363bc3fb0crow1_col1\" class=\"data row1 col1\" >American Airlines Inc.</td> \n",
       "        <td id=\"T_a5f67659_fbdf_11e7_aeca_34363bc3fb0crow1_col2\" class=\"data row1 col2\" >DTW</td> \n",
       "        <td id=\"T_a5f67659_fbdf_11e7_aeca_34363bc3fb0crow1_col3\" class=\"data row1 col3\" >Detroit, MI: Detroit Metro Wayne County</td> \n",
       "    </tr>    <tr> \n",
       "        <th id=\"T_a5f67659_fbdf_11e7_aeca_34363bc3fb0c\" class=\"row_heading level0 row2\" >2</th> \n",
       "        <td id=\"T_a5f67659_fbdf_11e7_aeca_34363bc3fb0crow2_col0\" class=\"data row2 col0\" >AA</td> \n",
       "        <td id=\"T_a5f67659_fbdf_11e7_aeca_34363bc3fb0crow2_col1\" class=\"data row2 col1\" >American Airlines Inc.</td> \n",
       "        <td id=\"T_a5f67659_fbdf_11e7_aeca_34363bc3fb0crow2_col2\" class=\"data row2 col2\" >SEA</td> \n",
       "        <td id=\"T_a5f67659_fbdf_11e7_aeca_34363bc3fb0crow2_col3\" class=\"data row2 col3\" >Seattle, WA: Seattle/Tacoma International</td> \n",
       "    </tr>    <tr> \n",
       "        <th id=\"T_a5f67659_fbdf_11e7_aeca_34363bc3fb0c\" class=\"row_heading level0 row3\" >3</th> \n",
       "        <td id=\"T_a5f67659_fbdf_11e7_aeca_34363bc3fb0crow3_col0\" class=\"data row3 col0\" >AA</td> \n",
       "        <td id=\"T_a5f67659_fbdf_11e7_aeca_34363bc3fb0crow3_col1\" class=\"data row3 col1\" >American Airlines Inc.</td> \n",
       "        <td id=\"T_a5f67659_fbdf_11e7_aeca_34363bc3fb0crow3_col2\" class=\"data row3 col2\" >JFK</td> \n",
       "        <td id=\"T_a5f67659_fbdf_11e7_aeca_34363bc3fb0crow3_col3\" class=\"data row3 col3\" >New York, NY: John F. Kennedy International</td> \n",
       "    </tr>    <tr> \n",
       "        <th id=\"T_a5f67659_fbdf_11e7_aeca_34363bc3fb0c\" class=\"row_heading level0 row4\" >4</th> \n",
       "        <td id=\"T_a5f67659_fbdf_11e7_aeca_34363bc3fb0crow4_col0\" class=\"data row4 col0\" >AA</td> \n",
       "        <td id=\"T_a5f67659_fbdf_11e7_aeca_34363bc3fb0crow4_col1\" class=\"data row4 col1\" >American Airlines Inc.</td> \n",
       "        <td id=\"T_a5f67659_fbdf_11e7_aeca_34363bc3fb0crow4_col2\" class=\"data row4 col2\" >SJC</td> \n",
       "        <td id=\"T_a5f67659_fbdf_11e7_aeca_34363bc3fb0crow4_col3\" class=\"data row4 col3\" >San Jose, CA: Norman Y. Mineta San Jose International</td> \n",
       "    </tr></tbody> \n",
       "</table> "
      ],
      "text/plain": [
       "<pandas.io.formats.style.Styler at 0x10fa31d10>"
      ]
     },
     "execution_count": 29,
     "metadata": {},
     "output_type": "execute_result"
    }
   ],
   "source": [
    "# the `data2` variable holds the `col_categorical` because when we color the redundant columns, the \n",
    "# programming that does the coloring disables other DataFrame methods and functions we will need for analysis\n",
    "data2 = data[col_categorical]\n",
    "# function examines value's length, and returns red if its too long\n",
    "def longstring_red(val):\n",
    "    val = len(str(val)); color = 'red' if val >3 else 'black'; return 'color: %s' % color\n",
    "# apply the function\n",
    "redundant_red = data2[:5].style.applymap(longstring_red)\n",
    "redundant_red"
   ]
  },
  {
   "cell_type": "code",
   "execution_count": 30,
   "metadata": {},
   "outputs": [
    {
     "data": {
      "text/plain": [
       "['carrier', 'airport']"
      ]
     },
     "execution_count": 30,
     "metadata": {},
     "output_type": "execute_result"
    }
   ],
   "source": [
    "# remove redundant columns\n",
    "# `col_categorical` is the second variable we see below in the Quick Summary__________ second [2nd]\n",
    "col_categorical = col_categorical[0::2]\n",
    "col_categorical"
   ]
  },
  {
   "cell_type": "code",
   "execution_count": 31,
   "metadata": {},
   "outputs": [
    {
     "data": {
      "text/html": [
       "<div>\n",
       "<style>\n",
       "    .dataframe thead tr:only-child th {\n",
       "        text-align: right;\n",
       "    }\n",
       "\n",
       "    .dataframe thead th {\n",
       "        text-align: left;\n",
       "    }\n",
       "\n",
       "    .dataframe tbody tr th {\n",
       "        vertical-align: top;\n",
       "    }\n",
       "</style>\n",
       "<table border=\"1\" class=\"dataframe\">\n",
       "  <thead>\n",
       "    <tr style=\"text-align: right;\">\n",
       "      <th></th>\n",
       "      <th>carrier</th>\n",
       "      <th>airport</th>\n",
       "    </tr>\n",
       "  </thead>\n",
       "  <tbody>\n",
       "    <tr>\n",
       "      <th>0</th>\n",
       "      <td>AA</td>\n",
       "      <td>DFW</td>\n",
       "    </tr>\n",
       "    <tr>\n",
       "      <th>1</th>\n",
       "      <td>AA</td>\n",
       "      <td>DTW</td>\n",
       "    </tr>\n",
       "    <tr>\n",
       "      <th>2</th>\n",
       "      <td>AA</td>\n",
       "      <td>SEA</td>\n",
       "    </tr>\n",
       "    <tr>\n",
       "      <th>3</th>\n",
       "      <td>AA</td>\n",
       "      <td>JFK</td>\n",
       "    </tr>\n",
       "    <tr>\n",
       "      <th>4</th>\n",
       "      <td>AA</td>\n",
       "      <td>SJC</td>\n",
       "    </tr>\n",
       "  </tbody>\n",
       "</table>\n",
       "</div>"
      ],
      "text/plain": [
       "  carrier airport\n",
       "0      AA     DFW\n",
       "1      AA     DTW\n",
       "2      AA     SEA\n",
       "3      AA     JFK\n",
       "4      AA     SJC"
      ]
     },
     "execution_count": 31,
     "metadata": {},
     "output_type": "execute_result"
    }
   ],
   "source": [
    "# This is much tider and can be used easily for stats and modeling\n",
    "data[col_categorical].head()"
   ]
  },
  {
   "cell_type": "code",
   "execution_count": 32,
   "metadata": {},
   "outputs": [
    {
     "data": {
      "text/html": [
       "<div>\n",
       "<style>\n",
       "    .dataframe thead tr:only-child th {\n",
       "        text-align: right;\n",
       "    }\n",
       "\n",
       "    .dataframe thead th {\n",
       "        text-align: left;\n",
       "    }\n",
       "\n",
       "    .dataframe tbody tr th {\n",
       "        vertical-align: top;\n",
       "    }\n",
       "</style>\n",
       "<table border=\"1\" class=\"dataframe\">\n",
       "  <thead>\n",
       "    <tr style=\"text-align: right;\">\n",
       "      <th></th>\n",
       "      <th>carrier</th>\n",
       "      <th>airport</th>\n",
       "    </tr>\n",
       "  </thead>\n",
       "  <tbody>\n",
       "    <tr>\n",
       "      <th>1930</th>\n",
       "      <td>WN</td>\n",
       "      <td>LAS</td>\n",
       "    </tr>\n",
       "    <tr>\n",
       "      <th>4835</th>\n",
       "      <td>OO</td>\n",
       "      <td>INL</td>\n",
       "    </tr>\n",
       "    <tr>\n",
       "      <th>3151</th>\n",
       "      <td>AS</td>\n",
       "      <td>CDV</td>\n",
       "    </tr>\n",
       "    <tr>\n",
       "      <th>9777</th>\n",
       "      <td>NK</td>\n",
       "      <td>PDX</td>\n",
       "    </tr>\n",
       "    <tr>\n",
       "      <th>6141</th>\n",
       "      <td>AA</td>\n",
       "      <td>SYR</td>\n",
       "    </tr>\n",
       "    <tr>\n",
       "      <th>8365</th>\n",
       "      <td>DL</td>\n",
       "      <td>BTR</td>\n",
       "    </tr>\n",
       "    <tr>\n",
       "      <th>7108</th>\n",
       "      <td>AA</td>\n",
       "      <td>LGA</td>\n",
       "    </tr>\n",
       "    <tr>\n",
       "      <th>2728</th>\n",
       "      <td>OO</td>\n",
       "      <td>HYS</td>\n",
       "    </tr>\n",
       "    <tr>\n",
       "      <th>11092</th>\n",
       "      <td>VX</td>\n",
       "      <td>JFK</td>\n",
       "    </tr>\n",
       "    <tr>\n",
       "      <th>2517</th>\n",
       "      <td>EV</td>\n",
       "      <td>AGS</td>\n",
       "    </tr>\n",
       "  </tbody>\n",
       "</table>\n",
       "</div>"
      ],
      "text/plain": [
       "      carrier airport\n",
       "1930       WN     LAS\n",
       "4835       OO     INL\n",
       "3151       AS     CDV\n",
       "9777       NK     PDX\n",
       "6141       AA     SYR\n",
       "8365       DL     BTR\n",
       "7108       AA     LGA\n",
       "2728       OO     HYS\n",
       "11092      VX     JFK\n",
       "2517       EV     AGS"
      ]
     },
     "execution_count": 32,
     "metadata": {},
     "output_type": "execute_result"
    }
   ],
   "source": [
    "data[col_categorical].sample(10)"
   ]
  },
  {
   "cell_type": "code",
   "execution_count": 33,
   "metadata": {
    "collapsed": true
   },
   "outputs": [],
   "source": [
    "# col_numeric\n",
    "# ['year','month','arr_flights','carrier_ct','weather_ct','nas_ct',\n",
    "#  'security_ct','late_aircraft_ct','arr_cancelled','arr_diverted',\n",
    "#  'arr_delay','carrier_delay','weather_delay','nas_delay','security_delay',\n",
    "#  'late_aircraft_delay','target']"
   ]
  },
  {
   "cell_type": "markdown",
   "metadata": {},
   "source": [
    "### Separate the target so it can be treated separately"
   ]
  },
  {
   "cell_type": "code",
   "execution_count": 34,
   "metadata": {},
   "outputs": [
    {
     "data": {
      "text/plain": [
       "['target']"
      ]
     },
     "execution_count": 34,
     "metadata": {},
     "output_type": "execute_result"
    }
   ],
   "source": [
    "# `col_target` is the third variable we see below in the Quick Summary__________ third [3rd]\n",
    "col_target = col_numeric[16:17]\n",
    "col_target"
   ]
  },
  {
   "cell_type": "markdown",
   "metadata": {},
   "source": [
    "### Numeric Columns"
   ]
  },
  {
   "cell_type": "code",
   "execution_count": 35,
   "metadata": {},
   "outputs": [
    {
     "data": {
      "text/plain": [
       "['arr_flights',\n",
       " 'carrier_ct',\n",
       " 'weather_ct',\n",
       " 'nas_ct',\n",
       " 'security_ct',\n",
       " 'late_aircraft_ct',\n",
       " 'arr_cancelled',\n",
       " 'arr_diverted',\n",
       " 'arr_delay',\n",
       " 'carrier_delay',\n",
       " 'weather_delay',\n",
       " 'nas_delay',\n",
       " 'security_delay',\n",
       " 'late_aircraft_delay']"
      ]
     },
     "execution_count": 35,
     "metadata": {},
     "output_type": "execute_result"
    }
   ],
   "source": [
    "# rename `col_numeric` so it does not include 'year' and 'month'\n",
    "# `col_numeric` is the fourth variable we see below in the Quick Summary__________ fourth [4th]\n",
    "col_numeric = col_numeric[2:16]\n",
    "# col_numeric"
   ]
  },
  {
   "cell_type": "markdown",
   "metadata": {},
   "source": [
    "##### Quick Summary of the groups of variables we created that when concatenated, represent the entire dataset(19 features), notincluding the redundant categorical columns and including the binarized target column.\n",
    "\n",
    "` col_year_month `,  ` col_categorical `, ` col_target `, ` col_numeric `"
   ]
  },
  {
   "cell_type": "code",
   "execution_count": 36,
   "metadata": {},
   "outputs": [
    {
     "name": "stdout",
     "output_type": "stream",
     "text": [
      "Quick Summary:\n",
      "('col_categorical:', ['carrier', 'airport'])\n",
      "\n",
      "('col_year_month:', ['year', 'month'])\n",
      "\n",
      "('col_numeric:', ['arr_flights', 'carrier_ct', 'weather_ct', 'nas_ct', 'security_ct', 'late_aircraft_ct', 'arr_cancelled', 'arr_diverted', 'arr_delay', 'carrier_delay', 'weather_delay', 'nas_delay', 'security_delay', 'late_aircraft_delay'])\n",
      "\n",
      "('col_target:', ['target'])\n"
     ]
    }
   ],
   "source": [
    "print(\"Quick Summary:\")\n",
    "print(\"[1st] col_categorical:\", col_categorical);print(\"\");\n",
    "print(\"[2nd] col_year_month:\", col_year_month);print(\"\");\n",
    "print(\"[3rd] col_numeric:\", col_numeric);print(\"\");\n",
    "print(\"[4th] col_target:\", col_target)"
   ]
  },
  {
   "cell_type": "markdown",
   "metadata": {},
   "source": [
    "### Combine the lists"
   ]
  },
  {
   "cell_type": "code",
   "execution_count": 76,
   "metadata": {
    "collapsed": true
   },
   "outputs": [],
   "source": [
    "pre_combine = [col_year_month, col_categorical, col_numeric, col_target]\n",
    "combined_list = [item for sublist in pre_combine for item in sublist]\n",
    "# combined_list\n",
    "# ['year', 'month', 'carrier', 'airport', 'arr_flights', 'carrier_ct', 'weather_ct', \n",
    "#  'nas_ct', 'security_ct', 'late_aircraft_ct', 'arr_cancelled', 'arr_diverted', \n",
    "#  'arr_delay', 'carrier_delay', 'weather_delay', 'nas_delay', 'security_delay', \n",
    "#  'late_aircraft_delay', 'target']"
   ]
  },
  {
   "cell_type": "code",
   "execution_count": 39,
   "metadata": {},
   "outputs": [
    {
     "data": {
      "text/plain": [
       "Index([u'year', u'month', u'carrier', u'airport', u'arr_flights',\n",
       "       u'carrier_ct', u'weather_ct', u'nas_ct', u'security_ct',\n",
       "       u'late_aircraft_ct', u'arr_cancelled', u'arr_diverted', u'arr_delay',\n",
       "       u'carrier_delay', u'weather_delay', u'nas_delay', u'security_delay',\n",
       "       u'late_aircraft_delay', u'target'],\n",
       "      dtype='object')"
      ]
     },
     "execution_count": 39,
     "metadata": {},
     "output_type": "execute_result"
    }
   ],
   "source": [
    "data[combined_list].columns"
   ]
  },
  {
   "cell_type": "markdown",
   "metadata": {},
   "source": [
    "Variations of a function that gets the `.iloc` number of a column"
   ]
  },
  {
   "cell_type": "code",
   "execution_count": 57,
   "metadata": {
    "collapsed": true
   },
   "outputs": [],
   "source": [
    "# can use various combination of this to get the `.iloc` number of each column\n",
    "\n",
    "# # data[combined_list]\n",
    "# for i, item_ in enumerate(data[combined_list].columns):\n",
    "#     print(\"{}: {}\".format(i, item_))\n",
    "\n",
    "# # data[col_categorical]\n",
    "# for i2, item_2 in enumerate(data[col_categorical].columns):\n",
    "#     print(\"{}: {}\".format(i2, item_2))\n",
    "\n",
    "# # data[col_numeric]\n",
    "# for i3, item_3 in enumerate(data[col_numeric].columns):\n",
    "#     print(\"{}: {}\".format(i3, item_3))"
   ]
  },
  {
   "cell_type": "markdown",
   "metadata": {},
   "source": [
    "## All Airports Grouping"
   ]
  },
  {
   "cell_type": "code",
   "execution_count": 62,
   "metadata": {
    "scrolled": false
   },
   "outputs": [
    {
     "data": {
      "text/html": [
       "<div>\n",
       "<style>\n",
       "    .dataframe thead tr:only-child th {\n",
       "        text-align: right;\n",
       "    }\n",
       "\n",
       "    .dataframe thead th {\n",
       "        text-align: left;\n",
       "    }\n",
       "\n",
       "    .dataframe tbody tr th {\n",
       "        vertical-align: top;\n",
       "    }\n",
       "</style>\n",
       "<table border=\"1\" class=\"dataframe\">\n",
       "  <thead>\n",
       "    <tr style=\"text-align: right;\">\n",
       "      <th></th>\n",
       "      <th>carrier_ct</th>\n",
       "      <th>target</th>\n",
       "    </tr>\n",
       "    <tr>\n",
       "      <th>airport</th>\n",
       "      <th></th>\n",
       "      <th></th>\n",
       "    </tr>\n",
       "  </thead>\n",
       "  <tbody>\n",
       "    <tr>\n",
       "      <th>ABE</th>\n",
       "      <td>153.57</td>\n",
       "      <td>12</td>\n",
       "    </tr>\n",
       "    <tr>\n",
       "      <th>ABI</th>\n",
       "      <td>10.82</td>\n",
       "      <td>0</td>\n",
       "    </tr>\n",
       "    <tr>\n",
       "      <th>ABQ</th>\n",
       "      <td>992.02</td>\n",
       "      <td>39</td>\n",
       "    </tr>\n",
       "    <tr>\n",
       "      <th>ABR</th>\n",
       "      <td>17.57</td>\n",
       "      <td>0</td>\n",
       "    </tr>\n",
       "    <tr>\n",
       "      <th>ABY</th>\n",
       "      <td>82.53</td>\n",
       "      <td>5</td>\n",
       "    </tr>\n",
       "  </tbody>\n",
       "</table>\n",
       "</div>"
      ],
      "text/plain": [
       "         carrier_ct  target\n",
       "airport                    \n",
       "ABE          153.57      12\n",
       "ABI           10.82       0\n",
       "ABQ          992.02      39\n",
       "ABR           17.57       0\n",
       "ABY           82.53       5"
      ]
     },
     "execution_count": 62,
     "metadata": {},
     "output_type": "execute_result"
    }
   ],
   "source": [
    "all_airports_grouping = data[combined_list].iloc[:, [2,3,5, 18]].groupby(by=['airport'])\n",
    "all_airports_grouping.sum().head()"
   ]
  },
  {
   "cell_type": "markdown",
   "metadata": {},
   "source": [
    "only showing the first five columns"
   ]
  },
  {
   "cell_type": "markdown",
   "metadata": {},
   "source": [
    "## Denver Groupings"
   ]
  },
  {
   "cell_type": "code",
   "execution_count": 74,
   "metadata": {
    "scrolled": true
   },
   "outputs": [
    {
     "data": {
      "text/html": [
       "<div>\n",
       "<style>\n",
       "    .dataframe thead tr:only-child th {\n",
       "        text-align: right;\n",
       "    }\n",
       "\n",
       "    .dataframe thead th {\n",
       "        text-align: left;\n",
       "    }\n",
       "\n",
       "    .dataframe tbody tr th {\n",
       "        vertical-align: top;\n",
       "    }\n",
       "</style>\n",
       "<table border=\"1\" class=\"dataframe\">\n",
       "  <thead>\n",
       "    <tr style=\"text-align: right;\">\n",
       "      <th></th>\n",
       "      <th></th>\n",
       "      <th>carrier_ct</th>\n",
       "      <th>target</th>\n",
       "    </tr>\n",
       "    <tr>\n",
       "      <th>airport</th>\n",
       "      <th>carrier</th>\n",
       "      <th></th>\n",
       "      <th></th>\n",
       "    </tr>\n",
       "  </thead>\n",
       "  <tbody>\n",
       "    <tr>\n",
       "      <th rowspan=\"10\" valign=\"top\">DEN</th>\n",
       "      <th>AA</th>\n",
       "      <td>718.90</td>\n",
       "      <td>11</td>\n",
       "    </tr>\n",
       "    <tr>\n",
       "      <th>AS</th>\n",
       "      <td>71.55</td>\n",
       "      <td>6</td>\n",
       "    </tr>\n",
       "    <tr>\n",
       "      <th>B6</th>\n",
       "      <td>93.23</td>\n",
       "      <td>9</td>\n",
       "    </tr>\n",
       "    <tr>\n",
       "      <th>DL</th>\n",
       "      <td>427.88</td>\n",
       "      <td>11</td>\n",
       "    </tr>\n",
       "    <tr>\n",
       "      <th>F9</th>\n",
       "      <td>763.01</td>\n",
       "      <td>11</td>\n",
       "    </tr>\n",
       "    <tr>\n",
       "      <th>NK</th>\n",
       "      <td>124.74</td>\n",
       "      <td>11</td>\n",
       "    </tr>\n",
       "    <tr>\n",
       "      <th>OO</th>\n",
       "      <td>1414.07</td>\n",
       "      <td>11</td>\n",
       "    </tr>\n",
       "    <tr>\n",
       "      <th>UA</th>\n",
       "      <td>2077.87</td>\n",
       "      <td>11</td>\n",
       "    </tr>\n",
       "    <tr>\n",
       "      <th>VX</th>\n",
       "      <td>23.79</td>\n",
       "      <td>5</td>\n",
       "    </tr>\n",
       "    <tr>\n",
       "      <th>WN</th>\n",
       "      <td>2469.61</td>\n",
       "      <td>11</td>\n",
       "    </tr>\n",
       "  </tbody>\n",
       "</table>\n",
       "</div>"
      ],
      "text/plain": [
       "                 carrier_ct  target\n",
       "airport carrier                    \n",
       "DEN     AA           718.90      11\n",
       "        AS            71.55       6\n",
       "        B6            93.23       9\n",
       "        DL           427.88      11\n",
       "        F9           763.01      11\n",
       "        NK           124.74      11\n",
       "        OO          1414.07      11\n",
       "        UA          2077.87      11\n",
       "        VX            23.79       5\n",
       "        WN          2469.61      11"
      ]
     },
     "execution_count": 74,
     "metadata": {},
     "output_type": "execute_result"
    }
   ],
   "source": [
    "Denver_grouping = data[combined_list][data[combined_list].airport == 'DEN'].iloc[:, [2,3,5, 18]].groupby(by=['airport', 'carrier'])\n",
    "Denver_grouping.sum()"
   ]
  },
  {
   "cell_type": "markdown",
   "metadata": {},
   "source": [
    "An interesting computation that gets carrier names belonging to an airport\n",
    "\n",
    "since the string values are indexes of the grouped data, we access their values differently\n",
    "\n",
    "we could apply it on each airport grouping\n",
    "\n",
    "- DEN, ABQ, DFW, LAX, etc"
   ]
  },
  {
   "cell_type": "code",
   "execution_count": 86,
   "metadata": {},
   "outputs": [
    {
     "data": {
      "text/plain": [
       "array([('DEN', 'AA'), ('DEN', 'AS'), ('DEN', 'B6'), ('DEN', 'DL'),\n",
       "       ('DEN', 'F9'), ('DEN', 'NK'), ('DEN', 'OO'), ('DEN', 'UA'),\n",
       "       ('DEN', 'VX'), ('DEN', 'WN')], dtype=object)"
      ]
     },
     "execution_count": 86,
     "metadata": {},
     "output_type": "execute_result"
    }
   ],
   "source": [
    "Denver_grouping.sum().index.values"
   ]
  },
  {
   "cell_type": "code",
   "execution_count": 87,
   "metadata": {},
   "outputs": [
    {
     "name": "stdout",
     "output_type": "stream",
     "text": [
      "('DEN', 'DEN', 'DEN', 'DEN', 'DEN', 'DEN', 'DEN', 'DEN', 'DEN', 'DEN') \n",
      "\n",
      "('AA', 'AS', 'B6', 'DL', 'F9', 'NK', 'OO', 'UA', 'VX', 'WN')\n"
     ]
    }
   ],
   "source": [
    "Denver_Airport, DEN_carriers_ = zip(*Denver_grouping.sum().index.values)\n",
    "print (Denver_Airport),\n",
    "print \"\\n\"\n",
    "print (DEN_carriers_)"
   ]
  },
  {
   "cell_type": "markdown",
   "metadata": {},
   "source": [
    "### ABQ Grouping"
   ]
  },
  {
   "cell_type": "code",
   "execution_count": 66,
   "metadata": {},
   "outputs": [
    {
     "data": {
      "text/html": [
       "<div>\n",
       "<style>\n",
       "    .dataframe thead tr:only-child th {\n",
       "        text-align: right;\n",
       "    }\n",
       "\n",
       "    .dataframe thead th {\n",
       "        text-align: left;\n",
       "    }\n",
       "\n",
       "    .dataframe tbody tr th {\n",
       "        vertical-align: top;\n",
       "    }\n",
       "</style>\n",
       "<table border=\"1\" class=\"dataframe\">\n",
       "  <thead>\n",
       "    <tr style=\"text-align: right;\">\n",
       "      <th></th>\n",
       "      <th></th>\n",
       "      <th>carrier_ct</th>\n",
       "      <th>target</th>\n",
       "    </tr>\n",
       "    <tr>\n",
       "      <th>airport</th>\n",
       "      <th>carrier</th>\n",
       "      <th></th>\n",
       "      <th></th>\n",
       "    </tr>\n",
       "  </thead>\n",
       "  <tbody>\n",
       "    <tr>\n",
       "      <th rowspan=\"8\" valign=\"top\">ABQ</th>\n",
       "      <th>AA</th>\n",
       "      <td>117.72</td>\n",
       "      <td>11</td>\n",
       "    </tr>\n",
       "    <tr>\n",
       "      <th>AS</th>\n",
       "      <td>10.60</td>\n",
       "      <td>0</td>\n",
       "    </tr>\n",
       "    <tr>\n",
       "      <th>B6</th>\n",
       "      <td>35.99</td>\n",
       "      <td>1</td>\n",
       "    </tr>\n",
       "    <tr>\n",
       "      <th>DL</th>\n",
       "      <td>64.28</td>\n",
       "      <td>4</td>\n",
       "    </tr>\n",
       "    <tr>\n",
       "      <th>EV</th>\n",
       "      <td>9.63</td>\n",
       "      <td>0</td>\n",
       "    </tr>\n",
       "    <tr>\n",
       "      <th>OO</th>\n",
       "      <td>100.56</td>\n",
       "      <td>10</td>\n",
       "    </tr>\n",
       "    <tr>\n",
       "      <th>UA</th>\n",
       "      <td>44.38</td>\n",
       "      <td>2</td>\n",
       "    </tr>\n",
       "    <tr>\n",
       "      <th>WN</th>\n",
       "      <td>608.86</td>\n",
       "      <td>11</td>\n",
       "    </tr>\n",
       "  </tbody>\n",
       "</table>\n",
       "</div>"
      ],
      "text/plain": [
       "                 carrier_ct  target\n",
       "airport carrier                    \n",
       "ABQ     AA           117.72      11\n",
       "        AS            10.60       0\n",
       "        B6            35.99       1\n",
       "        DL            64.28       4\n",
       "        EV             9.63       0\n",
       "        OO           100.56      10\n",
       "        UA            44.38       2\n",
       "        WN           608.86      11"
      ]
     },
     "execution_count": 66,
     "metadata": {},
     "output_type": "execute_result"
    }
   ],
   "source": [
    "ABQ_grouping = data[combined_list][data[combined_list].airport == 'ABQ'].iloc[:, [2,3,5, 18]].groupby(by=['airport', 'carrier'])\n",
    "ABQ_grouping.sum()"
   ]
  },
  {
   "cell_type": "markdown",
   "metadata": {},
   "source": [
    "Apply the previous function to see the carriers in ABQ"
   ]
  },
  {
   "cell_type": "code",
   "execution_count": 88,
   "metadata": {},
   "outputs": [
    {
     "name": "stdout",
     "output_type": "stream",
     "text": [
      "('ABQ', 'ABQ', 'ABQ', 'ABQ', 'ABQ', 'ABQ', 'ABQ', 'ABQ') \n",
      "\n",
      "('AA', 'AS', 'B6', 'DL', 'EV', 'OO', 'UA', 'WN')\n"
     ]
    }
   ],
   "source": [
    "air_port, carrier_ = zip(*ABQ_grouping.sum().index.values)\n",
    "print (air_port),\n",
    "print \"\\n\"\n",
    "print (carrier_)"
   ]
  },
  {
   "cell_type": "markdown",
   "metadata": {},
   "source": [
    "### DFW Grouping"
   ]
  },
  {
   "cell_type": "code",
   "execution_count": 67,
   "metadata": {},
   "outputs": [
    {
     "data": {
      "text/html": [
       "<div>\n",
       "<style>\n",
       "    .dataframe thead tr:only-child th {\n",
       "        text-align: right;\n",
       "    }\n",
       "\n",
       "    .dataframe thead th {\n",
       "        text-align: left;\n",
       "    }\n",
       "\n",
       "    .dataframe tbody tr th {\n",
       "        vertical-align: top;\n",
       "    }\n",
       "</style>\n",
       "<table border=\"1\" class=\"dataframe\">\n",
       "  <thead>\n",
       "    <tr style=\"text-align: right;\">\n",
       "      <th></th>\n",
       "      <th></th>\n",
       "      <th>carrier_ct</th>\n",
       "      <th>target</th>\n",
       "    </tr>\n",
       "    <tr>\n",
       "      <th>airport</th>\n",
       "      <th>carrier</th>\n",
       "      <th></th>\n",
       "      <th></th>\n",
       "    </tr>\n",
       "  </thead>\n",
       "  <tbody>\n",
       "    <tr>\n",
       "      <th rowspan=\"9\" valign=\"top\">DFW</th>\n",
       "      <th>AA</th>\n",
       "      <td>6442.09</td>\n",
       "      <td>11</td>\n",
       "    </tr>\n",
       "    <tr>\n",
       "      <th>AS</th>\n",
       "      <td>43.05</td>\n",
       "      <td>3</td>\n",
       "    </tr>\n",
       "    <tr>\n",
       "      <th>B6</th>\n",
       "      <td>37.88</td>\n",
       "      <td>1</td>\n",
       "    </tr>\n",
       "    <tr>\n",
       "      <th>DL</th>\n",
       "      <td>253.52</td>\n",
       "      <td>11</td>\n",
       "    </tr>\n",
       "    <tr>\n",
       "      <th>EV</th>\n",
       "      <td>1394.79</td>\n",
       "      <td>11</td>\n",
       "    </tr>\n",
       "    <tr>\n",
       "      <th>F9</th>\n",
       "      <td>49.03</td>\n",
       "      <td>7</td>\n",
       "    </tr>\n",
       "    <tr>\n",
       "      <th>NK</th>\n",
       "      <td>280.75</td>\n",
       "      <td>11</td>\n",
       "    </tr>\n",
       "    <tr>\n",
       "      <th>OO</th>\n",
       "      <td>231.33</td>\n",
       "      <td>11</td>\n",
       "    </tr>\n",
       "    <tr>\n",
       "      <th>UA</th>\n",
       "      <td>235.53</td>\n",
       "      <td>11</td>\n",
       "    </tr>\n",
       "  </tbody>\n",
       "</table>\n",
       "</div>"
      ],
      "text/plain": [
       "                 carrier_ct  target\n",
       "airport carrier                    \n",
       "DFW     AA          6442.09      11\n",
       "        AS            43.05       3\n",
       "        B6            37.88       1\n",
       "        DL           253.52      11\n",
       "        EV          1394.79      11\n",
       "        F9            49.03       7\n",
       "        NK           280.75      11\n",
       "        OO           231.33      11\n",
       "        UA           235.53      11"
      ]
     },
     "execution_count": 67,
     "metadata": {},
     "output_type": "execute_result"
    }
   ],
   "source": [
    "DFW_grouping = data[combined_list][data[combined_list].airport == 'DFW'].iloc[:, [2,3,5, 18]].groupby(by=['airport', 'carrier'])\n",
    "DFW_grouping.sum()"
   ]
  },
  {
   "cell_type": "markdown",
   "metadata": {},
   "source": [
    "### LAX Grouping"
   ]
  },
  {
   "cell_type": "code",
   "execution_count": 68,
   "metadata": {},
   "outputs": [
    {
     "data": {
      "text/html": [
       "<div>\n",
       "<style>\n",
       "    .dataframe thead tr:only-child th {\n",
       "        text-align: right;\n",
       "    }\n",
       "\n",
       "    .dataframe thead th {\n",
       "        text-align: left;\n",
       "    }\n",
       "\n",
       "    .dataframe tbody tr th {\n",
       "        vertical-align: top;\n",
       "    }\n",
       "</style>\n",
       "<table border=\"1\" class=\"dataframe\">\n",
       "  <thead>\n",
       "    <tr style=\"text-align: right;\">\n",
       "      <th></th>\n",
       "      <th></th>\n",
       "      <th>carrier_ct</th>\n",
       "      <th>target</th>\n",
       "    </tr>\n",
       "    <tr>\n",
       "      <th>airport</th>\n",
       "      <th>carrier</th>\n",
       "      <th></th>\n",
       "      <th></th>\n",
       "    </tr>\n",
       "  </thead>\n",
       "  <tbody>\n",
       "    <tr>\n",
       "      <th rowspan=\"11\" valign=\"top\">LAX</th>\n",
       "      <th>AA</th>\n",
       "      <td>2548.23</td>\n",
       "      <td>11</td>\n",
       "    </tr>\n",
       "    <tr>\n",
       "      <th>AS</th>\n",
       "      <td>231.67</td>\n",
       "      <td>11</td>\n",
       "    </tr>\n",
       "    <tr>\n",
       "      <th>B6</th>\n",
       "      <td>343.82</td>\n",
       "      <td>11</td>\n",
       "    </tr>\n",
       "    <tr>\n",
       "      <th>DL</th>\n",
       "      <td>1409.35</td>\n",
       "      <td>11</td>\n",
       "    </tr>\n",
       "    <tr>\n",
       "      <th>F9</th>\n",
       "      <td>108.22</td>\n",
       "      <td>10</td>\n",
       "    </tr>\n",
       "    <tr>\n",
       "      <th>HA</th>\n",
       "      <td>218.87</td>\n",
       "      <td>6</td>\n",
       "    </tr>\n",
       "    <tr>\n",
       "      <th>NK</th>\n",
       "      <td>343.55</td>\n",
       "      <td>11</td>\n",
       "    </tr>\n",
       "    <tr>\n",
       "      <th>OO</th>\n",
       "      <td>629.21</td>\n",
       "      <td>11</td>\n",
       "    </tr>\n",
       "    <tr>\n",
       "      <th>UA</th>\n",
       "      <td>1862.86</td>\n",
       "      <td>11</td>\n",
       "    </tr>\n",
       "    <tr>\n",
       "      <th>VX</th>\n",
       "      <td>720.88</td>\n",
       "      <td>11</td>\n",
       "    </tr>\n",
       "    <tr>\n",
       "      <th>WN</th>\n",
       "      <td>2197.97</td>\n",
       "      <td>11</td>\n",
       "    </tr>\n",
       "  </tbody>\n",
       "</table>\n",
       "</div>"
      ],
      "text/plain": [
       "                 carrier_ct  target\n",
       "airport carrier                    \n",
       "LAX     AA          2548.23      11\n",
       "        AS           231.67      11\n",
       "        B6           343.82      11\n",
       "        DL          1409.35      11\n",
       "        F9           108.22      10\n",
       "        HA           218.87       6\n",
       "        NK           343.55      11\n",
       "        OO           629.21      11\n",
       "        UA          1862.86      11\n",
       "        VX           720.88      11\n",
       "        WN          2197.97      11"
      ]
     },
     "execution_count": 68,
     "metadata": {},
     "output_type": "execute_result"
    }
   ],
   "source": [
    "LAX_grouping = data[combined_list][data[combined_list].airport == 'LAX'].iloc[:, [2,3,5, 18]].groupby(by=['airport', 'carrier'])\n",
    "LAX_grouping.sum()"
   ]
  },
  {
   "cell_type": "markdown",
   "metadata": {},
   "source": [
    "## Carrier Groupings"
   ]
  },
  {
   "cell_type": "code",
   "execution_count": 73,
   "metadata": {},
   "outputs": [
    {
     "data": {
      "text/html": [
       "<div>\n",
       "<style>\n",
       "    .dataframe thead tr:only-child th {\n",
       "        text-align: right;\n",
       "    }\n",
       "\n",
       "    .dataframe thead th {\n",
       "        text-align: left;\n",
       "    }\n",
       "\n",
       "    .dataframe tbody tr th {\n",
       "        vertical-align: top;\n",
       "    }\n",
       "</style>\n",
       "<table border=\"1\" class=\"dataframe\">\n",
       "  <thead>\n",
       "    <tr style=\"text-align: right;\">\n",
       "      <th></th>\n",
       "      <th></th>\n",
       "      <th>carrier_ct</th>\n",
       "      <th>target</th>\n",
       "    </tr>\n",
       "    <tr>\n",
       "      <th>airport</th>\n",
       "      <th>carrier</th>\n",
       "      <th></th>\n",
       "      <th></th>\n",
       "    </tr>\n",
       "  </thead>\n",
       "  <tbody>\n",
       "    <tr>\n",
       "      <th rowspan=\"11\" valign=\"top\">LAX</th>\n",
       "      <th>AA</th>\n",
       "      <td>2548.23</td>\n",
       "      <td>11</td>\n",
       "    </tr>\n",
       "    <tr>\n",
       "      <th>AS</th>\n",
       "      <td>231.67</td>\n",
       "      <td>11</td>\n",
       "    </tr>\n",
       "    <tr>\n",
       "      <th>B6</th>\n",
       "      <td>343.82</td>\n",
       "      <td>11</td>\n",
       "    </tr>\n",
       "    <tr>\n",
       "      <th>DL</th>\n",
       "      <td>1409.35</td>\n",
       "      <td>11</td>\n",
       "    </tr>\n",
       "    <tr>\n",
       "      <th>F9</th>\n",
       "      <td>108.22</td>\n",
       "      <td>10</td>\n",
       "    </tr>\n",
       "    <tr>\n",
       "      <th>HA</th>\n",
       "      <td>218.87</td>\n",
       "      <td>6</td>\n",
       "    </tr>\n",
       "    <tr>\n",
       "      <th>NK</th>\n",
       "      <td>343.55</td>\n",
       "      <td>11</td>\n",
       "    </tr>\n",
       "    <tr>\n",
       "      <th>OO</th>\n",
       "      <td>629.21</td>\n",
       "      <td>11</td>\n",
       "    </tr>\n",
       "    <tr>\n",
       "      <th>UA</th>\n",
       "      <td>1862.86</td>\n",
       "      <td>11</td>\n",
       "    </tr>\n",
       "    <tr>\n",
       "      <th>VX</th>\n",
       "      <td>720.88</td>\n",
       "      <td>11</td>\n",
       "    </tr>\n",
       "    <tr>\n",
       "      <th>WN</th>\n",
       "      <td>2197.97</td>\n",
       "      <td>11</td>\n",
       "    </tr>\n",
       "  </tbody>\n",
       "</table>\n",
       "</div>"
      ],
      "text/plain": [
       "                 carrier_ct  target\n",
       "airport carrier                    \n",
       "LAX     AA          2548.23      11\n",
       "        AS           231.67      11\n",
       "        B6           343.82      11\n",
       "        DL          1409.35      11\n",
       "        F9           108.22      10\n",
       "        HA           218.87       6\n",
       "        NK           343.55      11\n",
       "        OO           629.21      11\n",
       "        UA          1862.86      11\n",
       "        VX           720.88      11\n",
       "        WN          2197.97      11"
      ]
     },
     "execution_count": 73,
     "metadata": {},
     "output_type": "execute_result"
    }
   ],
   "source": [
    "new_grouping = data[combined_list][data[combined_list].airport == 'LAX'].iloc[:, [2,3,5, 18]].groupby(by=['airport', 'carrier'])\n",
    "new_grouping.sum()"
   ]
  },
  {
   "cell_type": "markdown",
   "metadata": {},
   "source": [
    "Use `.describe()` to find the 50% quantile of `late_aircraft_delay`."
   ]
  },
  {
   "cell_type": "code",
   "execution_count": 113,
   "metadata": {},
   "outputs": [
    {
     "data": {
      "text/plain": [
       "404.0"
      ]
     },
     "execution_count": 113,
     "metadata": {},
     "output_type": "execute_result"
    }
   ],
   "source": [
    "data.late_aircraft_delay.quantile(.5)"
   ]
  },
  {
   "cell_type": "code",
   "execution_count": 106,
   "metadata": {},
   "outputs": [
    {
     "data": {
      "text/plain": [
       "count     11173.000000\n",
       "mean       1855.036696\n",
       "std        5125.250783\n",
       "min           0.000000\n",
       "25%         102.000000\n",
       "50%         404.000000\n",
       "75%        1308.000000\n",
       "max      129200.000000\n",
       "Name: late_aircraft_delay, dtype: float64"
      ]
     },
     "execution_count": 106,
     "metadata": {},
     "output_type": "execute_result"
    }
   ],
   "source": [
    "data.late_aircraft_delay.describe()"
   ]
  },
  {
   "cell_type": "code",
   "execution_count": null,
   "metadata": {
    "collapsed": true
   },
   "outputs": [],
   "source": []
  },
  {
   "cell_type": "markdown",
   "metadata": {},
   "source": [
    "## Statistical groupings"
   ]
  },
  {
   "cell_type": "code",
   "execution_count": 141,
   "metadata": {},
   "outputs": [
    {
     "data": {
      "text/html": [
       "<div>\n",
       "<style>\n",
       "    .dataframe thead tr:only-child th {\n",
       "        text-align: right;\n",
       "    }\n",
       "\n",
       "    .dataframe thead th {\n",
       "        text-align: left;\n",
       "    }\n",
       "\n",
       "    .dataframe tbody tr th {\n",
       "        vertical-align: top;\n",
       "    }\n",
       "</style>\n",
       "<table border=\"1\" class=\"dataframe\">\n",
       "  <thead>\n",
       "    <tr style=\"text-align: right;\">\n",
       "      <th></th>\n",
       "      <th></th>\n",
       "      <th>carrier_ct</th>\n",
       "      <th>late_aircraft_delay</th>\n",
       "      <th>target</th>\n",
       "    </tr>\n",
       "    <tr>\n",
       "      <th>airport</th>\n",
       "      <th>carrier</th>\n",
       "      <th></th>\n",
       "      <th></th>\n",
       "      <th></th>\n",
       "    </tr>\n",
       "  </thead>\n",
       "  <tbody>\n",
       "    <tr>\n",
       "      <th>ATL</th>\n",
       "      <th>DL</th>\n",
       "      <td>1242.16</td>\n",
       "      <td>129200.0</td>\n",
       "      <td>1</td>\n",
       "    </tr>\n",
       "  </tbody>\n",
       "</table>\n",
       "</div>"
      ],
      "text/plain": [
       "                 carrier_ct  late_aircraft_delay  target\n",
       "airport carrier                                         \n",
       "ATL     DL          1242.16             129200.0       1"
      ]
     },
     "execution_count": 141,
     "metadata": {},
     "output_type": "execute_result"
    }
   ],
   "source": [
    "new_grouping33 = data[combined_list][data[combined_list].late_aircraft_delay == 129200].iloc[:, [2,3,5, 17,18]].groupby(by=['airport', 'carrier'])\n",
    "new_grouping33.sum()"
   ]
  },
  {
   "cell_type": "code",
   "execution_count": 127,
   "metadata": {},
   "outputs": [
    {
     "data": {
      "text/html": [
       "<div>\n",
       "<style>\n",
       "    .dataframe thead tr:only-child th {\n",
       "        text-align: right;\n",
       "    }\n",
       "\n",
       "    .dataframe thead th {\n",
       "        text-align: left;\n",
       "    }\n",
       "\n",
       "    .dataframe tbody tr th {\n",
       "        vertical-align: top;\n",
       "    }\n",
       "</style>\n",
       "<table border=\"1\" class=\"dataframe\">\n",
       "  <thead>\n",
       "    <tr style=\"text-align: right;\">\n",
       "      <th></th>\n",
       "      <th></th>\n",
       "      <th>carrier_ct</th>\n",
       "      <th>late_aircraft_delay</th>\n",
       "      <th>target</th>\n",
       "    </tr>\n",
       "    <tr>\n",
       "      <th>airport</th>\n",
       "      <th>carrier</th>\n",
       "      <th></th>\n",
       "      <th></th>\n",
       "      <th></th>\n",
       "    </tr>\n",
       "  </thead>\n",
       "  <tbody>\n",
       "    <tr>\n",
       "      <th>DTW</th>\n",
       "      <th>UA</th>\n",
       "      <td>4.97</td>\n",
       "      <td>404.0</td>\n",
       "      <td>0</td>\n",
       "    </tr>\n",
       "    <tr>\n",
       "      <th>HOB</th>\n",
       "      <th>EV</th>\n",
       "      <td>2.29</td>\n",
       "      <td>404.0</td>\n",
       "      <td>0</td>\n",
       "    </tr>\n",
       "  </tbody>\n",
       "</table>\n",
       "</div>"
      ],
      "text/plain": [
       "                 carrier_ct  late_aircraft_delay  target\n",
       "airport carrier                                         \n",
       "DTW     UA             4.97                404.0       0\n",
       "HOB     EV             2.29                404.0       0"
      ]
     },
     "execution_count": 127,
     "metadata": {},
     "output_type": "execute_result"
    }
   ],
   "source": [
    "# groups with target == 0\n",
    "new_grouping34 = data[combined_list][data[combined_list].late_aircraft_delay == 404.0].iloc[:, [2,3,5, 17,18]].groupby(by=['airport', 'carrier'])\n",
    "new_grouping34.sum()[new_grouping33.sum().target==0]"
   ]
  },
  {
   "cell_type": "code",
   "execution_count": 129,
   "metadata": {},
   "outputs": [
    {
     "data": {
      "text/html": [
       "<div>\n",
       "<style>\n",
       "    .dataframe thead tr:only-child th {\n",
       "        text-align: right;\n",
       "    }\n",
       "\n",
       "    .dataframe thead th {\n",
       "        text-align: left;\n",
       "    }\n",
       "\n",
       "    .dataframe tbody tr th {\n",
       "        vertical-align: top;\n",
       "    }\n",
       "</style>\n",
       "<table border=\"1\" class=\"dataframe\">\n",
       "  <thead>\n",
       "    <tr style=\"text-align: right;\">\n",
       "      <th></th>\n",
       "      <th></th>\n",
       "      <th>carrier_ct</th>\n",
       "      <th>late_aircraft_delay</th>\n",
       "      <th>target</th>\n",
       "    </tr>\n",
       "    <tr>\n",
       "      <th>airport</th>\n",
       "      <th>carrier</th>\n",
       "      <th></th>\n",
       "      <th></th>\n",
       "      <th></th>\n",
       "    </tr>\n",
       "  </thead>\n",
       "  <tbody>\n",
       "    <tr>\n",
       "      <th>CHS</th>\n",
       "      <th>DL</th>\n",
       "      <td>7.89</td>\n",
       "      <td>404.0</td>\n",
       "      <td>1</td>\n",
       "    </tr>\n",
       "    <tr>\n",
       "      <th>CLE</th>\n",
       "      <th>DL</th>\n",
       "      <td>12.52</td>\n",
       "      <td>404.0</td>\n",
       "      <td>1</td>\n",
       "    </tr>\n",
       "    <tr>\n",
       "      <th>CLT</th>\n",
       "      <th>EV</th>\n",
       "      <td>5.03</td>\n",
       "      <td>404.0</td>\n",
       "      <td>1</td>\n",
       "    </tr>\n",
       "    <tr>\n",
       "      <th>MBS</th>\n",
       "      <th>OO</th>\n",
       "      <td>5.88</td>\n",
       "      <td>404.0</td>\n",
       "      <td>1</td>\n",
       "    </tr>\n",
       "    <tr>\n",
       "      <th>MLU</th>\n",
       "      <th>EV</th>\n",
       "      <td>23.05</td>\n",
       "      <td>404.0</td>\n",
       "      <td>1</td>\n",
       "    </tr>\n",
       "    <tr>\n",
       "      <th>ROC</th>\n",
       "      <th>B6</th>\n",
       "      <td>10.43</td>\n",
       "      <td>404.0</td>\n",
       "      <td>1</td>\n",
       "    </tr>\n",
       "  </tbody>\n",
       "</table>\n",
       "</div>"
      ],
      "text/plain": [
       "                 carrier_ct  late_aircraft_delay  target\n",
       "airport carrier                                         \n",
       "CHS     DL             7.89                404.0       1\n",
       "CLE     DL            12.52                404.0       1\n",
       "CLT     EV             5.03                404.0       1\n",
       "MBS     OO             5.88                404.0       1\n",
       "MLU     EV            23.05                404.0       1\n",
       "ROC     B6            10.43                404.0       1"
      ]
     },
     "execution_count": 129,
     "metadata": {},
     "output_type": "execute_result"
    }
   ],
   "source": [
    "# groups with target == 1\n",
    "new_grouping35 = data[combined_list][data[combined_list].late_aircraft_delay == 404.0].iloc[:, [2,3,5, 17,18]].groupby(by=['airport', 'carrier'])\n",
    "new_grouping35.sum()[new_grouping33.sum().target==1]"
   ]
  },
  {
   "cell_type": "code",
   "execution_count": null,
   "metadata": {
    "collapsed": true
   },
   "outputs": [],
   "source": []
  },
  {
   "cell_type": "code",
   "execution_count": 109,
   "metadata": {},
   "outputs": [
    {
     "data": {
      "text/plain": [
       "array([('CHS', 'DL'), ('CLE', 'DL'), ('CLT', 'EV'), ('DTW', 'UA'),\n",
       "       ('HOB', 'EV'), ('MBS', 'OO'), ('MLU', 'EV'), ('ROC', 'B6')], dtype=object)"
      ]
     },
     "execution_count": 109,
     "metadata": {},
     "output_type": "execute_result"
    }
   ],
   "source": [
    "new_grouping33.sum().index.values"
   ]
  },
  {
   "cell_type": "code",
   "execution_count": 108,
   "metadata": {
    "collapsed": true
   },
   "outputs": [],
   "source": [
    "# similar to the function above, this tuple-grabber gets the list of airports\n",
    "air_port, carrier_ = zip(*new_grouping33.sum().index.values)\n",
    "print (air_port),\n",
    "print \"\\n\"\n",
    "print (carrier_)"
   ]
  },
  {
   "cell_type": "markdown",
   "metadata": {},
   "source": [
    "##### How do late flights correspond to cancelled and diverted flights?\n",
    "\n",
    "...ie, what percentage of lates become diverted, or cancelled\n",
    "\n",
    "`target` column is the count of lates"
   ]
  },
  {
   "cell_type": "code",
   "execution_count": 156,
   "metadata": {},
   "outputs": [
    {
     "data": {
      "text/html": [
       "<div>\n",
       "<style>\n",
       "    .dataframe thead tr:only-child th {\n",
       "        text-align: right;\n",
       "    }\n",
       "\n",
       "    .dataframe thead th {\n",
       "        text-align: left;\n",
       "    }\n",
       "\n",
       "    .dataframe tbody tr th {\n",
       "        vertical-align: top;\n",
       "    }\n",
       "</style>\n",
       "<table border=\"1\" class=\"dataframe\">\n",
       "  <thead>\n",
       "    <tr style=\"text-align: right;\">\n",
       "      <th></th>\n",
       "      <th></th>\n",
       "      <th>arr_diverted</th>\n",
       "      <th>arr_cancelled</th>\n",
       "      <th>target</th>\n",
       "    </tr>\n",
       "    <tr>\n",
       "      <th>airport</th>\n",
       "      <th>carrier</th>\n",
       "      <th></th>\n",
       "      <th></th>\n",
       "      <th></th>\n",
       "    </tr>\n",
       "  </thead>\n",
       "  <tbody>\n",
       "    <tr>\n",
       "      <th rowspan=\"3\" valign=\"top\">ABE</th>\n",
       "      <th>DL</th>\n",
       "      <td>2.0</td>\n",
       "      <td>1.0</td>\n",
       "      <td>0</td>\n",
       "    </tr>\n",
       "    <tr>\n",
       "      <th>EV</th>\n",
       "      <td>4.0</td>\n",
       "      <td>34.0</td>\n",
       "      <td>11</td>\n",
       "    </tr>\n",
       "    <tr>\n",
       "      <th>OO</th>\n",
       "      <td>0.0</td>\n",
       "      <td>0.0</td>\n",
       "      <td>1</td>\n",
       "    </tr>\n",
       "    <tr>\n",
       "      <th>ABI</th>\n",
       "      <th>EV</th>\n",
       "      <td>0.0</td>\n",
       "      <td>3.0</td>\n",
       "      <td>0</td>\n",
       "    </tr>\n",
       "    <tr>\n",
       "      <th>ABQ</th>\n",
       "      <th>AA</th>\n",
       "      <td>0.0</td>\n",
       "      <td>18.0</td>\n",
       "      <td>11</td>\n",
       "    </tr>\n",
       "  </tbody>\n",
       "</table>\n",
       "</div>"
      ],
      "text/plain": [
       "                 arr_diverted  arr_cancelled  target\n",
       "airport carrier                                     \n",
       "ABE     DL                2.0            1.0       0\n",
       "        EV                4.0           34.0      11\n",
       "        OO                0.0            0.0       1\n",
       "ABI     EV                0.0            3.0       0\n",
       "ABQ     AA                0.0           18.0      11"
      ]
     },
     "execution_count": 156,
     "metadata": {},
     "output_type": "execute_result"
    }
   ],
   "source": [
    "lates_cancelled_grouping = data[combined_list].iloc[:, [2,3,11,10,18]].groupby(by=['airport', 'carrier'])\n",
    "lates_cancelled_grouping.sum().head()"
   ]
  },
  {
   "cell_type": "markdown",
   "metadata": {},
   "source": [
    "of ABQ's 117 AA flights, none were diverted, 18 were cancelled, and 11 were delayed"
   ]
  },
  {
   "cell_type": "code",
   "execution_count": 208,
   "metadata": {
    "scrolled": true
   },
   "outputs": [
    {
     "data": {
      "text/html": [
       "<div>\n",
       "<style>\n",
       "    .dataframe thead tr:only-child th {\n",
       "        text-align: right;\n",
       "    }\n",
       "\n",
       "    .dataframe thead th {\n",
       "        text-align: left;\n",
       "    }\n",
       "\n",
       "    .dataframe tbody tr th {\n",
       "        vertical-align: top;\n",
       "    }\n",
       "</style>\n",
       "<table border=\"1\" class=\"dataframe\">\n",
       "  <thead>\n",
       "    <tr style=\"text-align: right;\">\n",
       "      <th></th>\n",
       "      <th></th>\n",
       "      <th></th>\n",
       "      <th>carrier_ct</th>\n",
       "      <th>arr_cancelled</th>\n",
       "      <th>arr_diverted</th>\n",
       "      <th>target</th>\n",
       "    </tr>\n",
       "    <tr>\n",
       "      <th>month</th>\n",
       "      <th>airport</th>\n",
       "      <th>carrier</th>\n",
       "      <th></th>\n",
       "      <th></th>\n",
       "      <th></th>\n",
       "      <th></th>\n",
       "    </tr>\n",
       "  </thead>\n",
       "  <tbody>\n",
       "    <tr>\n",
       "      <th rowspan=\"30\" valign=\"top\">1</th>\n",
       "      <th>ABE</th>\n",
       "      <th>EV</th>\n",
       "      <td>12.76</td>\n",
       "      <td>7.0</td>\n",
       "      <td>2.0</td>\n",
       "      <td>1</td>\n",
       "    </tr>\n",
       "    <tr>\n",
       "      <th rowspan=\"3\" valign=\"top\">ABQ</th>\n",
       "      <th>AA</th>\n",
       "      <td>14.55</td>\n",
       "      <td>1.0</td>\n",
       "      <td>0.0</td>\n",
       "      <td>1</td>\n",
       "    </tr>\n",
       "    <tr>\n",
       "      <th>OO</th>\n",
       "      <td>19.43</td>\n",
       "      <td>0.0</td>\n",
       "      <td>0.0</td>\n",
       "      <td>1</td>\n",
       "    </tr>\n",
       "    <tr>\n",
       "      <th>WN</th>\n",
       "      <td>32.20</td>\n",
       "      <td>6.0</td>\n",
       "      <td>2.0</td>\n",
       "      <td>1</td>\n",
       "    </tr>\n",
       "    <tr>\n",
       "      <th>ACV</th>\n",
       "      <th>OO</th>\n",
       "      <td>13.79</td>\n",
       "      <td>5.0</td>\n",
       "      <td>1.0</td>\n",
       "      <td>1</td>\n",
       "    </tr>\n",
       "    <tr>\n",
       "      <th>ACY</th>\n",
       "      <th>NK</th>\n",
       "      <td>23.12</td>\n",
       "      <td>17.0</td>\n",
       "      <td>0.0</td>\n",
       "      <td>1</td>\n",
       "    </tr>\n",
       "    <tr>\n",
       "      <th>AEX</th>\n",
       "      <th>EV</th>\n",
       "      <td>16.49</td>\n",
       "      <td>2.0</td>\n",
       "      <td>2.0</td>\n",
       "      <td>1</td>\n",
       "    </tr>\n",
       "    <tr>\n",
       "      <th>AGS</th>\n",
       "      <th>EV</th>\n",
       "      <td>16.81</td>\n",
       "      <td>1.0</td>\n",
       "      <td>0.0</td>\n",
       "      <td>1</td>\n",
       "    </tr>\n",
       "    <tr>\n",
       "      <th>ALB</th>\n",
       "      <th>WN</th>\n",
       "      <td>23.05</td>\n",
       "      <td>12.0</td>\n",
       "      <td>0.0</td>\n",
       "      <td>1</td>\n",
       "    </tr>\n",
       "    <tr>\n",
       "      <th>AMA</th>\n",
       "      <th>WN</th>\n",
       "      <td>3.72</td>\n",
       "      <td>1.0</td>\n",
       "      <td>0.0</td>\n",
       "      <td>1</td>\n",
       "    </tr>\n",
       "    <tr>\n",
       "      <th>ANC</th>\n",
       "      <th>AS</th>\n",
       "      <td>25.59</td>\n",
       "      <td>12.0</td>\n",
       "      <td>0.0</td>\n",
       "      <td>1</td>\n",
       "    </tr>\n",
       "    <tr>\n",
       "      <th>ASE</th>\n",
       "      <th>OO</th>\n",
       "      <td>31.46</td>\n",
       "      <td>19.0</td>\n",
       "      <td>26.0</td>\n",
       "      <td>1</td>\n",
       "    </tr>\n",
       "    <tr>\n",
       "      <th rowspan=\"8\" valign=\"top\">ATL</th>\n",
       "      <th>AA</th>\n",
       "      <td>65.61</td>\n",
       "      <td>21.0</td>\n",
       "      <td>0.0</td>\n",
       "      <td>1</td>\n",
       "    </tr>\n",
       "    <tr>\n",
       "      <th>DL</th>\n",
       "      <td>644.81</td>\n",
       "      <td>221.0</td>\n",
       "      <td>10.0</td>\n",
       "      <td>1</td>\n",
       "    </tr>\n",
       "    <tr>\n",
       "      <th>EV</th>\n",
       "      <td>187.26</td>\n",
       "      <td>62.0</td>\n",
       "      <td>1.0</td>\n",
       "      <td>1</td>\n",
       "    </tr>\n",
       "    <tr>\n",
       "      <th>F9</th>\n",
       "      <td>11.19</td>\n",
       "      <td>5.0</td>\n",
       "      <td>0.0</td>\n",
       "      <td>1</td>\n",
       "    </tr>\n",
       "    <tr>\n",
       "      <th>NK</th>\n",
       "      <td>51.88</td>\n",
       "      <td>10.0</td>\n",
       "      <td>0.0</td>\n",
       "      <td>1</td>\n",
       "    </tr>\n",
       "    <tr>\n",
       "      <th>OO</th>\n",
       "      <td>30.32</td>\n",
       "      <td>9.0</td>\n",
       "      <td>3.0</td>\n",
       "      <td>1</td>\n",
       "    </tr>\n",
       "    <tr>\n",
       "      <th>UA</th>\n",
       "      <td>12.71</td>\n",
       "      <td>15.0</td>\n",
       "      <td>0.0</td>\n",
       "      <td>1</td>\n",
       "    </tr>\n",
       "    <tr>\n",
       "      <th>WN</th>\n",
       "      <td>154.52</td>\n",
       "      <td>86.0</td>\n",
       "      <td>3.0</td>\n",
       "      <td>1</td>\n",
       "    </tr>\n",
       "    <tr>\n",
       "      <th rowspan=\"2\" valign=\"top\">ATW</th>\n",
       "      <th>EV</th>\n",
       "      <td>11.65</td>\n",
       "      <td>4.0</td>\n",
       "      <td>1.0</td>\n",
       "      <td>1</td>\n",
       "    </tr>\n",
       "    <tr>\n",
       "      <th>OO</th>\n",
       "      <td>2.48</td>\n",
       "      <td>1.0</td>\n",
       "      <td>0.0</td>\n",
       "      <td>1</td>\n",
       "    </tr>\n",
       "    <tr>\n",
       "      <th rowspan=\"6\" valign=\"top\">AUS</th>\n",
       "      <th>AA</th>\n",
       "      <td>41.91</td>\n",
       "      <td>10.0</td>\n",
       "      <td>1.0</td>\n",
       "      <td>1</td>\n",
       "    </tr>\n",
       "    <tr>\n",
       "      <th>B6</th>\n",
       "      <td>13.27</td>\n",
       "      <td>4.0</td>\n",
       "      <td>0.0</td>\n",
       "      <td>1</td>\n",
       "    </tr>\n",
       "    <tr>\n",
       "      <th>DL</th>\n",
       "      <td>10.44</td>\n",
       "      <td>5.0</td>\n",
       "      <td>0.0</td>\n",
       "      <td>1</td>\n",
       "    </tr>\n",
       "    <tr>\n",
       "      <th>OO</th>\n",
       "      <td>17.54</td>\n",
       "      <td>0.0</td>\n",
       "      <td>1.0</td>\n",
       "      <td>1</td>\n",
       "    </tr>\n",
       "    <tr>\n",
       "      <th>UA</th>\n",
       "      <td>14.05</td>\n",
       "      <td>1.0</td>\n",
       "      <td>0.0</td>\n",
       "      <td>1</td>\n",
       "    </tr>\n",
       "    <tr>\n",
       "      <th>WN</th>\n",
       "      <td>65.50</td>\n",
       "      <td>13.0</td>\n",
       "      <td>0.0</td>\n",
       "      <td>1</td>\n",
       "    </tr>\n",
       "    <tr>\n",
       "      <th>AVL</th>\n",
       "      <th>EV</th>\n",
       "      <td>12.83</td>\n",
       "      <td>3.0</td>\n",
       "      <td>0.0</td>\n",
       "      <td>1</td>\n",
       "    </tr>\n",
       "    <tr>\n",
       "      <th>AVP</th>\n",
       "      <th>EV</th>\n",
       "      <td>7.41</td>\n",
       "      <td>8.0</td>\n",
       "      <td>0.0</td>\n",
       "      <td>1</td>\n",
       "    </tr>\n",
       "    <tr>\n",
       "      <th>...</th>\n",
       "      <th>...</th>\n",
       "      <th>...</th>\n",
       "      <td>...</td>\n",
       "      <td>...</td>\n",
       "      <td>...</td>\n",
       "      <td>...</td>\n",
       "    </tr>\n",
       "    <tr>\n",
       "      <th rowspan=\"30\" valign=\"top\">11</th>\n",
       "      <th rowspan=\"5\" valign=\"top\">SNA</th>\n",
       "      <th>AA</th>\n",
       "      <td>21.35</td>\n",
       "      <td>1.0</td>\n",
       "      <td>2.0</td>\n",
       "      <td>1</td>\n",
       "    </tr>\n",
       "    <tr>\n",
       "      <th>AS</th>\n",
       "      <td>10.93</td>\n",
       "      <td>0.0</td>\n",
       "      <td>0.0</td>\n",
       "      <td>1</td>\n",
       "    </tr>\n",
       "    <tr>\n",
       "      <th>OO</th>\n",
       "      <td>8.80</td>\n",
       "      <td>3.0</td>\n",
       "      <td>0.0</td>\n",
       "      <td>1</td>\n",
       "    </tr>\n",
       "    <tr>\n",
       "      <th>UA</th>\n",
       "      <td>14.76</td>\n",
       "      <td>0.0</td>\n",
       "      <td>2.0</td>\n",
       "      <td>1</td>\n",
       "    </tr>\n",
       "    <tr>\n",
       "      <th>WN</th>\n",
       "      <td>46.65</td>\n",
       "      <td>1.0</td>\n",
       "      <td>0.0</td>\n",
       "      <td>1</td>\n",
       "    </tr>\n",
       "    <tr>\n",
       "      <th rowspan=\"4\" valign=\"top\">STL</th>\n",
       "      <th>AA</th>\n",
       "      <td>36.13</td>\n",
       "      <td>4.0</td>\n",
       "      <td>0.0</td>\n",
       "      <td>1</td>\n",
       "    </tr>\n",
       "    <tr>\n",
       "      <th>DL</th>\n",
       "      <td>21.32</td>\n",
       "      <td>0.0</td>\n",
       "      <td>0.0</td>\n",
       "      <td>1</td>\n",
       "    </tr>\n",
       "    <tr>\n",
       "      <th>EV</th>\n",
       "      <td>14.27</td>\n",
       "      <td>1.0</td>\n",
       "      <td>0.0</td>\n",
       "      <td>1</td>\n",
       "    </tr>\n",
       "    <tr>\n",
       "      <th>WN</th>\n",
       "      <td>102.51</td>\n",
       "      <td>2.0</td>\n",
       "      <td>2.0</td>\n",
       "      <td>1</td>\n",
       "    </tr>\n",
       "    <tr>\n",
       "      <th>STT</th>\n",
       "      <th>AA</th>\n",
       "      <td>11.15</td>\n",
       "      <td>0.0</td>\n",
       "      <td>0.0</td>\n",
       "      <td>1</td>\n",
       "    </tr>\n",
       "    <tr>\n",
       "      <th rowspan=\"2\" valign=\"top\">SYR</th>\n",
       "      <th>B6</th>\n",
       "      <td>10.51</td>\n",
       "      <td>0.0</td>\n",
       "      <td>0.0</td>\n",
       "      <td>1</td>\n",
       "    </tr>\n",
       "    <tr>\n",
       "      <th>OO</th>\n",
       "      <td>8.10</td>\n",
       "      <td>0.0</td>\n",
       "      <td>0.0</td>\n",
       "      <td>1</td>\n",
       "    </tr>\n",
       "    <tr>\n",
       "      <th rowspan=\"6\" valign=\"top\">TPA</th>\n",
       "      <th>AA</th>\n",
       "      <td>43.47</td>\n",
       "      <td>2.0</td>\n",
       "      <td>0.0</td>\n",
       "      <td>1</td>\n",
       "    </tr>\n",
       "    <tr>\n",
       "      <th>B6</th>\n",
       "      <td>20.25</td>\n",
       "      <td>0.0</td>\n",
       "      <td>0.0</td>\n",
       "      <td>1</td>\n",
       "    </tr>\n",
       "    <tr>\n",
       "      <th>DL</th>\n",
       "      <td>29.66</td>\n",
       "      <td>0.0</td>\n",
       "      <td>0.0</td>\n",
       "      <td>1</td>\n",
       "    </tr>\n",
       "    <tr>\n",
       "      <th>NK</th>\n",
       "      <td>9.17</td>\n",
       "      <td>3.0</td>\n",
       "      <td>0.0</td>\n",
       "      <td>1</td>\n",
       "    </tr>\n",
       "    <tr>\n",
       "      <th>UA</th>\n",
       "      <td>12.33</td>\n",
       "      <td>0.0</td>\n",
       "      <td>0.0</td>\n",
       "      <td>1</td>\n",
       "    </tr>\n",
       "    <tr>\n",
       "      <th>WN</th>\n",
       "      <td>65.16</td>\n",
       "      <td>0.0</td>\n",
       "      <td>1.0</td>\n",
       "      <td>1</td>\n",
       "    </tr>\n",
       "    <tr>\n",
       "      <th>TRI</th>\n",
       "      <th>EV</th>\n",
       "      <td>13.24</td>\n",
       "      <td>0.0</td>\n",
       "      <td>0.0</td>\n",
       "      <td>1</td>\n",
       "    </tr>\n",
       "    <tr>\n",
       "      <th>TTN</th>\n",
       "      <th>F9</th>\n",
       "      <td>2.92</td>\n",
       "      <td>1.0</td>\n",
       "      <td>0.0</td>\n",
       "      <td>1</td>\n",
       "    </tr>\n",
       "    <tr>\n",
       "      <th rowspan=\"3\" valign=\"top\">TUL</th>\n",
       "      <th>AA</th>\n",
       "      <td>20.62</td>\n",
       "      <td>0.0</td>\n",
       "      <td>0.0</td>\n",
       "      <td>1</td>\n",
       "    </tr>\n",
       "    <tr>\n",
       "      <th>EV</th>\n",
       "      <td>8.59</td>\n",
       "      <td>1.0</td>\n",
       "      <td>0.0</td>\n",
       "      <td>1</td>\n",
       "    </tr>\n",
       "    <tr>\n",
       "      <th>WN</th>\n",
       "      <td>17.79</td>\n",
       "      <td>0.0</td>\n",
       "      <td>0.0</td>\n",
       "      <td>1</td>\n",
       "    </tr>\n",
       "    <tr>\n",
       "      <th rowspan=\"3\" valign=\"top\">TUS</th>\n",
       "      <th>AA</th>\n",
       "      <td>25.50</td>\n",
       "      <td>1.0</td>\n",
       "      <td>1.0</td>\n",
       "      <td>1</td>\n",
       "    </tr>\n",
       "    <tr>\n",
       "      <th>OO</th>\n",
       "      <td>20.17</td>\n",
       "      <td>6.0</td>\n",
       "      <td>0.0</td>\n",
       "      <td>1</td>\n",
       "    </tr>\n",
       "    <tr>\n",
       "      <th>WN</th>\n",
       "      <td>20.84</td>\n",
       "      <td>0.0</td>\n",
       "      <td>0.0</td>\n",
       "      <td>1</td>\n",
       "    </tr>\n",
       "    <tr>\n",
       "      <th>TYS</th>\n",
       "      <th>EV</th>\n",
       "      <td>27.19</td>\n",
       "      <td>7.0</td>\n",
       "      <td>1.0</td>\n",
       "      <td>1</td>\n",
       "    </tr>\n",
       "    <tr>\n",
       "      <th>VPS</th>\n",
       "      <th>EV</th>\n",
       "      <td>12.58</td>\n",
       "      <td>1.0</td>\n",
       "      <td>0.0</td>\n",
       "      <td>1</td>\n",
       "    </tr>\n",
       "    <tr>\n",
       "      <th rowspan=\"2\" valign=\"top\">XNA</th>\n",
       "      <th>EV</th>\n",
       "      <td>17.46</td>\n",
       "      <td>1.0</td>\n",
       "      <td>0.0</td>\n",
       "      <td>1</td>\n",
       "    </tr>\n",
       "    <tr>\n",
       "      <th>OO</th>\n",
       "      <td>3.16</td>\n",
       "      <td>1.0</td>\n",
       "      <td>0.0</td>\n",
       "      <td>1</td>\n",
       "    </tr>\n",
       "  </tbody>\n",
       "</table>\n",
       "<p>6651 rows × 4 columns</p>\n",
       "</div>"
      ],
      "text/plain": [
       "                       carrier_ct  arr_cancelled  arr_diverted  target\n",
       "month airport carrier                                                 \n",
       "1     ABE     EV            12.76            7.0           2.0       1\n",
       "      ABQ     AA            14.55            1.0           0.0       1\n",
       "              OO            19.43            0.0           0.0       1\n",
       "              WN            32.20            6.0           2.0       1\n",
       "      ACV     OO            13.79            5.0           1.0       1\n",
       "      ACY     NK            23.12           17.0           0.0       1\n",
       "      AEX     EV            16.49            2.0           2.0       1\n",
       "      AGS     EV            16.81            1.0           0.0       1\n",
       "      ALB     WN            23.05           12.0           0.0       1\n",
       "      AMA     WN             3.72            1.0           0.0       1\n",
       "      ANC     AS            25.59           12.0           0.0       1\n",
       "      ASE     OO            31.46           19.0          26.0       1\n",
       "      ATL     AA            65.61           21.0           0.0       1\n",
       "              DL           644.81          221.0          10.0       1\n",
       "              EV           187.26           62.0           1.0       1\n",
       "              F9            11.19            5.0           0.0       1\n",
       "              NK            51.88           10.0           0.0       1\n",
       "              OO            30.32            9.0           3.0       1\n",
       "              UA            12.71           15.0           0.0       1\n",
       "              WN           154.52           86.0           3.0       1\n",
       "      ATW     EV            11.65            4.0           1.0       1\n",
       "              OO             2.48            1.0           0.0       1\n",
       "      AUS     AA            41.91           10.0           1.0       1\n",
       "              B6            13.27            4.0           0.0       1\n",
       "              DL            10.44            5.0           0.0       1\n",
       "              OO            17.54            0.0           1.0       1\n",
       "              UA            14.05            1.0           0.0       1\n",
       "              WN            65.50           13.0           0.0       1\n",
       "      AVL     EV            12.83            3.0           0.0       1\n",
       "      AVP     EV             7.41            8.0           0.0       1\n",
       "...                           ...            ...           ...     ...\n",
       "11    SNA     AA            21.35            1.0           2.0       1\n",
       "              AS            10.93            0.0           0.0       1\n",
       "              OO             8.80            3.0           0.0       1\n",
       "              UA            14.76            0.0           2.0       1\n",
       "              WN            46.65            1.0           0.0       1\n",
       "      STL     AA            36.13            4.0           0.0       1\n",
       "              DL            21.32            0.0           0.0       1\n",
       "              EV            14.27            1.0           0.0       1\n",
       "              WN           102.51            2.0           2.0       1\n",
       "      STT     AA            11.15            0.0           0.0       1\n",
       "      SYR     B6            10.51            0.0           0.0       1\n",
       "              OO             8.10            0.0           0.0       1\n",
       "      TPA     AA            43.47            2.0           0.0       1\n",
       "              B6            20.25            0.0           0.0       1\n",
       "              DL            29.66            0.0           0.0       1\n",
       "              NK             9.17            3.0           0.0       1\n",
       "              UA            12.33            0.0           0.0       1\n",
       "              WN            65.16            0.0           1.0       1\n",
       "      TRI     EV            13.24            0.0           0.0       1\n",
       "      TTN     F9             2.92            1.0           0.0       1\n",
       "      TUL     AA            20.62            0.0           0.0       1\n",
       "              EV             8.59            1.0           0.0       1\n",
       "              WN            17.79            0.0           0.0       1\n",
       "      TUS     AA            25.50            1.0           1.0       1\n",
       "              OO            20.17            6.0           0.0       1\n",
       "              WN            20.84            0.0           0.0       1\n",
       "      TYS     EV            27.19            7.0           1.0       1\n",
       "      VPS     EV            12.58            1.0           0.0       1\n",
       "      XNA     EV            17.46            1.0           0.0       1\n",
       "              OO             3.16            1.0           0.0       1\n",
       "\n",
       "[6651 rows x 4 columns]"
      ]
     },
     "execution_count": 208,
     "metadata": {},
     "output_type": "execute_result"
    }
   ],
   "source": [
    "# we could also do this one by relevant airports\n",
    "lates_cancelled_grouping_by_carrier = data[combined_list].iloc[:, [1, 2,3,5,10,11,18]].groupby(by=['month','airport', 'carrier'])\n",
    "lates_cancelled_grouping_by_carrier.sum()[lates_cancelled_grouping_by_carrier.sum().target==1]"
   ]
  },
  {
   "cell_type": "code",
   "execution_count": null,
   "metadata": {
    "collapsed": true
   },
   "outputs": [],
   "source": [
    "DEN_lates_cancelled_grouping_by_carrier = data[combined_list].iloc[:, [1, 2,3,5,10,11,18]].groupby(by=['month','airport', 'carrier'])\n",
    "DEN_lates_cancelled_grouping_by_carrier.sum()"
   ]
  },
  {
   "cell_type": "code",
   "execution_count": 154,
   "metadata": {},
   "outputs": [
    {
     "name": "stdout",
     "output_type": "stream",
     "text": [
      "0. year\n",
      "1. month\n",
      "2. carrier\n",
      "3. airport\n",
      "4. arr_flights\n",
      "5. carrier_ct\n",
      "6. weather_ct\n",
      "7. nas_ct\n",
      "8. security_ct\n",
      "9. late_aircraft_ct\n",
      "10. arr_cancelled\n",
      "11. arr_diverted\n",
      "12. arr_delay\n",
      "13. carrier_delay\n",
      "14. weather_delay\n",
      "15. nas_delay\n",
      "16. security_delay\n",
      "17. late_aircraft_delay\n",
      "18. target\n"
     ]
    }
   ],
   "source": [
    "# # this little for loop helps find the column numbers when slicing with .iloc\n",
    "for i, x in enumerate(data[combined_list].columns):\n",
    "    print(\"%d. %s\"%(i, x))"
   ]
  },
  {
   "cell_type": "markdown",
   "metadata": {},
   "source": [
    "Group by month, airport, airline, delays"
   ]
  },
  {
   "cell_type": "code",
   "execution_count": 206,
   "metadata": {},
   "outputs": [
    {
     "data": {
      "text/html": [
       "<div>\n",
       "<style>\n",
       "    .dataframe thead tr:only-child th {\n",
       "        text-align: right;\n",
       "    }\n",
       "\n",
       "    .dataframe thead th {\n",
       "        text-align: left;\n",
       "    }\n",
       "\n",
       "    .dataframe tbody tr th {\n",
       "        vertical-align: top;\n",
       "    }\n",
       "</style>\n",
       "<table border=\"1\" class=\"dataframe\">\n",
       "  <thead>\n",
       "    <tr style=\"text-align: right;\">\n",
       "      <th></th>\n",
       "      <th></th>\n",
       "      <th>month</th>\n",
       "      <th>arr_cancelled</th>\n",
       "      <th>arr_diverted</th>\n",
       "      <th>target</th>\n",
       "    </tr>\n",
       "    <tr>\n",
       "      <th>airport</th>\n",
       "      <th>carrier</th>\n",
       "      <th></th>\n",
       "      <th></th>\n",
       "      <th></th>\n",
       "      <th></th>\n",
       "    </tr>\n",
       "  </thead>\n",
       "  <tbody>\n",
       "    <tr>\n",
       "      <th>BHM</th>\n",
       "      <th>AA</th>\n",
       "      <td>1</td>\n",
       "      <td>0.0</td>\n",
       "      <td>0.0</td>\n",
       "      <td>0</td>\n",
       "    </tr>\n",
       "    <tr>\n",
       "      <th>BTR</th>\n",
       "      <th>UA</th>\n",
       "      <td>1</td>\n",
       "      <td>1.0</td>\n",
       "      <td>0.0</td>\n",
       "      <td>0</td>\n",
       "    </tr>\n",
       "    <tr>\n",
       "      <th>DAB</th>\n",
       "      <th>EV</th>\n",
       "      <td>1</td>\n",
       "      <td>0.0</td>\n",
       "      <td>0.0</td>\n",
       "      <td>0</td>\n",
       "    </tr>\n",
       "    <tr>\n",
       "      <th>DAL</th>\n",
       "      <th>EV</th>\n",
       "      <td>1</td>\n",
       "      <td>0.0</td>\n",
       "      <td>0.0</td>\n",
       "      <td>0</td>\n",
       "    </tr>\n",
       "  </tbody>\n",
       "</table>\n",
       "</div>"
      ],
      "text/plain": [
       "                 month  arr_cancelled  arr_diverted  target\n",
       "airport carrier                                            \n",
       "BHM     AA           1            0.0           0.0       0\n",
       "BTR     UA           1            1.0           0.0       0\n",
       "DAB     EV           1            0.0           0.0       0\n",
       "DAL     EV           1            0.0           0.0       0"
      ]
     },
     "execution_count": 206,
     "metadata": {},
     "output_type": "execute_result"
    }
   ],
   "source": [
    "month_airport_carrier = data[combined_list].iloc[:, [1, 2,3,10,11,18]].groupby(by=['airport', 'carrier'])\n",
    "month_airport_carrier.sum()[month_airport_carrier.sum().month==1]"
   ]
  },
  {
   "cell_type": "code",
   "execution_count": null,
   "metadata": {
    "collapsed": true
   },
   "outputs": [],
   "source": []
  },
  {
   "cell_type": "code",
   "execution_count": null,
   "metadata": {
    "collapsed": true
   },
   "outputs": [],
   "source": []
  },
  {
   "cell_type": "code",
   "execution_count": null,
   "metadata": {
    "collapsed": true
   },
   "outputs": [],
   "source": []
  },
  {
   "cell_type": "code",
   "execution_count": null,
   "metadata": {
    "collapsed": true
   },
   "outputs": [],
   "source": []
  },
  {
   "cell_type": "code",
   "execution_count": null,
   "metadata": {
    "collapsed": true
   },
   "outputs": [],
   "source": []
  },
  {
   "cell_type": "markdown",
   "metadata": {},
   "source": [
    "### Plot AUC Curve"
   ]
  },
  {
   "cell_type": "code",
   "execution_count": 86,
   "metadata": {
    "collapsed": true
   },
   "outputs": [],
   "source": [
    "from sklearn.metrics import roc_auc_score\n",
    "from sklearn.model_selection import cross_val_score"
   ]
  },
  {
   "cell_type": "code",
   "execution_count": 87,
   "metadata": {
    "collapsed": true
   },
   "outputs": [],
   "source": [
    "# Compute predicted probabilities: y_pred_prob\n",
    "y_pred_prob = logit_reg.predict_proba(X_test)[:,1]"
   ]
  },
  {
   "cell_type": "code",
   "execution_count": 88,
   "metadata": {},
   "outputs": [
    {
     "name": "stdout",
     "output_type": "stream",
     "text": [
      "AUC: 0.997023124309\n"
     ]
    }
   ],
   "source": [
    "# Compute and print AUC score\n",
    "print(\"AUC: {}\".format(roc_auc_score(y_test, y_pred_prob)))"
   ]
  },
  {
   "cell_type": "code",
   "execution_count": 89,
   "metadata": {
    "collapsed": true
   },
   "outputs": [],
   "source": [
    "# Compute cross-validated AUC scores: cv_auc\n",
    "cv_auc = cross_val_score(logit_reg, X, y, cv=5, scoring='roc_auc')"
   ]
  },
  {
   "cell_type": "code",
   "execution_count": 90,
   "metadata": {},
   "outputs": [
    {
     "name": "stdout",
     "output_type": "stream",
     "text": [
      "AUC scores computed using 5-fold cross-validation: [ 0.99858454  0.99998255  0.999916    0.99997588  0.99984613]\n"
     ]
    }
   ],
   "source": [
    "# Print list of AUC scores\n",
    "print(\"AUC scores computed using 5-fold cross-validation: {}\".format(cv_auc))"
   ]
  },
  {
   "cell_type": "markdown",
   "metadata": {},
   "source": [
    "## Back to Logistic Regression"
   ]
  },
  {
   "cell_type": "code",
   "execution_count": 91,
   "metadata": {},
   "outputs": [
    {
     "data": {
      "text/plain": [
       "LogisticRegression(C=1.0, class_weight=None, dual=False, fit_intercept=True,\n",
       "          intercept_scaling=1, max_iter=100, multi_class='ovr', n_jobs=1,\n",
       "          penalty='l2', random_state=None, solver='liblinear', tol=0.0001,\n",
       "          verbose=0, warm_start=False)"
      ]
     },
     "execution_count": 91,
     "metadata": {},
     "output_type": "execute_result"
    }
   ],
   "source": [
    "X_train, X_test, y_train, y_test = train_test_split(X, y, test_size=0.3, random_state=0)\n",
    "from sklearn.linear_model import LogisticRegression\n",
    "from sklearn import metrics\n",
    "logreg = LogisticRegression()\n",
    "logreg.fit(X_train, y_train)"
   ]
  },
  {
   "cell_type": "code",
   "execution_count": 92,
   "metadata": {},
   "outputs": [
    {
     "name": "stdout",
     "output_type": "stream",
     "text": [
      "Accuracy of logistic regression classifier on test set: 1.00\n"
     ]
    }
   ],
   "source": [
    "y_pred = logreg.predict(X_test)\n",
    "print('Accuracy of logistic regression classifier on test set: {:.2f}'.format(logreg.score(X_test, y_test)))"
   ]
  },
  {
   "cell_type": "code",
   "execution_count": 93,
   "metadata": {},
   "outputs": [
    {
     "name": "stdout",
     "output_type": "stream",
     "text": [
      "10-fold cross validation average accuracy: 0.989\n"
     ]
    }
   ],
   "source": [
    "from sklearn import model_selection\n",
    "from sklearn.model_selection import cross_val_score\n",
    "kfold = model_selection.KFold(n_splits=10, random_state=7)\n",
    "modelCV = LogisticRegression()\n",
    "scoring = 'accuracy'\n",
    "results = model_selection.cross_val_score(modelCV, X_train, y_train, cv=kfold, scoring=scoring)\n",
    "print(\"10-fold cross validation average accuracy: %.3f\" % (results.mean()))"
   ]
  },
  {
   "cell_type": "markdown",
   "metadata": {},
   "source": [
    "### GridSearchCV"
   ]
  },
  {
   "cell_type": "code",
   "execution_count": 94,
   "metadata": {
    "collapsed": true
   },
   "outputs": [],
   "source": [
    "# from sklearn.model_selection import GridSearchCV\n",
    "\n",
    "# param_grid = { 'n_neighbors': np.arange( 1, 50 ) }\n",
    "# logreg = LogisticRegression()\n",
    "# logreg_cv = GridSearchCV( logreg, param_grid, cv=5 )\n",
    "# logreg_cv.fit( X, y )\n",
    "\n",
    "\n",
    "# print(logreg_cv.best_params_),\n",
    "# print(logreg_cv.best_score_)\n"
   ]
  },
  {
   "cell_type": "markdown",
   "metadata": {},
   "source": [
    "## Comparing Algorithms"
   ]
  },
  {
   "cell_type": "code",
   "execution_count": 61,
   "metadata": {},
   "outputs": [
    {
     "name": "stdout",
     "output_type": "stream",
     "text": [
      "Logistic Regression: 0.991945 (0.006417)\n"
     ]
    },
    {
     "name": "stderr",
     "output_type": "stream",
     "text": [
      "/Users/jg/anaconda/lib/python2.7/site-packages/sklearn/discriminant_analysis.py:387: UserWarning: Variables are collinear.\n",
      "  warnings.warn(\"Variables are collinear.\")\n"
     ]
    },
    {
     "name": "stdout",
     "output_type": "stream",
     "text": [
      "LDA: 0.626157 (0.092132)\n",
      "KNearestneighbors: 0.942091 (0.007824)\n",
      "Classification And Regression Trees: 0.969300 (0.004674)\n",
      "NB: 0.857067 (0.014922)\n",
      "SVM: 0.640382 (0.050608)\n"
     ]
    }
   ],
   "source": [
    "# this cell takes about 90 seconds to run,... mostly bc of SVM\n",
    "# Compare Algorithms\n",
    "import pandas\n",
    "import matplotlib.pyplot as plt\n",
    "from sklearn import model_selection\n",
    "from sklearn.linear_model import LogisticRegression\n",
    "from sklearn.tree import DecisionTreeClassifier\n",
    "from sklearn.neighbors import KNeighborsClassifier\n",
    "from sklearn.discriminant_analysis import LinearDiscriminantAnalysis\n",
    "from sklearn.ensemble import RandomForestRegressor\n",
    "from sklearn.ensemble import RandomForestClassifier\n",
    "from sklearn.naive_bayes import GaussianNB\n",
    "from sklearn.svm import SVC\n",
    "\n",
    "seed = 42\n",
    "# prepare list for models\n",
    "models = []\n",
    "models.append(('Logistic Regression', LogisticRegression()))\n",
    "models.append(('LDA', LinearDiscriminantAnalysis()))\n",
    "models.append(('KNearestneighbors', KNeighborsClassifier()))\n",
    "models.append(('Classification And Regression Trees', DecisionTreeClassifier()))\n",
    "models.append(('NB', GaussianNB()))\n",
    "# models.append(('RFRg', RandomForestRegressor(n_estimators = 100,oob_score = True, n_jobs = -1, random_state=seed)))\n",
    "models.append(('SVM', SVC()))\n",
    "# evaluate each model in turn\n",
    "results = []\n",
    "names = []\n",
    "scoring = 'accuracy'\n",
    "for name, model in models:\n",
    "    kfold = model_selection.KFold(n_splits=10, random_state=seed)\n",
    "    cv_results = model_selection.cross_val_score(model, X, y, cv=kfold, scoring=scoring)\n",
    "    results.append(cv_results)\n",
    "    names.append(name)\n",
    "    msg = \"%s: %f (%f)\" % (name, cv_results.mean(), cv_results.std())\n",
    "    print(msg)"
   ]
  },
  {
   "cell_type": "code",
   "execution_count": 68,
   "metadata": {},
   "outputs": [
    {
     "data": {
      "image/png": "[encoded data removed]",
      "text/plain": [
       "<matplotlib.figure.Figure at 0x10e310150>"
      ]
     },
     "metadata": {},
     "output_type": "display_data"
    }
   ],
   "source": [
    "# boxplot algorithm comparison\n",
    "fig = plt.figure(figsize=(20,10))\n",
    "fig.suptitle('\\nSupervised Machine Learning Algorithm Comparison', size =24)\n",
    "ax = fig.add_subplot(111)\n",
    "plt.boxplot(results)\n",
    "ax.set_xticklabels(names)\n",
    "plt.show()"
   ]
  },
  {
   "cell_type": "markdown",
   "metadata": {},
   "source": [
    "Random Forest model\n",
    "- oob_score(out of bag)=True shows model performance with or without using Cross-Validation\n",
    "- Generally the target follows a certain distribution and few observations, then using CV will not give much improvement."
   ]
  },
  {
   "cell_type": "code",
   "execution_count": 97,
   "metadata": {
    "collapsed": true
   },
   "outputs": [],
   "source": [
    "RandomForestmodel = RandomForestClassifier(n_estimators = 100, oob_score = True, n_jobs = 1,random_state =1)"
   ]
  },
  {
   "cell_type": "code",
   "execution_count": 98,
   "metadata": {},
   "outputs": [
    {
     "data": {
      "text/plain": [
       "RandomForestClassifier(bootstrap=True, class_weight=None, criterion='gini',\n",
       "            max_depth=None, max_features='auto', max_leaf_nodes=None,\n",
       "            min_impurity_split=1e-07, min_samples_leaf=1,\n",
       "            min_samples_split=2, min_weight_fraction_leaf=0.0,\n",
       "            n_estimators=100, n_jobs=1, oob_score=True, random_state=1,\n",
       "            verbose=0, warm_start=False)"
      ]
     },
     "execution_count": 98,
     "metadata": {},
     "output_type": "execute_result"
    }
   ],
   "source": [
    "RandomForestmodel.fit(X,y)"
   ]
  },
  {
   "cell_type": "code",
   "execution_count": 99,
   "metadata": {
    "collapsed": true
   },
   "outputs": [],
   "source": [
    "RandomForestmodel_2 = RandomForestClassifier(n_estimators = 100,oob_score = True, n_jobs = -1, random_state=1)"
   ]
  },
  {
   "cell_type": "code",
   "execution_count": 100,
   "metadata": {},
   "outputs": [
    {
     "data": {
      "text/plain": [
       "RandomForestClassifier(bootstrap=True, class_weight=None, criterion='gini',\n",
       "            max_depth=None, max_features='auto', max_leaf_nodes=None,\n",
       "            min_impurity_split=1e-07, min_samples_leaf=1,\n",
       "            min_samples_split=2, min_weight_fraction_leaf=0.0,\n",
       "            n_estimators=100, n_jobs=-1, oob_score=True, random_state=1,\n",
       "            verbose=0, warm_start=False)"
      ]
     },
     "execution_count": 100,
     "metadata": {},
     "output_type": "execute_result"
    }
   ],
   "source": [
    "RandomForestmodel_2.fit(X,y)"
   ]
  },
  {
   "cell_type": "markdown",
   "metadata": {
    "collapsed": true
   },
   "source": [
    "## another Random forest Model"
   ]
  },
  {
   "cell_type": "code",
   "execution_count": 101,
   "metadata": {
    "collapsed": true
   },
   "outputs": [],
   "source": [
    "RF_model =  RandomForestRegressor(n_estimators = 100 , oob_score =True, random_state = 42)"
   ]
  },
  {
   "cell_type": "code",
   "execution_count": 102,
   "metadata": {},
   "outputs": [
    {
     "data": {
      "text/plain": [
       "array([  5.32733481e-02,   5.82420115e-02,   5.68543669e-03,\n",
       "         5.42954668e-02,   4.81342570e-04,   5.59988183e-02,\n",
       "         1.16570321e-03,   7.89451257e-04,   7.51200632e-01,\n",
       "         4.06927589e-03,   2.47228557e-03,   6.82354293e-03,\n",
       "         5.16167175e-04,   4.98651749e-03])"
      ]
     },
     "execution_count": 102,
     "metadata": {},
     "output_type": "execute_result"
    }
   ],
   "source": [
    "RF_model.fit(X,y).feature_importances_"
   ]
  },
  {
   "cell_type": "code",
   "execution_count": 103,
   "metadata": {},
   "outputs": [
    {
     "data": {
      "text/plain": [
       "RandomForestRegressor(bootstrap=True, criterion='mse', max_depth=None,\n",
       "           max_features='auto', max_leaf_nodes=None,\n",
       "           min_impurity_split=1e-07, min_samples_leaf=1,\n",
       "           min_samples_split=2, min_weight_fraction_leaf=0.0,\n",
       "           n_estimators=100, n_jobs=1, oob_score=True, random_state=42,\n",
       "           verbose=0, warm_start=False)"
      ]
     },
     "execution_count": 103,
     "metadata": {},
     "output_type": "execute_result"
    }
   ],
   "source": [
    "RF_model.fit(X, y)"
   ]
  },
  {
   "cell_type": "code",
   "execution_count": 104,
   "metadata": {},
   "outputs": [
    {
     "data": {
      "text/plain": [
       "array([  5.32733481e-02,   5.82420115e-02,   5.68543669e-03,\n",
       "         5.42954668e-02,   4.81342570e-04,   5.59988183e-02,\n",
       "         1.16570321e-03,   7.89451257e-04,   7.51200632e-01,\n",
       "         4.06927589e-03,   2.47228557e-03,   6.82354293e-03,\n",
       "         5.16167175e-04,   4.98651749e-03])"
      ]
     },
     "execution_count": 104,
     "metadata": {},
     "output_type": "execute_result"
    }
   ],
   "source": [
    "RF_model.feature_importances_"
   ]
  },
  {
   "cell_type": "code",
   "execution_count": 105,
   "metadata": {},
   "outputs": [
    {
     "name": "stdout",
     "output_type": "stream",
     "text": [
      "AUC - ROC :  0.99880608417\n"
     ]
    }
   ],
   "source": [
    "print \"AUC - ROC : \", roc_auc_score(y, RF_model.oob_prediction_)"
   ]
  },
  {
   "cell_type": "code",
   "execution_count": 106,
   "metadata": {
    "collapsed": true
   },
   "outputs": [],
   "source": [
    "from collections import OrderedDict\n",
    "from sklearn.datasets import make_classification\n",
    "from sklearn.ensemble import RandomForestClassifier, ExtraTreesClassifier"
   ]
  },
  {
   "cell_type": "code",
   "execution_count": 107,
   "metadata": {},
   "outputs": [
    {
     "name": "stderr",
     "output_type": "stream",
     "text": [
      "/Users/jg/anaconda/lib/python2.7/site-packages/sklearn/ensemble/forest.py:439: UserWarning: Some inputs do not have OOB scores. This probably means too few trees were used to compute any reliable oob estimates.\n",
      "  warn(\"Some inputs do not have OOB scores. \"\n",
      "/Users/jg/anaconda/lib/python2.7/site-packages/sklearn/ensemble/forest.py:444: RuntimeWarning: invalid value encountered in true_divide\n",
      "  predictions[k].sum(axis=1)[:, np.newaxis])\n"
     ]
    },
    {
     "data": {
      "image/png": "[encoded data removed]",
      "text/plain": [
       "<matplotlib.figure.Figure at 0x11ceba390>"
      ]
     },
     "metadata": {},
     "output_type": "display_data"
    }
   ],
   "source": [
    "# this cell takes about 90 seconds to run\n",
    "RANDOM_STATE = 42\n",
    "ensemble_clfs = [\n",
    "    (\"RandomForestClassifier, max_features='sqrt'\",\n",
    "        RandomForestClassifier(warm_start=True, oob_score=True,\n",
    "                               max_features=\"sqrt\",\n",
    "                               random_state=RANDOM_STATE)),\n",
    "    (\"RandomForestClassifier, max_features='log2'\",\n",
    "        RandomForestClassifier(warm_start=True, max_features='log2',\n",
    "                               oob_score=True,\n",
    "                               random_state=RANDOM_STATE)),\n",
    "    (\"RandomForestClassifier, max_features=None\",\n",
    "        RandomForestClassifier(warm_start=True, max_features=None,\n",
    "                               oob_score=True,\n",
    "                               random_state=RANDOM_STATE)),\n",
    "    (\"RandomForestClassifier, max_features=2\",\n",
    "        RandomForestClassifier(warm_start=True, max_features=2,\n",
    "                               oob_score=True,\n",
    "                               random_state=RANDOM_STATE))\n",
    "]\n",
    "\n",
    "# Map a classifier name to a list of (<n_estimators>, <error rate>) pairs.\n",
    "error_rate = OrderedDict((label, []) for label, _ in ensemble_clfs)\n",
    "\n",
    "# Range of `n_estimators` values to explore.\n",
    "min_estimators = 15\n",
    "max_estimators = 175\n",
    "\n",
    "for label, clf in ensemble_clfs:\n",
    "    for i in range(min_estimators, max_estimators + 1):\n",
    "        clf.set_params(n_estimators=i)\n",
    "        clf.fit(X, y)\n",
    "\n",
    "        # Record the OOB error for each `n_estimators=i` setting.\n",
    "        oob_error = 1 - clf.oob_score_\n",
    "        error_rate[label].append((i, oob_error))\n",
    "\n",
    "# Generate the \"OOB error rate\" vs. \"n_estimators\" plot.\n",
    "for label, clf_err in error_rate.items():\n",
    "    xs, ys = zip(*clf_err)\n",
    "    plt.plot(xs, ys, label=label)\n",
    "\n",
    "plt.xlim(min_estimators, max_estimators)\n",
    "plt.xlabel(\"n_estimators\")\n",
    "plt.ylabel(\"OOB error rate\")\n",
    "plt.legend(loc=\"upper right\")\n",
    "plt.show()"
   ]
  },
  {
   "cell_type": "code",
   "execution_count": null,
   "metadata": {
    "collapsed": true
   },
   "outputs": [],
   "source": []
  },
  {
   "cell_type": "markdown",
   "metadata": {},
   "source": [
    "#### Twice the estimators\n",
    "and multiple leaf options using the regressor"
   ]
  },
  {
   "cell_type": "code",
   "execution_count": 108,
   "metadata": {},
   "outputs": [
    {
     "name": "stdout",
     "output_type": "stream",
     "text": [
      "CPU times: user 4 µs, sys: 3 µs, total: 7 µs\n",
      "Wall time: 17.2 µs\n",
      "Leaf Size: 1     AUC - ROC :  0.998862990345\n",
      "Leaf Size: 5     AUC - ROC :  0.998787198568\n",
      "Leaf Size: 10     AUC - ROC :  0.99849487073\n",
      "Leaf Size: 50     AUC - ROC :  0.996633707966\n",
      "Leaf Size: 100     AUC - ROC :  0.995006188027\n",
      "Leaf Size: 200     AUC - ROC :  0.991450208742\n",
      "Leaf Size: 500     AUC - ROC :  0.988021341528\n"
     ]
    }
   ],
   "source": [
    "%time  \n",
    "%timeit\n",
    "sample_leaf_options = [1,5,10,50,100,200,500]\n",
    "for leaf_size in sample_leaf_options :\n",
    "    model_RF_loop = RandomForestRegressor(\n",
    "        n_estimators = 200, \n",
    "        oob_score = True, \n",
    "        n_jobs = -1,\n",
    "        random_state = 42,\n",
    "        max_features = \"auto\", \n",
    "        min_samples_leaf = leaf_size)\n",
    "    model_RF_loop.fit(X, y)\n",
    "    print \"Leaf Size:\", leaf_size, \"    AUC - ROC : \", roc_auc_score(y, model_RF_loop.oob_prediction_ )"
   ]
  },
  {
   "cell_type": "markdown",
   "metadata": {},
   "source": [
    "Group the data in ways that shows insights"
   ]
  },
  {
   "cell_type": "markdown",
   "metadata": {},
   "source": [
    "It would be useful to see the data grouped by airport and count of late arrivals"
   ]
  },
  {
   "cell_type": "code",
   "execution_count": 117,
   "metadata": {
    "collapsed": true
   },
   "outputs": [],
   "source": [
    "# # this little for loop helps find the column numbers when slicing with .iloc\n",
    "# for i, x in enumerate(data.columns):\n",
    "#     print(\"%d. %s\"%(i, x))"
   ]
  },
  {
   "cell_type": "code",
   "execution_count": 78,
   "metadata": {
    "collapsed": true
   },
   "outputs": [],
   "source": [
    "# late_count = data.iloc[:, [6, 8, 9, 10, 11, 12, 13, 14, 15, 16, 17, 18, 19, 20, 7]]\n",
    "# late_count.corr()"
   ]
  },
  {
   "cell_type": "code",
   "execution_count": 120,
   "metadata": {},
   "outputs": [
    {
     "data": {
      "text/plain": [
       "array([('DEN', 'AA'), ('DEN', 'AS'), ('DEN', 'B6'), ('DEN', 'DL'),\n",
       "       ('DEN', 'F9'), ('DEN', 'NK'), ('DEN', 'OO'), ('DEN', 'UA'),\n",
       "       ('DEN', 'VX'), ('DEN', 'WN')], dtype=object)"
      ]
     },
     "execution_count": 120,
     "metadata": {},
     "output_type": "execute_result"
    }
   ],
   "source": [
    "denver_by_carrier.index.values"
   ]
  },
  {
   "cell_type": "code",
   "execution_count": 126,
   "metadata": {},
   "outputs": [
    {
     "name": "stdout",
     "output_type": "stream",
     "text": [
      "('DEN', 'DEN', 'DEN', 'DEN', 'DEN', 'DEN', 'DEN', 'DEN', 'DEN', 'DEN') \n",
      "\n",
      "('AA', 'AS', 'B6', 'DL', 'F9', 'NK', 'OO', 'UA', 'VX', 'WN')\n"
     ]
    }
   ],
   "source": [
    "air_port, carrier_ = zip(*denver_by_carrier.index.values)\n",
    "print (air_port),\n",
    "print \"\\n\"\n",
    "print (carrier_)"
   ]
  }
 ],
 "metadata": {
  "kernelspec": {
   "display_name": "Python 2",
   "language": "python",
   "name": "python2"
  },
  "language_info": {
   "codemirror_mode": {
    "name": "ipython",
    "version": 2
   },
   "file_extension": ".py",
   "mimetype": "text/x-python",
   "name": "python",
   "nbconvert_exporter": "python",
   "pygments_lexer": "ipython2",
   "version": "2.7.13"
  }
 },
 "nbformat": 4,
 "nbformat_minor": 2
}
