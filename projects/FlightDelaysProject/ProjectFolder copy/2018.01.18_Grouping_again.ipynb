{
 "cells": [
  {
   "cell_type": "markdown",
   "metadata": {},
   "source": [
    "2018.01.18\n",
    "Grouping again\n",
    "\n",
    "this notebook will take advantage of the `%store` magic function... storing variables for use in other notebooks"
   ]
  },
  {
   "cell_type": "code",
   "execution_count": 1,
   "metadata": {
    "collapsed": true
   },
   "outputs": [],
   "source": [
    "import numpy as np\n",
    "import pandas as pd\n",
    "import re\n",
    "import seaborn as sns\n",
    "import matplotlib.pyplot as plt\n",
    "\n",
    "from pygeocoder import Geocoder\n",
    "from mpl_toolkits.basemap import Basemap\n",
    "\n",
    "%matplotlib inline"
   ]
  },
  {
   "cell_type": "markdown",
   "metadata": {},
   "source": [
    "## Import the csv"
   ]
  },
  {
   "cell_type": "code",
   "execution_count": 2,
   "metadata": {
    "collapsed": true
   },
   "outputs": [],
   "source": [
    "# where this data came from: https://www.transtats.bts.gov/OT_Delay/OT_DelayCause1.asp?pn=1\n",
    "orig_data = pd.read_csv('./project_datasets/682464398_102017_1651_airline_delay_causes.csv', skipinitialspace=True)"
   ]
  },
  {
   "cell_type": "markdown",
   "metadata": {},
   "source": [
    "## Clean the data"
   ]
  },
  {
   "cell_type": "markdown",
   "metadata": {},
   "source": [
    "### drop the extraneous column that has no information"
   ]
  },
  {
   "cell_type": "code",
   "execution_count": 3,
   "metadata": {
    "collapsed": true
   },
   "outputs": [],
   "source": [
    "data_right_columns = orig_data.drop('Unnamed: 21', axis=1)"
   ]
  },
  {
   "cell_type": "markdown",
   "metadata": {},
   "source": [
    "Some of the column names have initial space, so we use a regular expression  \n",
    "\n",
    "to make them easier to work with programmatically"
   ]
  },
  {
   "cell_type": "code",
   "execution_count": 4,
   "metadata": {},
   "outputs": [
    {
     "data": {
      "text/plain": [
       "Index([u'year', u'month', u'carrier', u'carrier_name', u'airport',\n",
       "       u'airport_name', u'arr_flights', u'arr_del15', u'carrier_ct',\n",
       "       u'weather_ct', u'nas_ct', u'security_ct', u'late_aircraft_ct',\n",
       "       u'arr_cancelled', u'arr_diverted', u'arr_delay', u'carrier_delay',\n",
       "       u'weather_delay', u'nas_delay', u'security_delay',\n",
       "       u'late_aircraft_delay'],\n",
       "      dtype='object')"
      ]
     },
     "execution_count": 4,
     "metadata": {},
     "output_type": "execute_result"
    }
   ],
   "source": [
    "columns = []\n",
    "for i, col in enumerate(data_right_columns.columns):\n",
    "    global columns\n",
    "    col = re.sub(r'\\s+', '', col)\n",
    "    columns.append(col)\n",
    "data_right_columns.columns = columns\n",
    "data_right_columns.columns"
   ]
  },
  {
   "cell_type": "markdown",
   "metadata": {},
   "source": [
    "### Dropping the NaN rows as invalid data, it is a small percentage of the entire dataset"
   ]
  },
  {
   "cell_type": "code",
   "execution_count": 5,
   "metadata": {},
   "outputs": [
    {
     "data": {
      "text/plain": [
       "(11193, 21)"
      ]
     },
     "execution_count": 5,
     "metadata": {},
     "output_type": "execute_result"
    }
   ],
   "source": [
    "data_right_columns.shape"
   ]
  },
  {
   "cell_type": "code",
   "execution_count": 6,
   "metadata": {
    "collapsed": true
   },
   "outputs": [],
   "source": [
    "data_NoNaN = data_right_columns.dropna(axis=0)"
   ]
  },
  {
   "cell_type": "markdown",
   "metadata": {},
   "source": [
    "So, the Nans have been dropped..."
   ]
  },
  {
   "cell_type": "markdown",
   "metadata": {},
   "source": [
    "### We wil now use the first variable, `data_NoNaN` and set it to `data` ...\n",
    "\n",
    "The next four strategies of NaN handling are commented out, but also will be `data`"
   ]
  },
  {
   "cell_type": "code",
   "execution_count": 7,
   "metadata": {
    "collapsed": true
   },
   "outputs": [],
   "source": [
    "data = data_NoNaN"
   ]
  },
  {
   "cell_type": "markdown",
   "metadata": {
    "collapsed": true
   },
   "source": [
    "Looking at the shape of our data, the 18 dropped values, give us 11173 observations and 21 features"
   ]
  },
  {
   "cell_type": "code",
   "execution_count": 8,
   "metadata": {},
   "outputs": [
    {
     "data": {
      "text/plain": [
       "(11173, 21)"
      ]
     },
     "execution_count": 8,
     "metadata": {},
     "output_type": "execute_result"
    }
   ],
   "source": [
    "data.shape"
   ]
  },
  {
   "cell_type": "markdown",
   "metadata": {},
   "source": [
    "# Target\n",
    "We have determined that the goal of this data analysis is to predict delayed flights, given certain conditions based on the dataset.  Therefore the target variable is `arr_del15`\n",
    "\n",
    "\n"
   ]
  },
  {
   "cell_type": "markdown",
   "metadata": {},
   "source": [
    "Let's make the target variable binary."
   ]
  },
  {
   "cell_type": "code",
   "execution_count": 10,
   "metadata": {},
   "outputs": [
    {
     "name": "stderr",
     "output_type": "stream",
     "text": [
      "/Users/jg/anaconda/lib/python2.7/site-packages/ipykernel_launcher.py:1: SettingWithCopyWarning: \n",
      "A value is trying to be set on a copy of a slice from a DataFrame.\n",
      "Try using .loc[row_indexer,col_indexer] = value instead\n",
      "\n",
      "See the caveats in the documentation: http://pandas.pydata.org/pandas-docs/stable/indexing.html#indexing-view-versus-copy\n",
      "  \"\"\"Entry point for launching an IPython kernel.\n"
     ]
    },
    {
     "data": {
      "text/plain": [
       "1    6651\n",
       "0    4522\n",
       "Name: target, dtype: int64"
      ]
     },
     "execution_count": 10,
     "metadata": {},
     "output_type": "execute_result"
    }
   ],
   "source": [
    "data['target'] = [1 if targ >= 15.0 else 0 for targ in data.arr_del15]\n",
    "data['target'].value_counts()"
   ]
  },
  {
   "cell_type": "markdown",
   "metadata": {},
   "source": [
    "#### Now that `target_x` has been created and added to the dataframe, `data`, `arr_del15` needs to be dropped since it is now redundant"
   ]
  },
  {
   "cell_type": "code",
   "execution_count": 11,
   "metadata": {},
   "outputs": [
    {
     "data": {
      "text/plain": [
       "Index([u'year', u'month', u'carrier', u'carrier_name', u'airport',\n",
       "       u'airport_name', u'arr_flights', u'carrier_ct', u'weather_ct',\n",
       "       u'nas_ct', u'security_ct', u'late_aircraft_ct', u'arr_cancelled',\n",
       "       u'arr_diverted', u'arr_delay', u'carrier_delay', u'weather_delay',\n",
       "       u'nas_delay', u'security_delay', u'late_aircraft_delay', u'target'],\n",
       "      dtype='object')"
      ]
     },
     "execution_count": 11,
     "metadata": {},
     "output_type": "execute_result"
    }
   ],
   "source": [
    "data = data.drop('arr_del15', axis=1)\n",
    "data.columns"
   ]
  },
  {
   "cell_type": "markdown",
   "metadata": {},
   "source": [
    "`data.columns` is a list of all 21 features including the target variable"
   ]
  },
  {
   "cell_type": "markdown",
   "metadata": {},
   "source": [
    "# Stores variables 1 - 6 :\n",
    "### `data`, `col_year_month`, `col_categorical`, `col_target`, `col_numeric`, `combined_list`"
   ]
  },
  {
   "cell_type": "code",
   "execution_count": 12,
   "metadata": {},
   "outputs": [
    {
     "name": "stdout",
     "output_type": "stream",
     "text": [
      "Stored 'data' (DataFrame)\n"
     ]
    }
   ],
   "source": [
    "%store data"
   ]
  },
  {
   "cell_type": "markdown",
   "metadata": {},
   "source": [
    "## Group by Categorical / Numeric"
   ]
  },
  {
   "cell_type": "code",
   "execution_count": 13,
   "metadata": {
    "collapsed": true
   },
   "outputs": [],
   "source": [
    "col_numeric = data.select_dtypes(include=[np.number]).columns.tolist()\n",
    "col_categorical = data.select_dtypes(include=[np.object]).columns.tolist()"
   ]
  },
  {
   "cell_type": "markdown",
   "metadata": {},
   "source": [
    "`select_dtypes()` selected `year` and `month` as numeric. They are now separated so that pure numeric columns may be seen graphically\n"
   ]
  },
  {
   "cell_type": "markdown",
   "metadata": {},
   "source": [
    "Use `year` and `month` separately in the `col_year_month` variable"
   ]
  },
  {
   "cell_type": "code",
   "execution_count": 14,
   "metadata": {},
   "outputs": [
    {
     "data": {
      "text/plain": [
       "['year', 'month']"
      ]
     },
     "execution_count": 14,
     "metadata": {},
     "output_type": "execute_result"
    }
   ],
   "source": [
    "# `col_year_month` is the first variable we see below in the Quick Summary__________ first [1st]\n",
    "col_year_month = col_numeric[0:2]\n",
    "col_year_month"
   ]
  },
  {
   "cell_type": "code",
   "execution_count": 15,
   "metadata": {},
   "outputs": [
    {
     "name": "stdout",
     "output_type": "stream",
     "text": [
      "Stored 'col_year_month' (list)\n"
     ]
    }
   ],
   "source": [
    "%store col_year_month"
   ]
  },
  {
   "cell_type": "markdown",
   "metadata": {},
   "source": [
    "### Remove redundant columns\n",
    "Of the four columns in `col_categorical`, only two are relevant since the other two contain the same information"
   ]
  },
  {
   "cell_type": "code",
   "execution_count": 16,
   "metadata": {},
   "outputs": [
    {
     "data": {
      "text/plain": [
       "['carrier', 'airport']"
      ]
     },
     "execution_count": 16,
     "metadata": {},
     "output_type": "execute_result"
    }
   ],
   "source": [
    "# remove redundant columns\n",
    "# `col_categorical` is the second variable we see below in the Quick Summary__________ second [2nd]\n",
    "col_categorical = col_categorical[0::2]\n",
    "col_categorical"
   ]
  },
  {
   "cell_type": "code",
   "execution_count": 17,
   "metadata": {},
   "outputs": [
    {
     "name": "stdout",
     "output_type": "stream",
     "text": [
      "Stored 'col_categorical' (list)\n"
     ]
    }
   ],
   "source": [
    "%store col_categorical"
   ]
  },
  {
   "cell_type": "markdown",
   "metadata": {},
   "source": [
    "### Separate the target so it can be treated separately"
   ]
  },
  {
   "cell_type": "code",
   "execution_count": 18,
   "metadata": {},
   "outputs": [
    {
     "data": {
      "text/plain": [
       "['target']"
      ]
     },
     "execution_count": 18,
     "metadata": {},
     "output_type": "execute_result"
    }
   ],
   "source": [
    "# `col_target` is the third variable we see below in the Quick Summary__________ third [3rd]\n",
    "col_target = col_numeric[16:17]\n",
    "col_target"
   ]
  },
  {
   "cell_type": "code",
   "execution_count": 19,
   "metadata": {},
   "outputs": [
    {
     "name": "stdout",
     "output_type": "stream",
     "text": [
      "Stored 'col_target' (list)\n"
     ]
    }
   ],
   "source": [
    "%store col_target"
   ]
  },
  {
   "cell_type": "markdown",
   "metadata": {},
   "source": [
    "### Numeric Columns"
   ]
  },
  {
   "cell_type": "code",
   "execution_count": 20,
   "metadata": {
    "collapsed": true
   },
   "outputs": [],
   "source": [
    "# rename `col_numeric` so it does not include 'year' and 'month'\n",
    "# `col_numeric` is the fourth variable we see below in the Quick Summary__________ fourth [4th]\n",
    "col_numeric = col_numeric[2:16]\n",
    "# col_numeric"
   ]
  },
  {
   "cell_type": "code",
   "execution_count": 21,
   "metadata": {},
   "outputs": [
    {
     "name": "stdout",
     "output_type": "stream",
     "text": [
      "Stored 'col_numeric' (list)\n"
     ]
    }
   ],
   "source": [
    "%store col_numeric"
   ]
  },
  {
   "cell_type": "markdown",
   "metadata": {},
   "source": [
    "### Combine the lists"
   ]
  },
  {
   "cell_type": "code",
   "execution_count": 22,
   "metadata": {
    "collapsed": true
   },
   "outputs": [],
   "source": [
    "pre_combine = [col_year_month, col_categorical, col_numeric, col_target]\n",
    "combined_list = [item for sublist in pre_combine for item in sublist]\n",
    "# combined_list\n",
    "# ['year', 'month', 'carrier', 'airport', 'arr_flights', 'carrier_ct', 'weather_ct', \n",
    "#  'nas_ct', 'security_ct', 'late_aircraft_ct', 'arr_cancelled', 'arr_diverted', \n",
    "#  'arr_delay', 'carrier_delay', 'weather_delay', 'nas_delay', 'security_delay', \n",
    "#  'late_aircraft_delay', 'target']"
   ]
  },
  {
   "cell_type": "code",
   "execution_count": 23,
   "metadata": {},
   "outputs": [
    {
     "name": "stdout",
     "output_type": "stream",
     "text": [
      "Stored 'combined_list' (list)\n"
     ]
    }
   ],
   "source": [
    "%store combined_list"
   ]
  },
  {
   "cell_type": "code",
   "execution_count": 24,
   "metadata": {
    "collapsed": true
   },
   "outputs": [],
   "source": [
    "# data[combined_list].columns == data.columns\n",
    "# this throws an error because the combied list does not have u'carrier_name or u'airport_name"
   ]
  },
  {
   "cell_type": "code",
   "execution_count": 25,
   "metadata": {
    "collapsed": true
   },
   "outputs": [],
   "source": [
    "# commands to get these variables from another notebook\n",
    "# %store -r data\n",
    "# %store -r col_year_month\n",
    "# %store -r col_categorical\n",
    "# %store -r col_target\n",
    "# %store -r col_numeric\n",
    "# %store -r combined_list"
   ]
  },
  {
   "cell_type": "code",
   "execution_count": null,
   "metadata": {
    "collapsed": true
   },
   "outputs": [],
   "source": []
  }
 ],
 "metadata": {
  "kernelspec": {
   "display_name": "Python 2",
   "language": "python",
   "name": "python2"
  },
  "language_info": {
   "codemirror_mode": {
    "name": "ipython",
    "version": 2
   },
   "file_extension": ".py",
   "mimetype": "text/x-python",
   "name": "python",
   "nbconvert_exporter": "python",
   "pygments_lexer": "ipython2",
   "version": "2.7.13"
  }
 },
 "nbformat": 4,
 "nbformat_minor": 2
}
