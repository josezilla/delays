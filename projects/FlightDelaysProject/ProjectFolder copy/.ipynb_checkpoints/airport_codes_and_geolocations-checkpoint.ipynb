{
 "cells": [
  {
   "cell_type": "markdown",
   "metadata": {},
   "source": [
    "airport_codes_and_geolocations"
   ]
  },
  {
   "cell_type": "code",
   "execution_count": 1,
   "metadata": {
    "collapsed": true
   },
   "outputs": [],
   "source": [
    "import numpy as np\n",
    "import pandas as pd\n",
    "import re\n",
    "import seaborn as sns\n",
    "import matplotlib.pyplot as plt\n",
    "\n",
    "from pygeocoder import Geocoder\n",
    "from mpl_toolkits.basemap import Basemap\n",
    "\n",
    "%matplotlib inline"
   ]
  },
  {
   "cell_type": "code",
   "execution_count": 2,
   "metadata": {
    "collapsed": true
   },
   "outputs": [],
   "source": [
    "# where this data came from: https://www.transtats.bts.gov/OT_Delay/OT_DelayCause1.asp?pn=1\n",
    "data = pd.read_csv('./project_datasets/682464398_102017_1651_airline_delay_causes.csv')"
   ]
  },
  {
   "cell_type": "code",
   "execution_count": 3,
   "metadata": {},
   "outputs": [
    {
     "data": {
      "text/plain": [
       "Index([u'year', u' month', u'carrier', u'carrier_name', u'airport',\n",
       "       u'airport_name', u'arr_flights', u'arr_del15', u'carrier_ct',\n",
       "       u' weather_ct', u'nas_ct', u'security_ct', u'late_aircraft_ct',\n",
       "       u'arr_cancelled', u'arr_diverted', u' arr_delay', u' carrier_delay',\n",
       "       u'weather_delay', u'nas_delay', u'security_delay',\n",
       "       u'late_aircraft_delay', u'Unnamed: 21'],\n",
       "      dtype='object')"
      ]
     },
     "execution_count": 3,
     "metadata": {},
     "output_type": "execute_result"
    }
   ],
   "source": [
    "data.columns"
   ]
  },
  {
   "cell_type": "code",
   "execution_count": 4,
   "metadata": {
    "collapsed": true
   },
   "outputs": [],
   "source": [
    "data = data.drop('Unnamed: 21', axis=1)"
   ]
  },
  {
   "cell_type": "code",
   "execution_count": 5,
   "metadata": {
    "collapsed": true
   },
   "outputs": [],
   "source": [
    "columns = []\n",
    "for i, col in enumerate(data.columns):\n",
    "    global columns\n",
    "    col = re.sub(r'\\s+', '', col)\n",
    "    columns.append(col)"
   ]
  },
  {
   "cell_type": "code",
   "execution_count": 6,
   "metadata": {},
   "outputs": [
    {
     "data": {
      "text/plain": [
       "Index([u'year', u'month', u'carrier', u'carrier_name', u'airport',\n",
       "       u'airport_name', u'arr_flights', u'arr_del15', u'carrier_ct',\n",
       "       u'weather_ct', u'nas_ct', u'security_ct', u'late_aircraft_ct',\n",
       "       u'arr_cancelled', u'arr_diverted', u'arr_delay', u'carrier_delay',\n",
       "       u'weather_delay', u'nas_delay', u'security_delay',\n",
       "       u'late_aircraft_delay'],\n",
       "      dtype='object')"
      ]
     },
     "execution_count": 6,
     "metadata": {},
     "output_type": "execute_result"
    }
   ],
   "source": [
    "# fix the column index so there are no extraneous spaces... and can use bracket notation or dot notation\n",
    "data.columns = columns\n",
    "data.columns"
   ]
  },
  {
   "cell_type": "code",
   "execution_count": 7,
   "metadata": {
    "collapsed": true
   },
   "outputs": [],
   "source": [
    "data = data.dropna(axis=0)"
   ]
  },
  {
   "cell_type": "code",
   "execution_count": 8,
   "metadata": {
    "scrolled": true
   },
   "outputs": [
    {
     "data": {
      "text/plain": [
       "Los Angeles, CA: Los Angeles International                             121\n",
       "Las Vegas, NV: McCarran International                                  121\n",
       "Portland, OR: Portland International                                   121\n",
       "San Diego, CA: San Diego International                                 121\n",
       "Seattle, WA: Seattle/Tacoma International                              119\n",
       "Phoenix, AZ: Phoenix Sky Harbor International                          113\n",
       "Chicago, IL: Chicago O'Hare International                              110\n",
       "San Francisco, CA: San Francisco International                         110\n",
       "Austin, TX: Austin - Bergstrom International                           110\n",
       "New Orleans, LA: Louis Armstrong New Orleans International             110\n",
       "Washington, DC: Ronald Reagan Washington National                      110\n",
       "Detroit, MI: Detroit Metro Wayne County                                110\n",
       "Philadelphia, PA: Philadelphia International                           109\n",
       "New York, NY: LaGuardia                                                109\n",
       "Denver, CO: Denver International                                       108\n",
       "Washington, DC: Washington Dulles International                        108\n",
       "Boston, MA: Logan International                                        107\n",
       "Orlando, FL: Orlando International                                     106\n",
       "Fort Lauderdale, FL: Fort Lauderdale-Hollywood International            99\n",
       "Minneapolis, MN: Minneapolis-St Paul International                      99\n",
       "Kansas City, MO: Kansas City International                              99\n",
       "Cleveland, OH: Cleveland-Hopkins International                          99\n",
       "Atlanta, GA: Hartsfield-Jackson Atlanta International                   99\n",
       "Dallas/Fort Worth, TX: Dallas/Fort Worth International                  99\n",
       "Raleigh/Durham, NC: Raleigh-Durham International                        96\n",
       "Nashville, TN: Nashville International                                  95\n",
       "Newark, NJ: Newark Liberty International                                94\n",
       "Salt Lake City, UT: Salt Lake City International                        92\n",
       "Baltimore, MD: Baltimore/Washington International Thurgood Marshall     91\n",
       "Fort Myers, FL: Southwest Florida International                         91\n",
       "                                                                      ... \n",
       "Fort Smith, AR: Fort Smith Regional                                     11\n",
       "Elko, NV: Elko Regional                                                 11\n",
       "Valdosta, GA: Valdosta Regional                                         11\n",
       "Bend/Redmond, OR: Roberts Field                                         11\n",
       "Sun Valley/Hailey/Ketchum, ID: Friedman Memorial                        11\n",
       "Brainerd, MN: Brainerd Lakes Regional                                   11\n",
       "Rock Springs, WY: Rock Springs Sweetwater County                        11\n",
       "Santa Maria, CA: Santa Maria Public/Capt. G. Allan Hancock Field        10\n",
       "San Angelo, TX: San Angelo Regional/Mathis Field                         9\n",
       "Wichita Falls, TX: Sheppard AFB/Wichita Falls Municipal                  9\n",
       "Beaumont/Port Arthur, TX: Jack Brooks Regional                           9\n",
       "Joplin, MO: Joplin Regional                                              9\n",
       "Longview, TX: East Texas Regional                                        9\n",
       "St. Augustine, FL: Northeast Florida Regional                            8\n",
       "Bellingham, WA: Bellingham International                                 7\n",
       "Martha's Vineyard, MA: Martha's Vineyard Airport                         6\n",
       "Garden City, KS: Garden City Regional                                    6\n",
       "Nantucket, MA: Nantucket Memorial                                        6\n",
       "Hyannis, MA: Barnstable Municipal-Boardman/Polando Field                 6\n",
       "Abilene, TX: Abilene Regional                                            6\n",
       "Tyler, TX: Tyler Pounds Regional                                         5\n",
       "Grand Island, NE: Central Nebraska Regional                              5\n",
       "West Yellowstone, MT: Yellowstone                                        5\n",
       "Mammoth Lakes, CA: Mammoth Lakes Airport                                 4\n",
       "Dillingham, AK: Dillingham Airport                                       3\n",
       "King Salmon, AK: King Salmon Airport                                     3\n",
       "Gustavus, AK: Gustavus Airport                                           3\n",
       "Punta Gorda, FL: Punta Gorda Airport                                     2\n",
       "Manhattan/Ft. Riley, KS: Manhattan Regional                              1\n",
       "Saipan, TT: Francisco C. Ada Saipan International                        1\n",
       "Name: airport_name, Length: 310, dtype: int64"
      ]
     },
     "execution_count": 8,
     "metadata": {},
     "output_type": "execute_result"
    }
   ],
   "source": [
    "data.airport_name.value_counts()"
   ]
  },
  {
   "cell_type": "code",
   "execution_count": 9,
   "metadata": {
    "scrolled": true
   },
   "outputs": [
    {
     "name": "stdout",
     "output_type": "stream",
     "text": [
      "<class 'pandas.core.frame.DataFrame'>\n",
      "Int64Index: 11173 entries, 0 to 11192\n",
      "Data columns (total 21 columns):\n",
      "year                   11173 non-null int64\n",
      "month                  11173 non-null int64\n",
      "carrier                11173 non-null object\n",
      "carrier_name           11173 non-null object\n",
      "airport                11173 non-null object\n",
      "airport_name           11173 non-null object\n",
      "arr_flights            11173 non-null float64\n",
      "arr_del15              11173 non-null float64\n",
      "carrier_ct             11173 non-null float64\n",
      "weather_ct             11173 non-null float64\n",
      "nas_ct                 11173 non-null float64\n",
      "security_ct            11173 non-null float64\n",
      "late_aircraft_ct       11173 non-null float64\n",
      "arr_cancelled          11173 non-null float64\n",
      "arr_diverted           11173 non-null float64\n",
      "arr_delay              11173 non-null float64\n",
      "carrier_delay          11173 non-null float64\n",
      "weather_delay          11173 non-null float64\n",
      "nas_delay              11173 non-null float64\n",
      "security_delay         11173 non-null float64\n",
      "late_aircraft_delay    11173 non-null float64\n",
      "dtypes: float64(15), int64(2), object(4)\n",
      "memory usage: 1.9+ MB\n"
     ]
    }
   ],
   "source": [
    "data.info()"
   ]
  },
  {
   "cell_type": "code",
   "execution_count": 25,
   "metadata": {
    "scrolled": true
   },
   "outputs": [
    {
     "data": {
      "text/plain": [
       "array(['DFW', 'DTW', 'SEA', 'JFK', 'SJC', 'ORD', 'PHX', 'STL', 'LAX',\n",
       "       'MCO', 'DEN', 'MIA', 'KOA', 'IAH', 'AUS', 'LAS', 'SLC', 'TUS',\n",
       "       'STT', 'BOS', 'FLL', 'SFO', 'OGG', 'TPA', 'SNA', 'OKC', 'HNL',\n",
       "       'PHL', 'LGA', 'RDU', 'DCA', 'RIC', 'ATL', 'LBB', 'CLT', 'ELP',\n",
       "       'SAN', 'BNA', 'JAC', 'SMF', 'EWR', 'IAD', 'LIH', 'SJU', 'ABQ',\n",
       "       'ORF', 'JAX', 'MSY', 'SAT', 'MCI', 'GUC', 'IND', 'PDX', 'BWI',\n",
       "       'MSP', 'MKE', 'TUL', 'ONT', 'RSW', 'RNO', 'DSM', 'MFE', 'PSP',\n",
       "       'OMA', 'EGE', 'PBI', 'SDF', 'PIT', 'FAT', 'DAY', 'STX', 'COS',\n",
       "       'CMH', 'MTJ', 'HDN', 'BDL', 'MEM', 'CLE', 'HOU', 'BOI', 'OAK',\n",
       "       'GEG', 'ANC', 'BUF', 'SYR', 'ALB', 'PVD', 'ROC', 'ILM', 'ICT',\n",
       "       'PWM', 'GSO', 'CHS', 'MDT', 'BHM', 'ADQ', 'BET', 'BRW', 'SCC',\n",
       "       'FAI', 'JNU', 'KTN', 'YAK', 'CDV', 'SIT', 'PSG', 'WRG', 'OME',\n",
       "       'OTZ', 'BUR', 'BLI', 'ADK', 'SWF', 'LGB', 'PSE', 'BQN', 'HPN',\n",
       "       'SAV', 'SRQ', 'BTV', 'ORH', 'DAB', 'CVG', 'BIS', 'AVL', 'GRR',\n",
       "       'FNT', 'MYR', 'JAN', 'BIL', 'FAR', 'PNS', 'AGS', 'GSP', 'LEX',\n",
       "       'DAL', 'ATW', 'GPT', 'MLB', 'BZN', 'CAK', 'CHO', 'MSN', 'EYW',\n",
       "       'TRI', 'LFT', 'ROA', 'ECP', 'VPS', 'XNA', 'EVV', 'AVP', 'MDW',\n",
       "       'HSV', 'FAY', 'LIT', 'TYS', 'TLH', 'MSO', 'CHA', 'CAE', 'SGF',\n",
       "       'PHF', 'FSD', 'MHT', 'GRB', 'PSC', 'SHV', 'GNV', 'ABE', 'BMI',\n",
       "       'CRW', 'MOB', 'FCA', 'MEI', 'PIB', 'FSM', 'BTR', 'BRO', 'BPT',\n",
       "       'LAW', 'SAF', 'AEX', 'ACT', 'TYR', 'SPI', 'GRK', 'TXK', 'LRD',\n",
       "       'ROW', 'JLN', 'PIA', 'MLU', 'MAF', 'AZO', 'MLI', 'TVC', 'ERI',\n",
       "       'CID', 'CLL', 'LAN', 'HOB', 'LCH', 'AMA', 'SBN', 'LNK', 'CRP',\n",
       "       'HRL', 'SCE', 'GJT', 'CWA', 'OAJ', 'ELM', 'VLD', 'MGM', 'BGR',\n",
       "       'RST', 'RAP', 'GTR', 'CSG', 'BQK', 'DHN', 'EWN', 'ABY', 'MBS',\n",
       "       'ISN', 'TTN', 'UST', 'ITO', 'LBE', 'ACY', 'PPG', 'IAG', 'YUM',\n",
       "       'DLH', 'SBA', 'ASE', 'DRO', 'IDA', 'BFL', 'LSE', 'MOT', 'FLG',\n",
       "       'GFK', 'GTF', 'FWA', 'MRY', 'SUN', 'TWF', 'CPR', 'PBG', 'SBP',\n",
       "       'RKS', 'CMX', 'MMH', 'PLN', 'EKO', 'GCC', 'MFR', 'SMX', 'EUG',\n",
       "       'SGU', 'HLN', 'RDM', 'ACV', 'EAU', 'DVL', 'JMS', 'MKG', 'HYS',\n",
       "       'PAH', 'COD', 'ABR', 'ITH', 'APN', 'ESC', 'BJI', 'MQT', 'CIU',\n",
       "       'BGM', 'RHI', 'LWS', 'IMT', 'BRD', 'INL', 'PIH', 'GUM', 'HIB',\n",
       "       'BTM', 'CDC', 'OTH', 'RDD', 'ISP', 'LAR', 'SPS', 'SJT', 'GGG',\n",
       "       'ACK', 'MVY', 'HYA', 'WYS', 'GST', 'AKN', 'DLG', 'GCK', 'MHK',\n",
       "       'ABI', 'GRI', 'PGD', 'SPN'], dtype=object)"
      ]
     },
     "execution_count": 25,
     "metadata": {},
     "output_type": "execute_result"
    }
   ],
   "source": [
    "full_airports = data.airport.unique()\n",
    "# full_airports = data.airport_name.unique()\n",
    "full_airports"
   ]
  },
  {
   "cell_type": "markdown",
   "metadata": {},
   "source": [
    "Replace all the double quotes with single quotes makes the data easier to parse"
   ]
  },
  {
   "cell_type": "code",
   "execution_count": 26,
   "metadata": {},
   "outputs": [
    {
     "data": {
      "text/plain": [
       "['DFW',\n",
       " 'DTW',\n",
       " 'SEA',\n",
       " 'JFK',\n",
       " 'SJC',\n",
       " 'ORD',\n",
       " 'PHX',\n",
       " 'STL',\n",
       " 'LAX',\n",
       " 'MCO',\n",
       " 'DEN',\n",
       " 'MIA',\n",
       " 'KOA',\n",
       " 'IAH',\n",
       " 'AUS',\n",
       " 'LAS',\n",
       " 'SLC',\n",
       " 'TUS',\n",
       " 'STT',\n",
       " 'BOS',\n",
       " 'FLL',\n",
       " 'SFO',\n",
       " 'OGG',\n",
       " 'TPA',\n",
       " 'SNA',\n",
       " 'OKC',\n",
       " 'HNL',\n",
       " 'PHL',\n",
       " 'LGA',\n",
       " 'RDU',\n",
       " 'DCA',\n",
       " 'RIC',\n",
       " 'ATL',\n",
       " 'LBB',\n",
       " 'CLT',\n",
       " 'ELP',\n",
       " 'SAN',\n",
       " 'BNA',\n",
       " 'JAC',\n",
       " 'SMF',\n",
       " 'EWR',\n",
       " 'IAD',\n",
       " 'LIH',\n",
       " 'SJU',\n",
       " 'ABQ',\n",
       " 'ORF',\n",
       " 'JAX',\n",
       " 'MSY',\n",
       " 'SAT',\n",
       " 'MCI',\n",
       " 'GUC',\n",
       " 'IND',\n",
       " 'PDX',\n",
       " 'BWI',\n",
       " 'MSP',\n",
       " 'MKE',\n",
       " 'TUL',\n",
       " 'ONT',\n",
       " 'RSW',\n",
       " 'RNO',\n",
       " 'DSM',\n",
       " 'MFE',\n",
       " 'PSP',\n",
       " 'OMA',\n",
       " 'EGE',\n",
       " 'PBI',\n",
       " 'SDF',\n",
       " 'PIT',\n",
       " 'FAT',\n",
       " 'DAY',\n",
       " 'STX',\n",
       " 'COS',\n",
       " 'CMH',\n",
       " 'MTJ',\n",
       " 'HDN',\n",
       " 'BDL',\n",
       " 'MEM',\n",
       " 'CLE',\n",
       " 'HOU',\n",
       " 'BOI',\n",
       " 'OAK',\n",
       " 'GEG',\n",
       " 'ANC',\n",
       " 'BUF',\n",
       " 'SYR',\n",
       " 'ALB',\n",
       " 'PVD',\n",
       " 'ROC',\n",
       " 'ILM',\n",
       " 'ICT',\n",
       " 'PWM',\n",
       " 'GSO',\n",
       " 'CHS',\n",
       " 'MDT',\n",
       " 'BHM',\n",
       " 'ADQ',\n",
       " 'BET',\n",
       " 'BRW',\n",
       " 'SCC',\n",
       " 'FAI',\n",
       " 'JNU',\n",
       " 'KTN',\n",
       " 'YAK',\n",
       " 'CDV',\n",
       " 'SIT',\n",
       " 'PSG',\n",
       " 'WRG',\n",
       " 'OME',\n",
       " 'OTZ',\n",
       " 'BUR',\n",
       " 'BLI',\n",
       " 'ADK',\n",
       " 'SWF',\n",
       " 'LGB',\n",
       " 'PSE',\n",
       " 'BQN',\n",
       " 'HPN',\n",
       " 'SAV',\n",
       " 'SRQ',\n",
       " 'BTV',\n",
       " 'ORH',\n",
       " 'DAB',\n",
       " 'CVG',\n",
       " 'BIS',\n",
       " 'AVL',\n",
       " 'GRR',\n",
       " 'FNT',\n",
       " 'MYR',\n",
       " 'JAN',\n",
       " 'BIL',\n",
       " 'FAR',\n",
       " 'PNS',\n",
       " 'AGS',\n",
       " 'GSP',\n",
       " 'LEX',\n",
       " 'DAL',\n",
       " 'ATW',\n",
       " 'GPT',\n",
       " 'MLB',\n",
       " 'BZN',\n",
       " 'CAK',\n",
       " 'CHO',\n",
       " 'MSN',\n",
       " 'EYW',\n",
       " 'TRI',\n",
       " 'LFT',\n",
       " 'ROA',\n",
       " 'ECP',\n",
       " 'VPS',\n",
       " 'XNA',\n",
       " 'EVV',\n",
       " 'AVP',\n",
       " 'MDW',\n",
       " 'HSV',\n",
       " 'FAY',\n",
       " 'LIT',\n",
       " 'TYS',\n",
       " 'TLH',\n",
       " 'MSO',\n",
       " 'CHA',\n",
       " 'CAE',\n",
       " 'SGF',\n",
       " 'PHF',\n",
       " 'FSD',\n",
       " 'MHT',\n",
       " 'GRB',\n",
       " 'PSC',\n",
       " 'SHV',\n",
       " 'GNV',\n",
       " 'ABE',\n",
       " 'BMI',\n",
       " 'CRW',\n",
       " 'MOB',\n",
       " 'FCA',\n",
       " 'MEI',\n",
       " 'PIB',\n",
       " 'FSM',\n",
       " 'BTR',\n",
       " 'BRO',\n",
       " 'BPT',\n",
       " 'LAW',\n",
       " 'SAF',\n",
       " 'AEX',\n",
       " 'ACT',\n",
       " 'TYR',\n",
       " 'SPI',\n",
       " 'GRK',\n",
       " 'TXK',\n",
       " 'LRD',\n",
       " 'ROW',\n",
       " 'JLN',\n",
       " 'PIA',\n",
       " 'MLU',\n",
       " 'MAF',\n",
       " 'AZO',\n",
       " 'MLI',\n",
       " 'TVC',\n",
       " 'ERI',\n",
       " 'CID',\n",
       " 'CLL',\n",
       " 'LAN',\n",
       " 'HOB',\n",
       " 'LCH',\n",
       " 'AMA',\n",
       " 'SBN',\n",
       " 'LNK',\n",
       " 'CRP',\n",
       " 'HRL',\n",
       " 'SCE',\n",
       " 'GJT',\n",
       " 'CWA',\n",
       " 'OAJ',\n",
       " 'ELM',\n",
       " 'VLD',\n",
       " 'MGM',\n",
       " 'BGR',\n",
       " 'RST',\n",
       " 'RAP',\n",
       " 'GTR',\n",
       " 'CSG',\n",
       " 'BQK',\n",
       " 'DHN',\n",
       " 'EWN',\n",
       " 'ABY',\n",
       " 'MBS',\n",
       " 'ISN',\n",
       " 'TTN',\n",
       " 'UST',\n",
       " 'ITO',\n",
       " 'LBE',\n",
       " 'ACY',\n",
       " 'PPG',\n",
       " 'IAG',\n",
       " 'YUM',\n",
       " 'DLH',\n",
       " 'SBA',\n",
       " 'ASE',\n",
       " 'DRO',\n",
       " 'IDA',\n",
       " 'BFL',\n",
       " 'LSE',\n",
       " 'MOT',\n",
       " 'FLG',\n",
       " 'GFK',\n",
       " 'GTF',\n",
       " 'FWA',\n",
       " 'MRY',\n",
       " 'SUN',\n",
       " 'TWF',\n",
       " 'CPR',\n",
       " 'PBG',\n",
       " 'SBP',\n",
       " 'RKS',\n",
       " 'CMX',\n",
       " 'MMH',\n",
       " 'PLN',\n",
       " 'EKO',\n",
       " 'GCC',\n",
       " 'MFR',\n",
       " 'SMX',\n",
       " 'EUG',\n",
       " 'SGU',\n",
       " 'HLN',\n",
       " 'RDM',\n",
       " 'ACV',\n",
       " 'EAU',\n",
       " 'DVL',\n",
       " 'JMS',\n",
       " 'MKG',\n",
       " 'HYS',\n",
       " 'PAH',\n",
       " 'COD',\n",
       " 'ABR',\n",
       " 'ITH',\n",
       " 'APN',\n",
       " 'ESC',\n",
       " 'BJI',\n",
       " 'MQT',\n",
       " 'CIU',\n",
       " 'BGM',\n",
       " 'RHI',\n",
       " 'LWS',\n",
       " 'IMT',\n",
       " 'BRD',\n",
       " 'INL',\n",
       " 'PIH',\n",
       " 'GUM',\n",
       " 'HIB',\n",
       " 'BTM',\n",
       " 'CDC',\n",
       " 'OTH',\n",
       " 'RDD',\n",
       " 'ISP',\n",
       " 'LAR',\n",
       " 'SPS',\n",
       " 'SJT',\n",
       " 'GGG',\n",
       " 'ACK',\n",
       " 'MVY',\n",
       " 'HYA',\n",
       " 'WYS',\n",
       " 'GST',\n",
       " 'AKN',\n",
       " 'DLG',\n",
       " 'GCK',\n",
       " 'MHK',\n",
       " 'ABI',\n",
       " 'GRI',\n",
       " 'PGD',\n",
       " 'SPN']"
      ]
     },
     "execution_count": 26,
     "metadata": {},
     "output_type": "execute_result"
    }
   ],
   "source": [
    "full_airports_good = []\n",
    "for good_string in full_airports:\n",
    "    good_string = good_string.replace(\"\\\"\", '\\'')\n",
    "    full_airports_good.append(good_string)\n",
    "full_airports_good"
   ]
  },
  {
   "cell_type": "markdown",
   "metadata": {},
   "source": [
    "We need all the unique airports so we can loop through them and get their geolocation"
   ]
  },
  {
   "cell_type": "code",
   "execution_count": 27,
   "metadata": {},
   "outputs": [
    {
     "data": {
      "text/plain": [
       "array(['Dallas/Fort Worth, TX: Dallas/Fort Worth International',\n",
       "       'Detroit, MI: Detroit Metro Wayne County',\n",
       "       'Seattle, WA: Seattle/Tacoma International',\n",
       "       'New York, NY: John F. Kennedy International',\n",
       "       'San Jose, CA: Norman Y. Mineta San Jose International',\n",
       "       \"Chicago, IL: Chicago O'Hare International\",\n",
       "       'Phoenix, AZ: Phoenix Sky Harbor International',\n",
       "       'St. Louis, MO: St Louis Lambert International',\n",
       "       'Los Angeles, CA: Los Angeles International',\n",
       "       'Orlando, FL: Orlando International'], dtype=object)"
      ]
     },
     "execution_count": 27,
     "metadata": {},
     "output_type": "execute_result"
    }
   ],
   "source": [
    "airports = data.airport_name.unique()\n",
    "airports[0:10]"
   ]
  },
  {
   "cell_type": "markdown",
   "metadata": {},
   "source": [
    "This is the main function that gets the airport abbreviation, its name and geolocation"
   ]
  },
  {
   "cell_type": "code",
   "execution_count": 28,
   "metadata": {
    "collapsed": true
   },
   "outputs": [],
   "source": [
    "def get_airport_code(airport_name):\n",
    "    \"\"\"function takes in a loosely typed name of city and or airport and \n",
    "    returns the airports' three digit code, full name, and coordinates\n",
    "    It's good to specify the airport if a city has two, such as Dallas Love Field\n",
    "    and Dallas Fort Worth \"\"\"\n",
    "    g = Geocoder.geocode(airport_name)\n",
    "    proto_code = g.formatted_address.encode('utf-8')    \n",
    "    airport_code = re.search('\\(([^)]+)', proto_code).group(1)\n",
    "    return [airport_code, str(g.airport), g.coordinates]\n",
    "#     return [airport_code, g.coordinates]"
   ]
  },
  {
   "cell_type": "code",
   "execution_count": 29,
   "metadata": {
    "scrolled": true
   },
   "outputs": [
    {
     "name": "stdout",
     "output_type": "stream",
     "text": [
      "['DFW', 'Dallas/Fort Worth International Airport', (32.8998091, -97.0403352)]\n",
      "['DTW', 'Detroit Metropolitan Wayne County Airport', (42.2161722, -83.3553842)]\n",
      "SEA\n",
      "['JFK', 'John F. Kennedy International Airport', (40.6413111, -73.77813909999999)]\n",
      "['SJC', 'Norman Y. Mineta San Jose International Airport', (37.3639472, -121.9289375)]\n",
      "['ORD', \"O'Hare International Airport\", (41.9741625, -87.9073214)]\n",
      "['PHX', 'Phoenix Sky Harbor International Airport', (33.4372686, -112.0077881)]\n",
      "STL\n",
      "['LAX', 'Los Angeles International Airport', (33.9415889, -118.40853)]\n",
      "['MCO', 'Orlando International Airport', (28.4311577, -81.308083)]\n"
     ]
    }
   ],
   "source": [
    "for full_port in full_airports_good[0:10]:\n",
    "    try:\n",
    "        print (get_airport_code(full_port))\n",
    "    except:\n",
    "        print full_port\n",
    "#         full_port =  full_port.split(' ')[0]        \n",
    "#         full_port = full_port.rstrip(',')\n",
    "#         print get_airport_code(ppp + 'Airport')"
   ]
  },
  {
   "cell_type": "code",
   "execution_count": 30,
   "metadata": {
    "collapsed": true
   },
   "outputs": [],
   "source": [
    "short1 = full_airports_good[0:10]"
   ]
  },
  {
   "cell_type": "code",
   "execution_count": 31,
   "metadata": {
    "scrolled": true
   },
   "outputs": [
    {
     "name": "stdout",
     "output_type": "stream",
     "text": [
      "['SEA', 'Seattle-Tacoma International Airport', (47.4502499, -122.3088165)]\n",
      "['STL', 'St. Louis Lambert International Airport', (38.7503222, -90.37545209999999)]\n"
     ]
    }
   ],
   "source": [
    "for full_port in short1:\n",
    "    try:\n",
    "        get_airport_code(full_port)\n",
    "    except:\n",
    "        ppp = full_port\n",
    "        print get_airport_code(ppp + 'Airport')"
   ]
  },
  {
   "cell_type": "code",
   "execution_count": 17,
   "metadata": {},
   "outputs": [
    {
     "name": "stdout",
     "output_type": "stream",
     "text": [
      "['DFW', 'Dallas/Fort Worth International Airport', (32.8998091, -97.0403352)]\n",
      "['DTW', 'Detroit Metropolitan Wayne County Airport', (42.2161722, -83.3553842)]\n",
      "['SEA', 'Seattle-Tacoma International Airport', (47.4502499, -122.3088165)]\n",
      "['JFK', 'John F. Kennedy International Airport', (40.6413111, -73.77813909999999)]\n",
      "['SJC', 'Norman Y. Mineta San Jose International Airport', (37.3639472, -121.9289375)]\n",
      "['ORD', \"O'Hare International Airport\", (41.9741625, -87.9073214)]\n",
      "['PHX', 'Phoenix Sky Harbor International Airport', (33.4372686, -112.0077881)]\n",
      "['STL', 'St. Louis Lambert International Airport', (38.7503222, -90.37545209999999)]\n",
      "['LAX', 'Los Angeles International Airport', (33.9415889, -118.40853)]\n",
      "['MCO', 'Orlando International Airport', (28.4311577, -81.308083)]\n",
      "['DEN', 'Denver International Airport', (39.8560963, -104.6737376)]\n",
      "['MIA', 'Miami International Airport', (25.795865, -80.2870457)]\n",
      "['KOA', 'Kona International Airport', (19.736916, -156.0429246)]\n",
      "['IAH', 'George Bush Intercontinental Airport', (29.9902199, -95.3367827)]\n",
      "['AUS', 'Austin-Bergstrom International Airport', (30.194085, -97.67108859999999)]\n",
      "['LAS', 'McCarran International Airport', (36.0839998, -115.1537389)]\n",
      "['SLC', 'Salt Lake City International Airport', (40.7899404, -111.9790706)]\n",
      "['TUS', 'Tucson International Airport', (32.1145102, -110.9392269)]\n"
     ]
    },
    {
     "ename": "AttributeError",
     "evalue": "'NoneType' object has no attribute 'group'",
     "output_type": "error",
     "traceback": [
      "\u001b[0;31m---------------------------------------------------------------------------\u001b[0m",
      "\u001b[0;31mAttributeError\u001b[0m                            Traceback (most recent call last)",
      "\u001b[0;32m<ipython-input-17-0c0d17ba4707>\u001b[0m in \u001b[0;36m<module>\u001b[0;34m()\u001b[0m\n\u001b[1;32m      5\u001b[0m         \u001b[0merror_string\u001b[0m \u001b[0;34m=\u001b[0m  \u001b[0mfull_port\u001b[0m\u001b[0;34m.\u001b[0m\u001b[0msplit\u001b[0m\u001b[0;34m(\u001b[0m\u001b[0;34m','\u001b[0m\u001b[0;34m)\u001b[0m\u001b[0;34m[\u001b[0m\u001b[0;36m0\u001b[0m\u001b[0;34m]\u001b[0m\u001b[0;34m\u001b[0m\u001b[0m\n\u001b[1;32m      6\u001b[0m         \u001b[0merror_string\u001b[0m \u001b[0;34m=\u001b[0m \u001b[0merror_string\u001b[0m\u001b[0;34m.\u001b[0m\u001b[0mrstrip\u001b[0m\u001b[0;34m(\u001b[0m\u001b[0;34m','\u001b[0m\u001b[0;34m)\u001b[0m\u001b[0;34m\u001b[0m\u001b[0m\n\u001b[0;32m----> 7\u001b[0;31m         \u001b[0;32mprint\u001b[0m \u001b[0mget_airport_code\u001b[0m\u001b[0;34m(\u001b[0m\u001b[0merror_string\u001b[0m \u001b[0;34m+\u001b[0m \u001b[0;34m'Airport'\u001b[0m\u001b[0;34m)\u001b[0m\u001b[0;34m\u001b[0m\u001b[0m\n\u001b[0m",
      "\u001b[0;32m<ipython-input-13-9777293384e7>\u001b[0m in \u001b[0;36mget_airport_code\u001b[0;34m(airport_name)\u001b[0m\n\u001b[1;32m      6\u001b[0m     \u001b[0mg\u001b[0m \u001b[0;34m=\u001b[0m \u001b[0mGeocoder\u001b[0m\u001b[0;34m.\u001b[0m\u001b[0mgeocode\u001b[0m\u001b[0;34m(\u001b[0m\u001b[0mairport_name\u001b[0m\u001b[0;34m)\u001b[0m\u001b[0;34m\u001b[0m\u001b[0m\n\u001b[1;32m      7\u001b[0m     \u001b[0mproto_code\u001b[0m \u001b[0;34m=\u001b[0m \u001b[0mg\u001b[0m\u001b[0;34m.\u001b[0m\u001b[0mformatted_address\u001b[0m\u001b[0;34m.\u001b[0m\u001b[0mencode\u001b[0m\u001b[0;34m(\u001b[0m\u001b[0;34m'utf-8'\u001b[0m\u001b[0;34m)\u001b[0m\u001b[0;34m\u001b[0m\u001b[0m\n\u001b[0;32m----> 8\u001b[0;31m     \u001b[0mairport_code\u001b[0m \u001b[0;34m=\u001b[0m \u001b[0mre\u001b[0m\u001b[0;34m.\u001b[0m\u001b[0msearch\u001b[0m\u001b[0;34m(\u001b[0m\u001b[0;34m'\\(([^)]+)'\u001b[0m\u001b[0;34m,\u001b[0m \u001b[0mproto_code\u001b[0m\u001b[0;34m)\u001b[0m\u001b[0;34m.\u001b[0m\u001b[0mgroup\u001b[0m\u001b[0;34m(\u001b[0m\u001b[0;36m1\u001b[0m\u001b[0;34m)\u001b[0m\u001b[0;34m\u001b[0m\u001b[0m\n\u001b[0m\u001b[1;32m      9\u001b[0m     \u001b[0;32mreturn\u001b[0m \u001b[0;34m[\u001b[0m\u001b[0mairport_code\u001b[0m\u001b[0;34m,\u001b[0m \u001b[0mstr\u001b[0m\u001b[0;34m(\u001b[0m\u001b[0mg\u001b[0m\u001b[0;34m.\u001b[0m\u001b[0mairport\u001b[0m\u001b[0;34m)\u001b[0m\u001b[0;34m,\u001b[0m \u001b[0mg\u001b[0m\u001b[0;34m.\u001b[0m\u001b[0mcoordinates\u001b[0m\u001b[0;34m]\u001b[0m\u001b[0;34m\u001b[0m\u001b[0m\n\u001b[1;32m     10\u001b[0m \u001b[0;31m#     return [airport_code, g.coordinates]\u001b[0m\u001b[0;34m\u001b[0m\u001b[0;34m\u001b[0m\u001b[0m\n",
      "\u001b[0;31mAttributeError\u001b[0m: 'NoneType' object has no attribute 'group'"
     ]
    }
   ],
   "source": [
    "for full_port in full_airports_good:\n",
    "    try:\n",
    "        print (get_airport_code(full_port))\n",
    "    except:\n",
    "        error_string =  full_port.split(',')[0]\n",
    "#         error_string = error_string.rstrip(',')\n",
    "        print get_airport_code(error_string + 'Airport')"
   ]
  },
  {
   "cell_type": "code",
   "execution_count": 18,
   "metadata": {},
   "outputs": [
    {
     "ename": "AttributeError",
     "evalue": "'NoneType' object has no attribute 'group'",
     "output_type": "error",
     "traceback": [
      "\u001b[0;31m---------------------------------------------------------------------------\u001b[0m",
      "\u001b[0;31mAttributeError\u001b[0m                            Traceback (most recent call last)",
      "\u001b[0;32m<ipython-input-18-cca45e29d781>\u001b[0m in \u001b[0;36m<module>\u001b[0;34m()\u001b[0m\n\u001b[1;32m      1\u001b[0m \u001b[0;32mfor\u001b[0m \u001b[0mfull_port\u001b[0m \u001b[0;32min\u001b[0m \u001b[0mfull_airports_good\u001b[0m\u001b[0;34m:\u001b[0m\u001b[0;34m\u001b[0m\u001b[0m\n\u001b[0;32m----> 2\u001b[0;31m     \u001b[0mget_airport_code\u001b[0m\u001b[0;34m(\u001b[0m\u001b[0mfull_port\u001b[0m\u001b[0;34m)\u001b[0m\u001b[0;34m\u001b[0m\u001b[0m\n\u001b[0m",
      "\u001b[0;32m<ipython-input-13-9777293384e7>\u001b[0m in \u001b[0;36mget_airport_code\u001b[0;34m(airport_name)\u001b[0m\n\u001b[1;32m      6\u001b[0m     \u001b[0mg\u001b[0m \u001b[0;34m=\u001b[0m \u001b[0mGeocoder\u001b[0m\u001b[0;34m.\u001b[0m\u001b[0mgeocode\u001b[0m\u001b[0;34m(\u001b[0m\u001b[0mairport_name\u001b[0m\u001b[0;34m)\u001b[0m\u001b[0;34m\u001b[0m\u001b[0m\n\u001b[1;32m      7\u001b[0m     \u001b[0mproto_code\u001b[0m \u001b[0;34m=\u001b[0m \u001b[0mg\u001b[0m\u001b[0;34m.\u001b[0m\u001b[0mformatted_address\u001b[0m\u001b[0;34m.\u001b[0m\u001b[0mencode\u001b[0m\u001b[0;34m(\u001b[0m\u001b[0;34m'utf-8'\u001b[0m\u001b[0;34m)\u001b[0m\u001b[0;34m\u001b[0m\u001b[0m\n\u001b[0;32m----> 8\u001b[0;31m     \u001b[0mairport_code\u001b[0m \u001b[0;34m=\u001b[0m \u001b[0mre\u001b[0m\u001b[0;34m.\u001b[0m\u001b[0msearch\u001b[0m\u001b[0;34m(\u001b[0m\u001b[0;34m'\\(([^)]+)'\u001b[0m\u001b[0;34m,\u001b[0m \u001b[0mproto_code\u001b[0m\u001b[0;34m)\u001b[0m\u001b[0;34m.\u001b[0m\u001b[0mgroup\u001b[0m\u001b[0;34m(\u001b[0m\u001b[0;36m1\u001b[0m\u001b[0;34m)\u001b[0m\u001b[0;34m\u001b[0m\u001b[0m\n\u001b[0m\u001b[1;32m      9\u001b[0m     \u001b[0;32mreturn\u001b[0m \u001b[0;34m[\u001b[0m\u001b[0mairport_code\u001b[0m\u001b[0;34m,\u001b[0m \u001b[0mstr\u001b[0m\u001b[0;34m(\u001b[0m\u001b[0mg\u001b[0m\u001b[0;34m.\u001b[0m\u001b[0mairport\u001b[0m\u001b[0;34m)\u001b[0m\u001b[0;34m,\u001b[0m \u001b[0mg\u001b[0m\u001b[0;34m.\u001b[0m\u001b[0mcoordinates\u001b[0m\u001b[0;34m]\u001b[0m\u001b[0;34m\u001b[0m\u001b[0m\n\u001b[1;32m     10\u001b[0m \u001b[0;31m#     return [airport_code, g.coordinates]\u001b[0m\u001b[0;34m\u001b[0m\u001b[0;34m\u001b[0m\u001b[0m\n",
      "\u001b[0;31mAttributeError\u001b[0m: 'NoneType' object has no attribute 'group'"
     ]
    }
   ],
   "source": [
    "for full_port in full_airports_good:\n",
    "    get_airport_code(full_port)"
   ]
  },
  {
   "cell_type": "code",
   "execution_count": 44,
   "metadata": {
    "collapsed": true
   },
   "outputs": [],
   "source": [
    "def get_airport_code2(airport_name):\n",
    "    \"\"\"function takes in a loosely typed name of city and or airport and \n",
    "    returns the airports' three digit code, full name, and coordinates\n",
    "    It's good to specify the airport if a city has two, such as Dallas Love Field\n",
    "    and Dallas Fort Worth \"\"\"\n",
    "    g = Geocoder.geocode(airport_name)\n",
    "    proto_code = g.formatted_address.encode('utf-8')    \n",
    "    airport_code = proto_code[proto_code.find(\"(\")+1:proto_code.find(\")\")]\n",
    "    return [airport_code, proto_code, g.coordinates]"
   ]
  },
  {
   "cell_type": "code",
   "execution_count": 45,
   "metadata": {},
   "outputs": [
    {
     "data": {
      "text/plain": [
       "['Eagle County Regional Airport, 217 Eldon Wilson Rd, Gypsum, CO 81637, US',\n",
       " 'Eagle County Regional Airport, 217 Eldon Wilson Rd, Gypsum, CO 81637, USA',\n",
       " (39.6401478, -106.9136058)]"
      ]
     },
     "execution_count": 45,
     "metadata": {},
     "output_type": "execute_result"
    }
   ],
   "source": [
    "get_airport_code2('EGE')"
   ]
  },
  {
   "cell_type": "code",
   "execution_count": 24,
   "metadata": {},
   "outputs": [
    {
     "name": "stdout",
     "output_type": "stream",
     "text": [
      "['DFW International Airport (DFW), 2400 Aviation Drive North, DFW Airport, TX 75261, USA', (32.8998091, -97.0403352)]\n",
      "['Detroit Metro Airport, Detroit, MI 48242, USA', (42.2253146, -83.3477632)]\n",
      "['Seattle-Tacoma International Airport (SEA), 17801 International Blvd, Seattle, WA 98158, USA', (47.4502499, -122.3088165)]\n",
      "['John F. Kennedy International Airport (JFK), Queens, NY 11430, USA', (40.6413111, -73.77813909999999)]\n",
      "['Norman Y. Mineta San Jose International Airport (SJC), 1701 Airport Blvd, San Jose, CA 95110, USA', (37.3639472, -121.9289375)]\n",
      "[\"O'Hare International Airport (ORD), 10000 W O'Hare Ave, Chicago, IL 60666, USA\", (41.9741625, -87.9073214)]\n",
      "['Phoenix Sky Harbor International Airport (PHX), 3400 E Sky Harbor Blvd, Phoenix, AZ 85034, USA', (33.4372686, -112.0077881)]\n",
      "['St. Louis Lambert International Airport (STL), 10701 Lambert International Blvd, St. Louis, MO 63145, USA', (38.7503222, -90.37545209999999)]\n",
      "['Los Angeles International Airport (LAX), 1 World Way, Los Angeles, CA 90045, USA', (33.9415889, -118.40853)]\n",
      "['Orlando International Airport (MCO), 1 Jeff Fuqua Blvd, Orlando, FL 32827, USA', (28.4311577, -81.308083)]\n",
      "['Denver International Airport (DEN), 8500 Pe\\xc3\\xb1a Blvd, Denver, CO 80249, USA', (39.8560963, -104.6737376)]\n",
      "['Miami International Airport (MIA), 2100 NW 42nd Ave, Miami, FL 33126, USA', (25.795865, -80.2870457)]\n",
      "['Kona International Airport (KOA), 73-200 Kupipi St, Kailua-Kona, HI 96740, USA', (19.736916, -156.0429246)]\n",
      "['George Bush Intercontinental Airport (IAH), 2800 N Terminal Rd, Houston, TX 77032, USA', (29.9902199, -95.3367827)]\n",
      "['Austin-Bergstrom International Airport (AUS), 3600 Presidential Blvd, Austin, TX 78719, USA', (30.194085, -97.67108859999999)]\n",
      "['McCarran International Airport (LAS), 5757 Wayne Newton Blvd, Las Vegas, NV 89119, USA', (36.0839998, -115.1537389)]\n",
      "['Salt Lake City International Airport (SLC), 776 N Terminal Dr, Salt Lake City, UT 84122, USA', (40.7899404, -111.9790706)]\n",
      "['Tucson International Airport (TUS), 7250 S Tucson Blvd, Tucson, AZ 85756, USA', (32.1145102, -110.9392269)]\n",
      "['Cyril E. King Airport, Airport Rd, Charlotte Amalie West, St Thomas 00802, USVI', (18.3360608, -64.9722726)]\n",
      "['Boston Logan International Airport (BOS), 1 Harborside Dr, Boston, MA 02128, USA', (42.3656132, -71.0095602)]\n",
      "['Fort Lauderdale-Hollywood International Airport (FLL), 100 Terminal Dr, Fort Lauderdale, FL 33315, USA', (26.0742344, -80.1506022)]\n",
      "['San Francisco International Airport (SFO), San Francisco, CA 94128, USA', (37.6213129, -122.3789554)]\n",
      "['Kahului Airport (OGG), 1 Keolani Pl, Kahului, HI 96732, USA', (20.8967924, -156.4329379)]\n",
      "['Tampa International Airport (TPA), 4100 George J Bean Pkwy, Tampa, FL 33607, USA', (27.9834776, -82.5370781)]\n",
      "['John Wayne Airport (SNA), 18601 Airport Way, Santa Ana, CA 92707, USA', (33.6761901, -117.8674759)]\n",
      "['Will Rogers World Airport (OKC), 7100 Terminal Dr, Oklahoma City, OK 73159, USA', (35.393056, -97.600556)]\n",
      "['Honolulu International Airport (HNL), 300 Rodgers Blvd, Honolulu, HI 96819, USA', (21.3245132, -157.9250736)]\n",
      "['Philadelphia International Airport (PHL), 8000 Essington Ave, Philadelphia, PA 19153, USA', (39.8743959, -75.2424229)]\n",
      "['LaGuardia Airport (LGA), Queens, NY 11371, USA', (40.7769271, -73.8739659)]\n",
      "['Raleigh-Durham International Airport (RDU), 2400 John Brantley Blvd, Morrisville, NC 27560, USA', (35.88007899999999, -78.7879963)]\n",
      "['Ronald Reagan Washington National Airport (DCA), Arlington, VA 22202, USA', (38.851242, -77.04023149999999)]\n",
      "['Richmond International Airport (RIC), 1 Richard E Byrd Terminal Dr, Richmond, VA 23250, USA', (37.5065795, -77.3208112)]\n",
      "['Hartsfield-Jackson Atlanta International Airport (ATL), 6000 N Terminal Pkwy, Atlanta, GA 30320, USA', (33.6407282, -84.4277001)]\n",
      "['Lubbock Preston Smith International Airport (LBB), 5401 N Martin L King Blvd, Lubbock, TX 79403, USA', (33.6569253, -101.8216428)]\n",
      "['Charlotte Douglas International Airport (CLT), 5501 Josh Birmingham Pkwy, Charlotte, NC 28208, USA', (35.2144026, -80.9473146)]\n",
      "['4105 Rio Bravo St #100, El Paso, TX 79902, USA', (31.794308, -106.5156949)]\n",
      "['San Diego International Airport (SAN), 3225 N Harbor Dr, San Diego, CA 92101, USA', (32.7338006, -117.1933038)]\n",
      "['Nashville International Airport (BNA), 1 Terminal Dr, Nashville, TN 37214, USA', (36.126317, -86.67737129999999)]\n",
      "['Jackson, WY, USA', (43.4799291, -110.7624282)]\n",
      "['Sacramento International Airport (SMF), 6900 Airport Blvd, Sacramento, CA 95837, USA', (38.6950854, -121.5900648)]\n",
      "['Newark Liberty International Airport (EWR), 3 Brewster Rd, Newark, NJ 07114, USA', (40.6895314, -74.1744624)]\n",
      "['Dulles International Airport (IAD), 1 Saarinen Cir, Dulles, VA 20166, USA', (38.9531162, -77.45653879999999)]\n",
      "['Lihue Airport (LIH), 3901 Mokulele Loop, Lihue, HI 96766, USA', (21.9788489, -159.3437585)]\n",
      "['Aeropuerto Internacional Luis Mu\\xc3\\xb1oz Mar\\xc3\\xadn (SJU), Av. Aeropuerto, Carolina, 00979, Puerto Rico', (18.4375849, -66.00398179999999)]\n",
      "['Albuquerque International Sunport (ABQ), 2200 Sunport Blvd, Albuquerque, NM 87106, USA', (35.0433333, -106.6129085)]\n",
      "['Norfolk International Airport (ORF), 2200 Norview Ave, Norfolk, VA 23518, USA', (36.8956837, -76.2000161)]\n",
      "['Jacksonville International Airport (JAX), 2400 Yankee Clipper Dr, Jacksonville, FL 32218, USA', (30.49407129999999, -81.6879368)]\n",
      "['Louis Armstrong New Orleans International Airport (MSY), 900 Airline Dr, Kenner, LA 70062, USA', (29.9922012, -90.25901119999999)]\n",
      "['1130 Basse Rd, San Antonio, TX 78212, USA', (29.487907, -98.502264)]\n",
      "['International Square, Kansas City, MO 64153, USA', (39.2978369, -94.7159384)]\n",
      "['Gunnison-Crested Butte Regional Airport, 711 W Rio Grande Ave, Gunnison, CO 81230, USA', (38.5372495, -106.9353988)]\n",
      "['Indianapolis International Airport (IND), 7800 Col. H. Weir Cook Memorial Dr, Indianapolis, IN 46241, USA', (39.7168593, -86.2955952)]\n",
      "['1940 N Victory Blvd, Portland, OR 97217, USA', (45.5930851, -122.6881306)]\n",
      "['Baltimore/Washington International Thurgood Marshall Airport (BWI), Baltimore, MD 21240, USA', (39.1774042, -76.6683922)]\n",
      "['Minneapolis\\xe2\\x88\\x92Saint Paul International Airport (MSP), Minnesota, USA', (44.8847554, -93.2222846)]\n",
      "['General Mitchell International Airport (MKE), 5300 S Howell Ave, Milwaukee, WI 53207, USA', (42.9475534, -87.89664599999999)]\n",
      "['Tulsa International Airport (TUL), 7777 E Apache St, Tulsa, OK 74115, USA', (36.198778, -95.88386589999999)]\n",
      "['LA/Ontario International Airport (ONT), Ontario, CA 91761, USA', (34.0559781, -117.598057)]\n",
      "['Southwest Florida International Airport (RSW), 11000 Terminal Access Rd, Fort Myers, FL 33913, USA', (26.5337051, -81.7553083)]\n",
      "['Reno-Tahoe International Airport, 2001 E Plumb Ln, Reno, NV 89502, USA', (39.4995907, -119.7680951)]\n",
      "['Des Moines International Airport (DSM), 5800 Fleur Dr, Des Moines, IA 50321, USA', (41.5341333, -93.6587958)]\n",
      "['McAllen International Airport (MFE), 2500 S Bicentenial Blvd, McAllen, TX 78503, USA', (26.1760425, -98.2391845)]\n",
      "['Palm Springs International Airport (PSP), 3400 E Tahquitz Canyon Way, Palm Springs, CA 92262, USA', (33.8303194, -116.5070468)]\n",
      "['Eppley Airfield (OMA), 4501 Abbott Dr, Omaha, NE 68110, USA', (41.3019109, -95.8952238)]\n",
      "['Eagle County Regional Airport, 217 Eldon Wilson Rd, Gypsum, CO 81637, USA', (39.6401478, -106.9136058)]\n",
      "['Palm Beach International Airport (PBI), 1000 James L Turnage Blvd, West Palm Beach, FL 33415, USA', (26.6857475, -80.0928165)]\n",
      "['Louisville International Airport (SDF), 600 Terminal Dr, Louisville, KY 40209, USA', (38.175662, -85.7369231)]\n",
      "['Pittsburgh International Airport (PIT), 1000 Airport Blvd, Pittsburgh, PA 15231, USA', (40.4957722, -80.24131129999999)]\n",
      "['Fresno Yosemite International Airport (FAT), 5175 E Clinton Way, Fresno, CA 93727, USA', (36.7758493, -119.7181083)]\n",
      "['Dayton International Airport (DAY), 3600 Terminal Dr, Dayton, OH 45377, USA', (39.90252419999999, -84.2217719)]\n",
      "['Henry E. Rohlsen International Airport, Christiansted, St Croix 00820, USVI', (17.701287, -64.805797)]\n",
      "['224 E Kiowa St, Colorado Springs, CO 80903, USA', (38.8354278, -104.820308)]\n",
      "['John Glenn Columbus International Airport (CMH), 4600 International Gateway, Columbus, OH 43219, USA', (39.9999399, -82.8871767)]\n"
     ]
    },
    {
     "name": "stdout",
     "output_type": "stream",
     "text": [
      "['Montrose Regional Airport, 2100 Airport Rd, Montrose, CO 81401, USA', (38.5026155, -107.89635)]\n",
      "['Yampa Valley Regional Airport - HDN, 11005 Co Rd 51A, Hayden, CO 81639, USA', (40.4814042, -107.2166138)]\n",
      "['Bradley International Airport (BDL), Schoephoester Rd, Windsor Locks, CT 06096, USA', (41.9388735, -72.68603139999999)]\n",
      "['Memphis International Airport (MEM), 2491 Winchester Rd, Memphis, TN 38116, USA', (35.0420679, -89.9791729)]\n",
      "['Cleveland Hopkins International Airport (CLE), 5300 Riverside Dr, Cleveland, OH 44135, USA', (41.4124339, -81.84799249999999)]\n",
      "['William P. Hobby Airport (HOU), 7800 Airport Blvd, Houston, TX 77061, USA', (29.6459109, -95.2768859)]\n",
      "['Boise Airport (BOI), 3201 W Airport Way #1000, Boise, ID 83705, USA', (43.5658231, -116.2223159)]\n",
      "['Oakland International Airport (OAK), 1 Airport Dr, Oakland, CA 94621, USA', (37.7125689, -122.2197428)]\n",
      "['Spokane International Airport (GEG), 9000 W Airport Dr, Spokane, WA 99224, USA', (47.62174779999999, -117.534812)]\n",
      "['Ted Stevens Anchorage International Airport (ANC), 5000 W International Airport Rd, Anchorage, AK 99502, USA', (61.17588629999999, -149.9900792)]\n",
      "['Buffalo Niagara International Airport (BUF), 4200 Genesee St, Buffalo, NY 14225, USA', (42.9397059, -78.7295067)]\n",
      "['Syracuse Hancock International Airport (SYR), 1000 Col Eileen Collins Blvd, Syracuse, NY 13212, USA', (43.1139301, -76.1101888)]\n",
      "['Albany International Airport, Albany, NY 12211, USA', (42.74581500000001, -73.8127562)]\n",
      "['T. F. Green Airport (PVD), 2000 Post Rd, Warwick, RI 02886, USA', (41.7245271, -71.4304062)]\n",
      "['Greater Rochester International Airport (ROC), 1200 Brooks Ave, Rochester, NY 14624, USA', (43.1225229, -77.66657219999999)]\n",
      "['Wilmington International Airport (ILM), 1740 Airport Blvd #12, Wilmington, NC 28405, USA', (34.270227, -77.90298779999999)]\n",
      "['Wichita Dwight D. Eisenhower National Airport (ICT), 2277 Eisenhower Airport Pkwy, Wichita, KS 67209, USA', (37.6508529, -97.42869879999999)]\n",
      "['Portland International Jetport (PWM), 1001 Westbrook St, Portland, ME 04102, USA', (43.6464785, -70.30969739999999)]\n",
      "['Piedmont Triad International Airport (GSO), 1000 Ted Johnson Pkwy, Greensboro, NC 27409, USA', (36.1043671, -79.9351805)]\n",
      "['Charleston International Airport (CHS), 5500 International Blvd, Charleston, SC 29418, USA', (32.8942676, -80.038159)]\n",
      "['Harrisburg International Airport (MDT), 1 Terminal Dr, Middletown, PA 17057, USA', (40.1942375, -76.7576672)]\n",
      "['Birmingham-Shuttlesworth International Airport (BHM), 5900 Messer Airport Hwy, Birmingham, AL 35212, USA', (33.5624269, -86.754126)]\n",
      "['Kodiak Airport, 1427 Airport Way, Kodiak, AK 99615, USA', (57.7543255, -152.516958)]\n",
      "['Bethel Airport (BET), Bethel, AK 99559, USA', (60.77972200000001, -161.8377779)]\n",
      "['Wiley Post-Will Rogers Memorial Airport, 1747 Akavak St, Barrow, AK 99723, USA', (71.284909, -156.766362)]\n",
      "['Deadhorse Airport-SCC, 1 Airport Way, Prudhoe Bay, AK 99734, USA', (70.1971592, -148.4610843)]\n",
      "['Fairbanks International Airport (FAI), 6450 Airport Way, Fairbanks, AK 99709, USA', (64.8164163, -147.8635168)]\n",
      "['Juneau International Airport (JNU), 1873 Shell Simmons Dr, Juneau, AK 99801, USA', (58.3579806, -134.5831791)]\n",
      "['Ketchikan International Airport (KTN), 1000 Airport Terminal Building, Ketchikan, AK 99901, USA', (55.3554106, -131.7105604)]\n",
      "['Yakutat Airport-YAK, 1 Airport Rd, Yakutat, AK 99689, USA', (59.5099391, -139.6686314)]\n",
      "['Merle K (Mudhole) Smith Airport (CDV), Cordova, AK 99574, USA', (60.4934354, -145.4757287)]\n",
      "['Sitka Rocky Gutierrez Airport, 605 Airport Rd, Sitka, AK 99835, USA', (57.05271949999999, -135.3651389)]\n",
      "['Petersburg James A Johnson, 1450 Haugen Dr, Petersburg, AK 99833, USA', (56.8016671, -132.9452781)]\n",
      "['Wrangell Airport, 1 Airport Rd, Wrangell, AK 99929, USA', (56.4850237, -132.3795998)]\n",
      "['Nome Airport (OME), 227 Airport Rd, Nome, AK 99762, USA', (64.5099347, -165.4435152)]\n",
      "['Ralph Wien Memorial Airport, 100 Airport Access Rd, Kotzebue, AK 99752, USA', (66.8881057, -162.593391)]\n",
      "['Bob Hope Airport (BUR), 2627 N Hollywood Way, Burbank, CA 91505, USA', (34.1983122, -118.3574036)]\n",
      "['Bellingham International Airport, 4255 Mitchell Way, Bellingham, WA 98226, USA', (48.7941603, -122.5363851)]\n",
      "['Adak, AK, USA', (51.88, -176.6580556)]\n",
      "['Stewart International Airport (SWF), 1180 1st St, New Windsor, NY 12553, USA', (41.4985635, -74.1004385)]\n",
      "['Long Beach Airport, 4100 Donald Douglas Dr, Long Beach, CA 90808, USA', (33.8197834, -118.1508396)]\n",
      "['Mercedita International Airport, PR-1, Ponce, 00715, Puerto Rico', (18.0090714, -66.5625743)]\n",
      "['Calle Rafael Hernandez, Aguadilla Pueblo, Aguadilla 00603, Puerto Rico', (18.4458673, -67.1462307)]\n",
      "['White Plains, NY, USA', (41.03398620000001, -73.7629097)]\n",
      "['Savannah/Hilton Head International Airport (SAV), 400 Airways Ave, Savannah, GA 31408, USA', (32.1294267, -81.2018521)]\n",
      "['Sarasota-Bradenton International Airport (SRQ), 6000 Airport Cir, Sarasota, FL 34243, USA', (27.3955284, -82.55452389999999)]\n",
      "['BTV', 'Burlington International Airport', (44.4706939, -73.1516037)]\n",
      "['Worcester, MA, USA', (42.2625932, -71.8022934)]\n",
      "['Daytona Beach International Airport (DAB), 700 Catalina Dr, Daytona Beach, FL 32114, USA', (29.1807078, -81.0591529)]\n",
      "['Cincinnati/Northern Kentucky International Airport (CVG), 3087 Terminal Dr, Hebron, KY 41048, USA', (39.0532746, -84.6630165)]\n",
      "['Bismarck Airport, 2301 University Dr, Bismarck, ND 58504, USA', (46.7742272, -100.7500281)]\n",
      "['Asheville Regional Airport, 61 Terminal Dr #1, Fletcher, NC 28732, USA', (35.4348962, -82.53785409999999)]\n",
      "['Gerald R. Ford International Airport (GRR), 5500 44th St SE, Grand Rapids, MI 49512, USA', (42.8846633, -85.5248434)]\n",
      "['Bishop International Airport (FNT), 3425 W Bristol Rd, Flint, MI 48507, USA', (42.973423, -83.73889419999999)]\n",
      "['Myrtle Beach International Airport (MYR), 1100 Jetport Rd, Myrtle Beach, SC 29577, USA', (33.6822019, -78.92789429999999)]\n",
      "['Jackson-Medgar Wiley Evers International Airport (JAN), 100 International Dr, Jackson, MS 39208, USA', (32.3122283, -90.0764217)]\n",
      "['Billings Logan International Airport, 1901 Terminal Cir, Billings, MT 59105, USA', (45.8078759, -108.5417843)]\n",
      "['Hector International Airport, 2801 32nd Avenue North, Fargo, ND 58102, USA', (46.9196105, -96.8181729)]\n",
      "['Pensacola International Airport (PNS), 2430 Airport Blvd, Pensacola, FL 32504, USA', (30.4738158, -87.1867049)]\n",
      "['Augusta Regional Airport, 1501 Aviation Way, Augusta, GA 30906, USA', (33.37090810000001, -81.9654659)]\n",
      "['Greenville-Spartanburg International Airport (GSP), 2000 GSP Dr, Greer, SC 29651, USA', (34.8959008, -82.2172338)]\n",
      "['Blue Grass Airport (LEX), 4000 Terminal Dr, Lexington, KY 40510, USA', (38.03776149999999, -84.6026083)]\n",
      "['Dallas Love Field Airport (DAL), 8008 Herb Kelleher Way, Dallas, TX 75235, USA', (32.8481029, -96.8512063)]\n",
      "['Appleton International Airport, W6390 Challenger Dr, Appleton, WI 54914, USA', (44.2602864, -88.51119299999999)]\n",
      "['Gulfport-Biloxi International Airport, 14035 Airport Rd, Gulfport, MS 39503, USA', (30.4131137, -89.0727778)]\n",
      "['Orlando Melbourne International Airport (MLB), 1 Air Terminal Pkwy, Melbourne, FL 32901, USA', (28.1025235, -80.6453675)]\n",
      "['Bozeman Yellowstone International Airport, 850 Gallatin Field Rd, Belgrade, MT 59714, USA', (45.7771988, -111.1532862)]\n",
      "['Akron-Canton Airport (CAK), 5400 Lauby Rd, North Canton, OH 44720, USA', (40.91543069999999, -81.44311259999999)]\n"
     ]
    },
    {
     "ename": "AttributeError",
     "evalue": "'NoneType' object has no attribute 'group'",
     "output_type": "error",
     "traceback": [
      "\u001b[0;31m---------------------------------------------------------------------------\u001b[0m",
      "\u001b[0;31mAttributeError\u001b[0m                            Traceback (most recent call last)",
      "\u001b[0;32m<ipython-input-24-4c3b1f439715>\u001b[0m in \u001b[0;36m<module>\u001b[0;34m()\u001b[0m\n\u001b[1;32m      5\u001b[0m         \u001b[0merror_string\u001b[0m \u001b[0;34m=\u001b[0m  \u001b[0mfull_port\u001b[0m\u001b[0;34m.\u001b[0m\u001b[0msplit\u001b[0m\u001b[0;34m(\u001b[0m\u001b[0;34m','\u001b[0m\u001b[0;34m)\u001b[0m\u001b[0;34m[\u001b[0m\u001b[0;36m0\u001b[0m\u001b[0;34m]\u001b[0m\u001b[0;34m\u001b[0m\u001b[0m\n\u001b[1;32m      6\u001b[0m \u001b[0;31m#         error_string = error_string.rstrip(',')\u001b[0m\u001b[0;34m\u001b[0m\u001b[0;34m\u001b[0m\u001b[0m\n\u001b[0;32m----> 7\u001b[0;31m         \u001b[0;32mprint\u001b[0m \u001b[0mget_airport_code\u001b[0m\u001b[0;34m(\u001b[0m\u001b[0merror_string\u001b[0m \u001b[0;34m+\u001b[0m \u001b[0;34m'Airport'\u001b[0m\u001b[0;34m)\u001b[0m\u001b[0;34m\u001b[0m\u001b[0m\n\u001b[0m",
      "\u001b[0;32m<ipython-input-13-9777293384e7>\u001b[0m in \u001b[0;36mget_airport_code\u001b[0;34m(airport_name)\u001b[0m\n\u001b[1;32m      6\u001b[0m     \u001b[0mg\u001b[0m \u001b[0;34m=\u001b[0m \u001b[0mGeocoder\u001b[0m\u001b[0;34m.\u001b[0m\u001b[0mgeocode\u001b[0m\u001b[0;34m(\u001b[0m\u001b[0mairport_name\u001b[0m\u001b[0;34m)\u001b[0m\u001b[0;34m\u001b[0m\u001b[0m\n\u001b[1;32m      7\u001b[0m     \u001b[0mproto_code\u001b[0m \u001b[0;34m=\u001b[0m \u001b[0mg\u001b[0m\u001b[0;34m.\u001b[0m\u001b[0mformatted_address\u001b[0m\u001b[0;34m.\u001b[0m\u001b[0mencode\u001b[0m\u001b[0;34m(\u001b[0m\u001b[0;34m'utf-8'\u001b[0m\u001b[0;34m)\u001b[0m\u001b[0;34m\u001b[0m\u001b[0m\n\u001b[0;32m----> 8\u001b[0;31m     \u001b[0mairport_code\u001b[0m \u001b[0;34m=\u001b[0m \u001b[0mre\u001b[0m\u001b[0;34m.\u001b[0m\u001b[0msearch\u001b[0m\u001b[0;34m(\u001b[0m\u001b[0;34m'\\(([^)]+)'\u001b[0m\u001b[0;34m,\u001b[0m \u001b[0mproto_code\u001b[0m\u001b[0;34m)\u001b[0m\u001b[0;34m.\u001b[0m\u001b[0mgroup\u001b[0m\u001b[0;34m(\u001b[0m\u001b[0;36m1\u001b[0m\u001b[0;34m)\u001b[0m\u001b[0;34m\u001b[0m\u001b[0m\n\u001b[0m\u001b[1;32m      9\u001b[0m     \u001b[0;32mreturn\u001b[0m \u001b[0;34m[\u001b[0m\u001b[0mairport_code\u001b[0m\u001b[0;34m,\u001b[0m \u001b[0mstr\u001b[0m\u001b[0;34m(\u001b[0m\u001b[0mg\u001b[0m\u001b[0;34m.\u001b[0m\u001b[0mairport\u001b[0m\u001b[0;34m)\u001b[0m\u001b[0;34m,\u001b[0m \u001b[0mg\u001b[0m\u001b[0;34m.\u001b[0m\u001b[0mcoordinates\u001b[0m\u001b[0;34m]\u001b[0m\u001b[0;34m\u001b[0m\u001b[0m\n\u001b[1;32m     10\u001b[0m \u001b[0;31m#     return [airport_code, g.coordinates]\u001b[0m\u001b[0;34m\u001b[0m\u001b[0;34m\u001b[0m\u001b[0m\n",
      "\u001b[0;31mAttributeError\u001b[0m: 'NoneType' object has no attribute 'group'"
     ]
    }
   ],
   "source": [
    "for full_port in full_airports_good:\n",
    "    try:\n",
    "        print (get_airport_code2(full_port))\n",
    "    except:\n",
    "        error_string =  full_port.split(',')[0]\n",
    "#         error_string = error_string.rstrip(',')\n",
    "        print get_airport_code(error_string + 'Airport')"
   ]
  },
  {
   "cell_type": "code",
   "execution_count": null,
   "metadata": {
    "collapsed": true
   },
   "outputs": [],
   "source": []
  }
 ],
 "metadata": {
  "kernelspec": {
   "display_name": "Python 2",
   "language": "python",
   "name": "python2"
  },
  "language_info": {
   "codemirror_mode": {
    "name": "ipython",
    "version": 2
   },
   "file_extension": ".py",
   "mimetype": "text/x-python",
   "name": "python",
   "nbconvert_exporter": "python",
   "pygments_lexer": "ipython2",
   "version": "2.7.13"
  }
 },
 "nbformat": 4,
 "nbformat_minor": 2
}
