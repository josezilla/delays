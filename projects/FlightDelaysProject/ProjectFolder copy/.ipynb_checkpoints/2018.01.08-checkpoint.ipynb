{
 "cells": [
  {
   "cell_type": "markdown",
   "metadata": {},
   "source": [
    "2018.01.08"
   ]
  },
  {
   "cell_type": "code",
   "execution_count": 1,
   "metadata": {
    "collapsed": true
   },
   "outputs": [],
   "source": [
    "import numpy as np\n",
    "import pandas as pd\n",
    "import re\n",
    "import seaborn as sns\n",
    "import matplotlib.pyplot as plt\n",
    "\n",
    "from pygeocoder import Geocoder\n",
    "from mpl_toolkits.basemap import Basemap\n",
    "\n",
    "%matplotlib inline"
   ]
  },
  {
   "cell_type": "markdown",
   "metadata": {},
   "source": [
    "## Import the csv"
   ]
  },
  {
   "cell_type": "code",
   "execution_count": 2,
   "metadata": {
    "collapsed": true
   },
   "outputs": [],
   "source": [
    "# where this data came from: https://www.transtats.bts.gov/OT_Delay/OT_DelayCause1.asp?pn=1\n",
    "orig_data = pd.read_csv('./project_datasets/682464398_102017_1651_airline_delay_causes.csv', skipinitialspace=True)"
   ]
  },
  {
   "cell_type": "markdown",
   "metadata": {},
   "source": [
    "### drop the extraneous column that has no information"
   ]
  },
  {
   "cell_type": "code",
   "execution_count": 3,
   "metadata": {
    "collapsed": true
   },
   "outputs": [],
   "source": [
    "data_right_columns = orig_data.drop('Unnamed: 21', axis=1)"
   ]
  },
  {
   "cell_type": "markdown",
   "metadata": {},
   "source": [
    "Some of the column names have initial space, so we use a regular expression  \n",
    "\n",
    "to make them easier to work with programmatically"
   ]
  },
  {
   "cell_type": "code",
   "execution_count": 4,
   "metadata": {},
   "outputs": [
    {
     "data": {
      "text/plain": [
       "Index([u'year', u'month', u'carrier', u'carrier_name', u'airport',\n",
       "       u'airport_name', u'arr_flights', u'arr_del15', u'carrier_ct',\n",
       "       u'weather_ct', u'nas_ct', u'security_ct', u'late_aircraft_ct',\n",
       "       u'arr_cancelled', u'arr_diverted', u'arr_delay', u'carrier_delay',\n",
       "       u'weather_delay', u'nas_delay', u'security_delay',\n",
       "       u'late_aircraft_delay'],\n",
       "      dtype='object')"
      ]
     },
     "execution_count": 4,
     "metadata": {},
     "output_type": "execute_result"
    }
   ],
   "source": [
    "columns = []\n",
    "for i, col in enumerate(data_right_columns.columns):\n",
    "    global columns\n",
    "    col = re.sub(r'\\s+', '', col)\n",
    "    columns.append(col)\n",
    "data_right_columns.columns = columns\n",
    "data_right_columns.columns"
   ]
  },
  {
   "cell_type": "markdown",
   "metadata": {},
   "source": [
    "these next two cells work with dot notation and bracket notation  \n",
    "\n",
    "... but no need to run them except for sanity check"
   ]
  },
  {
   "cell_type": "code",
   "execution_count": 5,
   "metadata": {
    "collapsed": true
   },
   "outputs": [],
   "source": [
    "# data_right_columns['weather_ct'].head()"
   ]
  },
  {
   "cell_type": "code",
   "execution_count": 6,
   "metadata": {
    "collapsed": true
   },
   "outputs": [],
   "source": [
    "# data_right_columns.weather_ct.head()"
   ]
  },
  {
   "cell_type": "markdown",
   "metadata": {},
   "source": [
    "Dropping the NaN rows as invalid data, it is a small percentage of the entire dataset"
   ]
  },
  {
   "cell_type": "code",
   "execution_count": 7,
   "metadata": {},
   "outputs": [
    {
     "data": {
      "text/plain": [
       "(11193, 21)"
      ]
     },
     "execution_count": 7,
     "metadata": {},
     "output_type": "execute_result"
    }
   ],
   "source": [
    "data_right_columns.shape"
   ]
  },
  {
   "cell_type": "code",
   "execution_count": 8,
   "metadata": {},
   "outputs": [
    {
     "name": "stdout",
     "output_type": "stream",
     "text": [
      "<class 'pandas.core.frame.DataFrame'>\n",
      "RangeIndex: 11193 entries, 0 to 11192\n",
      "Data columns (total 21 columns):\n",
      "year                   11193 non-null int64\n",
      "month                  11193 non-null int64\n",
      "carrier                11193 non-null object\n",
      "carrier_name           11193 non-null object\n",
      "airport                11193 non-null object\n",
      "airport_name           11193 non-null object\n",
      "arr_flights            11175 non-null float64\n",
      "arr_del15              11173 non-null float64\n",
      "carrier_ct             11175 non-null float64\n",
      "weather_ct             11175 non-null float64\n",
      "nas_ct                 11175 non-null float64\n",
      "security_ct            11175 non-null float64\n",
      "late_aircraft_ct       11175 non-null float64\n",
      "arr_cancelled          11175 non-null float64\n",
      "arr_diverted           11175 non-null float64\n",
      "arr_delay              11175 non-null float64\n",
      "carrier_delay          11175 non-null float64\n",
      "weather_delay          11175 non-null float64\n",
      "nas_delay              11175 non-null float64\n",
      "security_delay         11175 non-null float64\n",
      "late_aircraft_delay    11175 non-null float64\n",
      "dtypes: float64(15), int64(2), object(4)\n",
      "memory usage: 1.8+ MB\n"
     ]
    }
   ],
   "source": [
    "data_right_columns.info()"
   ]
  },
  {
   "cell_type": "code",
   "execution_count": 9,
   "metadata": {},
   "outputs": [
    {
     "data": {
      "text/plain": [
       "0.001786831055123738"
      ]
     },
     "execution_count": 9,
     "metadata": {},
     "output_type": "execute_result"
    }
   ],
   "source": [
    "(11193 - 11173) / 11193.0"
   ]
  },
  {
   "cell_type": "code",
   "execution_count": 10,
   "metadata": {
    "collapsed": true
   },
   "outputs": [],
   "source": [
    "data_NoNaN = data_right_columns.dropna(axis=0)"
   ]
  },
  {
   "cell_type": "code",
   "execution_count": 11,
   "metadata": {},
   "outputs": [
    {
     "name": "stdout",
     "output_type": "stream",
     "text": [
      "year                   0\n",
      "month                  0\n",
      "carrier                0\n",
      "carrier_name           0\n",
      "airport                0\n",
      "airport_name           0\n",
      "arr_flights            0\n",
      "arr_del15              0\n",
      "carrier_ct             0\n",
      "weather_ct             0\n",
      "nas_ct                 0\n",
      "security_ct            0\n",
      "late_aircraft_ct       0\n",
      "arr_cancelled          0\n",
      "arr_diverted           0\n",
      "arr_delay              0\n",
      "carrier_delay          0\n",
      "weather_delay          0\n",
      "nas_delay              0\n",
      "security_delay         0\n",
      "late_aircraft_delay    0\n",
      "dtype: int64\n"
     ]
    }
   ],
   "source": [
    "# while the .info() function prints out a by-column summary of non- null values,\n",
    "# best practices would be to double-verify the absence of NaNs with by calling\n",
    "# `print(dataset.isnull().sum())`\n",
    "print(data_NoNaN.isnull().sum())\n",
    "# print(data_filled_mean.isnull().sum())\n",
    "# print(data_filled_median.isnull().sum())\n",
    "# print(data_filled_mode.isnull().sum())"
   ]
  },
  {
   "cell_type": "code",
   "execution_count": 12,
   "metadata": {},
   "outputs": [
    {
     "name": "stdout",
     "output_type": "stream",
     "text": [
      "<class 'pandas.core.frame.DataFrame'>\n",
      "Int64Index: 11173 entries, 0 to 11192\n",
      "Data columns (total 21 columns):\n",
      "year                   11173 non-null int64\n",
      "month                  11173 non-null int64\n",
      "carrier                11173 non-null object\n",
      "carrier_name           11173 non-null object\n",
      "airport                11173 non-null object\n",
      "airport_name           11173 non-null object\n",
      "arr_flights            11173 non-null float64\n",
      "arr_del15              11173 non-null float64\n",
      "carrier_ct             11173 non-null float64\n",
      "weather_ct             11173 non-null float64\n",
      "nas_ct                 11173 non-null float64\n",
      "security_ct            11173 non-null float64\n",
      "late_aircraft_ct       11173 non-null float64\n",
      "arr_cancelled          11173 non-null float64\n",
      "arr_diverted           11173 non-null float64\n",
      "arr_delay              11173 non-null float64\n",
      "carrier_delay          11173 non-null float64\n",
      "weather_delay          11173 non-null float64\n",
      "nas_delay              11173 non-null float64\n",
      "security_delay         11173 non-null float64\n",
      "late_aircraft_delay    11173 non-null float64\n",
      "dtypes: float64(15), int64(2), object(4)\n",
      "memory usage: 1.9+ MB\n"
     ]
    }
   ],
   "source": [
    "data_NoNaN.info()"
   ]
  },
  {
   "cell_type": "markdown",
   "metadata": {},
   "source": [
    "So, the Nans have been dropped...  \n",
    "\n",
    "Another approach would be to fill the NaN values with mean, median or mode...\n",
    "\n",
    "\n",
    "we'd have to start with the  `data_right_columns`  variable"
   ]
  },
  {
   "cell_type": "code",
   "execution_count": 13,
   "metadata": {
    "collapsed": true
   },
   "outputs": [],
   "source": [
    "data_filled_mean = data_right_columns.fillna((data_right_columns.mean()))\n",
    "# data_filled_mean.info()"
   ]
  },
  {
   "cell_type": "code",
   "execution_count": 14,
   "metadata": {
    "collapsed": true
   },
   "outputs": [],
   "source": [
    "data_filled_median = data_right_columns.fillna((data_right_columns.median()))\n",
    "# data_filled_median.info()"
   ]
  },
  {
   "cell_type": "code",
   "execution_count": 15,
   "metadata": {
    "collapsed": true
   },
   "outputs": [],
   "source": [
    "data_filled_mode = data_right_columns.fillna((data_right_columns.quantile(.5)))\n",
    "# data_filled_mode.info()"
   ]
  },
  {
   "cell_type": "markdown",
   "metadata": {},
   "source": [
    "Now we want to look at the entire datasets' statitstics"
   ]
  },
  {
   "cell_type": "code",
   "execution_count": 16,
   "metadata": {},
   "outputs": [
    {
     "data": {
      "text/html": [
       "<div>\n",
       "<style>\n",
       "    .dataframe thead tr:only-child th {\n",
       "        text-align: right;\n",
       "    }\n",
       "\n",
       "    .dataframe thead th {\n",
       "        text-align: left;\n",
       "    }\n",
       "\n",
       "    .dataframe tbody tr th {\n",
       "        vertical-align: top;\n",
       "    }\n",
       "</style>\n",
       "<table border=\"1\" class=\"dataframe\">\n",
       "  <thead>\n",
       "    <tr style=\"text-align: right;\">\n",
       "      <th></th>\n",
       "      <th>year</th>\n",
       "      <th>month</th>\n",
       "      <th>arr_flights</th>\n",
       "      <th>arr_del15</th>\n",
       "      <th>carrier_ct</th>\n",
       "      <th>weather_ct</th>\n",
       "      <th>nas_ct</th>\n",
       "      <th>security_ct</th>\n",
       "      <th>late_aircraft_ct</th>\n",
       "      <th>arr_cancelled</th>\n",
       "      <th>arr_diverted</th>\n",
       "      <th>arr_delay</th>\n",
       "      <th>carrier_delay</th>\n",
       "      <th>weather_delay</th>\n",
       "      <th>nas_delay</th>\n",
       "      <th>security_delay</th>\n",
       "      <th>late_aircraft_delay</th>\n",
       "    </tr>\n",
       "  </thead>\n",
       "  <tbody>\n",
       "    <tr>\n",
       "      <th>count</th>\n",
       "      <td>11173.0</td>\n",
       "      <td>11173.000000</td>\n",
       "      <td>11173.000000</td>\n",
       "      <td>11173.000000</td>\n",
       "      <td>11173.000000</td>\n",
       "      <td>11173.000000</td>\n",
       "      <td>11173.000000</td>\n",
       "      <td>11173.000000</td>\n",
       "      <td>11173.000000</td>\n",
       "      <td>11173.000000</td>\n",
       "      <td>11173.000000</td>\n",
       "      <td>11173.000000</td>\n",
       "      <td>11173.000000</td>\n",
       "      <td>11173.000000</td>\n",
       "      <td>11173.000000</td>\n",
       "      <td>11173.000000</td>\n",
       "      <td>11173.000000</td>\n",
       "    </tr>\n",
       "    <tr>\n",
       "      <th>mean</th>\n",
       "      <td>2016.0</td>\n",
       "      <td>6.025239</td>\n",
       "      <td>461.532892</td>\n",
       "      <td>77.029088</td>\n",
       "      <td>22.628786</td>\n",
       "      <td>2.278168</td>\n",
       "      <td>24.216326</td>\n",
       "      <td>0.146415</td>\n",
       "      <td>27.759464</td>\n",
       "      <td>5.226528</td>\n",
       "      <td>1.109371</td>\n",
       "      <td>4762.861541</td>\n",
       "      <td>1557.819565</td>\n",
       "      <td>203.253379</td>\n",
       "      <td>1140.141233</td>\n",
       "      <td>6.610669</td>\n",
       "      <td>1855.036696</td>\n",
       "    </tr>\n",
       "    <tr>\n",
       "      <th>std</th>\n",
       "      <td>0.0</td>\n",
       "      <td>3.157616</td>\n",
       "      <td>1170.892758</td>\n",
       "      <td>187.033010</td>\n",
       "      <td>51.024876</td>\n",
       "      <td>6.806785</td>\n",
       "      <td>66.990992</td>\n",
       "      <td>0.578833</td>\n",
       "      <td>72.339762</td>\n",
       "      <td>20.253243</td>\n",
       "      <td>4.600183</td>\n",
       "      <td>12999.978334</td>\n",
       "      <td>4469.262529</td>\n",
       "      <td>674.118573</td>\n",
       "      <td>3690.589513</td>\n",
       "      <td>31.161224</td>\n",
       "      <td>5125.250783</td>\n",
       "    </tr>\n",
       "    <tr>\n",
       "      <th>min</th>\n",
       "      <td>2016.0</td>\n",
       "      <td>1.000000</td>\n",
       "      <td>1.000000</td>\n",
       "      <td>0.000000</td>\n",
       "      <td>0.000000</td>\n",
       "      <td>0.000000</td>\n",
       "      <td>0.000000</td>\n",
       "      <td>0.000000</td>\n",
       "      <td>0.000000</td>\n",
       "      <td>0.000000</td>\n",
       "      <td>0.000000</td>\n",
       "      <td>0.000000</td>\n",
       "      <td>0.000000</td>\n",
       "      <td>0.000000</td>\n",
       "      <td>0.000000</td>\n",
       "      <td>0.000000</td>\n",
       "      <td>0.000000</td>\n",
       "    </tr>\n",
       "    <tr>\n",
       "      <th>25%</th>\n",
       "      <td>2016.0</td>\n",
       "      <td>3.000000</td>\n",
       "      <td>60.000000</td>\n",
       "      <td>8.000000</td>\n",
       "      <td>2.720000</td>\n",
       "      <td>0.000000</td>\n",
       "      <td>1.440000</td>\n",
       "      <td>0.000000</td>\n",
       "      <td>1.950000</td>\n",
       "      <td>0.000000</td>\n",
       "      <td>0.000000</td>\n",
       "      <td>419.000000</td>\n",
       "      <td>139.000000</td>\n",
       "      <td>0.000000</td>\n",
       "      <td>49.000000</td>\n",
       "      <td>0.000000</td>\n",
       "      <td>102.000000</td>\n",
       "    </tr>\n",
       "    <tr>\n",
       "      <th>50%</th>\n",
       "      <td>2016.0</td>\n",
       "      <td>6.000000</td>\n",
       "      <td>133.000000</td>\n",
       "      <td>21.000000</td>\n",
       "      <td>7.520000</td>\n",
       "      <td>0.270000</td>\n",
       "      <td>4.770000</td>\n",
       "      <td>0.000000</td>\n",
       "      <td>6.310000</td>\n",
       "      <td>1.000000</td>\n",
       "      <td>0.000000</td>\n",
       "      <td>1174.000000</td>\n",
       "      <td>452.000000</td>\n",
       "      <td>14.000000</td>\n",
       "      <td>173.000000</td>\n",
       "      <td>0.000000</td>\n",
       "      <td>404.000000</td>\n",
       "    </tr>\n",
       "    <tr>\n",
       "      <th>75%</th>\n",
       "      <td>2016.0</td>\n",
       "      <td>9.000000</td>\n",
       "      <td>343.000000</td>\n",
       "      <td>56.000000</td>\n",
       "      <td>19.300000</td>\n",
       "      <td>1.740000</td>\n",
       "      <td>14.010000</td>\n",
       "      <td>0.000000</td>\n",
       "      <td>18.520000</td>\n",
       "      <td>3.000000</td>\n",
       "      <td>1.000000</td>\n",
       "      <td>3334.000000</td>\n",
       "      <td>1226.000000</td>\n",
       "      <td>133.000000</td>\n",
       "      <td>550.000000</td>\n",
       "      <td>0.000000</td>\n",
       "      <td>1308.000000</td>\n",
       "    </tr>\n",
       "    <tr>\n",
       "      <th>max</th>\n",
       "      <td>2016.0</td>\n",
       "      <td>11.000000</td>\n",
       "      <td>21977.000000</td>\n",
       "      <td>3368.000000</td>\n",
       "      <td>1242.160000</td>\n",
       "      <td>168.440000</td>\n",
       "      <td>1092.620000</td>\n",
       "      <td>11.730000</td>\n",
       "      <td>1320.090000</td>\n",
       "      <td>598.000000</td>\n",
       "      <td>110.000000</td>\n",
       "      <td>395609.000000</td>\n",
       "      <td>196944.000000</td>\n",
       "      <td>17400.000000</td>\n",
       "      <td>74898.000000</td>\n",
       "      <td>933.000000</td>\n",
       "      <td>129200.000000</td>\n",
       "    </tr>\n",
       "  </tbody>\n",
       "</table>\n",
       "</div>"
      ],
      "text/plain": [
       "          year         month   arr_flights     arr_del15    carrier_ct  \\\n",
       "count  11173.0  11173.000000  11173.000000  11173.000000  11173.000000   \n",
       "mean    2016.0      6.025239    461.532892     77.029088     22.628786   \n",
       "std        0.0      3.157616   1170.892758    187.033010     51.024876   \n",
       "min     2016.0      1.000000      1.000000      0.000000      0.000000   \n",
       "25%     2016.0      3.000000     60.000000      8.000000      2.720000   \n",
       "50%     2016.0      6.000000    133.000000     21.000000      7.520000   \n",
       "75%     2016.0      9.000000    343.000000     56.000000     19.300000   \n",
       "max     2016.0     11.000000  21977.000000   3368.000000   1242.160000   \n",
       "\n",
       "         weather_ct        nas_ct   security_ct  late_aircraft_ct  \\\n",
       "count  11173.000000  11173.000000  11173.000000      11173.000000   \n",
       "mean       2.278168     24.216326      0.146415         27.759464   \n",
       "std        6.806785     66.990992      0.578833         72.339762   \n",
       "min        0.000000      0.000000      0.000000          0.000000   \n",
       "25%        0.000000      1.440000      0.000000          1.950000   \n",
       "50%        0.270000      4.770000      0.000000          6.310000   \n",
       "75%        1.740000     14.010000      0.000000         18.520000   \n",
       "max      168.440000   1092.620000     11.730000       1320.090000   \n",
       "\n",
       "       arr_cancelled  arr_diverted      arr_delay  carrier_delay  \\\n",
       "count   11173.000000  11173.000000   11173.000000   11173.000000   \n",
       "mean        5.226528      1.109371    4762.861541    1557.819565   \n",
       "std        20.253243      4.600183   12999.978334    4469.262529   \n",
       "min         0.000000      0.000000       0.000000       0.000000   \n",
       "25%         0.000000      0.000000     419.000000     139.000000   \n",
       "50%         1.000000      0.000000    1174.000000     452.000000   \n",
       "75%         3.000000      1.000000    3334.000000    1226.000000   \n",
       "max       598.000000    110.000000  395609.000000  196944.000000   \n",
       "\n",
       "       weather_delay     nas_delay  security_delay  late_aircraft_delay  \n",
       "count   11173.000000  11173.000000    11173.000000         11173.000000  \n",
       "mean      203.253379   1140.141233        6.610669          1855.036696  \n",
       "std       674.118573   3690.589513       31.161224          5125.250783  \n",
       "min         0.000000      0.000000        0.000000             0.000000  \n",
       "25%         0.000000     49.000000        0.000000           102.000000  \n",
       "50%        14.000000    173.000000        0.000000           404.000000  \n",
       "75%       133.000000    550.000000        0.000000          1308.000000  \n",
       "max     17400.000000  74898.000000      933.000000        129200.000000  "
      ]
     },
     "execution_count": 16,
     "metadata": {},
     "output_type": "execute_result"
    }
   ],
   "source": [
    "data_NoNaN.describe()"
   ]
  },
  {
   "cell_type": "code",
   "execution_count": 17,
   "metadata": {
    "collapsed": true
   },
   "outputs": [],
   "source": [
    "# data_filled_mean.describe()"
   ]
  },
  {
   "cell_type": "code",
   "execution_count": 18,
   "metadata": {
    "collapsed": true
   },
   "outputs": [],
   "source": [
    "# data_filled_median.describe()"
   ]
  },
  {
   "cell_type": "code",
   "execution_count": 19,
   "metadata": {
    "collapsed": true
   },
   "outputs": [],
   "source": [
    "# data_filled_mode.describe()"
   ]
  },
  {
   "cell_type": "markdown",
   "metadata": {},
   "source": [
    "### Working with NaN values\n",
    "\n",
    "We are working with NaN values only in the float variables, so filling categorical with statistical data is not an issue\n",
    "\n",
    "There are advantages and disadvantages to the four Nan handilng strategies\n",
    "- __Drop__ NaN values (+): easy, clear-cut, , simplest strategy, works because it is a small percentage of the data, increases computational speed and is convenient\n",
    "- __Drop__ NaN values (-): aggressively eliminates data, imbalances small datasets\n",
    "- variable:  ` data_NoNaN `\n",
    "\n",
    "\n",
    "\n",
    "- Fill NaN with __mean__ (+): balances a dataset with probable values, artful\n",
    "- Fill NaN with __mean__ (-): fabricates data, imbalances small datasets\n",
    "- variable:  ` data_filled_mean `\n",
    "\n",
    "\n",
    "\n",
    "- Fill NaN with __median__ (+): balances a dataset with probable values, artful\n",
    "- Fill NaN with __median__ (-): fabricates data, imbalances small datasets\n",
    "- variable:  ` data_filled_median `\n",
    "\n",
    "\n",
    "\n",
    "- Fill NaN with __mode__ (+): balances a dataset with probable values, artful\n",
    "- Fill NaN with __mode__ (-): fabricates data, imbalances small datasets\n",
    "- variable:  ` data_filled_mode `\n",
    "\n",
    "\n",
    "\n",
    "\n",
    "At this point, we don't know what the use will be of imputing or just dropping the values, but we have each dataset variable-ized, so we can begin to create subsets... It might be that we have to impute a different statistic for each variable, so this global handling of NaNs will have to be addressed.  \n",
    "\n",
    "Once NaNs are addressed we carry forward knowing that we may have to re-strategize our handling of them.  Many machine Learning Algorithms will not work if a dataset contains NaNs.  Its datatype has to be consistent."
   ]
  },
  {
   "cell_type": "markdown",
   "metadata": {},
   "source": [
    "##### Imputing Nans"
   ]
  },
  {
   "cell_type": "markdown",
   "metadata": {},
   "source": [
    "Imputation won't work if it has to work on categorical columns.  So we subtract those features and the target from the dataset before using the imputer function from sklearn:\n",
    "- `from sklearn.preprocessing import Imputer`\n",
    "\n",
    "Then, depending on our data problem, we might need to re-join the imputed values, or just work with them \n",
    "\n",
    "categorical columns that we won't include in the imputer:\n",
    "- 'year', 'month', 'carrier', 'carrier_name', 'airport', 'airport_name'  \n",
    "\n",
    "target column not included in the imputer dataset:\n",
    "- 'arr_del15'\n",
    "\n",
    "So, in data.iloc[] notation, the imputer takes in:\n",
    "- `data_right_columns.iloc[:,[6, 8, 9, 10, 11, 12, 13, 14, 15, 16, 17, 18, 19, 20]]`\n"
   ]
  },
  {
   "cell_type": "code",
   "execution_count": 20,
   "metadata": {},
   "outputs": [
    {
     "name": "stdout",
     "output_type": "stream",
     "text": [
      "arr_flights            18\n",
      "carrier_ct             18\n",
      "weather_ct             18\n",
      "nas_ct                 18\n",
      "security_ct            18\n",
      "late_aircraft_ct       18\n",
      "arr_cancelled          18\n",
      "arr_diverted           18\n",
      "arr_delay              18\n",
      "carrier_delay          18\n",
      "weather_delay          18\n",
      "nas_delay              18\n",
      "security_delay         18\n",
      "late_aircraft_delay    18\n",
      "dtype: int64\n"
     ]
    }
   ],
   "source": [
    "imputer_numeric_data = data_right_columns.iloc[:,[6, 8, 9, 10, 11, 12, 13, 14, 15, 16, 17, 18, 19, 20]]\n",
    "print(imputer_numeric_data.isnull().sum())"
   ]
  },
  {
   "cell_type": "code",
   "execution_count": 21,
   "metadata": {
    "collapsed": true
   },
   "outputs": [],
   "source": [
    "from sklearn.preprocessing import Imputer"
   ]
  },
  {
   "cell_type": "code",
   "execution_count": 22,
   "metadata": {},
   "outputs": [
    {
     "name": "stdout",
     "output_type": "stream",
     "text": [
      "0\n"
     ]
    }
   ],
   "source": [
    "# fill missing values with mean column values\n",
    "values = imputer_numeric_data.values\n",
    "imputer = Imputer()\n",
    "transformed_values = imputer.fit_transform(values)\n",
    "# count the number of NaN values in each column\n",
    "print(np.isnan(transformed_values).sum())"
   ]
  },
  {
   "cell_type": "code",
   "execution_count": 23,
   "metadata": {
    "scrolled": true
   },
   "outputs": [
    {
     "data": {
      "text/plain": [
       "array([[  1.19560000e+04,   5.07330000e+02,   3.98300000e+01, ...,\n",
       "          1.39130000e+04,   1.67000000e+02,   4.00010000e+04],\n",
       "       [  5.88000000e+02,   3.47100000e+01,   4.71000000e+00, ...,\n",
       "          6.55000000e+02,   1.60000000e+01,   2.43300000e+03],\n",
       "       [  6.07000000e+02,   3.55200000e+01,   5.40000000e+00, ...,\n",
       "          7.15000000e+02,   0.00000000e+00,   1.71500000e+03],\n",
       "       ..., \n",
       "       [  2.50000000e+02,   1.18800000e+01,   0.00000000e+00, ...,\n",
       "          2.35000000e+02,   0.00000000e+00,   5.80000000e+02],\n",
       "       [  1.98400000e+03,   8.55700000e+01,   3.34000000e+00, ...,\n",
       "          1.67900000e+03,   0.00000000e+00,   5.63700000e+03],\n",
       "       [  1.00000000e+00,   0.00000000e+00,   0.00000000e+00, ...,\n",
       "          0.00000000e+00,   0.00000000e+00,   0.00000000e+00]])"
      ]
     },
     "execution_count": 23,
     "metadata": {},
     "output_type": "execute_result"
    }
   ],
   "source": [
    "transformed_values"
   ]
  },
  {
   "cell_type": "markdown",
   "metadata": {},
   "source": [
    "Now that the imputer has transformed the values, all this numeric data may be fed into a model...\n",
    "- example ols with three columns"
   ]
  },
  {
   "cell_type": "code",
   "execution_count": 24,
   "metadata": {
    "collapsed": true
   },
   "outputs": [],
   "source": [
    "X = transformed_values\n",
    "y = data_right_columns['arr_del15'].fillna(0, axis=0).as_matrix(columns=None)"
   ]
  },
  {
   "cell_type": "code",
   "execution_count": 25,
   "metadata": {},
   "outputs": [
    {
     "data": {
      "text/plain": [
       "numpy.ndarray"
      ]
     },
     "execution_count": 25,
     "metadata": {},
     "output_type": "execute_result"
    }
   ],
   "source": [
    "type(X)"
   ]
  },
  {
   "cell_type": "code",
   "execution_count": 26,
   "metadata": {},
   "outputs": [
    {
     "data": {
      "text/plain": [
       "numpy.ndarray"
      ]
     },
     "execution_count": 26,
     "metadata": {},
     "output_type": "execute_result"
    }
   ],
   "source": [
    "type(y)"
   ]
  },
  {
   "cell_type": "code",
   "execution_count": 27,
   "metadata": {
    "collapsed": true
   },
   "outputs": [],
   "source": [
    "from sklearn.linear_model import LinearRegression"
   ]
  },
  {
   "cell_type": "code",
   "execution_count": 28,
   "metadata": {},
   "outputs": [
    {
     "data": {
      "text/plain": [
       "LinearRegression(copy_X=True, fit_intercept=True, n_jobs=1, normalize=False)"
      ]
     },
     "execution_count": 28,
     "metadata": {},
     "output_type": "execute_result"
    }
   ],
   "source": [
    "ols = LinearRegression()\n",
    "ols"
   ]
  },
  {
   "cell_type": "code",
   "execution_count": 29,
   "metadata": {},
   "outputs": [
    {
     "data": {
      "text/plain": [
       "LinearRegression(copy_X=True, fit_intercept=True, n_jobs=1, normalize=False)"
      ]
     },
     "execution_count": 29,
     "metadata": {},
     "output_type": "execute_result"
    }
   ],
   "source": [
    "ols.fit(X, y)"
   ]
  },
  {
   "cell_type": "code",
   "execution_count": 30,
   "metadata": {},
   "outputs": [
    {
     "data": {
      "text/plain": [
       "array([ -1.63345383e-07,   1.00000484e+00,   9.99996097e-01,\n",
       "         9.99996953e-01,   1.00001747e+00,   1.00000229e+00,\n",
       "        -3.69559470e-06,  -1.59122884e-05,   2.18055863e-07,\n",
       "        -2.19295306e-07,  -5.06237007e-07,  -1.37513256e-07,\n",
       "         1.30601342e-06,  -2.24909962e-07])"
      ]
     },
     "execution_count": 30,
     "metadata": {},
     "output_type": "execute_result"
    }
   ],
   "source": [
    "ols.coef_"
   ]
  },
  {
   "cell_type": "code",
   "execution_count": 31,
   "metadata": {},
   "outputs": [
    {
     "data": {
      "text/plain": [
       "[<matplotlib.lines.Line2D at 0x1158d0190>,\n",
       " <matplotlib.lines.Line2D at 0x1158d0390>,\n",
       " <matplotlib.lines.Line2D at 0x1158d04d0>,\n",
       " <matplotlib.lines.Line2D at 0x1158d0610>,\n",
       " <matplotlib.lines.Line2D at 0x1158d0750>,\n",
       " <matplotlib.lines.Line2D at 0x1158d0890>,\n",
       " <matplotlib.lines.Line2D at 0x1158d09d0>,\n",
       " <matplotlib.lines.Line2D at 0x1158d0b10>,\n",
       " <matplotlib.lines.Line2D at 0x1158d0c50>,\n",
       " <matplotlib.lines.Line2D at 0x1158d0d90>,\n",
       " <matplotlib.lines.Line2D at 0x1158d0ed0>,\n",
       " <matplotlib.lines.Line2D at 0x1158e0050>,\n",
       " <matplotlib.lines.Line2D at 0x1158e0190>,\n",
       " <matplotlib.lines.Line2D at 0x1158e02d0>]"
      ]
     },
     "execution_count": 31,
     "metadata": {},
     "output_type": "execute_result"
    },
    {
     "data": {
      "image/png": "[encoded data removed]",
      "text/plain": [
       "<matplotlib.figure.Figure at 0x1123f2a10>"
      ]
     },
     "metadata": {},
     "output_type": "display_data"
    }
   ],
   "source": [
    "plt.plot(X, y, color='grey',linewidth=.5)"
   ]
  },
  {
   "cell_type": "markdown",
   "metadata": {},
   "source": [
    "The actual results of this linear regression don't matter for the sake of our data... yet.  This is only an illustration of a model made to work by a combination of imputing values and filling values"
   ]
  },
  {
   "cell_type": "markdown",
   "metadata": {},
   "source": [
    "### We wil now use the first variable, `data_NoNaN` and set it to `data` ...\n",
    "\n",
    "The next four strategies of NaN handling are commented out, but also will be `data`"
   ]
  },
  {
   "cell_type": "code",
   "execution_count": 32,
   "metadata": {},
   "outputs": [
    {
     "data": {
      "text/html": [
       "<div>\n",
       "<style>\n",
       "    .dataframe thead tr:only-child th {\n",
       "        text-align: right;\n",
       "    }\n",
       "\n",
       "    .dataframe thead th {\n",
       "        text-align: left;\n",
       "    }\n",
       "\n",
       "    .dataframe tbody tr th {\n",
       "        vertical-align: top;\n",
       "    }\n",
       "</style>\n",
       "<table border=\"1\" class=\"dataframe\">\n",
       "  <thead>\n",
       "    <tr style=\"text-align: right;\">\n",
       "      <th></th>\n",
       "      <th>year</th>\n",
       "      <th>month</th>\n",
       "      <th>carrier</th>\n",
       "      <th>carrier_name</th>\n",
       "      <th>airport</th>\n",
       "      <th>airport_name</th>\n",
       "      <th>arr_flights</th>\n",
       "      <th>arr_del15</th>\n",
       "      <th>carrier_ct</th>\n",
       "      <th>weather_ct</th>\n",
       "      <th>...</th>\n",
       "      <th>security_ct</th>\n",
       "      <th>late_aircraft_ct</th>\n",
       "      <th>arr_cancelled</th>\n",
       "      <th>arr_diverted</th>\n",
       "      <th>arr_delay</th>\n",
       "      <th>carrier_delay</th>\n",
       "      <th>weather_delay</th>\n",
       "      <th>nas_delay</th>\n",
       "      <th>security_delay</th>\n",
       "      <th>late_aircraft_delay</th>\n",
       "    </tr>\n",
       "  </thead>\n",
       "  <tbody>\n",
       "    <tr>\n",
       "      <th>0</th>\n",
       "      <td>2016</td>\n",
       "      <td>1</td>\n",
       "      <td>AA</td>\n",
       "      <td>American Airlines Inc.</td>\n",
       "      <td>DFW</td>\n",
       "      <td>Dallas/Fort Worth, TX: Dallas/Fort Worth Inter...</td>\n",
       "      <td>11956.0</td>\n",
       "      <td>1534.0</td>\n",
       "      <td>507.33</td>\n",
       "      <td>39.83</td>\n",
       "      <td>...</td>\n",
       "      <td>4.72</td>\n",
       "      <td>529.47</td>\n",
       "      <td>201.0</td>\n",
       "      <td>9.0</td>\n",
       "      <td>106950.0</td>\n",
       "      <td>50027.0</td>\n",
       "      <td>2842.0</td>\n",
       "      <td>13913.0</td>\n",
       "      <td>167.0</td>\n",
       "      <td>40001.0</td>\n",
       "    </tr>\n",
       "    <tr>\n",
       "      <th>1</th>\n",
       "      <td>2016</td>\n",
       "      <td>1</td>\n",
       "      <td>AA</td>\n",
       "      <td>American Airlines Inc.</td>\n",
       "      <td>DTW</td>\n",
       "      <td>Detroit, MI: Detroit Metro Wayne County</td>\n",
       "      <td>588.0</td>\n",
       "      <td>98.0</td>\n",
       "      <td>34.71</td>\n",
       "      <td>4.71</td>\n",
       "      <td>...</td>\n",
       "      <td>0.32</td>\n",
       "      <td>38.49</td>\n",
       "      <td>13.0</td>\n",
       "      <td>2.0</td>\n",
       "      <td>5170.0</td>\n",
       "      <td>1754.0</td>\n",
       "      <td>312.0</td>\n",
       "      <td>655.0</td>\n",
       "      <td>16.0</td>\n",
       "      <td>2433.0</td>\n",
       "    </tr>\n",
       "  </tbody>\n",
       "</table>\n",
       "<p>2 rows × 21 columns</p>\n",
       "</div>"
      ],
      "text/plain": [
       "   year  month carrier            carrier_name airport  \\\n",
       "0  2016      1      AA  American Airlines Inc.     DFW   \n",
       "1  2016      1      AA  American Airlines Inc.     DTW   \n",
       "\n",
       "                                        airport_name  arr_flights  arr_del15  \\\n",
       "0  Dallas/Fort Worth, TX: Dallas/Fort Worth Inter...      11956.0     1534.0   \n",
       "1            Detroit, MI: Detroit Metro Wayne County        588.0       98.0   \n",
       "\n",
       "   carrier_ct  weather_ct         ...           security_ct  late_aircraft_ct  \\\n",
       "0      507.33       39.83         ...                  4.72            529.47   \n",
       "1       34.71        4.71         ...                  0.32             38.49   \n",
       "\n",
       "   arr_cancelled  arr_diverted  arr_delay  carrier_delay  weather_delay  \\\n",
       "0          201.0           9.0   106950.0        50027.0         2842.0   \n",
       "1           13.0           2.0     5170.0         1754.0          312.0   \n",
       "\n",
       "   nas_delay  security_delay  late_aircraft_delay  \n",
       "0    13913.0           167.0              40001.0  \n",
       "1      655.0            16.0               2433.0  \n",
       "\n",
       "[2 rows x 21 columns]"
      ]
     },
     "execution_count": 32,
     "metadata": {},
     "output_type": "execute_result"
    }
   ],
   "source": [
    "data = data_NoNaN\n",
    "# data = data_filled_mean\n",
    "# data = data_filled_median\n",
    "# data = data_filled_mode\n",
    "data.head(2)"
   ]
  },
  {
   "cell_type": "markdown",
   "metadata": {
    "collapsed": true
   },
   "source": [
    "Looking at the shape of our data, the 18 dropped values, give us 11173 observations and 21 features"
   ]
  },
  {
   "cell_type": "code",
   "execution_count": 33,
   "metadata": {},
   "outputs": [
    {
     "data": {
      "text/plain": [
       "(11173, 21)"
      ]
     },
     "execution_count": 33,
     "metadata": {},
     "output_type": "execute_result"
    }
   ],
   "source": [
    "data.shape"
   ]
  },
  {
   "cell_type": "markdown",
   "metadata": {},
   "source": [
    "# Target\n",
    "We have determined that the goal of this data analysis is to predict delayed flights, given certain conditions based on the dataset.  Therefore the target variable is `arr_del15`\n",
    "\n",
    "\n"
   ]
  },
  {
   "cell_type": "code",
   "execution_count": 34,
   "metadata": {},
   "outputs": [
    {
     "data": {
      "text/plain": [
       "True     6651\n",
       "False    4522\n",
       "Name: arr_del15, dtype: int64"
      ]
     },
     "execution_count": 34,
     "metadata": {},
     "output_type": "execute_result"
    }
   ],
   "source": [
    "# target\n",
    "# According to the data description, flights are called 'delayed' \n",
    "# if they arrive 15 or more minutes after scheduled time\n",
    "delayed_ =  data.arr_del15 >= 15\n",
    "delayed_.value_counts()"
   ]
  },
  {
   "cell_type": "markdown",
   "metadata": {},
   "source": [
    "shows the balance between the variables"
   ]
  },
  {
   "cell_type": "code",
   "execution_count": 35,
   "metadata": {},
   "outputs": [
    {
     "data": {
      "text/plain": [
       "0.5952743220263135"
      ]
     },
     "execution_count": 35,
     "metadata": {},
     "output_type": "execute_result"
    }
   ],
   "source": [
    "6651.0/ (6651+4522)"
   ]
  },
  {
   "cell_type": "code",
   "execution_count": 36,
   "metadata": {},
   "outputs": [
    {
     "data": {
      "text/plain": [
       "0.4047256779736866"
      ]
     },
     "execution_count": 36,
     "metadata": {},
     "output_type": "execute_result"
    }
   ],
   "source": [
    "4522.0/ (6651+4522)"
   ]
  },
  {
   "cell_type": "code",
   "execution_count": 37,
   "metadata": {},
   "outputs": [
    {
     "data": {
      "text/plain": [
       "count    11173.000000\n",
       "mean        77.029088\n",
       "std        187.033010\n",
       "min          0.000000\n",
       "25%          8.000000\n",
       "50%         21.000000\n",
       "75%         56.000000\n",
       "max       3368.000000\n",
       "Name: arr_del15, dtype: float64"
      ]
     },
     "execution_count": 37,
     "metadata": {},
     "output_type": "execute_result"
    }
   ],
   "source": [
    "# looking at the actual data\n",
    "data.arr_del15.describe()"
   ]
  },
  {
   "cell_type": "markdown",
   "metadata": {},
   "source": [
    "Let's make the target variable binary."
   ]
  },
  {
   "cell_type": "code",
   "execution_count": 38,
   "metadata": {},
   "outputs": [
    {
     "name": "stderr",
     "output_type": "stream",
     "text": [
      "/Users/jg/anaconda/lib/python2.7/site-packages/ipykernel_launcher.py:1: SettingWithCopyWarning: \n",
      "A value is trying to be set on a copy of a slice from a DataFrame.\n",
      "Try using .loc[row_indexer,col_indexer] = value instead\n",
      "\n",
      "See the caveats in the documentation: http://pandas.pydata.org/pandas-docs/stable/indexing.html#indexing-view-versus-copy\n",
      "  \"\"\"Entry point for launching an IPython kernel.\n"
     ]
    },
    {
     "data": {
      "text/plain": [
       "0    1\n",
       "1    1\n",
       "2    1\n",
       "3    1\n",
       "4    1\n",
       "Name: target, dtype: int64"
      ]
     },
     "execution_count": 38,
     "metadata": {},
     "output_type": "execute_result"
    }
   ],
   "source": [
    "data['target'] = np.where(data.arr_del15 >= 15, int(1), 0)\n",
    "data['target'].head()"
   ]
  },
  {
   "cell_type": "code",
   "execution_count": 39,
   "metadata": {},
   "outputs": [
    {
     "data": {
      "text/plain": [
       "1    6651\n",
       "0    4522\n",
       "Name: target, dtype: int64"
      ]
     },
     "execution_count": 39,
     "metadata": {},
     "output_type": "execute_result"
    }
   ],
   "source": [
    "data['target'].value_counts()"
   ]
  },
  {
   "cell_type": "code",
   "execution_count": 40,
   "metadata": {},
   "outputs": [
    {
     "data": {
      "text/plain": [
       "Index([u'year', u'month', u'carrier', u'carrier_name', u'airport',\n",
       "       u'airport_name', u'arr_flights', u'carrier_ct', u'weather_ct',\n",
       "       u'nas_ct', u'security_ct', u'late_aircraft_ct', u'arr_cancelled',\n",
       "       u'arr_diverted', u'arr_delay', u'carrier_delay', u'weather_delay',\n",
       "       u'nas_delay', u'security_delay', u'late_aircraft_delay', u'target'],\n",
       "      dtype='object')"
      ]
     },
     "execution_count": 40,
     "metadata": {},
     "output_type": "execute_result"
    }
   ],
   "source": [
    "data = data.drop('arr_del15', axis=1)\n",
    "data.columns"
   ]
  },
  {
   "cell_type": "markdown",
   "metadata": {},
   "source": [
    "modeling"
   ]
  },
  {
   "cell_type": "code",
   "execution_count": 41,
   "metadata": {
    "collapsed": true
   },
   "outputs": [],
   "source": [
    "X = data.iloc[:, 6:20]\n",
    "y = data.iloc[:, 20]"
   ]
  },
  {
   "cell_type": "code",
   "execution_count": 42,
   "metadata": {
    "collapsed": true
   },
   "outputs": [],
   "source": [
    "from sklearn.metrics import classification_report\n",
    "from sklearn.metrics import confusion_matrix\n",
    "from sklearn.neighbors import KNeighborsClassifier"
   ]
  },
  {
   "cell_type": "code",
   "execution_count": 43,
   "metadata": {
    "collapsed": true
   },
   "outputs": [],
   "source": [
    "knn = KNeighborsClassifier(n_neighbors=8)"
   ]
  },
  {
   "cell_type": "code",
   "execution_count": 44,
   "metadata": {
    "collapsed": true
   },
   "outputs": [],
   "source": [
    "from sklearn.model_selection import train_test_split"
   ]
  },
  {
   "cell_type": "code",
   "execution_count": 45,
   "metadata": {
    "collapsed": true
   },
   "outputs": [],
   "source": [
    "X_train, X_test, y_train, y_test = train_test_split(X, y, test_size=0.33, random_state=42)"
   ]
  },
  {
   "cell_type": "code",
   "execution_count": 46,
   "metadata": {
    "collapsed": true
   },
   "outputs": [],
   "source": [
    "knn.fit(X_train, y_train)\n",
    "y_pred = knn.predict(X_test)"
   ]
  },
  {
   "cell_type": "code",
   "execution_count": 47,
   "metadata": {},
   "outputs": [
    {
     "name": "stdout",
     "output_type": "stream",
     "text": [
      "[[1427   83]\n",
      " [ 108 2070]]\n"
     ]
    }
   ],
   "source": [
    "print (confusion_matrix(y_test, y_pred))"
   ]
  },
  {
   "cell_type": "code",
   "execution_count": 48,
   "metadata": {},
   "outputs": [
    {
     "name": "stdout",
     "output_type": "stream",
     "text": [
      "             precision    recall  f1-score   support\n",
      "\n",
      "          0       0.93      0.95      0.94      1510\n",
      "          1       0.96      0.95      0.96      2178\n",
      "\n",
      "avg / total       0.95      0.95      0.95      3688\n",
      "\n"
     ]
    }
   ],
   "source": [
    "print (classification_report(y_test, y_pred))"
   ]
  },
  {
   "cell_type": "code",
   "execution_count": 49,
   "metadata": {
    "collapsed": true
   },
   "outputs": [],
   "source": [
    "from sklearn.linear_model import LogisticRegression"
   ]
  },
  {
   "cell_type": "code",
   "execution_count": 50,
   "metadata": {
    "collapsed": true
   },
   "outputs": [],
   "source": [
    "logit_reg = LogisticRegression()"
   ]
  },
  {
   "cell_type": "code",
   "execution_count": 51,
   "metadata": {
    "collapsed": true
   },
   "outputs": [],
   "source": [
    "X_train, X_test, y_train, y_test = train_test_split( X, y, test_size=0.66, random_state=42)"
   ]
  },
  {
   "cell_type": "code",
   "execution_count": 52,
   "metadata": {},
   "outputs": [
    {
     "data": {
      "text/plain": [
       "LogisticRegression(C=1.0, class_weight=None, dual=False, fit_intercept=True,\n",
       "          intercept_scaling=1, max_iter=100, multi_class='ovr', n_jobs=1,\n",
       "          penalty='l2', random_state=None, solver='liblinear', tol=0.0001,\n",
       "          verbose=0, warm_start=False)"
      ]
     },
     "execution_count": 52,
     "metadata": {},
     "output_type": "execute_result"
    }
   ],
   "source": [
    "logit_reg.fit(X_train, y_train)"
   ]
  },
  {
   "cell_type": "code",
   "execution_count": 53,
   "metadata": {
    "collapsed": true
   },
   "outputs": [],
   "source": [
    "from sklearn.feature_selection import RFE"
   ]
  },
  {
   "cell_type": "code",
   "execution_count": 54,
   "metadata": {},
   "outputs": [
    {
     "name": "stdout",
     "output_type": "stream",
     "text": [
      "[ True  True  True  True  True  True  True  True  True  True  True  True\n",
      "  True  True]\n",
      "[1 1 1 1 1 1 1 1 1 1 1 1 1 1]\n"
     ]
    }
   ],
   "source": [
    "rfe = RFE(logit_reg, 18)\n",
    "rfe = rfe.fit(X, y )\n",
    "print(rfe.support_)\n",
    "print(rfe.ranking_)"
   ]
  },
  {
   "cell_type": "code",
   "execution_count": 55,
   "metadata": {},
   "outputs": [
    {
     "data": {
      "text/plain": [
       "<bound method LogisticRegression.get_params of LogisticRegression(C=1.0, class_weight=None, dual=False, fit_intercept=True,\n",
       "          intercept_scaling=1, max_iter=100, multi_class='ovr', n_jobs=1,\n",
       "          penalty='l2', random_state=None, solver='liblinear', tol=0.0001,\n",
       "          verbose=0, warm_start=False)>"
      ]
     },
     "execution_count": 55,
     "metadata": {},
     "output_type": "execute_result"
    }
   ],
   "source": [
    "logit_reg.get_params"
   ]
  },
  {
   "cell_type": "code",
   "execution_count": 56,
   "metadata": {},
   "outputs": [
    {
     "data": {
      "text/plain": [
       "array([1, 1, 1, ..., 1, 1, 1])"
      ]
     },
     "execution_count": 56,
     "metadata": {},
     "output_type": "execute_result"
    }
   ],
   "source": [
    "y_pred = logit_reg.predict(X_test)\n",
    "y_pred"
   ]
  },
  {
   "cell_type": "code",
   "execution_count": 57,
   "metadata": {
    "collapsed": true
   },
   "outputs": [],
   "source": [
    "# y_prob = logit_reg.predict_proba(X_test)\n",
    "# y_prob"
   ]
  },
  {
   "cell_type": "markdown",
   "metadata": {},
   "source": [
    "### Plot ROC Curve"
   ]
  },
  {
   "cell_type": "code",
   "execution_count": 58,
   "metadata": {
    "collapsed": true
   },
   "outputs": [],
   "source": [
    "from sklearn.metrics import roc_curve"
   ]
  },
  {
   "cell_type": "code",
   "execution_count": 59,
   "metadata": {
    "collapsed": true
   },
   "outputs": [],
   "source": [
    "y_pred_proba = logit_reg.predict(X_test)"
   ]
  },
  {
   "cell_type": "code",
   "execution_count": 60,
   "metadata": {
    "collapsed": true
   },
   "outputs": [],
   "source": [
    "fpr, tpr, thresholds = roc_curve(y_test, y_pred_proba)"
   ]
  },
  {
   "cell_type": "code",
   "execution_count": 61,
   "metadata": {},
   "outputs": [
    {
     "data": {
      "text/plain": [
       "<matplotlib.text.Text at 0x115bcd690>"
      ]
     },
     "execution_count": 61,
     "metadata": {},
     "output_type": "execute_result"
    },
    {
     "data": {
      "image/png": "[encoded data removed]",
      "text/plain": [
       "<matplotlib.figure.Figure at 0x115c2acd0>"
      ]
     },
     "metadata": {},
     "output_type": "display_data"
    }
   ],
   "source": [
    "plt.plot( [0,1], [0,1], 'b--' )\n",
    "plt.plot( fpr, tpr, label='Logistic Regression' )\n",
    "plt.xlabel('False Positive Rate')\n",
    "plt.ylabel('True Positive Rate')\n",
    "plt.title('Logistic Regression ROC Curve')\n",
    "# plt.show()"
   ]
  },
  {
   "cell_type": "markdown",
   "metadata": {},
   "source": [
    "### Plot AUC Curve"
   ]
  },
  {
   "cell_type": "code",
   "execution_count": 62,
   "metadata": {
    "collapsed": true
   },
   "outputs": [],
   "source": [
    "from sklearn.metrics import roc_auc_score\n",
    "from sklearn.model_selection import cross_val_score"
   ]
  },
  {
   "cell_type": "code",
   "execution_count": 63,
   "metadata": {
    "collapsed": true
   },
   "outputs": [],
   "source": [
    "# Compute predicted probabilities: y_pred_prob\n",
    "y_pred_prob = logit_reg.predict_proba(X_test)[:,1]"
   ]
  },
  {
   "cell_type": "code",
   "execution_count": 64,
   "metadata": {},
   "outputs": [
    {
     "name": "stdout",
     "output_type": "stream",
     "text": [
      "AUC: 0.997023048175\n"
     ]
    }
   ],
   "source": [
    "# Compute and print AUC score\n",
    "print(\"AUC: {}\".format(roc_auc_score(y_test, y_pred_prob)))"
   ]
  },
  {
   "cell_type": "code",
   "execution_count": 65,
   "metadata": {
    "collapsed": true
   },
   "outputs": [],
   "source": [
    "# Compute cross-validated AUC scores: cv_auc\n",
    "cv_auc = cross_val_score(logit_reg, X, y, cv=5, scoring='roc_auc')"
   ]
  },
  {
   "cell_type": "code",
   "execution_count": 66,
   "metadata": {},
   "outputs": [
    {
     "name": "stdout",
     "output_type": "stream",
     "text": [
      "AUC scores computed using 5-fold cross-validation: [ 0.99813458  0.99929631  0.99785664  0.99864346  0.99807289]\n"
     ]
    }
   ],
   "source": [
    "# Print list of AUC scores\n",
    "print(\"AUC scores computed using 5-fold cross-validation: {}\".format(cv_auc))"
   ]
  },
  {
   "cell_type": "markdown",
   "metadata": {},
   "source": [
    "## Back to Logistic Regression"
   ]
  },
  {
   "cell_type": "code",
   "execution_count": 67,
   "metadata": {},
   "outputs": [
    {
     "data": {
      "text/plain": [
       "LogisticRegression(C=1.0, class_weight=None, dual=False, fit_intercept=True,\n",
       "          intercept_scaling=1, max_iter=100, multi_class='ovr', n_jobs=1,\n",
       "          penalty='l2', random_state=None, solver='liblinear', tol=0.0001,\n",
       "          verbose=0, warm_start=False)"
      ]
     },
     "execution_count": 67,
     "metadata": {},
     "output_type": "execute_result"
    }
   ],
   "source": [
    "X_train, X_test, y_train, y_test = train_test_split(X, y, test_size=0.3, random_state=0)\n",
    "from sklearn.linear_model import LogisticRegression\n",
    "from sklearn import metrics\n",
    "logreg = LogisticRegression()\n",
    "logreg.fit(X_train, y_train)"
   ]
  },
  {
   "cell_type": "code",
   "execution_count": 68,
   "metadata": {},
   "outputs": [
    {
     "name": "stdout",
     "output_type": "stream",
     "text": [
      "Accuracy of logistic regression classifier on test set: 1.00\n"
     ]
    }
   ],
   "source": [
    "y_pred = logreg.predict(X_test)\n",
    "print('Accuracy of logistic regression classifier on test set: {:.2f}'.format(logreg.score(X_test, y_test)))"
   ]
  },
  {
   "cell_type": "code",
   "execution_count": 69,
   "metadata": {},
   "outputs": [
    {
     "name": "stdout",
     "output_type": "stream",
     "text": [
      "10-fold cross validation average accuracy: 0.987\n"
     ]
    }
   ],
   "source": [
    "from sklearn import model_selection\n",
    "from sklearn.model_selection import cross_val_score\n",
    "kfold = model_selection.KFold(n_splits=10, random_state=7)\n",
    "modelCV = LogisticRegression()\n",
    "scoring = 'accuracy'\n",
    "results = model_selection.cross_val_score(modelCV, X_train, y_train, cv=kfold, scoring=scoring)\n",
    "print(\"10-fold cross validation average accuracy: %.3f\" % (results.mean()))"
   ]
  },
  {
   "cell_type": "markdown",
   "metadata": {},
   "source": [
    "### GridSearchCV"
   ]
  },
  {
   "cell_type": "code",
   "execution_count": 70,
   "metadata": {
    "collapsed": true
   },
   "outputs": [],
   "source": [
    "# from sklearn.model_selection import GridSearchCV\n",
    "\n",
    "# param_grid = { 'n_neighbors': np.arange( 1, 50 ) }\n",
    "# logreg = LogisticRegression()\n",
    "# logreg_cv = GridSearchCV( logreg, param_grid, cv=5 )\n",
    "# logreg_cv.fit( X, y )\n",
    "\n",
    "\n",
    "# print(logreg_cv.best_params_),\n",
    "# print(logreg_cv.best_score_)\n"
   ]
  },
  {
   "cell_type": "markdown",
   "metadata": {},
   "source": [
    "## Comparing Algorithms"
   ]
  },
  {
   "cell_type": "code",
   "execution_count": 71,
   "metadata": {},
   "outputs": [
    {
     "name": "stdout",
     "output_type": "stream",
     "text": [
      "Logistic Regression: 0.986216 (0.013842)\n",
      "LDA: 0.626157 (0.092132)\n"
     ]
    },
    {
     "name": "stderr",
     "output_type": "stream",
     "text": [
      "/Users/jg/anaconda/lib/python2.7/site-packages/sklearn/discriminant_analysis.py:387: UserWarning: Variables are collinear.\n",
      "  warnings.warn(\"Variables are collinear.\")\n"
     ]
    },
    {
     "name": "stdout",
     "output_type": "stream",
     "text": [
      "KNearestneighbors: 0.942091 (0.007824)\n",
      "Classification And Regression Trees: 0.970106 (0.004131)\n",
      "NB: 0.857067 (0.014922)\n",
      "SVM: 0.640382 (0.050608)\n"
     ]
    }
   ],
   "source": [
    "# this cell takes about 90 seconds to run,... mostly bc of SVM\n",
    "# Compare Algorithms\n",
    "import pandas\n",
    "import matplotlib.pyplot as plt\n",
    "from sklearn import model_selection\n",
    "from sklearn.linear_model import LogisticRegression\n",
    "from sklearn.tree import DecisionTreeClassifier\n",
    "from sklearn.neighbors import KNeighborsClassifier\n",
    "from sklearn.discriminant_analysis import LinearDiscriminantAnalysis\n",
    "from sklearn.ensemble import RandomForestRegressor\n",
    "from sklearn.ensemble import RandomForestClassifier\n",
    "from sklearn.naive_bayes import GaussianNB\n",
    "from sklearn.svm import SVC\n",
    "\n",
    "seed = 42\n",
    "# prepare list for models\n",
    "models = []\n",
    "models.append(('Logistic Regression', LogisticRegression()))\n",
    "models.append(('LDA', LinearDiscriminantAnalysis()))\n",
    "models.append(('KNearestneighbors', KNeighborsClassifier()))\n",
    "models.append(('Classification And Regression Trees', DecisionTreeClassifier()))\n",
    "models.append(('NB', GaussianNB()))\n",
    "# models.append(('RFRg', RandomForestRegressor(n_estimators = 100,oob_score = True, n_jobs = -1, random_state=seed)))\n",
    "models.append(('SVM', SVC()))\n",
    "# evaluate each model in turn\n",
    "results = []\n",
    "names = []\n",
    "scoring = 'accuracy'\n",
    "for name, model in models:\n",
    "    kfold = model_selection.KFold(n_splits=10, random_state=seed)\n",
    "    cv_results = model_selection.cross_val_score(model, X, y, cv=kfold, scoring=scoring)\n",
    "    results.append(cv_results)\n",
    "    names.append(name)\n",
    "    msg = \"%s: %f (%f)\" % (name, cv_results.mean(), cv_results.std())\n",
    "    print(msg)"
   ]
  },
  {
   "cell_type": "code",
   "execution_count": 1,
   "metadata": {},
   "outputs": [
    {
     "ename": "NameError",
     "evalue": "name 'plt' is not defined",
     "output_type": "error",
     "traceback": [
      "\u001b[0;31m---------------------------------------------------------------------------\u001b[0m",
      "\u001b[0;31mNameError\u001b[0m                                 Traceback (most recent call last)",
      "\u001b[0;32m<ipython-input-1-4da3b0a3785b>\u001b[0m in \u001b[0;36m<module>\u001b[0;34m()\u001b[0m\n\u001b[1;32m      1\u001b[0m \u001b[0;31m# boxplot algorithm comparison\u001b[0m\u001b[0;34m\u001b[0m\u001b[0;34m\u001b[0m\u001b[0m\n\u001b[0;32m----> 2\u001b[0;31m \u001b[0mfig\u001b[0m \u001b[0;34m=\u001b[0m \u001b[0mplt\u001b[0m\u001b[0;34m.\u001b[0m\u001b[0mfigure\u001b[0m\u001b[0;34m(\u001b[0m\u001b[0mfigsize\u001b[0m\u001b[0;34m=\u001b[0m\u001b[0;34m(\u001b[0m\u001b[0;36m20\u001b[0m\u001b[0;34m,\u001b[0m \u001b[0;36m30\u001b[0m\u001b[0;34m)\u001b[0m\u001b[0;34m)\u001b[0m\u001b[0;34m\u001b[0m\u001b[0m\n\u001b[0m\u001b[1;32m      3\u001b[0m \u001b[0mfig\u001b[0m\u001b[0;34m.\u001b[0m\u001b[0msuptitle\u001b[0m\u001b[0;34m(\u001b[0m\u001b[0;34m'Supervised Machine Learning Algorithm Comparison'\u001b[0m\u001b[0;34m)\u001b[0m\u001b[0;34m\u001b[0m\u001b[0m\n\u001b[1;32m      4\u001b[0m \u001b[0max\u001b[0m \u001b[0;34m=\u001b[0m \u001b[0mfig\u001b[0m\u001b[0;34m.\u001b[0m\u001b[0madd_subplot\u001b[0m\u001b[0;34m(\u001b[0m\u001b[0;36m111\u001b[0m\u001b[0;34m)\u001b[0m\u001b[0;34m\u001b[0m\u001b[0m\n\u001b[1;32m      5\u001b[0m \u001b[0mplt\u001b[0m\u001b[0;34m.\u001b[0m\u001b[0mboxplot\u001b[0m\u001b[0;34m(\u001b[0m\u001b[0mresults\u001b[0m\u001b[0;34m)\u001b[0m\u001b[0;34m\u001b[0m\u001b[0m\n",
      "\u001b[0;31mNameError\u001b[0m: name 'plt' is not defined"
     ]
    }
   ],
   "source": [
    "# boxplot algorithm comparison\n",
    "fig = plt.figure(figsize=(20, 30))\n",
    "fig.suptitle('Supervised Machine Learning Algorithm Comparison')\n",
    "ax = fig.add_subplot(111)\n",
    "plt.boxplot(results)\n",
    "ax.set_xticklabels(names)\n",
    "plt.show()"
   ]
  },
  {
   "cell_type": "markdown",
   "metadata": {},
   "source": [
    "Random Forest model\n",
    "- oob_score(out of bag)=True shows model performance with or without using Cross-Validation\n",
    "- Generally the target follows a certain distribution and few observations, then using CV will not give much improvement."
   ]
  },
  {
   "cell_type": "code",
   "execution_count": 73,
   "metadata": {
    "collapsed": true
   },
   "outputs": [],
   "source": [
    "RandomForestmodel = RandomForestClassifier(n_estimators = 100, oob_score = True, n_jobs = 1,random_state =1)"
   ]
  },
  {
   "cell_type": "code",
   "execution_count": 74,
   "metadata": {},
   "outputs": [
    {
     "data": {
      "text/plain": [
       "RandomForestClassifier(bootstrap=True, class_weight=None, criterion='gini',\n",
       "            max_depth=None, max_features='auto', max_leaf_nodes=None,\n",
       "            min_impurity_split=1e-07, min_samples_leaf=1,\n",
       "            min_samples_split=2, min_weight_fraction_leaf=0.0,\n",
       "            n_estimators=100, n_jobs=1, oob_score=True, random_state=1,\n",
       "            verbose=0, warm_start=False)"
      ]
     },
     "execution_count": 74,
     "metadata": {},
     "output_type": "execute_result"
    }
   ],
   "source": [
    "RandomForestmodel.fit(X,y)"
   ]
  },
  {
   "cell_type": "code",
   "execution_count": 75,
   "metadata": {
    "collapsed": true
   },
   "outputs": [],
   "source": [
    "RandomForestmodel_2 = RandomForestClassifier(n_estimators = 100,oob_score = True, n_jobs = -1, random_state=1)"
   ]
  },
  {
   "cell_type": "code",
   "execution_count": 76,
   "metadata": {},
   "outputs": [
    {
     "data": {
      "text/plain": [
       "RandomForestClassifier(bootstrap=True, class_weight=None, criterion='gini',\n",
       "            max_depth=None, max_features='auto', max_leaf_nodes=None,\n",
       "            min_impurity_split=1e-07, min_samples_leaf=1,\n",
       "            min_samples_split=2, min_weight_fraction_leaf=0.0,\n",
       "            n_estimators=100, n_jobs=-1, oob_score=True, random_state=1,\n",
       "            verbose=0, warm_start=False)"
      ]
     },
     "execution_count": 76,
     "metadata": {},
     "output_type": "execute_result"
    }
   ],
   "source": [
    "RandomForestmodel_2.fit(X,y)"
   ]
  },
  {
   "cell_type": "markdown",
   "metadata": {
    "collapsed": true
   },
   "source": [
    "## another Random forest Model"
   ]
  },
  {
   "cell_type": "code",
   "execution_count": 77,
   "metadata": {
    "collapsed": true
   },
   "outputs": [],
   "source": [
    "RF_model =  RandomForestRegressor(n_estimators = 100 , oob_score =True, random_state = 42)"
   ]
  },
  {
   "cell_type": "code",
   "execution_count": 78,
   "metadata": {},
   "outputs": [
    {
     "data": {
      "text/plain": [
       "array([  5.32733481e-02,   5.82420115e-02,   5.68543669e-03,\n",
       "         5.42954668e-02,   4.81342570e-04,   5.59988183e-02,\n",
       "         1.16570321e-03,   7.89451257e-04,   7.51200632e-01,\n",
       "         4.06927589e-03,   2.47228557e-03,   6.82354293e-03,\n",
       "         5.16167175e-04,   4.98651749e-03])"
      ]
     },
     "execution_count": 78,
     "metadata": {},
     "output_type": "execute_result"
    }
   ],
   "source": [
    "RF_model.fit(X,y).feature_importances_"
   ]
  },
  {
   "cell_type": "code",
   "execution_count": 79,
   "metadata": {},
   "outputs": [
    {
     "data": {
      "text/plain": [
       "RandomForestRegressor(bootstrap=True, criterion='mse', max_depth=None,\n",
       "           max_features='auto', max_leaf_nodes=None,\n",
       "           min_impurity_split=1e-07, min_samples_leaf=1,\n",
       "           min_samples_split=2, min_weight_fraction_leaf=0.0,\n",
       "           n_estimators=100, n_jobs=1, oob_score=True, random_state=42,\n",
       "           verbose=0, warm_start=False)"
      ]
     },
     "execution_count": 79,
     "metadata": {},
     "output_type": "execute_result"
    }
   ],
   "source": [
    "RF_model.fit(X, y)"
   ]
  },
  {
   "cell_type": "code",
   "execution_count": 80,
   "metadata": {},
   "outputs": [
    {
     "data": {
      "text/plain": [
       "array([  5.32733481e-02,   5.82420115e-02,   5.68543669e-03,\n",
       "         5.42954668e-02,   4.81342570e-04,   5.59988183e-02,\n",
       "         1.16570321e-03,   7.89451257e-04,   7.51200632e-01,\n",
       "         4.06927589e-03,   2.47228557e-03,   6.82354293e-03,\n",
       "         5.16167175e-04,   4.98651749e-03])"
      ]
     },
     "execution_count": 80,
     "metadata": {},
     "output_type": "execute_result"
    }
   ],
   "source": [
    "RF_model.feature_importances_"
   ]
  },
  {
   "cell_type": "code",
   "execution_count": 81,
   "metadata": {},
   "outputs": [
    {
     "name": "stdout",
     "output_type": "stream",
     "text": [
      "AUC - ROC :  0.99880608417\n"
     ]
    }
   ],
   "source": [
    "print \"AUC - ROC : \", roc_auc_score(y, RF_model.oob_prediction_)"
   ]
  },
  {
   "cell_type": "code",
   "execution_count": 82,
   "metadata": {
    "collapsed": true
   },
   "outputs": [],
   "source": [
    "from collections import OrderedDict\n",
    "from sklearn.datasets import make_classification\n",
    "from sklearn.ensemble import RandomForestClassifier, ExtraTreesClassifier"
   ]
  },
  {
   "cell_type": "code",
   "execution_count": 83,
   "metadata": {},
   "outputs": [
    {
     "name": "stderr",
     "output_type": "stream",
     "text": [
      "/Users/jg/anaconda/lib/python2.7/site-packages/sklearn/ensemble/forest.py:439: UserWarning: Some inputs do not have OOB scores. This probably means too few trees were used to compute any reliable oob estimates.\n",
      "  warn(\"Some inputs do not have OOB scores. \"\n",
      "/Users/jg/anaconda/lib/python2.7/site-packages/sklearn/ensemble/forest.py:444: RuntimeWarning: invalid value encountered in true_divide\n",
      "  predictions[k].sum(axis=1)[:, np.newaxis])\n"
     ]
    },
    {
     "data": {
      "image/png": "[encoded data removed]",
      "text/plain": [
       "<matplotlib.figure.Figure at 0x117d68810>"
      ]
     },
     "metadata": {},
     "output_type": "display_data"
    }
   ],
   "source": [
    "# this cell takes about 90 seconds to run\n",
    "RANDOM_STATE = 42\n",
    "ensemble_clfs = [\n",
    "    (\"RandomForestClassifier, max_features='sqrt'\",\n",
    "        RandomForestClassifier(warm_start=True, oob_score=True,\n",
    "                               max_features=\"sqrt\",\n",
    "                               random_state=RANDOM_STATE)),\n",
    "    (\"RandomForestClassifier, max_features='log2'\",\n",
    "        RandomForestClassifier(warm_start=True, max_features='log2',\n",
    "                               oob_score=True,\n",
    "                               random_state=RANDOM_STATE)),\n",
    "    (\"RandomForestClassifier, max_features=None\",\n",
    "        RandomForestClassifier(warm_start=True, max_features=None,\n",
    "                               oob_score=True,\n",
    "                               random_state=RANDOM_STATE)),\n",
    "    (\"RandomForestClassifier, max_features=2\",\n",
    "        RandomForestClassifier(warm_start=True, max_features=2,\n",
    "                               oob_score=True,\n",
    "                               random_state=RANDOM_STATE))\n",
    "]\n",
    "\n",
    "# Map a classifier name to a list of (<n_estimators>, <error rate>) pairs.\n",
    "error_rate = OrderedDict((label, []) for label, _ in ensemble_clfs)\n",
    "\n",
    "# Range of `n_estimators` values to explore.\n",
    "min_estimators = 15\n",
    "max_estimators = 175\n",
    "\n",
    "for label, clf in ensemble_clfs:\n",
    "    for i in range(min_estimators, max_estimators + 1):\n",
    "        clf.set_params(n_estimators=i)\n",
    "        clf.fit(X, y)\n",
    "\n",
    "        # Record the OOB error for each `n_estimators=i` setting.\n",
    "        oob_error = 1 - clf.oob_score_\n",
    "        error_rate[label].append((i, oob_error))\n",
    "\n",
    "# Generate the \"OOB error rate\" vs. \"n_estimators\" plot.\n",
    "for label, clf_err in error_rate.items():\n",
    "    xs, ys = zip(*clf_err)\n",
    "    plt.plot(xs, ys, label=label)\n",
    "\n",
    "plt.xlim(min_estimators, max_estimators)\n",
    "plt.xlabel(\"n_estimators\")\n",
    "plt.ylabel(\"OOB error rate\")\n",
    "plt.legend(loc=\"upper right\")\n",
    "plt.show()"
   ]
  },
  {
   "cell_type": "code",
   "execution_count": null,
   "metadata": {
    "collapsed": true
   },
   "outputs": [],
   "source": []
  },
  {
   "cell_type": "markdown",
   "metadata": {},
   "source": [
    "#### Twice the estimators\n",
    "and multiple leaf options using the regressor"
   ]
  },
  {
   "cell_type": "code",
   "execution_count": 84,
   "metadata": {},
   "outputs": [
    {
     "name": "stdout",
     "output_type": "stream",
     "text": [
      "CPU times: user 3 µs, sys: 1 µs, total: 4 µs\n",
      "Wall time: 6.91 µs\n",
      "Leaf Size: 1     AUC - ROC :  0.998862990345\n",
      "Leaf Size: 5     AUC - ROC :  0.998787198568\n",
      "Leaf Size: 10     AUC - ROC :  0.99849487073\n",
      "Leaf Size: 50     AUC - ROC :  0.996633707966\n",
      "Leaf Size: 100     AUC - ROC :  0.995006188027\n",
      "Leaf Size: 200     AUC - ROC :  0.991450208742\n",
      "Leaf Size: 500     AUC - ROC :  0.988021341528\n"
     ]
    }
   ],
   "source": [
    "%time  \n",
    "%timeit\n",
    "sample_leaf_options = [1,5,10,50,100,200,500]\n",
    "for leaf_size in sample_leaf_options :\n",
    "    model_RF_loop = RandomForestRegressor(\n",
    "        n_estimators = 200, \n",
    "        oob_score = True, \n",
    "        n_jobs = -1,\n",
    "        random_state = 42,\n",
    "        max_features = \"auto\", \n",
    "        min_samples_leaf = leaf_size)\n",
    "    model_RF_loop.fit(X, y)\n",
    "    print \"Leaf Size:\", leaf_size, \"    AUC - ROC : \", roc_auc_score(y, model_RF_loop.oob_prediction_ )"
   ]
  },
  {
   "cell_type": "markdown",
   "metadata": {},
   "source": [
    "### Graphing"
   ]
  },
  {
   "cell_type": "code",
   "execution_count": 85,
   "metadata": {},
   "outputs": [
    {
     "data": {
      "text/plain": [
       "<matplotlib.axes._subplots.AxesSubplot at 0x1180adb10>"
      ]
     },
     "execution_count": 85,
     "metadata": {},
     "output_type": "execute_result"
    },
    {
     "data": {
      "image/png": "[encoded data removed]",
      "text/plain": [
       "<matplotlib.figure.Figure at 0x117f90990>"
      ]
     },
     "metadata": {},
     "output_type": "display_data"
    }
   ],
   "source": [
    "sns.boxplot( 'target', 'carrier', data = data, width=.2)"
   ]
  },
  {
   "cell_type": "code",
   "execution_count": 86,
   "metadata": {},
   "outputs": [
    {
     "data": {
      "text/plain": [
       "<matplotlib.legend.Legend at 0x1184d6c10>"
      ]
     },
     "execution_count": 86,
     "metadata": {},
     "output_type": "execute_result"
    },
    {
     "data": {
      "image/png": "[encoded data removed]",
      "text/plain": [
       "<matplotlib.figure.Figure at 0x117d6c410>"
      ]
     },
     "metadata": {},
     "output_type": "display_data"
    }
   ],
   "source": [
    "sns.distplot( data[\"arr_delay\"] , color=\"skyblue\", label=\"arr_delay\")\n",
    "sns.distplot( data[\"arr_cancelled\"] , color=\"red\", label=\"carrier_delay\")\n",
    "sns.plt.legend()"
   ]
  },
  {
   "cell_type": "code",
   "execution_count": 87,
   "metadata": {},
   "outputs": [
    {
     "data": {
      "text/plain": [
       "<matplotlib.axes._subplots.AxesSubplot at 0x1161efb90>"
      ]
     },
     "execution_count": 87,
     "metadata": {},
     "output_type": "execute_result"
    },
    {
     "data": {
      "image/png": "[encoded data removed]",
      "text/plain": [
       "<matplotlib.figure.Figure at 0x117f42210>"
      ]
     },
     "metadata": {},
     "output_type": "display_data"
    }
   ],
   "source": [
    "sns.regplot(x=data[\"target\"], y=data[\"nas_ct\"], fit_reg=False)"
   ]
  },
  {
   "cell_type": "markdown",
   "metadata": {},
   "source": [
    "Group the data in ways that shows insights"
   ]
  },
  {
   "cell_type": "code",
   "execution_count": 88,
   "metadata": {
    "collapsed": true
   },
   "outputs": [],
   "source": [
    "airport_grouping = data.iloc[:, [0, 1, 2, 3, 4,5,6,7]].groupby(by=['airport_name', 'carrier', 'year', 'month'])"
   ]
  },
  {
   "cell_type": "code",
   "execution_count": 89,
   "metadata": {
    "scrolled": true
   },
   "outputs": [
    {
     "data": {
      "text/html": [
       "<div>\n",
       "<style>\n",
       "    .dataframe thead tr:only-child th {\n",
       "        text-align: right;\n",
       "    }\n",
       "\n",
       "    .dataframe thead th {\n",
       "        text-align: left;\n",
       "    }\n",
       "\n",
       "    .dataframe tbody tr th {\n",
       "        vertical-align: top;\n",
       "    }\n",
       "</style>\n",
       "<table border=\"1\" class=\"dataframe\">\n",
       "  <thead>\n",
       "    <tr style=\"text-align: right;\">\n",
       "      <th></th>\n",
       "      <th></th>\n",
       "      <th></th>\n",
       "      <th></th>\n",
       "      <th>arr_flights</th>\n",
       "      <th>carrier_ct</th>\n",
       "    </tr>\n",
       "    <tr>\n",
       "      <th>airport_name</th>\n",
       "      <th>carrier</th>\n",
       "      <th>year</th>\n",
       "      <th>month</th>\n",
       "      <th></th>\n",
       "      <th></th>\n",
       "    </tr>\n",
       "  </thead>\n",
       "  <tbody>\n",
       "    <tr>\n",
       "      <th rowspan=\"11\" valign=\"top\">Aberdeen, SD: Aberdeen Regional</th>\n",
       "      <th rowspan=\"11\" valign=\"top\">OO</th>\n",
       "      <th rowspan=\"11\" valign=\"top\">2016</th>\n",
       "      <th>1</th>\n",
       "      <td>62.0</td>\n",
       "      <td>0.00</td>\n",
       "    </tr>\n",
       "    <tr>\n",
       "      <th>2</th>\n",
       "      <td>58.0</td>\n",
       "      <td>5.63</td>\n",
       "    </tr>\n",
       "    <tr>\n",
       "      <th>3</th>\n",
       "      <td>62.0</td>\n",
       "      <td>2.23</td>\n",
       "    </tr>\n",
       "    <tr>\n",
       "      <th>4</th>\n",
       "      <td>60.0</td>\n",
       "      <td>1.00</td>\n",
       "    </tr>\n",
       "    <tr>\n",
       "      <th>5</th>\n",
       "      <td>62.0</td>\n",
       "      <td>1.00</td>\n",
       "    </tr>\n",
       "    <tr>\n",
       "      <th>6</th>\n",
       "      <td>60.0</td>\n",
       "      <td>1.48</td>\n",
       "    </tr>\n",
       "    <tr>\n",
       "      <th>7</th>\n",
       "      <td>62.0</td>\n",
       "      <td>1.93</td>\n",
       "    </tr>\n",
       "    <tr>\n",
       "      <th>8</th>\n",
       "      <td>62.0</td>\n",
       "      <td>0.66</td>\n",
       "    </tr>\n",
       "    <tr>\n",
       "      <th>9</th>\n",
       "      <td>60.0</td>\n",
       "      <td>1.75</td>\n",
       "    </tr>\n",
       "    <tr>\n",
       "      <th>10</th>\n",
       "      <td>69.0</td>\n",
       "      <td>1.00</td>\n",
       "    </tr>\n",
       "    <tr>\n",
       "      <th>11</th>\n",
       "      <td>65.0</td>\n",
       "      <td>0.89</td>\n",
       "    </tr>\n",
       "    <tr>\n",
       "      <th rowspan=\"6\" valign=\"top\">Abilene, TX: Abilene Regional</th>\n",
       "      <th rowspan=\"6\" valign=\"top\">EV</th>\n",
       "      <th rowspan=\"6\" valign=\"top\">2016</th>\n",
       "      <th>6</th>\n",
       "      <td>4.0</td>\n",
       "      <td>1.00</td>\n",
       "    </tr>\n",
       "    <tr>\n",
       "      <th>7</th>\n",
       "      <td>23.0</td>\n",
       "      <td>0.56</td>\n",
       "    </tr>\n",
       "    <tr>\n",
       "      <th>8</th>\n",
       "      <td>27.0</td>\n",
       "      <td>1.60</td>\n",
       "    </tr>\n",
       "    <tr>\n",
       "      <th>9</th>\n",
       "      <td>26.0</td>\n",
       "      <td>3.12</td>\n",
       "    </tr>\n",
       "    <tr>\n",
       "      <th>10</th>\n",
       "      <td>29.0</td>\n",
       "      <td>1.00</td>\n",
       "    </tr>\n",
       "    <tr>\n",
       "      <th>11</th>\n",
       "      <td>25.0</td>\n",
       "      <td>3.54</td>\n",
       "    </tr>\n",
       "    <tr>\n",
       "      <th rowspan=\"11\" valign=\"top\">Adak Island, AK: Adak</th>\n",
       "      <th rowspan=\"11\" valign=\"top\">AS</th>\n",
       "      <th rowspan=\"11\" valign=\"top\">2016</th>\n",
       "      <th>1</th>\n",
       "      <td>9.0</td>\n",
       "      <td>1.00</td>\n",
       "    </tr>\n",
       "    <tr>\n",
       "      <th>2</th>\n",
       "      <td>8.0</td>\n",
       "      <td>1.00</td>\n",
       "    </tr>\n",
       "    <tr>\n",
       "      <th>3</th>\n",
       "      <td>9.0</td>\n",
       "      <td>0.00</td>\n",
       "    </tr>\n",
       "    <tr>\n",
       "      <th>4</th>\n",
       "      <td>8.0</td>\n",
       "      <td>0.00</td>\n",
       "    </tr>\n",
       "    <tr>\n",
       "      <th>5</th>\n",
       "      <td>9.0</td>\n",
       "      <td>0.00</td>\n",
       "    </tr>\n",
       "    <tr>\n",
       "      <th>6</th>\n",
       "      <td>9.0</td>\n",
       "      <td>0.86</td>\n",
       "    </tr>\n",
       "    <tr>\n",
       "      <th>7</th>\n",
       "      <td>9.0</td>\n",
       "      <td>2.00</td>\n",
       "    </tr>\n",
       "    <tr>\n",
       "      <th>8</th>\n",
       "      <td>8.0</td>\n",
       "      <td>0.06</td>\n",
       "    </tr>\n",
       "    <tr>\n",
       "      <th>9</th>\n",
       "      <td>9.0</td>\n",
       "      <td>0.00</td>\n",
       "    </tr>\n",
       "    <tr>\n",
       "      <th>10</th>\n",
       "      <td>9.0</td>\n",
       "      <td>0.00</td>\n",
       "    </tr>\n",
       "    <tr>\n",
       "      <th>11</th>\n",
       "      <td>8.0</td>\n",
       "      <td>0.00</td>\n",
       "    </tr>\n",
       "    <tr>\n",
       "      <th rowspan=\"2\" valign=\"top\">Aguadilla, PR: Rafael Hernandez</th>\n",
       "      <th rowspan=\"2\" valign=\"top\">B6</th>\n",
       "      <th rowspan=\"2\" valign=\"top\">2016</th>\n",
       "      <th>1</th>\n",
       "      <td>123.0</td>\n",
       "      <td>14.59</td>\n",
       "    </tr>\n",
       "    <tr>\n",
       "      <th>2</th>\n",
       "      <td>67.0</td>\n",
       "      <td>7.24</td>\n",
       "    </tr>\n",
       "    <tr>\n",
       "      <th>...</th>\n",
       "      <th>...</th>\n",
       "      <th>...</th>\n",
       "      <th>...</th>\n",
       "      <td>...</td>\n",
       "      <td>...</td>\n",
       "    </tr>\n",
       "    <tr>\n",
       "      <th rowspan=\"8\" valign=\"top\">Wrangell, AK: Wrangell Airport</th>\n",
       "      <th rowspan=\"8\" valign=\"top\">AS</th>\n",
       "      <th rowspan=\"8\" valign=\"top\">2016</th>\n",
       "      <th>4</th>\n",
       "      <td>60.0</td>\n",
       "      <td>0.00</td>\n",
       "    </tr>\n",
       "    <tr>\n",
       "      <th>5</th>\n",
       "      <td>62.0</td>\n",
       "      <td>0.77</td>\n",
       "    </tr>\n",
       "    <tr>\n",
       "      <th>6</th>\n",
       "      <td>60.0</td>\n",
       "      <td>0.58</td>\n",
       "    </tr>\n",
       "    <tr>\n",
       "      <th>7</th>\n",
       "      <td>62.0</td>\n",
       "      <td>2.88</td>\n",
       "    </tr>\n",
       "    <tr>\n",
       "      <th>8</th>\n",
       "      <td>62.0</td>\n",
       "      <td>0.00</td>\n",
       "    </tr>\n",
       "    <tr>\n",
       "      <th>9</th>\n",
       "      <td>60.0</td>\n",
       "      <td>3.89</td>\n",
       "    </tr>\n",
       "    <tr>\n",
       "      <th>10</th>\n",
       "      <td>62.0</td>\n",
       "      <td>2.98</td>\n",
       "    </tr>\n",
       "    <tr>\n",
       "      <th>11</th>\n",
       "      <td>58.0</td>\n",
       "      <td>1.16</td>\n",
       "    </tr>\n",
       "    <tr>\n",
       "      <th rowspan=\"11\" valign=\"top\">Yakutat, AK: Yakutat Airport</th>\n",
       "      <th rowspan=\"11\" valign=\"top\">AS</th>\n",
       "      <th rowspan=\"11\" valign=\"top\">2016</th>\n",
       "      <th>1</th>\n",
       "      <td>60.0</td>\n",
       "      <td>0.20</td>\n",
       "    </tr>\n",
       "    <tr>\n",
       "      <th>2</th>\n",
       "      <td>58.0</td>\n",
       "      <td>0.00</td>\n",
       "    </tr>\n",
       "    <tr>\n",
       "      <th>3</th>\n",
       "      <td>62.0</td>\n",
       "      <td>1.08</td>\n",
       "    </tr>\n",
       "    <tr>\n",
       "      <th>4</th>\n",
       "      <td>60.0</td>\n",
       "      <td>1.94</td>\n",
       "    </tr>\n",
       "    <tr>\n",
       "      <th>5</th>\n",
       "      <td>61.0</td>\n",
       "      <td>0.19</td>\n",
       "    </tr>\n",
       "    <tr>\n",
       "      <th>6</th>\n",
       "      <td>60.0</td>\n",
       "      <td>1.20</td>\n",
       "    </tr>\n",
       "    <tr>\n",
       "      <th>7</th>\n",
       "      <td>61.0</td>\n",
       "      <td>0.48</td>\n",
       "    </tr>\n",
       "    <tr>\n",
       "      <th>8</th>\n",
       "      <td>62.0</td>\n",
       "      <td>2.10</td>\n",
       "    </tr>\n",
       "    <tr>\n",
       "      <th>9</th>\n",
       "      <td>60.0</td>\n",
       "      <td>0.06</td>\n",
       "    </tr>\n",
       "    <tr>\n",
       "      <th>10</th>\n",
       "      <td>62.0</td>\n",
       "      <td>1.00</td>\n",
       "    </tr>\n",
       "    <tr>\n",
       "      <th>11</th>\n",
       "      <td>58.0</td>\n",
       "      <td>0.67</td>\n",
       "    </tr>\n",
       "    <tr>\n",
       "      <th rowspan=\"11\" valign=\"top\">Yuma, AZ: Yuma MCAS/Yuma International</th>\n",
       "      <th rowspan=\"11\" valign=\"top\">OO</th>\n",
       "      <th rowspan=\"11\" valign=\"top\">2016</th>\n",
       "      <th>1</th>\n",
       "      <td>177.0</td>\n",
       "      <td>11.43</td>\n",
       "    </tr>\n",
       "    <tr>\n",
       "      <th>2</th>\n",
       "      <td>165.0</td>\n",
       "      <td>6.65</td>\n",
       "    </tr>\n",
       "    <tr>\n",
       "      <th>3</th>\n",
       "      <td>177.0</td>\n",
       "      <td>7.12</td>\n",
       "    </tr>\n",
       "    <tr>\n",
       "      <th>4</th>\n",
       "      <td>174.0</td>\n",
       "      <td>3.32</td>\n",
       "    </tr>\n",
       "    <tr>\n",
       "      <th>5</th>\n",
       "      <td>174.0</td>\n",
       "      <td>1.60</td>\n",
       "    </tr>\n",
       "    <tr>\n",
       "      <th>6</th>\n",
       "      <td>167.0</td>\n",
       "      <td>1.92</td>\n",
       "    </tr>\n",
       "    <tr>\n",
       "      <th>7</th>\n",
       "      <td>170.0</td>\n",
       "      <td>4.67</td>\n",
       "    </tr>\n",
       "    <tr>\n",
       "      <th>8</th>\n",
       "      <td>168.0</td>\n",
       "      <td>13.63</td>\n",
       "    </tr>\n",
       "    <tr>\n",
       "      <th>9</th>\n",
       "      <td>154.0</td>\n",
       "      <td>5.57</td>\n",
       "    </tr>\n",
       "    <tr>\n",
       "      <th>10</th>\n",
       "      <td>171.0</td>\n",
       "      <td>2.51</td>\n",
       "    </tr>\n",
       "    <tr>\n",
       "      <th>11</th>\n",
       "      <td>145.0</td>\n",
       "      <td>4.33</td>\n",
       "    </tr>\n",
       "  </tbody>\n",
       "</table>\n",
       "<p>11173 rows × 2 columns</p>\n",
       "</div>"
      ],
      "text/plain": [
       "                                                           arr_flights  \\\n",
       "airport_name                           carrier year month                \n",
       "Aberdeen, SD: Aberdeen Regional        OO      2016 1             62.0   \n",
       "                                                    2             58.0   \n",
       "                                                    3             62.0   \n",
       "                                                    4             60.0   \n",
       "                                                    5             62.0   \n",
       "                                                    6             60.0   \n",
       "                                                    7             62.0   \n",
       "                                                    8             62.0   \n",
       "                                                    9             60.0   \n",
       "                                                    10            69.0   \n",
       "                                                    11            65.0   \n",
       "Abilene, TX: Abilene Regional          EV      2016 6              4.0   \n",
       "                                                    7             23.0   \n",
       "                                                    8             27.0   \n",
       "                                                    9             26.0   \n",
       "                                                    10            29.0   \n",
       "                                                    11            25.0   \n",
       "Adak Island, AK: Adak                  AS      2016 1              9.0   \n",
       "                                                    2              8.0   \n",
       "                                                    3              9.0   \n",
       "                                                    4              8.0   \n",
       "                                                    5              9.0   \n",
       "                                                    6              9.0   \n",
       "                                                    7              9.0   \n",
       "                                                    8              8.0   \n",
       "                                                    9              9.0   \n",
       "                                                    10             9.0   \n",
       "                                                    11             8.0   \n",
       "Aguadilla, PR: Rafael Hernandez        B6      2016 1            123.0   \n",
       "                                                    2             67.0   \n",
       "...                                                                ...   \n",
       "Wrangell, AK: Wrangell Airport         AS      2016 4             60.0   \n",
       "                                                    5             62.0   \n",
       "                                                    6             60.0   \n",
       "                                                    7             62.0   \n",
       "                                                    8             62.0   \n",
       "                                                    9             60.0   \n",
       "                                                    10            62.0   \n",
       "                                                    11            58.0   \n",
       "Yakutat, AK: Yakutat Airport           AS      2016 1             60.0   \n",
       "                                                    2             58.0   \n",
       "                                                    3             62.0   \n",
       "                                                    4             60.0   \n",
       "                                                    5             61.0   \n",
       "                                                    6             60.0   \n",
       "                                                    7             61.0   \n",
       "                                                    8             62.0   \n",
       "                                                    9             60.0   \n",
       "                                                    10            62.0   \n",
       "                                                    11            58.0   \n",
       "Yuma, AZ: Yuma MCAS/Yuma International OO      2016 1            177.0   \n",
       "                                                    2            165.0   \n",
       "                                                    3            177.0   \n",
       "                                                    4            174.0   \n",
       "                                                    5            174.0   \n",
       "                                                    6            167.0   \n",
       "                                                    7            170.0   \n",
       "                                                    8            168.0   \n",
       "                                                    9            154.0   \n",
       "                                                    10           171.0   \n",
       "                                                    11           145.0   \n",
       "\n",
       "                                                           carrier_ct  \n",
       "airport_name                           carrier year month              \n",
       "Aberdeen, SD: Aberdeen Regional        OO      2016 1            0.00  \n",
       "                                                    2            5.63  \n",
       "                                                    3            2.23  \n",
       "                                                    4            1.00  \n",
       "                                                    5            1.00  \n",
       "                                                    6            1.48  \n",
       "                                                    7            1.93  \n",
       "                                                    8            0.66  \n",
       "                                                    9            1.75  \n",
       "                                                    10           1.00  \n",
       "                                                    11           0.89  \n",
       "Abilene, TX: Abilene Regional          EV      2016 6            1.00  \n",
       "                                                    7            0.56  \n",
       "                                                    8            1.60  \n",
       "                                                    9            3.12  \n",
       "                                                    10           1.00  \n",
       "                                                    11           3.54  \n",
       "Adak Island, AK: Adak                  AS      2016 1            1.00  \n",
       "                                                    2            1.00  \n",
       "                                                    3            0.00  \n",
       "                                                    4            0.00  \n",
       "                                                    5            0.00  \n",
       "                                                    6            0.86  \n",
       "                                                    7            2.00  \n",
       "                                                    8            0.06  \n",
       "                                                    9            0.00  \n",
       "                                                    10           0.00  \n",
       "                                                    11           0.00  \n",
       "Aguadilla, PR: Rafael Hernandez        B6      2016 1           14.59  \n",
       "                                                    2            7.24  \n",
       "...                                                               ...  \n",
       "Wrangell, AK: Wrangell Airport         AS      2016 4            0.00  \n",
       "                                                    5            0.77  \n",
       "                                                    6            0.58  \n",
       "                                                    7            2.88  \n",
       "                                                    8            0.00  \n",
       "                                                    9            3.89  \n",
       "                                                    10           2.98  \n",
       "                                                    11           1.16  \n",
       "Yakutat, AK: Yakutat Airport           AS      2016 1            0.20  \n",
       "                                                    2            0.00  \n",
       "                                                    3            1.08  \n",
       "                                                    4            1.94  \n",
       "                                                    5            0.19  \n",
       "                                                    6            1.20  \n",
       "                                                    7            0.48  \n",
       "                                                    8            2.10  \n",
       "                                                    9            0.06  \n",
       "                                                    10           1.00  \n",
       "                                                    11           0.67  \n",
       "Yuma, AZ: Yuma MCAS/Yuma International OO      2016 1           11.43  \n",
       "                                                    2            6.65  \n",
       "                                                    3            7.12  \n",
       "                                                    4            3.32  \n",
       "                                                    5            1.60  \n",
       "                                                    6            1.92  \n",
       "                                                    7            4.67  \n",
       "                                                    8           13.63  \n",
       "                                                    9            5.57  \n",
       "                                                    10           2.51  \n",
       "                                                    11           4.33  \n",
       "\n",
       "[11173 rows x 2 columns]"
      ]
     },
     "execution_count": 89,
     "metadata": {},
     "output_type": "execute_result"
    }
   ],
   "source": [
    "airport_grouping.sum()"
   ]
  },
  {
   "cell_type": "code",
   "execution_count": 90,
   "metadata": {},
   "outputs": [
    {
     "data": {
      "text/html": [
       "<div>\n",
       "<style>\n",
       "    .dataframe thead tr:only-child th {\n",
       "        text-align: right;\n",
       "    }\n",
       "\n",
       "    .dataframe thead th {\n",
       "        text-align: left;\n",
       "    }\n",
       "\n",
       "    .dataframe tbody tr th {\n",
       "        vertical-align: top;\n",
       "    }\n",
       "</style>\n",
       "<table border=\"1\" class=\"dataframe\">\n",
       "  <thead>\n",
       "    <tr style=\"text-align: right;\">\n",
       "      <th></th>\n",
       "      <th></th>\n",
       "      <th></th>\n",
       "      <th></th>\n",
       "      <th>arr_flights</th>\n",
       "      <th>carrier_ct</th>\n",
       "    </tr>\n",
       "    <tr>\n",
       "      <th>airport_name</th>\n",
       "      <th>carrier</th>\n",
       "      <th>year</th>\n",
       "      <th>month</th>\n",
       "      <th></th>\n",
       "      <th></th>\n",
       "    </tr>\n",
       "  </thead>\n",
       "  <tbody>\n",
       "    <tr>\n",
       "      <th rowspan=\"5\" valign=\"top\">Aberdeen, SD: Aberdeen Regional</th>\n",
       "      <th rowspan=\"5\" valign=\"top\">OO</th>\n",
       "      <th rowspan=\"5\" valign=\"top\">2016</th>\n",
       "      <th>1</th>\n",
       "      <td>62.0</td>\n",
       "      <td>0.00</td>\n",
       "    </tr>\n",
       "    <tr>\n",
       "      <th>2</th>\n",
       "      <td>58.0</td>\n",
       "      <td>5.63</td>\n",
       "    </tr>\n",
       "    <tr>\n",
       "      <th>3</th>\n",
       "      <td>62.0</td>\n",
       "      <td>2.23</td>\n",
       "    </tr>\n",
       "    <tr>\n",
       "      <th>4</th>\n",
       "      <td>60.0</td>\n",
       "      <td>1.00</td>\n",
       "    </tr>\n",
       "    <tr>\n",
       "      <th>5</th>\n",
       "      <td>62.0</td>\n",
       "      <td>1.00</td>\n",
       "    </tr>\n",
       "  </tbody>\n",
       "</table>\n",
       "</div>"
      ],
      "text/plain": [
       "                                                    arr_flights  carrier_ct\n",
       "airport_name                    carrier year month                         \n",
       "Aberdeen, SD: Aberdeen Regional OO      2016 1             62.0        0.00\n",
       "                                             2             58.0        5.63\n",
       "                                             3             62.0        2.23\n",
       "                                             4             60.0        1.00\n",
       "                                             5             62.0        1.00"
      ]
     },
     "execution_count": 90,
     "metadata": {},
     "output_type": "execute_result"
    }
   ],
   "source": [
    "airport_grouping.mean().head()"
   ]
  },
  {
   "cell_type": "code",
   "execution_count": 91,
   "metadata": {},
   "outputs": [
    {
     "data": {
      "text/html": [
       "<div>\n",
       "<style>\n",
       "    .dataframe thead tr:only-child th {\n",
       "        text-align: right;\n",
       "    }\n",
       "\n",
       "    .dataframe thead th {\n",
       "        text-align: left;\n",
       "    }\n",
       "\n",
       "    .dataframe tbody tr th {\n",
       "        vertical-align: top;\n",
       "    }\n",
       "</style>\n",
       "<table border=\"1\" class=\"dataframe\">\n",
       "  <thead>\n",
       "    <tr style=\"text-align: right;\">\n",
       "      <th></th>\n",
       "      <th></th>\n",
       "      <th></th>\n",
       "      <th></th>\n",
       "      <th>arr_flights</th>\n",
       "      <th>carrier_ct</th>\n",
       "    </tr>\n",
       "    <tr>\n",
       "      <th>airport_name</th>\n",
       "      <th>carrier</th>\n",
       "      <th>year</th>\n",
       "      <th>month</th>\n",
       "      <th></th>\n",
       "      <th></th>\n",
       "    </tr>\n",
       "  </thead>\n",
       "  <tbody>\n",
       "    <tr>\n",
       "      <th rowspan=\"5\" valign=\"top\">Aberdeen, SD: Aberdeen Regional</th>\n",
       "      <th rowspan=\"5\" valign=\"top\">OO</th>\n",
       "      <th rowspan=\"5\" valign=\"top\">2016</th>\n",
       "      <th>1</th>\n",
       "      <td>62.0</td>\n",
       "      <td>0.00</td>\n",
       "    </tr>\n",
       "    <tr>\n",
       "      <th>2</th>\n",
       "      <td>58.0</td>\n",
       "      <td>5.63</td>\n",
       "    </tr>\n",
       "    <tr>\n",
       "      <th>3</th>\n",
       "      <td>62.0</td>\n",
       "      <td>2.23</td>\n",
       "    </tr>\n",
       "    <tr>\n",
       "      <th>4</th>\n",
       "      <td>60.0</td>\n",
       "      <td>1.00</td>\n",
       "    </tr>\n",
       "    <tr>\n",
       "      <th>5</th>\n",
       "      <td>62.0</td>\n",
       "      <td>1.00</td>\n",
       "    </tr>\n",
       "  </tbody>\n",
       "</table>\n",
       "</div>"
      ],
      "text/plain": [
       "                                                    arr_flights  carrier_ct\n",
       "airport_name                    carrier year month                         \n",
       "Aberdeen, SD: Aberdeen Regional OO      2016 1             62.0        0.00\n",
       "                                             2             58.0        5.63\n",
       "                                             3             62.0        2.23\n",
       "                                             4             60.0        1.00\n",
       "                                             5             62.0        1.00"
      ]
     },
     "execution_count": 91,
     "metadata": {},
     "output_type": "execute_result"
    }
   ],
   "source": [
    "airport_grouping.median().head()"
   ]
  },
  {
   "cell_type": "code",
   "execution_count": 92,
   "metadata": {},
   "outputs": [
    {
     "data": {
      "text/html": [
       "<div>\n",
       "<style>\n",
       "    .dataframe thead tr:only-child th {\n",
       "        text-align: right;\n",
       "    }\n",
       "\n",
       "    .dataframe thead th {\n",
       "        text-align: left;\n",
       "    }\n",
       "\n",
       "    .dataframe tbody tr th {\n",
       "        vertical-align: top;\n",
       "    }\n",
       "</style>\n",
       "<table border=\"1\" class=\"dataframe\">\n",
       "  <thead>\n",
       "    <tr>\n",
       "      <th></th>\n",
       "      <th></th>\n",
       "      <th></th>\n",
       "      <th></th>\n",
       "      <th colspan=\"8\" halign=\"left\">arr_flights</th>\n",
       "      <th colspan=\"8\" halign=\"left\">carrier_ct</th>\n",
       "    </tr>\n",
       "    <tr>\n",
       "      <th></th>\n",
       "      <th></th>\n",
       "      <th></th>\n",
       "      <th></th>\n",
       "      <th>count</th>\n",
       "      <th>mean</th>\n",
       "      <th>std</th>\n",
       "      <th>min</th>\n",
       "      <th>25%</th>\n",
       "      <th>50%</th>\n",
       "      <th>75%</th>\n",
       "      <th>max</th>\n",
       "      <th>count</th>\n",
       "      <th>mean</th>\n",
       "      <th>std</th>\n",
       "      <th>min</th>\n",
       "      <th>25%</th>\n",
       "      <th>50%</th>\n",
       "      <th>75%</th>\n",
       "      <th>max</th>\n",
       "    </tr>\n",
       "    <tr>\n",
       "      <th>airport_name</th>\n",
       "      <th>carrier</th>\n",
       "      <th>year</th>\n",
       "      <th>month</th>\n",
       "      <th></th>\n",
       "      <th></th>\n",
       "      <th></th>\n",
       "      <th></th>\n",
       "      <th></th>\n",
       "      <th></th>\n",
       "      <th></th>\n",
       "      <th></th>\n",
       "      <th></th>\n",
       "      <th></th>\n",
       "      <th></th>\n",
       "      <th></th>\n",
       "      <th></th>\n",
       "      <th></th>\n",
       "      <th></th>\n",
       "      <th></th>\n",
       "    </tr>\n",
       "  </thead>\n",
       "  <tbody>\n",
       "    <tr>\n",
       "      <th rowspan=\"5\" valign=\"top\">Aberdeen, SD: Aberdeen Regional</th>\n",
       "      <th rowspan=\"5\" valign=\"top\">OO</th>\n",
       "      <th rowspan=\"5\" valign=\"top\">2016</th>\n",
       "      <th>1</th>\n",
       "      <td>1.0</td>\n",
       "      <td>62.0</td>\n",
       "      <td>NaN</td>\n",
       "      <td>62.0</td>\n",
       "      <td>62.0</td>\n",
       "      <td>62.0</td>\n",
       "      <td>62.0</td>\n",
       "      <td>62.0</td>\n",
       "      <td>1.0</td>\n",
       "      <td>0.00</td>\n",
       "      <td>NaN</td>\n",
       "      <td>0.00</td>\n",
       "      <td>0.00</td>\n",
       "      <td>0.00</td>\n",
       "      <td>0.00</td>\n",
       "      <td>0.00</td>\n",
       "    </tr>\n",
       "    <tr>\n",
       "      <th>2</th>\n",
       "      <td>1.0</td>\n",
       "      <td>58.0</td>\n",
       "      <td>NaN</td>\n",
       "      <td>58.0</td>\n",
       "      <td>58.0</td>\n",
       "      <td>58.0</td>\n",
       "      <td>58.0</td>\n",
       "      <td>58.0</td>\n",
       "      <td>1.0</td>\n",
       "      <td>5.63</td>\n",
       "      <td>NaN</td>\n",
       "      <td>5.63</td>\n",
       "      <td>5.63</td>\n",
       "      <td>5.63</td>\n",
       "      <td>5.63</td>\n",
       "      <td>5.63</td>\n",
       "    </tr>\n",
       "    <tr>\n",
       "      <th>3</th>\n",
       "      <td>1.0</td>\n",
       "      <td>62.0</td>\n",
       "      <td>NaN</td>\n",
       "      <td>62.0</td>\n",
       "      <td>62.0</td>\n",
       "      <td>62.0</td>\n",
       "      <td>62.0</td>\n",
       "      <td>62.0</td>\n",
       "      <td>1.0</td>\n",
       "      <td>2.23</td>\n",
       "      <td>NaN</td>\n",
       "      <td>2.23</td>\n",
       "      <td>2.23</td>\n",
       "      <td>2.23</td>\n",
       "      <td>2.23</td>\n",
       "      <td>2.23</td>\n",
       "    </tr>\n",
       "    <tr>\n",
       "      <th>4</th>\n",
       "      <td>1.0</td>\n",
       "      <td>60.0</td>\n",
       "      <td>NaN</td>\n",
       "      <td>60.0</td>\n",
       "      <td>60.0</td>\n",
       "      <td>60.0</td>\n",
       "      <td>60.0</td>\n",
       "      <td>60.0</td>\n",
       "      <td>1.0</td>\n",
       "      <td>1.00</td>\n",
       "      <td>NaN</td>\n",
       "      <td>1.00</td>\n",
       "      <td>1.00</td>\n",
       "      <td>1.00</td>\n",
       "      <td>1.00</td>\n",
       "      <td>1.00</td>\n",
       "    </tr>\n",
       "    <tr>\n",
       "      <th>5</th>\n",
       "      <td>1.0</td>\n",
       "      <td>62.0</td>\n",
       "      <td>NaN</td>\n",
       "      <td>62.0</td>\n",
       "      <td>62.0</td>\n",
       "      <td>62.0</td>\n",
       "      <td>62.0</td>\n",
       "      <td>62.0</td>\n",
       "      <td>1.0</td>\n",
       "      <td>1.00</td>\n",
       "      <td>NaN</td>\n",
       "      <td>1.00</td>\n",
       "      <td>1.00</td>\n",
       "      <td>1.00</td>\n",
       "      <td>1.00</td>\n",
       "      <td>1.00</td>\n",
       "    </tr>\n",
       "  </tbody>\n",
       "</table>\n",
       "</div>"
      ],
      "text/plain": [
       "                                                   arr_flights            \\\n",
       "                                                         count  mean std   \n",
       "airport_name                    carrier year month                         \n",
       "Aberdeen, SD: Aberdeen Regional OO      2016 1             1.0  62.0 NaN   \n",
       "                                             2             1.0  58.0 NaN   \n",
       "                                             3             1.0  62.0 NaN   \n",
       "                                             4             1.0  60.0 NaN   \n",
       "                                             5             1.0  62.0 NaN   \n",
       "\n",
       "                                                                            \\\n",
       "                                                     min   25%   50%   75%   \n",
       "airport_name                    carrier year month                           \n",
       "Aberdeen, SD: Aberdeen Regional OO      2016 1      62.0  62.0  62.0  62.0   \n",
       "                                             2      58.0  58.0  58.0  58.0   \n",
       "                                             3      62.0  62.0  62.0  62.0   \n",
       "                                             4      60.0  60.0  60.0  60.0   \n",
       "                                             5      62.0  62.0  62.0  62.0   \n",
       "\n",
       "                                                         carrier_ct            \\\n",
       "                                                     max      count  mean std   \n",
       "airport_name                    carrier year month                              \n",
       "Aberdeen, SD: Aberdeen Regional OO      2016 1      62.0        1.0  0.00 NaN   \n",
       "                                             2      58.0        1.0  5.63 NaN   \n",
       "                                             3      62.0        1.0  2.23 NaN   \n",
       "                                             4      60.0        1.0  1.00 NaN   \n",
       "                                             5      62.0        1.0  1.00 NaN   \n",
       "\n",
       "                                                                            \\\n",
       "                                                     min   25%   50%   75%   \n",
       "airport_name                    carrier year month                           \n",
       "Aberdeen, SD: Aberdeen Regional OO      2016 1      0.00  0.00  0.00  0.00   \n",
       "                                             2      5.63  5.63  5.63  5.63   \n",
       "                                             3      2.23  2.23  2.23  2.23   \n",
       "                                             4      1.00  1.00  1.00  1.00   \n",
       "                                             5      1.00  1.00  1.00  1.00   \n",
       "\n",
       "                                                          \n",
       "                                                     max  \n",
       "airport_name                    carrier year month        \n",
       "Aberdeen, SD: Aberdeen Regional OO      2016 1      0.00  \n",
       "                                             2      5.63  \n",
       "                                             3      2.23  \n",
       "                                             4      1.00  \n",
       "                                             5      1.00  "
      ]
     },
     "execution_count": 92,
     "metadata": {},
     "output_type": "execute_result"
    }
   ],
   "source": [
    "# this cell takes about a minute to run\n",
    "airport_grouping.describe().head()"
   ]
  },
  {
   "cell_type": "code",
   "execution_count": 93,
   "metadata": {
    "collapsed": true
   },
   "outputs": [],
   "source": [
    "# pd.crosstab(data['arr_flights'], data['arr_del15'])"
   ]
  },
  {
   "cell_type": "markdown",
   "metadata": {},
   "source": [
    "It would be useful to see the data grouped by airport and count of late arrivals"
   ]
  },
  {
   "cell_type": "code",
   "execution_count": 94,
   "metadata": {},
   "outputs": [
    {
     "data": {
      "text/plain": [
       "0    False\n",
       "1    False\n",
       "2    False\n",
       "3    False\n",
       "4    False\n",
       "Name: airport, dtype: bool"
      ]
     },
     "execution_count": 94,
     "metadata": {},
     "output_type": "execute_result"
    }
   ],
   "source": [
    "denver = data.airport == 'DEN'\n",
    "denver.head()"
   ]
  },
  {
   "cell_type": "code",
   "execution_count": 95,
   "metadata": {
    "collapsed": true
   },
   "outputs": [],
   "source": [
    "carrier_grouping = data.iloc[:, [0, 1, 2, 3, 4,5,6,7, 8]].groupby(by=['carrier_name', 'year', 'month'])"
   ]
  },
  {
   "cell_type": "code",
   "execution_count": 96,
   "metadata": {
    "scrolled": true
   },
   "outputs": [
    {
     "data": {
      "text/html": [
       "<div>\n",
       "<style>\n",
       "    .dataframe thead tr:only-child th {\n",
       "        text-align: right;\n",
       "    }\n",
       "\n",
       "    .dataframe thead th {\n",
       "        text-align: left;\n",
       "    }\n",
       "\n",
       "    .dataframe tbody tr th {\n",
       "        vertical-align: top;\n",
       "    }\n",
       "</style>\n",
       "<table border=\"1\" class=\"dataframe\">\n",
       "  <thead>\n",
       "    <tr style=\"text-align: right;\">\n",
       "      <th></th>\n",
       "      <th></th>\n",
       "      <th></th>\n",
       "      <th>arr_flights</th>\n",
       "      <th>carrier_ct</th>\n",
       "      <th>weather_ct</th>\n",
       "    </tr>\n",
       "    <tr>\n",
       "      <th>carrier_name</th>\n",
       "      <th>year</th>\n",
       "      <th>month</th>\n",
       "      <th></th>\n",
       "      <th></th>\n",
       "      <th></th>\n",
       "    </tr>\n",
       "  </thead>\n",
       "  <tbody>\n",
       "    <tr>\n",
       "      <th rowspan=\"11\" valign=\"top\">Alaska Airlines Inc.</th>\n",
       "      <th rowspan=\"11\" valign=\"top\">2016</th>\n",
       "      <th>1</th>\n",
       "      <td>14205.0</td>\n",
       "      <td>410.72</td>\n",
       "      <td>65.10</td>\n",
       "    </tr>\n",
       "    <tr>\n",
       "      <th>2</th>\n",
       "      <td>13399.0</td>\n",
       "      <td>390.42</td>\n",
       "      <td>27.14</td>\n",
       "    </tr>\n",
       "    <tr>\n",
       "      <th>3</th>\n",
       "      <td>14781.0</td>\n",
       "      <td>449.26</td>\n",
       "      <td>22.61</td>\n",
       "    </tr>\n",
       "    <tr>\n",
       "      <th>4</th>\n",
       "      <td>14662.0</td>\n",
       "      <td>382.61</td>\n",
       "      <td>11.59</td>\n",
       "    </tr>\n",
       "    <tr>\n",
       "      <th>5</th>\n",
       "      <td>15385.0</td>\n",
       "      <td>404.49</td>\n",
       "      <td>14.30</td>\n",
       "    </tr>\n",
       "    <tr>\n",
       "      <th>6</th>\n",
       "      <td>15730.0</td>\n",
       "      <td>458.06</td>\n",
       "      <td>35.03</td>\n",
       "    </tr>\n",
       "    <tr>\n",
       "      <th>7</th>\n",
       "      <td>16256.0</td>\n",
       "      <td>466.95</td>\n",
       "      <td>26.67</td>\n",
       "    </tr>\n",
       "    <tr>\n",
       "      <th>8</th>\n",
       "      <td>16455.0</td>\n",
       "      <td>460.72</td>\n",
       "      <td>39.29</td>\n",
       "    </tr>\n",
       "    <tr>\n",
       "      <th>9</th>\n",
       "      <td>13858.0</td>\n",
       "      <td>319.39</td>\n",
       "      <td>24.51</td>\n",
       "    </tr>\n",
       "    <tr>\n",
       "      <th>10</th>\n",
       "      <td>14088.0</td>\n",
       "      <td>342.50</td>\n",
       "      <td>37.36</td>\n",
       "    </tr>\n",
       "    <tr>\n",
       "      <th>11</th>\n",
       "      <td>13946.0</td>\n",
       "      <td>417.04</td>\n",
       "      <td>23.06</td>\n",
       "    </tr>\n",
       "    <tr>\n",
       "      <th rowspan=\"11\" valign=\"top\">American Airlines Inc.</th>\n",
       "      <th rowspan=\"11\" valign=\"top\">2016</th>\n",
       "      <th>1</th>\n",
       "      <td>75580.0</td>\n",
       "      <td>4397.83</td>\n",
       "      <td>374.40</td>\n",
       "    </tr>\n",
       "    <tr>\n",
       "      <th>2</th>\n",
       "      <td>71440.0</td>\n",
       "      <td>3437.04</td>\n",
       "      <td>327.03</td>\n",
       "    </tr>\n",
       "    <tr>\n",
       "      <th>3</th>\n",
       "      <td>79119.0</td>\n",
       "      <td>4301.65</td>\n",
       "      <td>412.13</td>\n",
       "    </tr>\n",
       "    <tr>\n",
       "      <th>4</th>\n",
       "      <td>74859.0</td>\n",
       "      <td>3557.23</td>\n",
       "      <td>315.71</td>\n",
       "    </tr>\n",
       "    <tr>\n",
       "      <th>5</th>\n",
       "      <td>78678.0</td>\n",
       "      <td>4246.90</td>\n",
       "      <td>699.27</td>\n",
       "    </tr>\n",
       "    <tr>\n",
       "      <th>6</th>\n",
       "      <td>79648.0</td>\n",
       "      <td>6277.23</td>\n",
       "      <td>786.37</td>\n",
       "    </tr>\n",
       "    <tr>\n",
       "      <th>7</th>\n",
       "      <td>81678.0</td>\n",
       "      <td>6565.57</td>\n",
       "      <td>953.90</td>\n",
       "    </tr>\n",
       "    <tr>\n",
       "      <th>8</th>\n",
       "      <td>80241.0</td>\n",
       "      <td>6113.78</td>\n",
       "      <td>836.34</td>\n",
       "    </tr>\n",
       "    <tr>\n",
       "      <th>9</th>\n",
       "      <td>72459.0</td>\n",
       "      <td>3634.08</td>\n",
       "      <td>487.08</td>\n",
       "    </tr>\n",
       "    <tr>\n",
       "      <th>10</th>\n",
       "      <td>75171.0</td>\n",
       "      <td>3433.82</td>\n",
       "      <td>86.16</td>\n",
       "    </tr>\n",
       "    <tr>\n",
       "      <th>11</th>\n",
       "      <td>71819.0</td>\n",
       "      <td>3032.41</td>\n",
       "      <td>112.26</td>\n",
       "    </tr>\n",
       "    <tr>\n",
       "      <th rowspan=\"8\" valign=\"top\">Delta Air Lines Inc.</th>\n",
       "      <th rowspan=\"8\" valign=\"top\">2016</th>\n",
       "      <th>1</th>\n",
       "      <td>69711.0</td>\n",
       "      <td>2919.70</td>\n",
       "      <td>549.45</td>\n",
       "    </tr>\n",
       "    <tr>\n",
       "      <th>2</th>\n",
       "      <td>67771.0</td>\n",
       "      <td>2669.67</td>\n",
       "      <td>461.35</td>\n",
       "    </tr>\n",
       "    <tr>\n",
       "      <th>3</th>\n",
       "      <td>78210.0</td>\n",
       "      <td>3034.07</td>\n",
       "      <td>350.46</td>\n",
       "    </tr>\n",
       "    <tr>\n",
       "      <th>4</th>\n",
       "      <td>76607.0</td>\n",
       "      <td>2746.23</td>\n",
       "      <td>160.54</td>\n",
       "    </tr>\n",
       "    <tr>\n",
       "      <th>5</th>\n",
       "      <td>80556.0</td>\n",
       "      <td>3342.27</td>\n",
       "      <td>282.82</td>\n",
       "    </tr>\n",
       "    <tr>\n",
       "      <th>6</th>\n",
       "      <td>81517.0</td>\n",
       "      <td>4103.74</td>\n",
       "      <td>673.44</td>\n",
       "    </tr>\n",
       "    <tr>\n",
       "      <th>7</th>\n",
       "      <td>83677.0</td>\n",
       "      <td>4699.28</td>\n",
       "      <td>890.76</td>\n",
       "    </tr>\n",
       "    <tr>\n",
       "      <th>8</th>\n",
       "      <td>84540.0</td>\n",
       "      <td>5936.10</td>\n",
       "      <td>476.31</td>\n",
       "    </tr>\n",
       "    <tr>\n",
       "      <th>...</th>\n",
       "      <th>...</th>\n",
       "      <th>...</th>\n",
       "      <td>...</td>\n",
       "      <td>...</td>\n",
       "      <td>...</td>\n",
       "    </tr>\n",
       "    <tr>\n",
       "      <th rowspan=\"8\" valign=\"top\">Spirit Air Lines</th>\n",
       "      <th rowspan=\"8\" valign=\"top\">2016</th>\n",
       "      <th>4</th>\n",
       "      <td>11281.0</td>\n",
       "      <td>644.27</td>\n",
       "      <td>47.50</td>\n",
       "    </tr>\n",
       "    <tr>\n",
       "      <th>5</th>\n",
       "      <td>11992.0</td>\n",
       "      <td>623.45</td>\n",
       "      <td>71.68</td>\n",
       "    </tr>\n",
       "    <tr>\n",
       "      <th>6</th>\n",
       "      <td>11605.0</td>\n",
       "      <td>714.68</td>\n",
       "      <td>55.43</td>\n",
       "    </tr>\n",
       "    <tr>\n",
       "      <th>7</th>\n",
       "      <td>11995.0</td>\n",
       "      <td>216.06</td>\n",
       "      <td>17.02</td>\n",
       "    </tr>\n",
       "    <tr>\n",
       "      <th>8</th>\n",
       "      <td>11992.0</td>\n",
       "      <td>303.06</td>\n",
       "      <td>53.37</td>\n",
       "    </tr>\n",
       "    <tr>\n",
       "      <th>9</th>\n",
       "      <td>11151.0</td>\n",
       "      <td>36.98</td>\n",
       "      <td>5.39</td>\n",
       "    </tr>\n",
       "    <tr>\n",
       "      <th>10</th>\n",
       "      <td>11503.0</td>\n",
       "      <td>186.70</td>\n",
       "      <td>5.65</td>\n",
       "    </tr>\n",
       "    <tr>\n",
       "      <th>11</th>\n",
       "      <td>11607.0</td>\n",
       "      <td>324.47</td>\n",
       "      <td>18.37</td>\n",
       "    </tr>\n",
       "    <tr>\n",
       "      <th rowspan=\"11\" valign=\"top\">United Air Lines Inc.</th>\n",
       "      <th rowspan=\"11\" valign=\"top\">2016</th>\n",
       "      <th>1</th>\n",
       "      <td>39761.0</td>\n",
       "      <td>2064.86</td>\n",
       "      <td>294.64</td>\n",
       "    </tr>\n",
       "    <tr>\n",
       "      <th>2</th>\n",
       "      <td>38944.0</td>\n",
       "      <td>1553.06</td>\n",
       "      <td>284.70</td>\n",
       "    </tr>\n",
       "    <tr>\n",
       "      <th>3</th>\n",
       "      <td>44250.0</td>\n",
       "      <td>2330.40</td>\n",
       "      <td>265.09</td>\n",
       "    </tr>\n",
       "    <tr>\n",
       "      <th>4</th>\n",
       "      <td>43281.0</td>\n",
       "      <td>1735.66</td>\n",
       "      <td>160.74</td>\n",
       "    </tr>\n",
       "    <tr>\n",
       "      <th>5</th>\n",
       "      <td>45914.0</td>\n",
       "      <td>2204.20</td>\n",
       "      <td>230.11</td>\n",
       "    </tr>\n",
       "    <tr>\n",
       "      <th>6</th>\n",
       "      <td>46424.0</td>\n",
       "      <td>2865.74</td>\n",
       "      <td>380.90</td>\n",
       "    </tr>\n",
       "    <tr>\n",
       "      <th>7</th>\n",
       "      <td>48049.0</td>\n",
       "      <td>3152.23</td>\n",
       "      <td>571.45</td>\n",
       "    </tr>\n",
       "    <tr>\n",
       "      <th>8</th>\n",
       "      <td>49758.0</td>\n",
       "      <td>3083.73</td>\n",
       "      <td>431.36</td>\n",
       "    </tr>\n",
       "    <tr>\n",
       "      <th>9</th>\n",
       "      <td>46935.0</td>\n",
       "      <td>2259.40</td>\n",
       "      <td>236.23</td>\n",
       "    </tr>\n",
       "    <tr>\n",
       "      <th>10</th>\n",
       "      <td>49951.0</td>\n",
       "      <td>2518.95</td>\n",
       "      <td>65.94</td>\n",
       "    </tr>\n",
       "    <tr>\n",
       "      <th>11</th>\n",
       "      <td>46082.0</td>\n",
       "      <td>1922.49</td>\n",
       "      <td>122.15</td>\n",
       "    </tr>\n",
       "    <tr>\n",
       "      <th rowspan=\"11\" valign=\"top\">Virgin America</th>\n",
       "      <th rowspan=\"11\" valign=\"top\">2016</th>\n",
       "      <th>1</th>\n",
       "      <td>5384.0</td>\n",
       "      <td>237.80</td>\n",
       "      <td>71.20</td>\n",
       "    </tr>\n",
       "    <tr>\n",
       "      <th>2</th>\n",
       "      <td>4941.0</td>\n",
       "      <td>161.30</td>\n",
       "      <td>75.00</td>\n",
       "    </tr>\n",
       "    <tr>\n",
       "      <th>3</th>\n",
       "      <td>5635.0</td>\n",
       "      <td>266.02</td>\n",
       "      <td>71.94</td>\n",
       "    </tr>\n",
       "    <tr>\n",
       "      <th>4</th>\n",
       "      <td>5644.0</td>\n",
       "      <td>237.04</td>\n",
       "      <td>99.94</td>\n",
       "    </tr>\n",
       "    <tr>\n",
       "      <th>5</th>\n",
       "      <td>5847.0</td>\n",
       "      <td>280.78</td>\n",
       "      <td>80.11</td>\n",
       "    </tr>\n",
       "    <tr>\n",
       "      <th>6</th>\n",
       "      <td>5919.0</td>\n",
       "      <td>388.19</td>\n",
       "      <td>106.93</td>\n",
       "    </tr>\n",
       "    <tr>\n",
       "      <th>7</th>\n",
       "      <td>6100.0</td>\n",
       "      <td>357.69</td>\n",
       "      <td>96.58</td>\n",
       "    </tr>\n",
       "    <tr>\n",
       "      <th>8</th>\n",
       "      <td>6071.0</td>\n",
       "      <td>313.22</td>\n",
       "      <td>104.90</td>\n",
       "    </tr>\n",
       "    <tr>\n",
       "      <th>9</th>\n",
       "      <td>5726.0</td>\n",
       "      <td>230.98</td>\n",
       "      <td>96.58</td>\n",
       "    </tr>\n",
       "    <tr>\n",
       "      <th>10</th>\n",
       "      <td>5854.0</td>\n",
       "      <td>226.93</td>\n",
       "      <td>71.84</td>\n",
       "    </tr>\n",
       "    <tr>\n",
       "      <th>11</th>\n",
       "      <td>5917.0</td>\n",
       "      <td>232.53</td>\n",
       "      <td>137.92</td>\n",
       "    </tr>\n",
       "  </tbody>\n",
       "</table>\n",
       "<p>132 rows × 3 columns</p>\n",
       "</div>"
      ],
      "text/plain": [
       "                                   arr_flights  carrier_ct  weather_ct\n",
       "carrier_name           year month                                     \n",
       "Alaska Airlines Inc.   2016 1          14205.0      410.72       65.10\n",
       "                            2          13399.0      390.42       27.14\n",
       "                            3          14781.0      449.26       22.61\n",
       "                            4          14662.0      382.61       11.59\n",
       "                            5          15385.0      404.49       14.30\n",
       "                            6          15730.0      458.06       35.03\n",
       "                            7          16256.0      466.95       26.67\n",
       "                            8          16455.0      460.72       39.29\n",
       "                            9          13858.0      319.39       24.51\n",
       "                            10         14088.0      342.50       37.36\n",
       "                            11         13946.0      417.04       23.06\n",
       "American Airlines Inc. 2016 1          75580.0     4397.83      374.40\n",
       "                            2          71440.0     3437.04      327.03\n",
       "                            3          79119.0     4301.65      412.13\n",
       "                            4          74859.0     3557.23      315.71\n",
       "                            5          78678.0     4246.90      699.27\n",
       "                            6          79648.0     6277.23      786.37\n",
       "                            7          81678.0     6565.57      953.90\n",
       "                            8          80241.0     6113.78      836.34\n",
       "                            9          72459.0     3634.08      487.08\n",
       "                            10         75171.0     3433.82       86.16\n",
       "                            11         71819.0     3032.41      112.26\n",
       "Delta Air Lines Inc.   2016 1          69711.0     2919.70      549.45\n",
       "                            2          67771.0     2669.67      461.35\n",
       "                            3          78210.0     3034.07      350.46\n",
       "                            4          76607.0     2746.23      160.54\n",
       "                            5          80556.0     3342.27      282.82\n",
       "                            6          81517.0     4103.74      673.44\n",
       "                            7          83677.0     4699.28      890.76\n",
       "                            8          84540.0     5936.10      476.31\n",
       "...                                        ...         ...         ...\n",
       "Spirit Air Lines       2016 4          11281.0      644.27       47.50\n",
       "                            5          11992.0      623.45       71.68\n",
       "                            6          11605.0      714.68       55.43\n",
       "                            7          11995.0      216.06       17.02\n",
       "                            8          11992.0      303.06       53.37\n",
       "                            9          11151.0       36.98        5.39\n",
       "                            10         11503.0      186.70        5.65\n",
       "                            11         11607.0      324.47       18.37\n",
       "United Air Lines Inc.  2016 1          39761.0     2064.86      294.64\n",
       "                            2          38944.0     1553.06      284.70\n",
       "                            3          44250.0     2330.40      265.09\n",
       "                            4          43281.0     1735.66      160.74\n",
       "                            5          45914.0     2204.20      230.11\n",
       "                            6          46424.0     2865.74      380.90\n",
       "                            7          48049.0     3152.23      571.45\n",
       "                            8          49758.0     3083.73      431.36\n",
       "                            9          46935.0     2259.40      236.23\n",
       "                            10         49951.0     2518.95       65.94\n",
       "                            11         46082.0     1922.49      122.15\n",
       "Virgin America         2016 1           5384.0      237.80       71.20\n",
       "                            2           4941.0      161.30       75.00\n",
       "                            3           5635.0      266.02       71.94\n",
       "                            4           5644.0      237.04       99.94\n",
       "                            5           5847.0      280.78       80.11\n",
       "                            6           5919.0      388.19      106.93\n",
       "                            7           6100.0      357.69       96.58\n",
       "                            8           6071.0      313.22      104.90\n",
       "                            9           5726.0      230.98       96.58\n",
       "                            10          5854.0      226.93       71.84\n",
       "                            11          5917.0      232.53      137.92\n",
       "\n",
       "[132 rows x 3 columns]"
      ]
     },
     "execution_count": 96,
     "metadata": {},
     "output_type": "execute_result"
    }
   ],
   "source": [
    "carrier_grouping.sum()"
   ]
  },
  {
   "cell_type": "code",
   "execution_count": 97,
   "metadata": {
    "collapsed": true
   },
   "outputs": [],
   "source": [
    "# # this little for loop helps find the column numbers when slicing with .iloc\n",
    "# for i, x in enumerate(data.columns):\n",
    "#     print(\"%d. %s\"%(i, x))"
   ]
  },
  {
   "cell_type": "code",
   "execution_count": 98,
   "metadata": {},
   "outputs": [
    {
     "data": {
      "text/html": [
       "<div>\n",
       "<style>\n",
       "    .dataframe thead tr:only-child th {\n",
       "        text-align: right;\n",
       "    }\n",
       "\n",
       "    .dataframe thead th {\n",
       "        text-align: left;\n",
       "    }\n",
       "\n",
       "    .dataframe tbody tr th {\n",
       "        vertical-align: top;\n",
       "    }\n",
       "</style>\n",
       "<table border=\"1\" class=\"dataframe\">\n",
       "  <thead>\n",
       "    <tr style=\"text-align: right;\">\n",
       "      <th></th>\n",
       "      <th>arr_flights</th>\n",
       "      <th>weather_ct</th>\n",
       "      <th>nas_ct</th>\n",
       "      <th>security_ct</th>\n",
       "      <th>late_aircraft_ct</th>\n",
       "      <th>arr_cancelled</th>\n",
       "      <th>arr_diverted</th>\n",
       "      <th>arr_delay</th>\n",
       "      <th>carrier_delay</th>\n",
       "      <th>weather_delay</th>\n",
       "      <th>nas_delay</th>\n",
       "      <th>security_delay</th>\n",
       "      <th>late_aircraft_delay</th>\n",
       "      <th>target</th>\n",
       "      <th>carrier_ct</th>\n",
       "    </tr>\n",
       "  </thead>\n",
       "  <tbody>\n",
       "    <tr>\n",
       "      <th>arr_flights</th>\n",
       "      <td>1.000000</td>\n",
       "      <td>0.768739</td>\n",
       "      <td>0.804379</td>\n",
       "      <td>0.512487</td>\n",
       "      <td>0.881786</td>\n",
       "      <td>0.565827</td>\n",
       "      <td>0.636067</td>\n",
       "      <td>0.875205</td>\n",
       "      <td>0.876582</td>\n",
       "      <td>0.742316</td>\n",
       "      <td>0.697623</td>\n",
       "      <td>0.457597</td>\n",
       "      <td>0.852771</td>\n",
       "      <td>0.283758</td>\n",
       "      <td>0.918256</td>\n",
       "    </tr>\n",
       "    <tr>\n",
       "      <th>weather_ct</th>\n",
       "      <td>0.768739</td>\n",
       "      <td>1.000000</td>\n",
       "      <td>0.747240</td>\n",
       "      <td>0.497817</td>\n",
       "      <td>0.789935</td>\n",
       "      <td>0.539500</td>\n",
       "      <td>0.710763</td>\n",
       "      <td>0.821846</td>\n",
       "      <td>0.755200</td>\n",
       "      <td>0.954521</td>\n",
       "      <td>0.693923</td>\n",
       "      <td>0.451133</td>\n",
       "      <td>0.798067</td>\n",
       "      <td>0.243806</td>\n",
       "      <td>0.819565</td>\n",
       "    </tr>\n",
       "    <tr>\n",
       "      <th>nas_ct</th>\n",
       "      <td>0.804379</td>\n",
       "      <td>0.747240</td>\n",
       "      <td>1.000000</td>\n",
       "      <td>0.527607</td>\n",
       "      <td>0.810437</td>\n",
       "      <td>0.580871</td>\n",
       "      <td>0.626720</td>\n",
       "      <td>0.901002</td>\n",
       "      <td>0.771117</td>\n",
       "      <td>0.727642</td>\n",
       "      <td>0.949171</td>\n",
       "      <td>0.491155</td>\n",
       "      <td>0.830760</td>\n",
       "      <td>0.277520</td>\n",
       "      <td>0.831446</td>\n",
       "    </tr>\n",
       "    <tr>\n",
       "      <th>security_ct</th>\n",
       "      <td>0.512487</td>\n",
       "      <td>0.497817</td>\n",
       "      <td>0.527607</td>\n",
       "      <td>1.000000</td>\n",
       "      <td>0.563590</td>\n",
       "      <td>0.368564</td>\n",
       "      <td>0.405597</td>\n",
       "      <td>0.525674</td>\n",
       "      <td>0.475086</td>\n",
       "      <td>0.476423</td>\n",
       "      <td>0.435350</td>\n",
       "      <td>0.838333</td>\n",
       "      <td>0.537822</td>\n",
       "      <td>0.190799</td>\n",
       "      <td>0.575996</td>\n",
       "    </tr>\n",
       "    <tr>\n",
       "      <th>late_aircraft_ct</th>\n",
       "      <td>0.881786</td>\n",
       "      <td>0.789935</td>\n",
       "      <td>0.810437</td>\n",
       "      <td>0.563590</td>\n",
       "      <td>1.000000</td>\n",
       "      <td>0.626644</td>\n",
       "      <td>0.675512</td>\n",
       "      <td>0.924192</td>\n",
       "      <td>0.854865</td>\n",
       "      <td>0.764240</td>\n",
       "      <td>0.729300</td>\n",
       "      <td>0.527007</td>\n",
       "      <td>0.969846</td>\n",
       "      <td>0.294210</td>\n",
       "      <td>0.936909</td>\n",
       "    </tr>\n",
       "    <tr>\n",
       "      <th>arr_cancelled</th>\n",
       "      <td>0.565827</td>\n",
       "      <td>0.539500</td>\n",
       "      <td>0.580871</td>\n",
       "      <td>0.368564</td>\n",
       "      <td>0.626644</td>\n",
       "      <td>1.000000</td>\n",
       "      <td>0.480179</td>\n",
       "      <td>0.659195</td>\n",
       "      <td>0.609488</td>\n",
       "      <td>0.550791</td>\n",
       "      <td>0.587824</td>\n",
       "      <td>0.323593</td>\n",
       "      <td>0.642849</td>\n",
       "      <td>0.192698</td>\n",
       "      <td>0.620186</td>\n",
       "    </tr>\n",
       "    <tr>\n",
       "      <th>arr_diverted</th>\n",
       "      <td>0.636067</td>\n",
       "      <td>0.710763</td>\n",
       "      <td>0.626720</td>\n",
       "      <td>0.405597</td>\n",
       "      <td>0.675512</td>\n",
       "      <td>0.480179</td>\n",
       "      <td>1.000000</td>\n",
       "      <td>0.711480</td>\n",
       "      <td>0.647781</td>\n",
       "      <td>0.721620</td>\n",
       "      <td>0.613622</td>\n",
       "      <td>0.372053</td>\n",
       "      <td>0.700735</td>\n",
       "      <td>0.166036</td>\n",
       "      <td>0.678039</td>\n",
       "    </tr>\n",
       "    <tr>\n",
       "      <th>arr_delay</th>\n",
       "      <td>0.875205</td>\n",
       "      <td>0.821846</td>\n",
       "      <td>0.901002</td>\n",
       "      <td>0.525674</td>\n",
       "      <td>0.924192</td>\n",
       "      <td>0.659195</td>\n",
       "      <td>0.711480</td>\n",
       "      <td>1.000000</td>\n",
       "      <td>0.945608</td>\n",
       "      <td>0.819009</td>\n",
       "      <td>0.874484</td>\n",
       "      <td>0.510864</td>\n",
       "      <td>0.971350</td>\n",
       "      <td>0.278043</td>\n",
       "      <td>0.942848</td>\n",
       "    </tr>\n",
       "    <tr>\n",
       "      <th>carrier_delay</th>\n",
       "      <td>0.876582</td>\n",
       "      <td>0.755200</td>\n",
       "      <td>0.771117</td>\n",
       "      <td>0.475086</td>\n",
       "      <td>0.854865</td>\n",
       "      <td>0.609488</td>\n",
       "      <td>0.647781</td>\n",
       "      <td>0.945608</td>\n",
       "      <td>1.000000</td>\n",
       "      <td>0.757641</td>\n",
       "      <td>0.713888</td>\n",
       "      <td>0.464096</td>\n",
       "      <td>0.909957</td>\n",
       "      <td>0.257489</td>\n",
       "      <td>0.931457</td>\n",
       "    </tr>\n",
       "    <tr>\n",
       "      <th>weather_delay</th>\n",
       "      <td>0.742316</td>\n",
       "      <td>0.954521</td>\n",
       "      <td>0.727642</td>\n",
       "      <td>0.476423</td>\n",
       "      <td>0.764240</td>\n",
       "      <td>0.550791</td>\n",
       "      <td>0.721620</td>\n",
       "      <td>0.819009</td>\n",
       "      <td>0.757641</td>\n",
       "      <td>1.000000</td>\n",
       "      <td>0.687027</td>\n",
       "      <td>0.432981</td>\n",
       "      <td>0.787836</td>\n",
       "      <td>0.215498</td>\n",
       "      <td>0.796313</td>\n",
       "    </tr>\n",
       "    <tr>\n",
       "      <th>nas_delay</th>\n",
       "      <td>0.697623</td>\n",
       "      <td>0.693923</td>\n",
       "      <td>0.949171</td>\n",
       "      <td>0.435350</td>\n",
       "      <td>0.729300</td>\n",
       "      <td>0.587824</td>\n",
       "      <td>0.613622</td>\n",
       "      <td>0.874484</td>\n",
       "      <td>0.713888</td>\n",
       "      <td>0.687027</td>\n",
       "      <td>1.000000</td>\n",
       "      <td>0.424500</td>\n",
       "      <td>0.782551</td>\n",
       "      <td>0.240784</td>\n",
       "      <td>0.734375</td>\n",
       "    </tr>\n",
       "    <tr>\n",
       "      <th>security_delay</th>\n",
       "      <td>0.457597</td>\n",
       "      <td>0.451133</td>\n",
       "      <td>0.491155</td>\n",
       "      <td>0.838333</td>\n",
       "      <td>0.527007</td>\n",
       "      <td>0.323593</td>\n",
       "      <td>0.372053</td>\n",
       "      <td>0.510864</td>\n",
       "      <td>0.464096</td>\n",
       "      <td>0.432981</td>\n",
       "      <td>0.424500</td>\n",
       "      <td>1.000000</td>\n",
       "      <td>0.522386</td>\n",
       "      <td>0.163779</td>\n",
       "      <td>0.536681</td>\n",
       "    </tr>\n",
       "    <tr>\n",
       "      <th>late_aircraft_delay</th>\n",
       "      <td>0.852771</td>\n",
       "      <td>0.798067</td>\n",
       "      <td>0.830760</td>\n",
       "      <td>0.537822</td>\n",
       "      <td>0.969846</td>\n",
       "      <td>0.642849</td>\n",
       "      <td>0.700735</td>\n",
       "      <td>0.971350</td>\n",
       "      <td>0.909957</td>\n",
       "      <td>0.787836</td>\n",
       "      <td>0.782551</td>\n",
       "      <td>0.522386</td>\n",
       "      <td>1.000000</td>\n",
       "      <td>0.277989</td>\n",
       "      <td>0.942444</td>\n",
       "    </tr>\n",
       "    <tr>\n",
       "      <th>target</th>\n",
       "      <td>0.283758</td>\n",
       "      <td>0.243806</td>\n",
       "      <td>0.277520</td>\n",
       "      <td>0.190799</td>\n",
       "      <td>0.294210</td>\n",
       "      <td>0.192698</td>\n",
       "      <td>0.166036</td>\n",
       "      <td>0.278043</td>\n",
       "      <td>0.257489</td>\n",
       "      <td>0.215498</td>\n",
       "      <td>0.240784</td>\n",
       "      <td>0.163779</td>\n",
       "      <td>0.277989</td>\n",
       "      <td>1.000000</td>\n",
       "      <td>0.323859</td>\n",
       "    </tr>\n",
       "    <tr>\n",
       "      <th>carrier_ct</th>\n",
       "      <td>0.918256</td>\n",
       "      <td>0.819565</td>\n",
       "      <td>0.831446</td>\n",
       "      <td>0.575996</td>\n",
       "      <td>0.936909</td>\n",
       "      <td>0.620186</td>\n",
       "      <td>0.678039</td>\n",
       "      <td>0.942848</td>\n",
       "      <td>0.931457</td>\n",
       "      <td>0.796313</td>\n",
       "      <td>0.734375</td>\n",
       "      <td>0.536681</td>\n",
       "      <td>0.942444</td>\n",
       "      <td>0.323859</td>\n",
       "      <td>1.000000</td>\n",
       "    </tr>\n",
       "  </tbody>\n",
       "</table>\n",
       "</div>"
      ],
      "text/plain": [
       "                     arr_flights  weather_ct    nas_ct  security_ct  \\\n",
       "arr_flights             1.000000    0.768739  0.804379     0.512487   \n",
       "weather_ct              0.768739    1.000000  0.747240     0.497817   \n",
       "nas_ct                  0.804379    0.747240  1.000000     0.527607   \n",
       "security_ct             0.512487    0.497817  0.527607     1.000000   \n",
       "late_aircraft_ct        0.881786    0.789935  0.810437     0.563590   \n",
       "arr_cancelled           0.565827    0.539500  0.580871     0.368564   \n",
       "arr_diverted            0.636067    0.710763  0.626720     0.405597   \n",
       "arr_delay               0.875205    0.821846  0.901002     0.525674   \n",
       "carrier_delay           0.876582    0.755200  0.771117     0.475086   \n",
       "weather_delay           0.742316    0.954521  0.727642     0.476423   \n",
       "nas_delay               0.697623    0.693923  0.949171     0.435350   \n",
       "security_delay          0.457597    0.451133  0.491155     0.838333   \n",
       "late_aircraft_delay     0.852771    0.798067  0.830760     0.537822   \n",
       "target                  0.283758    0.243806  0.277520     0.190799   \n",
       "carrier_ct              0.918256    0.819565  0.831446     0.575996   \n",
       "\n",
       "                     late_aircraft_ct  arr_cancelled  arr_diverted  arr_delay  \\\n",
       "arr_flights                  0.881786       0.565827      0.636067   0.875205   \n",
       "weather_ct                   0.789935       0.539500      0.710763   0.821846   \n",
       "nas_ct                       0.810437       0.580871      0.626720   0.901002   \n",
       "security_ct                  0.563590       0.368564      0.405597   0.525674   \n",
       "late_aircraft_ct             1.000000       0.626644      0.675512   0.924192   \n",
       "arr_cancelled                0.626644       1.000000      0.480179   0.659195   \n",
       "arr_diverted                 0.675512       0.480179      1.000000   0.711480   \n",
       "arr_delay                    0.924192       0.659195      0.711480   1.000000   \n",
       "carrier_delay                0.854865       0.609488      0.647781   0.945608   \n",
       "weather_delay                0.764240       0.550791      0.721620   0.819009   \n",
       "nas_delay                    0.729300       0.587824      0.613622   0.874484   \n",
       "security_delay               0.527007       0.323593      0.372053   0.510864   \n",
       "late_aircraft_delay          0.969846       0.642849      0.700735   0.971350   \n",
       "target                       0.294210       0.192698      0.166036   0.278043   \n",
       "carrier_ct                   0.936909       0.620186      0.678039   0.942848   \n",
       "\n",
       "                     carrier_delay  weather_delay  nas_delay  security_delay  \\\n",
       "arr_flights               0.876582       0.742316   0.697623        0.457597   \n",
       "weather_ct                0.755200       0.954521   0.693923        0.451133   \n",
       "nas_ct                    0.771117       0.727642   0.949171        0.491155   \n",
       "security_ct               0.475086       0.476423   0.435350        0.838333   \n",
       "late_aircraft_ct          0.854865       0.764240   0.729300        0.527007   \n",
       "arr_cancelled             0.609488       0.550791   0.587824        0.323593   \n",
       "arr_diverted              0.647781       0.721620   0.613622        0.372053   \n",
       "arr_delay                 0.945608       0.819009   0.874484        0.510864   \n",
       "carrier_delay             1.000000       0.757641   0.713888        0.464096   \n",
       "weather_delay             0.757641       1.000000   0.687027        0.432981   \n",
       "nas_delay                 0.713888       0.687027   1.000000        0.424500   \n",
       "security_delay            0.464096       0.432981   0.424500        1.000000   \n",
       "late_aircraft_delay       0.909957       0.787836   0.782551        0.522386   \n",
       "target                    0.257489       0.215498   0.240784        0.163779   \n",
       "carrier_ct                0.931457       0.796313   0.734375        0.536681   \n",
       "\n",
       "                     late_aircraft_delay    target  carrier_ct  \n",
       "arr_flights                     0.852771  0.283758    0.918256  \n",
       "weather_ct                      0.798067  0.243806    0.819565  \n",
       "nas_ct                          0.830760  0.277520    0.831446  \n",
       "security_ct                     0.537822  0.190799    0.575996  \n",
       "late_aircraft_ct                0.969846  0.294210    0.936909  \n",
       "arr_cancelled                   0.642849  0.192698    0.620186  \n",
       "arr_diverted                    0.700735  0.166036    0.678039  \n",
       "arr_delay                       0.971350  0.278043    0.942848  \n",
       "carrier_delay                   0.909957  0.257489    0.931457  \n",
       "weather_delay                   0.787836  0.215498    0.796313  \n",
       "nas_delay                       0.782551  0.240784    0.734375  \n",
       "security_delay                  0.522386  0.163779    0.536681  \n",
       "late_aircraft_delay             1.000000  0.277989    0.942444  \n",
       "target                          0.277989  1.000000    0.323859  \n",
       "carrier_ct                      0.942444  0.323859    1.000000  "
      ]
     },
     "execution_count": 98,
     "metadata": {},
     "output_type": "execute_result"
    }
   ],
   "source": [
    "late_count = data.iloc[:, [6, 8, 9, 10, 11, 12, 13, 14, 15, 16, 17, 18, 19, 20, 7]]\n",
    "late_count.corr()"
   ]
  },
  {
   "cell_type": "code",
   "execution_count": 99,
   "metadata": {
    "scrolled": false
   },
   "outputs": [
    {
     "data": {
      "text/html": [
       "<div>\n",
       "<style>\n",
       "    .dataframe thead tr:only-child th {\n",
       "        text-align: right;\n",
       "    }\n",
       "\n",
       "    .dataframe thead th {\n",
       "        text-align: left;\n",
       "    }\n",
       "\n",
       "    .dataframe tbody tr th {\n",
       "        vertical-align: top;\n",
       "    }\n",
       "</style>\n",
       "<table border=\"1\" class=\"dataframe\">\n",
       "  <thead>\n",
       "    <tr style=\"text-align: right;\">\n",
       "      <th></th>\n",
       "      <th></th>\n",
       "      <th>arr_flights</th>\n",
       "      <th>carrier_ct</th>\n",
       "      <th>target</th>\n",
       "    </tr>\n",
       "    <tr>\n",
       "      <th>airport</th>\n",
       "      <th>carrier</th>\n",
       "      <th></th>\n",
       "      <th></th>\n",
       "      <th></th>\n",
       "    </tr>\n",
       "  </thead>\n",
       "  <tbody>\n",
       "    <tr>\n",
       "      <th rowspan=\"10\" valign=\"top\">DEN</th>\n",
       "      <th>AA</th>\n",
       "      <td>876.636364</td>\n",
       "      <td>65.354545</td>\n",
       "      <td>1.000000</td>\n",
       "    </tr>\n",
       "    <tr>\n",
       "      <th>AS</th>\n",
       "      <td>141.181818</td>\n",
       "      <td>6.504545</td>\n",
       "      <td>0.545455</td>\n",
       "    </tr>\n",
       "    <tr>\n",
       "      <th>B6</th>\n",
       "      <td>92.454545</td>\n",
       "      <td>8.475455</td>\n",
       "      <td>0.818182</td>\n",
       "    </tr>\n",
       "    <tr>\n",
       "      <th>DL</th>\n",
       "      <td>751.363636</td>\n",
       "      <td>38.898182</td>\n",
       "      <td>1.000000</td>\n",
       "    </tr>\n",
       "    <tr>\n",
       "      <th>F9</th>\n",
       "      <td>1887.545455</td>\n",
       "      <td>69.364545</td>\n",
       "      <td>1.000000</td>\n",
       "    </tr>\n",
       "    <tr>\n",
       "      <th>NK</th>\n",
       "      <td>372.727273</td>\n",
       "      <td>11.340000</td>\n",
       "      <td>1.000000</td>\n",
       "    </tr>\n",
       "    <tr>\n",
       "      <th>OO</th>\n",
       "      <td>4347.000000</td>\n",
       "      <td>128.551818</td>\n",
       "      <td>1.000000</td>\n",
       "    </tr>\n",
       "    <tr>\n",
       "      <th>UA</th>\n",
       "      <td>4914.909091</td>\n",
       "      <td>188.897273</td>\n",
       "      <td>1.000000</td>\n",
       "    </tr>\n",
       "    <tr>\n",
       "      <th>VX</th>\n",
       "      <td>82.444444</td>\n",
       "      <td>2.643333</td>\n",
       "      <td>0.555556</td>\n",
       "    </tr>\n",
       "    <tr>\n",
       "      <th>WN</th>\n",
       "      <td>5463.727273</td>\n",
       "      <td>224.510000</td>\n",
       "      <td>1.000000</td>\n",
       "    </tr>\n",
       "  </tbody>\n",
       "</table>\n",
       "</div>"
      ],
      "text/plain": [
       "                 arr_flights  carrier_ct    target\n",
       "airport carrier                                   \n",
       "DEN     AA        876.636364   65.354545  1.000000\n",
       "        AS        141.181818    6.504545  0.545455\n",
       "        B6         92.454545    8.475455  0.818182\n",
       "        DL        751.363636   38.898182  1.000000\n",
       "        F9       1887.545455   69.364545  1.000000\n",
       "        NK        372.727273   11.340000  1.000000\n",
       "        OO       4347.000000  128.551818  1.000000\n",
       "        UA       4914.909091  188.897273  1.000000\n",
       "        VX         82.444444    2.643333  0.555556\n",
       "        WN       5463.727273  224.510000  1.000000"
      ]
     },
     "execution_count": 99,
     "metadata": {},
     "output_type": "execute_result"
    }
   ],
   "source": [
    "# Denver only\n",
    "carrier_grouping = data.iloc[:, [2, 3, 4,5,6,7, 20]].groupby(by=['airport', 'carrier'])\n",
    "carr_x = carrier_grouping.mean()\n",
    "denver_by_carrier = carr_x[271:281]\n",
    "denver_by_carrier"
   ]
  },
  {
   "cell_type": "code",
   "execution_count": 100,
   "metadata": {},
   "outputs": [
    {
     "data": {
      "text/plain": [
       "array([('DEN', 'AA'), ('DEN', 'AS'), ('DEN', 'B6'), ('DEN', 'DL'),\n",
       "       ('DEN', 'F9'), ('DEN', 'NK'), ('DEN', 'OO'), ('DEN', 'UA'),\n",
       "       ('DEN', 'VX'), ('DEN', 'WN')], dtype=object)"
      ]
     },
     "execution_count": 100,
     "metadata": {},
     "output_type": "execute_result"
    }
   ],
   "source": [
    "denver_by_carrier.index.values"
   ]
  },
  {
   "cell_type": "code",
   "execution_count": 101,
   "metadata": {},
   "outputs": [
    {
     "data": {
      "text/plain": [
       "['AA', 'AS', 'B6', 'DL', 'F9', 'NK', 'OO', 'UA', 'VX', 'WN']"
      ]
     },
     "execution_count": 101,
     "metadata": {},
     "output_type": "execute_result"
    }
   ],
   "source": [
    "denver_carriers = []\n",
    "for key, val in denver_by_carrier.index.values:\n",
    "    denver_carriers.append(val)\n",
    "denver_carriers"
   ]
  },
  {
   "cell_type": "code",
   "execution_count": 102,
   "metadata": {},
   "outputs": [
    {
     "name": "stderr",
     "output_type": "stream",
     "text": [
      "/Users/jg/anaconda/lib/python2.7/site-packages/ipykernel_launcher.py:1: SettingWithCopyWarning: \n",
      "A value is trying to be set on a copy of a slice from a DataFrame.\n",
      "Try using .loc[row_indexer,col_indexer] = value instead\n",
      "\n",
      "See the caveats in the documentation: http://pandas.pydata.org/pandas-docs/stable/indexing.html#indexing-view-versus-copy\n",
      "  \"\"\"Entry point for launching an IPython kernel.\n"
     ]
    }
   ],
   "source": [
    "denver_by_carrier['percent_delay'] = denver_by_carrier.target / denver_by_carrier.arr_flights\n"
   ]
  },
  {
   "cell_type": "code",
   "execution_count": 103,
   "metadata": {},
   "outputs": [
    {
     "data": {
      "text/plain": [
       "1.000000    7\n",
       "0.555556    1\n",
       "0.545455    1\n",
       "0.818182    1\n",
       "Name: target, dtype: int64"
      ]
     },
     "execution_count": 103,
     "metadata": {},
     "output_type": "execute_result"
    }
   ],
   "source": [
    "denver_by_carrier.target.value_counts()"
   ]
  },
  {
   "cell_type": "code",
   "execution_count": 104,
   "metadata": {},
   "outputs": [
    {
     "data": {
      "text/plain": [
       "count     11173.000000\n",
       "mean       1557.819565\n",
       "std        4469.262529\n",
       "min           0.000000\n",
       "25%         139.000000\n",
       "50%         452.000000\n",
       "75%        1226.000000\n",
       "max      196944.000000\n",
       "Name: carrier_delay, dtype: float64"
      ]
     },
     "execution_count": 104,
     "metadata": {},
     "output_type": "execute_result"
    }
   ],
   "source": [
    "data.carrier_delay.describe()"
   ]
  },
  {
   "cell_type": "code",
   "execution_count": 105,
   "metadata": {
    "collapsed": true
   },
   "outputs": [],
   "source": [
    "# def color_negative_red(val):\n",
    "#     \"\"\"\n",
    "#     Takes a scalar and returns a string with\n",
    "#     the css property `'color: red'` for negative\n",
    "#     strings, black otherwise.\n",
    "#     \"\"\"\n",
    "#     color = 'red' if val == 11173 else 'black'\n",
    "#     return 'color: %s' % color\n",
    "# df_describe = data.describe()\n",
    "# df_describe_styled = df_describe.style.applymap(color_negative_red)\n",
    "# df_describe_styled"
   ]
  },
  {
   "cell_type": "code",
   "execution_count": 106,
   "metadata": {},
   "outputs": [
    {
     "name": "stderr",
     "output_type": "stream",
     "text": [
      "/Users/jg/anaconda/lib/python2.7/site-packages/matplotlib/figure.py:403: UserWarning: matplotlib is currently using a non-GUI backend, so cannot show the figure\n",
      "  \"matplotlib is currently using a non-GUI backend, \"\n"
     ]
    },
    {
     "data": {
      "image/png": "[encoded data removed]",
      "text/plain": [
       "<matplotlib.figure.Figure at 0x11844a950>"
      ]
     },
     "metadata": {},
     "output_type": "display_data"
    }
   ],
   "source": [
    "import matplotlib.pyplot as plt\n",
    "import numpy as np\n",
    "\n",
    "xx = np.array(data.carrier_delay)\n",
    "yy = np.array(data.target)\n",
    "\n",
    "fig, ax = plt.subplots()\n",
    "fit = np.polyfit(xx, yy, deg=1)\n",
    "ax.plot(xx, fit[0] * xx + fit[1], color='red')\n",
    "ax.scatter(xx, yy)\n",
    "\n",
    "fig.show()"
   ]
  },
  {
   "cell_type": "code",
   "execution_count": null,
   "metadata": {
    "collapsed": true
   },
   "outputs": [],
   "source": []
  }
 ],
 "metadata": {
  "kernelspec": {
   "display_name": "Python 2",
   "language": "python",
   "name": "python2"
  },
  "language_info": {
   "codemirror_mode": {
    "name": "ipython",
    "version": 2
   },
   "file_extension": ".py",
   "mimetype": "text/x-python",
   "name": "python",
   "nbconvert_exporter": "python",
   "pygments_lexer": "ipython2",
   "version": "2.7.13"
  }
 },
 "nbformat": 4,
 "nbformat_minor": 2
}
