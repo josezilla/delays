{
 "cells": [
  {
   "cell_type": "markdown",
   "metadata": {},
   "source": [
    "2018.01.16"
   ]
  },
  {
   "cell_type": "code",
   "execution_count": 16,
   "metadata": {
    "collapsed": true
   },
   "outputs": [],
   "source": [
    "import numpy as np\n",
    "import pandas as pd\n",
    "import re\n",
    "import seaborn as sns\n",
    "import matplotlib.pyplot as plt\n",
    "\n",
    "from pygeocoder import Geocoder\n",
    "from mpl_toolkits.basemap import Basemap\n",
    "\n",
    "%matplotlib inline"
   ]
  },
  {
   "cell_type": "markdown",
   "metadata": {},
   "source": [
    "## Import the csv"
   ]
  },
  {
   "cell_type": "code",
   "execution_count": 17,
   "metadata": {
    "collapsed": true
   },
   "outputs": [],
   "source": [
    "# where this data came from: https://www.transtats.bts.gov/OT_Delay/OT_DelayCause1.asp?pn=1\n",
    "orig_data = pd.read_csv('./project_datasets/682464398_102017_1651_airline_delay_causes.csv', skipinitialspace=True)"
   ]
  },
  {
   "cell_type": "markdown",
   "metadata": {},
   "source": [
    "## Clean the data"
   ]
  },
  {
   "cell_type": "markdown",
   "metadata": {},
   "source": [
    "### drop the extraneous column that has no information"
   ]
  },
  {
   "cell_type": "code",
   "execution_count": 18,
   "metadata": {
    "collapsed": true
   },
   "outputs": [],
   "source": [
    "data_right_columns = orig_data.drop('Unnamed: 21', axis=1)"
   ]
  },
  {
   "cell_type": "markdown",
   "metadata": {},
   "source": [
    "Some of the column names have initial space, so we use a regular expression  \n",
    "\n",
    "to make them easier to work with programmatically"
   ]
  },
  {
   "cell_type": "code",
   "execution_count": 19,
   "metadata": {},
   "outputs": [
    {
     "data": {
      "text/plain": [
       "Index([u'year', u'month', u'carrier', u'carrier_name', u'airport',\n",
       "       u'airport_name', u'arr_flights', u'arr_del15', u'carrier_ct',\n",
       "       u'weather_ct', u'nas_ct', u'security_ct', u'late_aircraft_ct',\n",
       "       u'arr_cancelled', u'arr_diverted', u'arr_delay', u'carrier_delay',\n",
       "       u'weather_delay', u'nas_delay', u'security_delay',\n",
       "       u'late_aircraft_delay'],\n",
       "      dtype='object')"
      ]
     },
     "execution_count": 19,
     "metadata": {},
     "output_type": "execute_result"
    }
   ],
   "source": [
    "columns = []\n",
    "for i, col in enumerate(data_right_columns.columns):\n",
    "    global columns\n",
    "    col = re.sub(r'\\s+', '', col)\n",
    "    columns.append(col)\n",
    "data_right_columns.columns = columns\n",
    "data_right_columns.columns"
   ]
  },
  {
   "cell_type": "markdown",
   "metadata": {},
   "source": [
    "### Dropping the NaN rows as invalid data, it is a small percentage of the entire dataset"
   ]
  },
  {
   "cell_type": "code",
   "execution_count": 20,
   "metadata": {},
   "outputs": [
    {
     "data": {
      "text/plain": [
       "(11193, 21)"
      ]
     },
     "execution_count": 20,
     "metadata": {},
     "output_type": "execute_result"
    }
   ],
   "source": [
    "data_right_columns.shape"
   ]
  },
  {
   "cell_type": "code",
   "execution_count": 21,
   "metadata": {
    "collapsed": true
   },
   "outputs": [],
   "source": [
    "data_NoNaN = data_right_columns.dropna(axis=0)"
   ]
  },
  {
   "cell_type": "markdown",
   "metadata": {},
   "source": [
    "So, the Nans have been dropped..."
   ]
  },
  {
   "cell_type": "markdown",
   "metadata": {},
   "source": [
    "### We wil now use the first variable, `data_NoNaN` and set it to `data` ...\n",
    "\n",
    "The next four strategies of NaN handling are commented out, but also will be `data`"
   ]
  },
  {
   "cell_type": "code",
   "execution_count": 22,
   "metadata": {
    "collapsed": true
   },
   "outputs": [],
   "source": [
    "data = data_NoNaN"
   ]
  },
  {
   "cell_type": "markdown",
   "metadata": {
    "collapsed": true
   },
   "source": [
    "Looking at the shape of our data, the 18 dropped values, give us 11173 observations and 21 features"
   ]
  },
  {
   "cell_type": "code",
   "execution_count": 23,
   "metadata": {},
   "outputs": [
    {
     "data": {
      "text/plain": [
       "(11173, 21)"
      ]
     },
     "execution_count": 23,
     "metadata": {},
     "output_type": "execute_result"
    }
   ],
   "source": [
    "data.shape"
   ]
  },
  {
   "cell_type": "markdown",
   "metadata": {},
   "source": [
    "# Target\n",
    "We have determined that the goal of this data analysis is to predict delayed flights, given certain conditions based on the dataset.  Therefore the target variable is `arr_del15`\n",
    "\n",
    "\n"
   ]
  },
  {
   "cell_type": "markdown",
   "metadata": {},
   "source": [
    "Let's make the target variable binary."
   ]
  },
  {
   "cell_type": "code",
   "execution_count": 25,
   "metadata": {},
   "outputs": [
    {
     "name": "stderr",
     "output_type": "stream",
     "text": [
      "/Users/jg/anaconda/lib/python2.7/site-packages/ipykernel_launcher.py:1: SettingWithCopyWarning: \n",
      "A value is trying to be set on a copy of a slice from a DataFrame.\n",
      "Try using .loc[row_indexer,col_indexer] = value instead\n",
      "\n",
      "See the caveats in the documentation: http://pandas.pydata.org/pandas-docs/stable/indexing.html#indexing-view-versus-copy\n",
      "  \"\"\"Entry point for launching an IPython kernel.\n"
     ]
    },
    {
     "data": {
      "text/plain": [
       "1    6651\n",
       "0    4522\n",
       "Name: target, dtype: int64"
      ]
     },
     "execution_count": 25,
     "metadata": {},
     "output_type": "execute_result"
    }
   ],
   "source": [
    "data['target'] = [1 if targ >= 15.0 else 0 for targ in data.arr_del15]\n",
    "data['target'].value_counts()"
   ]
  },
  {
   "cell_type": "markdown",
   "metadata": {},
   "source": [
    "#### Now that `target_x` has been created and added to the dataframe, `data`, `arr_del15` needs to be dropped since it is now redundant"
   ]
  },
  {
   "cell_type": "code",
   "execution_count": 26,
   "metadata": {},
   "outputs": [
    {
     "data": {
      "text/plain": [
       "Index([u'year', u'month', u'carrier', u'carrier_name', u'airport',\n",
       "       u'airport_name', u'arr_flights', u'carrier_ct', u'weather_ct',\n",
       "       u'nas_ct', u'security_ct', u'late_aircraft_ct', u'arr_cancelled',\n",
       "       u'arr_diverted', u'arr_delay', u'carrier_delay', u'weather_delay',\n",
       "       u'nas_delay', u'security_delay', u'late_aircraft_delay', u'target'],\n",
       "      dtype='object')"
      ]
     },
     "execution_count": 26,
     "metadata": {},
     "output_type": "execute_result"
    }
   ],
   "source": [
    "data = data.drop('arr_del15', axis=1)\n",
    "data.columns"
   ]
  },
  {
   "cell_type": "markdown",
   "metadata": {},
   "source": [
    "`data.columns` is a list of all 21 features including the target variable"
   ]
  },
  {
   "cell_type": "code",
   "execution_count": 27,
   "metadata": {},
   "outputs": [
    {
     "data": {
      "text/plain": [
       "21"
      ]
     },
     "execution_count": 27,
     "metadata": {},
     "output_type": "execute_result"
    }
   ],
   "source": [
    "len(data.columns)"
   ]
  },
  {
   "cell_type": "markdown",
   "metadata": {},
   "source": [
    "# Statistical Analysis  0.0"
   ]
  },
  {
   "cell_type": "code",
   "execution_count": 28,
   "metadata": {},
   "outputs": [
    {
     "data": {
      "text/html": [
       "<div>\n",
       "<style>\n",
       "    .dataframe thead tr:only-child th {\n",
       "        text-align: right;\n",
       "    }\n",
       "\n",
       "    .dataframe thead th {\n",
       "        text-align: left;\n",
       "    }\n",
       "\n",
       "    .dataframe tbody tr th {\n",
       "        vertical-align: top;\n",
       "    }\n",
       "</style>\n",
       "<table border=\"1\" class=\"dataframe\">\n",
       "  <thead>\n",
       "    <tr style=\"text-align: right;\">\n",
       "      <th></th>\n",
       "      <th>year</th>\n",
       "      <th>month</th>\n",
       "      <th>arr_flights</th>\n",
       "      <th>carrier_ct</th>\n",
       "      <th>weather_ct</th>\n",
       "      <th>nas_ct</th>\n",
       "      <th>security_ct</th>\n",
       "      <th>late_aircraft_ct</th>\n",
       "      <th>arr_cancelled</th>\n",
       "      <th>arr_diverted</th>\n",
       "      <th>arr_delay</th>\n",
       "      <th>carrier_delay</th>\n",
       "      <th>weather_delay</th>\n",
       "      <th>nas_delay</th>\n",
       "      <th>security_delay</th>\n",
       "      <th>late_aircraft_delay</th>\n",
       "      <th>target</th>\n",
       "    </tr>\n",
       "  </thead>\n",
       "  <tbody>\n",
       "    <tr>\n",
       "      <th>count</th>\n",
       "      <td>11173.0</td>\n",
       "      <td>11173.000000</td>\n",
       "      <td>11173.000000</td>\n",
       "      <td>11173.000000</td>\n",
       "      <td>11173.000000</td>\n",
       "      <td>11173.000000</td>\n",
       "      <td>11173.000000</td>\n",
       "      <td>11173.000000</td>\n",
       "      <td>11173.000000</td>\n",
       "      <td>11173.000000</td>\n",
       "      <td>11173.000000</td>\n",
       "      <td>11173.000000</td>\n",
       "      <td>11173.000000</td>\n",
       "      <td>11173.000000</td>\n",
       "      <td>11173.000000</td>\n",
       "      <td>11173.000000</td>\n",
       "      <td>11173.000000</td>\n",
       "    </tr>\n",
       "    <tr>\n",
       "      <th>mean</th>\n",
       "      <td>2016.0</td>\n",
       "      <td>6.025239</td>\n",
       "      <td>461.532892</td>\n",
       "      <td>22.628786</td>\n",
       "      <td>2.278168</td>\n",
       "      <td>24.216326</td>\n",
       "      <td>0.146415</td>\n",
       "      <td>27.759464</td>\n",
       "      <td>5.226528</td>\n",
       "      <td>1.109371</td>\n",
       "      <td>4762.861541</td>\n",
       "      <td>1557.819565</td>\n",
       "      <td>203.253379</td>\n",
       "      <td>1140.141233</td>\n",
       "      <td>6.610669</td>\n",
       "      <td>1855.036696</td>\n",
       "      <td>0.595274</td>\n",
       "    </tr>\n",
       "    <tr>\n",
       "      <th>std</th>\n",
       "      <td>0.0</td>\n",
       "      <td>3.157616</td>\n",
       "      <td>1170.892758</td>\n",
       "      <td>51.024876</td>\n",
       "      <td>6.806785</td>\n",
       "      <td>66.990992</td>\n",
       "      <td>0.578833</td>\n",
       "      <td>72.339762</td>\n",
       "      <td>20.253243</td>\n",
       "      <td>4.600183</td>\n",
       "      <td>12999.978334</td>\n",
       "      <td>4469.262529</td>\n",
       "      <td>674.118573</td>\n",
       "      <td>3690.589513</td>\n",
       "      <td>31.161224</td>\n",
       "      <td>5125.250783</td>\n",
       "      <td>0.490861</td>\n",
       "    </tr>\n",
       "    <tr>\n",
       "      <th>min</th>\n",
       "      <td>2016.0</td>\n",
       "      <td>1.000000</td>\n",
       "      <td>1.000000</td>\n",
       "      <td>0.000000</td>\n",
       "      <td>0.000000</td>\n",
       "      <td>0.000000</td>\n",
       "      <td>0.000000</td>\n",
       "      <td>0.000000</td>\n",
       "      <td>0.000000</td>\n",
       "      <td>0.000000</td>\n",
       "      <td>0.000000</td>\n",
       "      <td>0.000000</td>\n",
       "      <td>0.000000</td>\n",
       "      <td>0.000000</td>\n",
       "      <td>0.000000</td>\n",
       "      <td>0.000000</td>\n",
       "      <td>0.000000</td>\n",
       "    </tr>\n",
       "    <tr>\n",
       "      <th>25%</th>\n",
       "      <td>2016.0</td>\n",
       "      <td>3.000000</td>\n",
       "      <td>60.000000</td>\n",
       "      <td>2.720000</td>\n",
       "      <td>0.000000</td>\n",
       "      <td>1.440000</td>\n",
       "      <td>0.000000</td>\n",
       "      <td>1.950000</td>\n",
       "      <td>0.000000</td>\n",
       "      <td>0.000000</td>\n",
       "      <td>419.000000</td>\n",
       "      <td>139.000000</td>\n",
       "      <td>0.000000</td>\n",
       "      <td>49.000000</td>\n",
       "      <td>0.000000</td>\n",
       "      <td>102.000000</td>\n",
       "      <td>0.000000</td>\n",
       "    </tr>\n",
       "    <tr>\n",
       "      <th>50%</th>\n",
       "      <td>2016.0</td>\n",
       "      <td>6.000000</td>\n",
       "      <td>133.000000</td>\n",
       "      <td>7.520000</td>\n",
       "      <td>0.270000</td>\n",
       "      <td>4.770000</td>\n",
       "      <td>0.000000</td>\n",
       "      <td>6.310000</td>\n",
       "      <td>1.000000</td>\n",
       "      <td>0.000000</td>\n",
       "      <td>1174.000000</td>\n",
       "      <td>452.000000</td>\n",
       "      <td>14.000000</td>\n",
       "      <td>173.000000</td>\n",
       "      <td>0.000000</td>\n",
       "      <td>404.000000</td>\n",
       "      <td>1.000000</td>\n",
       "    </tr>\n",
       "    <tr>\n",
       "      <th>75%</th>\n",
       "      <td>2016.0</td>\n",
       "      <td>9.000000</td>\n",
       "      <td>343.000000</td>\n",
       "      <td>19.300000</td>\n",
       "      <td>1.740000</td>\n",
       "      <td>14.010000</td>\n",
       "      <td>0.000000</td>\n",
       "      <td>18.520000</td>\n",
       "      <td>3.000000</td>\n",
       "      <td>1.000000</td>\n",
       "      <td>3334.000000</td>\n",
       "      <td>1226.000000</td>\n",
       "      <td>133.000000</td>\n",
       "      <td>550.000000</td>\n",
       "      <td>0.000000</td>\n",
       "      <td>1308.000000</td>\n",
       "      <td>1.000000</td>\n",
       "    </tr>\n",
       "    <tr>\n",
       "      <th>max</th>\n",
       "      <td>2016.0</td>\n",
       "      <td>11.000000</td>\n",
       "      <td>21977.000000</td>\n",
       "      <td>1242.160000</td>\n",
       "      <td>168.440000</td>\n",
       "      <td>1092.620000</td>\n",
       "      <td>11.730000</td>\n",
       "      <td>1320.090000</td>\n",
       "      <td>598.000000</td>\n",
       "      <td>110.000000</td>\n",
       "      <td>395609.000000</td>\n",
       "      <td>196944.000000</td>\n",
       "      <td>17400.000000</td>\n",
       "      <td>74898.000000</td>\n",
       "      <td>933.000000</td>\n",
       "      <td>129200.000000</td>\n",
       "      <td>1.000000</td>\n",
       "    </tr>\n",
       "  </tbody>\n",
       "</table>\n",
       "</div>"
      ],
      "text/plain": [
       "          year         month   arr_flights    carrier_ct    weather_ct  \\\n",
       "count  11173.0  11173.000000  11173.000000  11173.000000  11173.000000   \n",
       "mean    2016.0      6.025239    461.532892     22.628786      2.278168   \n",
       "std        0.0      3.157616   1170.892758     51.024876      6.806785   \n",
       "min     2016.0      1.000000      1.000000      0.000000      0.000000   \n",
       "25%     2016.0      3.000000     60.000000      2.720000      0.000000   \n",
       "50%     2016.0      6.000000    133.000000      7.520000      0.270000   \n",
       "75%     2016.0      9.000000    343.000000     19.300000      1.740000   \n",
       "max     2016.0     11.000000  21977.000000   1242.160000    168.440000   \n",
       "\n",
       "             nas_ct   security_ct  late_aircraft_ct  arr_cancelled  \\\n",
       "count  11173.000000  11173.000000      11173.000000   11173.000000   \n",
       "mean      24.216326      0.146415         27.759464       5.226528   \n",
       "std       66.990992      0.578833         72.339762      20.253243   \n",
       "min        0.000000      0.000000          0.000000       0.000000   \n",
       "25%        1.440000      0.000000          1.950000       0.000000   \n",
       "50%        4.770000      0.000000          6.310000       1.000000   \n",
       "75%       14.010000      0.000000         18.520000       3.000000   \n",
       "max     1092.620000     11.730000       1320.090000     598.000000   \n",
       "\n",
       "       arr_diverted      arr_delay  carrier_delay  weather_delay  \\\n",
       "count  11173.000000   11173.000000   11173.000000   11173.000000   \n",
       "mean       1.109371    4762.861541    1557.819565     203.253379   \n",
       "std        4.600183   12999.978334    4469.262529     674.118573   \n",
       "min        0.000000       0.000000       0.000000       0.000000   \n",
       "25%        0.000000     419.000000     139.000000       0.000000   \n",
       "50%        0.000000    1174.000000     452.000000      14.000000   \n",
       "75%        1.000000    3334.000000    1226.000000     133.000000   \n",
       "max      110.000000  395609.000000  196944.000000   17400.000000   \n",
       "\n",
       "          nas_delay  security_delay  late_aircraft_delay        target  \n",
       "count  11173.000000    11173.000000         11173.000000  11173.000000  \n",
       "mean    1140.141233        6.610669          1855.036696      0.595274  \n",
       "std     3690.589513       31.161224          5125.250783      0.490861  \n",
       "min        0.000000        0.000000             0.000000      0.000000  \n",
       "25%       49.000000        0.000000           102.000000      0.000000  \n",
       "50%      173.000000        0.000000           404.000000      1.000000  \n",
       "75%      550.000000        0.000000          1308.000000      1.000000  \n",
       "max    74898.000000      933.000000        129200.000000      1.000000  "
      ]
     },
     "execution_count": 28,
     "metadata": {},
     "output_type": "execute_result"
    }
   ],
   "source": [
    "data.describe()"
   ]
  },
  {
   "cell_type": "markdown",
   "metadata": {},
   "source": [
    "We gain little insight into the dataset by calling `describe()` so early into the data analysis.  \n",
    "\n",
    "Note that the categorical variables `'carrier'`, `'carrier_name'`, `'airport'` and `'airport_name'` are not included in the `.describe()` statistics.\n",
    "\n",
    "We need to describe the data in a way that can be used as reasonable arguments for correlation between variables."
   ]
  },
  {
   "cell_type": "markdown",
   "metadata": {},
   "source": [
    "# Modeling"
   ]
  },
  {
   "cell_type": "markdown",
   "metadata": {},
   "source": [
    "X is the dataset and y is the target"
   ]
  },
  {
   "cell_type": "code",
   "execution_count": 32,
   "metadata": {
    "collapsed": true
   },
   "outputs": [],
   "source": [
    "X = data.iloc[:, 6:20]\n",
    "y = data.iloc[:, 20]"
   ]
  },
  {
   "cell_type": "code",
   "execution_count": 29,
   "metadata": {
    "collapsed": true
   },
   "outputs": [],
   "source": [
    "from sklearn.linear_model import LogisticRegression"
   ]
  },
  {
   "cell_type": "code",
   "execution_count": 30,
   "metadata": {
    "collapsed": true
   },
   "outputs": [],
   "source": [
    "from sklearn.model_selection import train_test_split"
   ]
  },
  {
   "cell_type": "code",
   "execution_count": 33,
   "metadata": {},
   "outputs": [],
   "source": [
    "X_train, X_test, y_train, y_test = train_test_split(X, y, test_size=0.33, random_state=42)"
   ]
  },
  {
   "cell_type": "code",
   "execution_count": 34,
   "metadata": {
    "collapsed": true
   },
   "outputs": [],
   "source": [
    "logit_reg = LogisticRegression()"
   ]
  },
  {
   "cell_type": "code",
   "execution_count": 35,
   "metadata": {},
   "outputs": [
    {
     "data": {
      "text/plain": [
       "LogisticRegression(C=1.0, class_weight=None, dual=False, fit_intercept=True,\n",
       "          intercept_scaling=1, max_iter=100, multi_class='ovr', n_jobs=1,\n",
       "          penalty='l2', random_state=None, solver='liblinear', tol=0.0001,\n",
       "          verbose=0, warm_start=False)"
      ]
     },
     "execution_count": 35,
     "metadata": {},
     "output_type": "execute_result"
    }
   ],
   "source": [
    "logit_reg.fit(X_train, y_train)"
   ]
  },
  {
   "cell_type": "code",
   "execution_count": 36,
   "metadata": {},
   "outputs": [
    {
     "name": "stdout",
     "output_type": "stream",
     "text": [
      "Test set score: 1.00\n"
     ]
    }
   ],
   "source": [
    "print (\"Test set score: {:.2f}\".format(logit_reg.score(X_test, y_test)))"
   ]
  },
  {
   "cell_type": "markdown",
   "metadata": {},
   "source": [
    "### Cross-Validation in Sci-Kit Learn"
   ]
  },
  {
   "cell_type": "code",
   "execution_count": 38,
   "metadata": {
    "collapsed": true
   },
   "outputs": [],
   "source": [
    "from sklearn.model_selection import cross_val_score"
   ]
  },
  {
   "cell_type": "code",
   "execution_count": 40,
   "metadata": {},
   "outputs": [],
   "source": [
    "logit_reg2 = LogisticRegression()\n",
    "scores2 = cross_val_score(logit_reg2, X, y)"
   ]
  },
  {
   "cell_type": "code",
   "execution_count": 41,
   "metadata": {},
   "outputs": [
    {
     "name": "stdout",
     "output_type": "stream",
     "text": [
      "Cross-Validation Score:[ 0.95677852  0.99489796  0.99355532]\n"
     ]
    }
   ],
   "source": [
    "print (\"Cross-Validation Score:{}\".format(scores2))"
   ]
  },
  {
   "cell_type": "code",
   "execution_count": 42,
   "metadata": {},
   "outputs": [
    {
     "name": "stdout",
     "output_type": "stream",
     "text": [
      "Average Cross-Validation Score:0.981743933179\n"
     ]
    }
   ],
   "source": [
    "print (\"Average Cross-Validation Score:{}\".format(scores2.mean()))"
   ]
  },
  {
   "cell_type": "markdown",
   "metadata": {},
   "source": [
    "### K-Fold Cross-Validation in Sci-Kit Learn"
   ]
  },
  {
   "cell_type": "code",
   "execution_count": 51,
   "metadata": {
    "collapsed": true
   },
   "outputs": [],
   "source": [
    "from sklearn.model_selection import KFold"
   ]
  },
  {
   "cell_type": "code",
   "execution_count": 52,
   "metadata": {
    "collapsed": true
   },
   "outputs": [],
   "source": [
    "kfold = KFold(n_splits=3)"
   ]
  },
  {
   "cell_type": "code",
   "execution_count": 53,
   "metadata": {},
   "outputs": [
    {
     "name": "stdout",
     "output_type": "stream",
     "text": [
      "Cross-Validation Scores:\n"
     ]
    }
   ],
   "source": [
    "print (\"Cross-Validation Scores:\".format(cross_val_score(logit_reg2, X, y, cv=kfold)))"
   ]
  },
  {
   "cell_type": "markdown",
   "metadata": {},
   "source": [
    "### Stratified kFold"
   ]
  },
  {
   "cell_type": "code",
   "execution_count": null,
   "metadata": {
    "collapsed": true
   },
   "outputs": [],
   "source": []
  },
  {
   "cell_type": "code",
   "execution_count": null,
   "metadata": {
    "collapsed": true
   },
   "outputs": [],
   "source": []
  },
  {
   "cell_type": "markdown",
   "metadata": {},
   "source": [
    "## Re-Do Modeling with better data\n",
    "There are many data columns that may produce a result when fit into our models, but the numbers they output do not make sense.  Out largest grouping of data is splitting it up by categorical variables and numeric variables.\n",
    "\n",
    "\n",
    "As such, the split will be columns --d-- through --d--\n",
    "\n",
    "\n",
    "Additionally, we need to create dummy variable columns for some of the data so that, though it is categorical it will fit models and be calculated as if it were numeric."
   ]
  },
  {
   "cell_type": "markdown",
   "metadata": {},
   "source": [
    "### Group by Categorical / Numeric"
   ]
  },
  {
   "cell_type": "code",
   "execution_count": 54,
   "metadata": {
    "collapsed": true
   },
   "outputs": [],
   "source": [
    "col_numeric = data.select_dtypes(include=[np.number]).columns.tolist()\n",
    "col_categorical = data.select_dtypes(include=[np.object]).columns.tolist()"
   ]
  },
  {
   "cell_type": "code",
   "execution_count": 55,
   "metadata": {},
   "outputs": [
    {
     "data": {
      "text/plain": [
       "['year',\n",
       " 'month',\n",
       " 'arr_flights',\n",
       " 'carrier_ct',\n",
       " 'weather_ct',\n",
       " 'nas_ct',\n",
       " 'security_ct',\n",
       " 'late_aircraft_ct',\n",
       " 'arr_cancelled',\n",
       " 'arr_diverted',\n",
       " 'arr_delay',\n",
       " 'carrier_delay',\n",
       " 'weather_delay',\n",
       " 'nas_delay',\n",
       " 'security_delay',\n",
       " 'late_aircraft_delay',\n",
       " 'target']"
      ]
     },
     "execution_count": 55,
     "metadata": {},
     "output_type": "execute_result"
    }
   ],
   "source": [
    "col_numeric"
   ]
  },
  {
   "cell_type": "code",
   "execution_count": 56,
   "metadata": {},
   "outputs": [
    {
     "data": {
      "text/plain": [
       "['carrier', 'carrier_name', 'airport', 'airport_name']"
      ]
     },
     "execution_count": 56,
     "metadata": {},
     "output_type": "execute_result"
    }
   ],
   "source": [
    "col_categorical"
   ]
  },
  {
   "cell_type": "code",
   "execution_count": 57,
   "metadata": {},
   "outputs": [
    {
     "data": {
      "text/html": [
       "<div>\n",
       "<style>\n",
       "    .dataframe thead tr:only-child th {\n",
       "        text-align: right;\n",
       "    }\n",
       "\n",
       "    .dataframe thead th {\n",
       "        text-align: left;\n",
       "    }\n",
       "\n",
       "    .dataframe tbody tr th {\n",
       "        vertical-align: top;\n",
       "    }\n",
       "</style>\n",
       "<table border=\"1\" class=\"dataframe\">\n",
       "  <thead>\n",
       "    <tr style=\"text-align: right;\">\n",
       "      <th></th>\n",
       "      <th>year</th>\n",
       "      <th>month</th>\n",
       "      <th>arr_flights</th>\n",
       "      <th>carrier_ct</th>\n",
       "      <th>weather_ct</th>\n",
       "      <th>nas_ct</th>\n",
       "      <th>security_ct</th>\n",
       "      <th>late_aircraft_ct</th>\n",
       "      <th>arr_cancelled</th>\n",
       "      <th>arr_diverted</th>\n",
       "      <th>arr_delay</th>\n",
       "      <th>carrier_delay</th>\n",
       "      <th>weather_delay</th>\n",
       "      <th>nas_delay</th>\n",
       "      <th>security_delay</th>\n",
       "      <th>late_aircraft_delay</th>\n",
       "      <th>target</th>\n",
       "    </tr>\n",
       "  </thead>\n",
       "  <tbody>\n",
       "    <tr>\n",
       "      <th>0</th>\n",
       "      <td>2016</td>\n",
       "      <td>1</td>\n",
       "      <td>11956.0</td>\n",
       "      <td>507.33</td>\n",
       "      <td>39.83</td>\n",
       "      <td>452.65</td>\n",
       "      <td>4.72</td>\n",
       "      <td>529.47</td>\n",
       "      <td>201.0</td>\n",
       "      <td>9.0</td>\n",
       "      <td>106950.0</td>\n",
       "      <td>50027.0</td>\n",
       "      <td>2842.0</td>\n",
       "      <td>13913.0</td>\n",
       "      <td>167.0</td>\n",
       "      <td>40001.0</td>\n",
       "      <td>1</td>\n",
       "    </tr>\n",
       "    <tr>\n",
       "      <th>1</th>\n",
       "      <td>2016</td>\n",
       "      <td>1</td>\n",
       "      <td>588.0</td>\n",
       "      <td>34.71</td>\n",
       "      <td>4.71</td>\n",
       "      <td>19.77</td>\n",
       "      <td>0.32</td>\n",
       "      <td>38.49</td>\n",
       "      <td>13.0</td>\n",
       "      <td>2.0</td>\n",
       "      <td>5170.0</td>\n",
       "      <td>1754.0</td>\n",
       "      <td>312.0</td>\n",
       "      <td>655.0</td>\n",
       "      <td>16.0</td>\n",
       "      <td>2433.0</td>\n",
       "      <td>1</td>\n",
       "    </tr>\n",
       "    <tr>\n",
       "      <th>2</th>\n",
       "      <td>2016</td>\n",
       "      <td>1</td>\n",
       "      <td>607.0</td>\n",
       "      <td>35.52</td>\n",
       "      <td>5.40</td>\n",
       "      <td>23.55</td>\n",
       "      <td>0.00</td>\n",
       "      <td>27.52</td>\n",
       "      <td>12.0</td>\n",
       "      <td>2.0</td>\n",
       "      <td>4485.0</td>\n",
       "      <td>1857.0</td>\n",
       "      <td>198.0</td>\n",
       "      <td>715.0</td>\n",
       "      <td>0.0</td>\n",
       "      <td>1715.0</td>\n",
       "      <td>1</td>\n",
       "    </tr>\n",
       "    <tr>\n",
       "      <th>3</th>\n",
       "      <td>2016</td>\n",
       "      <td>1</td>\n",
       "      <td>1595.0</td>\n",
       "      <td>117.00</td>\n",
       "      <td>10.26</td>\n",
       "      <td>117.66</td>\n",
       "      <td>0.83</td>\n",
       "      <td>89.25</td>\n",
       "      <td>137.0</td>\n",
       "      <td>6.0</td>\n",
       "      <td>23698.0</td>\n",
       "      <td>9681.0</td>\n",
       "      <td>1592.0</td>\n",
       "      <td>4371.0</td>\n",
       "      <td>18.0</td>\n",
       "      <td>8036.0</td>\n",
       "      <td>1</td>\n",
       "    </tr>\n",
       "    <tr>\n",
       "      <th>4</th>\n",
       "      <td>2016</td>\n",
       "      <td>1</td>\n",
       "      <td>327.0</td>\n",
       "      <td>23.67</td>\n",
       "      <td>1.47</td>\n",
       "      <td>14.50</td>\n",
       "      <td>0.06</td>\n",
       "      <td>19.29</td>\n",
       "      <td>0.0</td>\n",
       "      <td>0.0</td>\n",
       "      <td>2276.0</td>\n",
       "      <td>985.0</td>\n",
       "      <td>94.0</td>\n",
       "      <td>373.0</td>\n",
       "      <td>5.0</td>\n",
       "      <td>819.0</td>\n",
       "      <td>1</td>\n",
       "    </tr>\n",
       "  </tbody>\n",
       "</table>\n",
       "</div>"
      ],
      "text/plain": [
       "   year  month  arr_flights  carrier_ct  weather_ct  nas_ct  security_ct  \\\n",
       "0  2016      1      11956.0      507.33       39.83  452.65         4.72   \n",
       "1  2016      1        588.0       34.71        4.71   19.77         0.32   \n",
       "2  2016      1        607.0       35.52        5.40   23.55         0.00   \n",
       "3  2016      1       1595.0      117.00       10.26  117.66         0.83   \n",
       "4  2016      1        327.0       23.67        1.47   14.50         0.06   \n",
       "\n",
       "   late_aircraft_ct  arr_cancelled  arr_diverted  arr_delay  carrier_delay  \\\n",
       "0            529.47          201.0           9.0   106950.0        50027.0   \n",
       "1             38.49           13.0           2.0     5170.0         1754.0   \n",
       "2             27.52           12.0           2.0     4485.0         1857.0   \n",
       "3             89.25          137.0           6.0    23698.0         9681.0   \n",
       "4             19.29            0.0           0.0     2276.0          985.0   \n",
       "\n",
       "   weather_delay  nas_delay  security_delay  late_aircraft_delay  target  \n",
       "0         2842.0    13913.0           167.0              40001.0       1  \n",
       "1          312.0      655.0            16.0               2433.0       1  \n",
       "2          198.0      715.0             0.0               1715.0       1  \n",
       "3         1592.0     4371.0            18.0               8036.0       1  \n",
       "4           94.0      373.0             5.0                819.0       1  "
      ]
     },
     "execution_count": 57,
     "metadata": {},
     "output_type": "execute_result"
    }
   ],
   "source": [
    "data[col_numeric].head()"
   ]
  },
  {
   "cell_type": "code",
   "execution_count": 59,
   "metadata": {},
   "outputs": [
    {
     "data": {
      "text/html": [
       "<div>\n",
       "<style>\n",
       "    .dataframe thead tr:only-child th {\n",
       "        text-align: right;\n",
       "    }\n",
       "\n",
       "    .dataframe thead th {\n",
       "        text-align: left;\n",
       "    }\n",
       "\n",
       "    .dataframe tbody tr th {\n",
       "        vertical-align: top;\n",
       "    }\n",
       "</style>\n",
       "<table border=\"1\" class=\"dataframe\">\n",
       "  <thead>\n",
       "    <tr style=\"text-align: right;\">\n",
       "      <th></th>\n",
       "      <th>carrier</th>\n",
       "      <th>carrier_name</th>\n",
       "      <th>airport</th>\n",
       "      <th>airport_name</th>\n",
       "    </tr>\n",
       "  </thead>\n",
       "  <tbody>\n",
       "    <tr>\n",
       "      <th>0</th>\n",
       "      <td>AA</td>\n",
       "      <td>American Airlines Inc.</td>\n",
       "      <td>DFW</td>\n",
       "      <td>Dallas/Fort Worth, TX: Dallas/Fort Worth Inter...</td>\n",
       "    </tr>\n",
       "    <tr>\n",
       "      <th>1</th>\n",
       "      <td>AA</td>\n",
       "      <td>American Airlines Inc.</td>\n",
       "      <td>DTW</td>\n",
       "      <td>Detroit, MI: Detroit Metro Wayne County</td>\n",
       "    </tr>\n",
       "    <tr>\n",
       "      <th>2</th>\n",
       "      <td>AA</td>\n",
       "      <td>American Airlines Inc.</td>\n",
       "      <td>SEA</td>\n",
       "      <td>Seattle, WA: Seattle/Tacoma International</td>\n",
       "    </tr>\n",
       "    <tr>\n",
       "      <th>3</th>\n",
       "      <td>AA</td>\n",
       "      <td>American Airlines Inc.</td>\n",
       "      <td>JFK</td>\n",
       "      <td>New York, NY: John F. Kennedy International</td>\n",
       "    </tr>\n",
       "    <tr>\n",
       "      <th>4</th>\n",
       "      <td>AA</td>\n",
       "      <td>American Airlines Inc.</td>\n",
       "      <td>SJC</td>\n",
       "      <td>San Jose, CA: Norman Y. Mineta San Jose Intern...</td>\n",
       "    </tr>\n",
       "  </tbody>\n",
       "</table>\n",
       "</div>"
      ],
      "text/plain": [
       "  carrier            carrier_name airport  \\\n",
       "0      AA  American Airlines Inc.     DFW   \n",
       "1      AA  American Airlines Inc.     DTW   \n",
       "2      AA  American Airlines Inc.     SEA   \n",
       "3      AA  American Airlines Inc.     JFK   \n",
       "4      AA  American Airlines Inc.     SJC   \n",
       "\n",
       "                                        airport_name  \n",
       "0  Dallas/Fort Worth, TX: Dallas/Fort Worth Inter...  \n",
       "1            Detroit, MI: Detroit Metro Wayne County  \n",
       "2          Seattle, WA: Seattle/Tacoma International  \n",
       "3        New York, NY: John F. Kennedy International  \n",
       "4  San Jose, CA: Norman Y. Mineta San Jose Intern...  "
      ]
     },
     "execution_count": 59,
     "metadata": {},
     "output_type": "execute_result"
    }
   ],
   "source": [
    "data[col_categorical].head()"
   ]
  },
  {
   "cell_type": "markdown",
   "metadata": {},
   "source": [
    "In the previous sort, we considered year and month as numeric, though they are ..... \n",
    "\n",
    "\n",
    "Clean up groups"
   ]
  },
  {
   "cell_type": "code",
   "execution_count": null,
   "metadata": {
    "collapsed": true
   },
   "outputs": [],
   "source": [
    "col_numeric = ['year', \n",
    " 'month',\n",
    " 'arr_flights',\n",
    " 'carrier_ct',\n",
    " 'weather_ct',\n",
    " 'nas_ct',\n",
    " 'security_ct',\n",
    " 'late_aircraft_ct',\n",
    " 'arr_cancelled',\n",
    " 'arr_diverted',\n",
    " 'arr_delay',\n",
    " 'carrier_delay',\n",
    " 'weather_delay',\n",
    " 'nas_delay',\n",
    " 'security_delay',\n",
    " 'late_aircraft_delay',\n",
    " 'target']"
   ]
  },
  {
   "cell_type": "code",
   "execution_count": null,
   "metadata": {
    "collapsed": true
   },
   "outputs": [],
   "source": []
  },
  {
   "cell_type": "code",
   "execution_count": null,
   "metadata": {
    "collapsed": true
   },
   "outputs": [],
   "source": []
  },
  {
   "cell_type": "code",
   "execution_count": null,
   "metadata": {
    "collapsed": true
   },
   "outputs": [],
   "source": []
  },
  {
   "cell_type": "code",
   "execution_count": null,
   "metadata": {
    "collapsed": true
   },
   "outputs": [],
   "source": []
  },
  {
   "cell_type": "code",
   "execution_count": null,
   "metadata": {
    "collapsed": true
   },
   "outputs": [],
   "source": []
  },
  {
   "cell_type": "markdown",
   "metadata": {},
   "source": [
    "### Plot AUC Curve"
   ]
  },
  {
   "cell_type": "code",
   "execution_count": 86,
   "metadata": {
    "collapsed": true
   },
   "outputs": [],
   "source": [
    "from sklearn.metrics import roc_auc_score\n",
    "from sklearn.model_selection import cross_val_score"
   ]
  },
  {
   "cell_type": "code",
   "execution_count": 87,
   "metadata": {
    "collapsed": true
   },
   "outputs": [],
   "source": [
    "# Compute predicted probabilities: y_pred_prob\n",
    "y_pred_prob = logit_reg.predict_proba(X_test)[:,1]"
   ]
  },
  {
   "cell_type": "code",
   "execution_count": 88,
   "metadata": {},
   "outputs": [
    {
     "name": "stdout",
     "output_type": "stream",
     "text": [
      "AUC: 0.997023124309\n"
     ]
    }
   ],
   "source": [
    "# Compute and print AUC score\n",
    "print(\"AUC: {}\".format(roc_auc_score(y_test, y_pred_prob)))"
   ]
  },
  {
   "cell_type": "code",
   "execution_count": 89,
   "metadata": {
    "collapsed": true
   },
   "outputs": [],
   "source": [
    "# Compute cross-validated AUC scores: cv_auc\n",
    "cv_auc = cross_val_score(logit_reg, X, y, cv=5, scoring='roc_auc')"
   ]
  },
  {
   "cell_type": "code",
   "execution_count": 90,
   "metadata": {},
   "outputs": [
    {
     "name": "stdout",
     "output_type": "stream",
     "text": [
      "AUC scores computed using 5-fold cross-validation: [ 0.99858454  0.99998255  0.999916    0.99997588  0.99984613]\n"
     ]
    }
   ],
   "source": [
    "# Print list of AUC scores\n",
    "print(\"AUC scores computed using 5-fold cross-validation: {}\".format(cv_auc))"
   ]
  },
  {
   "cell_type": "markdown",
   "metadata": {},
   "source": [
    "## Back to Logistic Regression"
   ]
  },
  {
   "cell_type": "code",
   "execution_count": 91,
   "metadata": {},
   "outputs": [
    {
     "data": {
      "text/plain": [
       "LogisticRegression(C=1.0, class_weight=None, dual=False, fit_intercept=True,\n",
       "          intercept_scaling=1, max_iter=100, multi_class='ovr', n_jobs=1,\n",
       "          penalty='l2', random_state=None, solver='liblinear', tol=0.0001,\n",
       "          verbose=0, warm_start=False)"
      ]
     },
     "execution_count": 91,
     "metadata": {},
     "output_type": "execute_result"
    }
   ],
   "source": [
    "X_train, X_test, y_train, y_test = train_test_split(X, y, test_size=0.3, random_state=0)\n",
    "from sklearn.linear_model import LogisticRegression\n",
    "from sklearn import metrics\n",
    "logreg = LogisticRegression()\n",
    "logreg.fit(X_train, y_train)"
   ]
  },
  {
   "cell_type": "code",
   "execution_count": 92,
   "metadata": {},
   "outputs": [
    {
     "name": "stdout",
     "output_type": "stream",
     "text": [
      "Accuracy of logistic regression classifier on test set: 1.00\n"
     ]
    }
   ],
   "source": [
    "y_pred = logreg.predict(X_test)\n",
    "print('Accuracy of logistic regression classifier on test set: {:.2f}'.format(logreg.score(X_test, y_test)))"
   ]
  },
  {
   "cell_type": "code",
   "execution_count": 93,
   "metadata": {},
   "outputs": [
    {
     "name": "stdout",
     "output_type": "stream",
     "text": [
      "10-fold cross validation average accuracy: 0.989\n"
     ]
    }
   ],
   "source": [
    "from sklearn import model_selection\n",
    "from sklearn.model_selection import cross_val_score\n",
    "kfold = model_selection.KFold(n_splits=10, random_state=7)\n",
    "modelCV = LogisticRegression()\n",
    "scoring = 'accuracy'\n",
    "results = model_selection.cross_val_score(modelCV, X_train, y_train, cv=kfold, scoring=scoring)\n",
    "print(\"10-fold cross validation average accuracy: %.3f\" % (results.mean()))"
   ]
  },
  {
   "cell_type": "markdown",
   "metadata": {},
   "source": [
    "### GridSearchCV"
   ]
  },
  {
   "cell_type": "code",
   "execution_count": 94,
   "metadata": {
    "collapsed": true
   },
   "outputs": [],
   "source": [
    "# from sklearn.model_selection import GridSearchCV\n",
    "\n",
    "# param_grid = { 'n_neighbors': np.arange( 1, 50 ) }\n",
    "# logreg = LogisticRegression()\n",
    "# logreg_cv = GridSearchCV( logreg, param_grid, cv=5 )\n",
    "# logreg_cv.fit( X, y )\n",
    "\n",
    "\n",
    "# print(logreg_cv.best_params_),\n",
    "# print(logreg_cv.best_score_)\n"
   ]
  },
  {
   "cell_type": "markdown",
   "metadata": {},
   "source": [
    "## Comparing Algorithms"
   ]
  },
  {
   "cell_type": "code",
   "execution_count": 95,
   "metadata": {},
   "outputs": [
    {
     "name": "stdout",
     "output_type": "stream",
     "text": [
      "Logistic Regression: 0.990871 (0.006586)\n"
     ]
    },
    {
     "name": "stderr",
     "output_type": "stream",
     "text": [
      "/Users/jg/anaconda/lib/python2.7/site-packages/sklearn/discriminant_analysis.py:387: UserWarning: Variables are collinear.\n",
      "  warnings.warn(\"Variables are collinear.\")\n"
     ]
    },
    {
     "name": "stdout",
     "output_type": "stream",
     "text": [
      "LDA: 0.626157 (0.092132)\n",
      "KNearestneighbors: 0.942091 (0.007824)\n",
      "Classification And Regression Trees: 0.969390 (0.003984)\n",
      "NB: 0.857067 (0.014922)\n",
      "SVM: 0.640382 (0.050608)\n"
     ]
    }
   ],
   "source": [
    "# this cell takes about 90 seconds to run,... mostly bc of SVM\n",
    "# Compare Algorithms\n",
    "import pandas\n",
    "import matplotlib.pyplot as plt\n",
    "from sklearn import model_selection\n",
    "from sklearn.linear_model import LogisticRegression\n",
    "from sklearn.tree import DecisionTreeClassifier\n",
    "from sklearn.neighbors import KNeighborsClassifier\n",
    "from sklearn.discriminant_analysis import LinearDiscriminantAnalysis\n",
    "from sklearn.ensemble import RandomForestRegressor\n",
    "from sklearn.ensemble import RandomForestClassifier\n",
    "from sklearn.naive_bayes import GaussianNB\n",
    "from sklearn.svm import SVC\n",
    "\n",
    "seed = 42\n",
    "# prepare list for models\n",
    "models = []\n",
    "models.append(('Logistic Regression', LogisticRegression()))\n",
    "models.append(('LDA', LinearDiscriminantAnalysis()))\n",
    "models.append(('KNearestneighbors', KNeighborsClassifier()))\n",
    "models.append(('Classification And Regression Trees', DecisionTreeClassifier()))\n",
    "models.append(('NB', GaussianNB()))\n",
    "# models.append(('RFRg', RandomForestRegressor(n_estimators = 100,oob_score = True, n_jobs = -1, random_state=seed)))\n",
    "models.append(('SVM', SVC()))\n",
    "# evaluate each model in turn\n",
    "results = []\n",
    "names = []\n",
    "scoring = 'accuracy'\n",
    "for name, model in models:\n",
    "    kfold = model_selection.KFold(n_splits=10, random_state=seed)\n",
    "    cv_results = model_selection.cross_val_score(model, X, y, cv=kfold, scoring=scoring)\n",
    "    results.append(cv_results)\n",
    "    names.append(name)\n",
    "    msg = \"%s: %f (%f)\" % (name, cv_results.mean(), cv_results.std())\n",
    "    print(msg)"
   ]
  },
  {
   "cell_type": "code",
   "execution_count": 96,
   "metadata": {},
   "outputs": [
    {
     "data": {
      "image/png": "[encoded data removed]",
      "text/plain": [
       "<matplotlib.figure.Figure at 0x11c6871d0>"
      ]
     },
     "metadata": {},
     "output_type": "display_data"
    }
   ],
   "source": [
    "# boxplot algorithm comparison\n",
    "fig = plt.figure()\n",
    "fig.suptitle('Supervised Machine Learning Algorithm Comparison')\n",
    "ax = fig.add_subplot(111)\n",
    "plt.boxplot(results)\n",
    "ax.set_xticklabels(names)\n",
    "plt.show()"
   ]
  },
  {
   "cell_type": "markdown",
   "metadata": {},
   "source": [
    "Random Forest model\n",
    "- oob_score(out of bag)=True shows model performance with or without using Cross-Validation\n",
    "- Generally the target follows a certain distribution and few observations, then using CV will not give much improvement."
   ]
  },
  {
   "cell_type": "code",
   "execution_count": 97,
   "metadata": {
    "collapsed": true
   },
   "outputs": [],
   "source": [
    "RandomForestmodel = RandomForestClassifier(n_estimators = 100, oob_score = True, n_jobs = 1,random_state =1)"
   ]
  },
  {
   "cell_type": "code",
   "execution_count": 98,
   "metadata": {},
   "outputs": [
    {
     "data": {
      "text/plain": [
       "RandomForestClassifier(bootstrap=True, class_weight=None, criterion='gini',\n",
       "            max_depth=None, max_features='auto', max_leaf_nodes=None,\n",
       "            min_impurity_split=1e-07, min_samples_leaf=1,\n",
       "            min_samples_split=2, min_weight_fraction_leaf=0.0,\n",
       "            n_estimators=100, n_jobs=1, oob_score=True, random_state=1,\n",
       "            verbose=0, warm_start=False)"
      ]
     },
     "execution_count": 98,
     "metadata": {},
     "output_type": "execute_result"
    }
   ],
   "source": [
    "RandomForestmodel.fit(X,y)"
   ]
  },
  {
   "cell_type": "code",
   "execution_count": 99,
   "metadata": {
    "collapsed": true
   },
   "outputs": [],
   "source": [
    "RandomForestmodel_2 = RandomForestClassifier(n_estimators = 100,oob_score = True, n_jobs = -1, random_state=1)"
   ]
  },
  {
   "cell_type": "code",
   "execution_count": 100,
   "metadata": {},
   "outputs": [
    {
     "data": {
      "text/plain": [
       "RandomForestClassifier(bootstrap=True, class_weight=None, criterion='gini',\n",
       "            max_depth=None, max_features='auto', max_leaf_nodes=None,\n",
       "            min_impurity_split=1e-07, min_samples_leaf=1,\n",
       "            min_samples_split=2, min_weight_fraction_leaf=0.0,\n",
       "            n_estimators=100, n_jobs=-1, oob_score=True, random_state=1,\n",
       "            verbose=0, warm_start=False)"
      ]
     },
     "execution_count": 100,
     "metadata": {},
     "output_type": "execute_result"
    }
   ],
   "source": [
    "RandomForestmodel_2.fit(X,y)"
   ]
  },
  {
   "cell_type": "markdown",
   "metadata": {
    "collapsed": true
   },
   "source": [
    "## another Random forest Model"
   ]
  },
  {
   "cell_type": "code",
   "execution_count": 101,
   "metadata": {
    "collapsed": true
   },
   "outputs": [],
   "source": [
    "RF_model =  RandomForestRegressor(n_estimators = 100 , oob_score =True, random_state = 42)"
   ]
  },
  {
   "cell_type": "code",
   "execution_count": 102,
   "metadata": {},
   "outputs": [
    {
     "data": {
      "text/plain": [
       "array([  5.32733481e-02,   5.82420115e-02,   5.68543669e-03,\n",
       "         5.42954668e-02,   4.81342570e-04,   5.59988183e-02,\n",
       "         1.16570321e-03,   7.89451257e-04,   7.51200632e-01,\n",
       "         4.06927589e-03,   2.47228557e-03,   6.82354293e-03,\n",
       "         5.16167175e-04,   4.98651749e-03])"
      ]
     },
     "execution_count": 102,
     "metadata": {},
     "output_type": "execute_result"
    }
   ],
   "source": [
    "RF_model.fit(X,y).feature_importances_"
   ]
  },
  {
   "cell_type": "code",
   "execution_count": 103,
   "metadata": {},
   "outputs": [
    {
     "data": {
      "text/plain": [
       "RandomForestRegressor(bootstrap=True, criterion='mse', max_depth=None,\n",
       "           max_features='auto', max_leaf_nodes=None,\n",
       "           min_impurity_split=1e-07, min_samples_leaf=1,\n",
       "           min_samples_split=2, min_weight_fraction_leaf=0.0,\n",
       "           n_estimators=100, n_jobs=1, oob_score=True, random_state=42,\n",
       "           verbose=0, warm_start=False)"
      ]
     },
     "execution_count": 103,
     "metadata": {},
     "output_type": "execute_result"
    }
   ],
   "source": [
    "RF_model.fit(X, y)"
   ]
  },
  {
   "cell_type": "code",
   "execution_count": 104,
   "metadata": {},
   "outputs": [
    {
     "data": {
      "text/plain": [
       "array([  5.32733481e-02,   5.82420115e-02,   5.68543669e-03,\n",
       "         5.42954668e-02,   4.81342570e-04,   5.59988183e-02,\n",
       "         1.16570321e-03,   7.89451257e-04,   7.51200632e-01,\n",
       "         4.06927589e-03,   2.47228557e-03,   6.82354293e-03,\n",
       "         5.16167175e-04,   4.98651749e-03])"
      ]
     },
     "execution_count": 104,
     "metadata": {},
     "output_type": "execute_result"
    }
   ],
   "source": [
    "RF_model.feature_importances_"
   ]
  },
  {
   "cell_type": "code",
   "execution_count": 105,
   "metadata": {},
   "outputs": [
    {
     "name": "stdout",
     "output_type": "stream",
     "text": [
      "AUC - ROC :  0.99880608417\n"
     ]
    }
   ],
   "source": [
    "print \"AUC - ROC : \", roc_auc_score(y, RF_model.oob_prediction_)"
   ]
  },
  {
   "cell_type": "code",
   "execution_count": 106,
   "metadata": {
    "collapsed": true
   },
   "outputs": [],
   "source": [
    "from collections import OrderedDict\n",
    "from sklearn.datasets import make_classification\n",
    "from sklearn.ensemble import RandomForestClassifier, ExtraTreesClassifier"
   ]
  },
  {
   "cell_type": "code",
   "execution_count": 107,
   "metadata": {},
   "outputs": [
    {
     "name": "stderr",
     "output_type": "stream",
     "text": [
      "/Users/jg/anaconda/lib/python2.7/site-packages/sklearn/ensemble/forest.py:439: UserWarning: Some inputs do not have OOB scores. This probably means too few trees were used to compute any reliable oob estimates.\n",
      "  warn(\"Some inputs do not have OOB scores. \"\n",
      "/Users/jg/anaconda/lib/python2.7/site-packages/sklearn/ensemble/forest.py:444: RuntimeWarning: invalid value encountered in true_divide\n",
      "  predictions[k].sum(axis=1)[:, np.newaxis])\n"
     ]
    },
    {
     "data": {
      "image/png": "[encoded data removed]",
      "text/plain": [
       "<matplotlib.figure.Figure at 0x11ceba390>"
      ]
     },
     "metadata": {},
     "output_type": "display_data"
    }
   ],
   "source": [
    "# this cell takes about 90 seconds to run\n",
    "RANDOM_STATE = 42\n",
    "ensemble_clfs = [\n",
    "    (\"RandomForestClassifier, max_features='sqrt'\",\n",
    "        RandomForestClassifier(warm_start=True, oob_score=True,\n",
    "                               max_features=\"sqrt\",\n",
    "                               random_state=RANDOM_STATE)),\n",
    "    (\"RandomForestClassifier, max_features='log2'\",\n",
    "        RandomForestClassifier(warm_start=True, max_features='log2',\n",
    "                               oob_score=True,\n",
    "                               random_state=RANDOM_STATE)),\n",
    "    (\"RandomForestClassifier, max_features=None\",\n",
    "        RandomForestClassifier(warm_start=True, max_features=None,\n",
    "                               oob_score=True,\n",
    "                               random_state=RANDOM_STATE)),\n",
    "    (\"RandomForestClassifier, max_features=2\",\n",
    "        RandomForestClassifier(warm_start=True, max_features=2,\n",
    "                               oob_score=True,\n",
    "                               random_state=RANDOM_STATE))\n",
    "]\n",
    "\n",
    "# Map a classifier name to a list of (<n_estimators>, <error rate>) pairs.\n",
    "error_rate = OrderedDict((label, []) for label, _ in ensemble_clfs)\n",
    "\n",
    "# Range of `n_estimators` values to explore.\n",
    "min_estimators = 15\n",
    "max_estimators = 175\n",
    "\n",
    "for label, clf in ensemble_clfs:\n",
    "    for i in range(min_estimators, max_estimators + 1):\n",
    "        clf.set_params(n_estimators=i)\n",
    "        clf.fit(X, y)\n",
    "\n",
    "        # Record the OOB error for each `n_estimators=i` setting.\n",
    "        oob_error = 1 - clf.oob_score_\n",
    "        error_rate[label].append((i, oob_error))\n",
    "\n",
    "# Generate the \"OOB error rate\" vs. \"n_estimators\" plot.\n",
    "for label, clf_err in error_rate.items():\n",
    "    xs, ys = zip(*clf_err)\n",
    "    plt.plot(xs, ys, label=label)\n",
    "\n",
    "plt.xlim(min_estimators, max_estimators)\n",
    "plt.xlabel(\"n_estimators\")\n",
    "plt.ylabel(\"OOB error rate\")\n",
    "plt.legend(loc=\"upper right\")\n",
    "plt.show()"
   ]
  },
  {
   "cell_type": "code",
   "execution_count": null,
   "metadata": {
    "collapsed": true
   },
   "outputs": [],
   "source": []
  },
  {
   "cell_type": "markdown",
   "metadata": {},
   "source": [
    "#### Twice the estimators\n",
    "and multiple leaf options using the regressor"
   ]
  },
  {
   "cell_type": "code",
   "execution_count": 108,
   "metadata": {},
   "outputs": [
    {
     "name": "stdout",
     "output_type": "stream",
     "text": [
      "CPU times: user 4 µs, sys: 3 µs, total: 7 µs\n",
      "Wall time: 17.2 µs\n",
      "Leaf Size: 1     AUC - ROC :  0.998862990345\n",
      "Leaf Size: 5     AUC - ROC :  0.998787198568\n",
      "Leaf Size: 10     AUC - ROC :  0.99849487073\n",
      "Leaf Size: 50     AUC - ROC :  0.996633707966\n",
      "Leaf Size: 100     AUC - ROC :  0.995006188027\n",
      "Leaf Size: 200     AUC - ROC :  0.991450208742\n",
      "Leaf Size: 500     AUC - ROC :  0.988021341528\n"
     ]
    }
   ],
   "source": [
    "%time  \n",
    "%timeit\n",
    "sample_leaf_options = [1,5,10,50,100,200,500]\n",
    "for leaf_size in sample_leaf_options :\n",
    "    model_RF_loop = RandomForestRegressor(\n",
    "        n_estimators = 200, \n",
    "        oob_score = True, \n",
    "        n_jobs = -1,\n",
    "        random_state = 42,\n",
    "        max_features = \"auto\", \n",
    "        min_samples_leaf = leaf_size)\n",
    "    model_RF_loop.fit(X, y)\n",
    "    print \"Leaf Size:\", leaf_size, \"    AUC - ROC : \", roc_auc_score(y, model_RF_loop.oob_prediction_ )"
   ]
  },
  {
   "cell_type": "markdown",
   "metadata": {},
   "source": [
    "Group the data in ways that shows insights"
   ]
  },
  {
   "cell_type": "code",
   "execution_count": 109,
   "metadata": {
    "collapsed": true
   },
   "outputs": [],
   "source": [
    "airport_grouping = data.iloc[:, [0, 1, 2, 3, 4,5,6,7]].groupby(by=['airport_name', 'carrier', 'year', 'month'])"
   ]
  },
  {
   "cell_type": "code",
   "execution_count": 110,
   "metadata": {
    "scrolled": true
   },
   "outputs": [
    {
     "data": {
      "text/html": [
       "<div>\n",
       "<style>\n",
       "    .dataframe thead tr:only-child th {\n",
       "        text-align: right;\n",
       "    }\n",
       "\n",
       "    .dataframe thead th {\n",
       "        text-align: left;\n",
       "    }\n",
       "\n",
       "    .dataframe tbody tr th {\n",
       "        vertical-align: top;\n",
       "    }\n",
       "</style>\n",
       "<table border=\"1\" class=\"dataframe\">\n",
       "  <thead>\n",
       "    <tr style=\"text-align: right;\">\n",
       "      <th></th>\n",
       "      <th></th>\n",
       "      <th></th>\n",
       "      <th></th>\n",
       "      <th>arr_flights</th>\n",
       "      <th>carrier_ct</th>\n",
       "    </tr>\n",
       "    <tr>\n",
       "      <th>airport_name</th>\n",
       "      <th>carrier</th>\n",
       "      <th>year</th>\n",
       "      <th>month</th>\n",
       "      <th></th>\n",
       "      <th></th>\n",
       "    </tr>\n",
       "  </thead>\n",
       "  <tbody>\n",
       "    <tr>\n",
       "      <th rowspan=\"11\" valign=\"top\">Aberdeen, SD: Aberdeen Regional</th>\n",
       "      <th rowspan=\"11\" valign=\"top\">OO</th>\n",
       "      <th rowspan=\"11\" valign=\"top\">2016</th>\n",
       "      <th>1</th>\n",
       "      <td>62.0</td>\n",
       "      <td>0.00</td>\n",
       "    </tr>\n",
       "    <tr>\n",
       "      <th>2</th>\n",
       "      <td>58.0</td>\n",
       "      <td>5.63</td>\n",
       "    </tr>\n",
       "    <tr>\n",
       "      <th>3</th>\n",
       "      <td>62.0</td>\n",
       "      <td>2.23</td>\n",
       "    </tr>\n",
       "    <tr>\n",
       "      <th>4</th>\n",
       "      <td>60.0</td>\n",
       "      <td>1.00</td>\n",
       "    </tr>\n",
       "    <tr>\n",
       "      <th>5</th>\n",
       "      <td>62.0</td>\n",
       "      <td>1.00</td>\n",
       "    </tr>\n",
       "    <tr>\n",
       "      <th>6</th>\n",
       "      <td>60.0</td>\n",
       "      <td>1.48</td>\n",
       "    </tr>\n",
       "    <tr>\n",
       "      <th>7</th>\n",
       "      <td>62.0</td>\n",
       "      <td>1.93</td>\n",
       "    </tr>\n",
       "    <tr>\n",
       "      <th>8</th>\n",
       "      <td>62.0</td>\n",
       "      <td>0.66</td>\n",
       "    </tr>\n",
       "    <tr>\n",
       "      <th>9</th>\n",
       "      <td>60.0</td>\n",
       "      <td>1.75</td>\n",
       "    </tr>\n",
       "    <tr>\n",
       "      <th>10</th>\n",
       "      <td>69.0</td>\n",
       "      <td>1.00</td>\n",
       "    </tr>\n",
       "    <tr>\n",
       "      <th>11</th>\n",
       "      <td>65.0</td>\n",
       "      <td>0.89</td>\n",
       "    </tr>\n",
       "    <tr>\n",
       "      <th rowspan=\"6\" valign=\"top\">Abilene, TX: Abilene Regional</th>\n",
       "      <th rowspan=\"6\" valign=\"top\">EV</th>\n",
       "      <th rowspan=\"6\" valign=\"top\">2016</th>\n",
       "      <th>6</th>\n",
       "      <td>4.0</td>\n",
       "      <td>1.00</td>\n",
       "    </tr>\n",
       "    <tr>\n",
       "      <th>7</th>\n",
       "      <td>23.0</td>\n",
       "      <td>0.56</td>\n",
       "    </tr>\n",
       "    <tr>\n",
       "      <th>8</th>\n",
       "      <td>27.0</td>\n",
       "      <td>1.60</td>\n",
       "    </tr>\n",
       "    <tr>\n",
       "      <th>9</th>\n",
       "      <td>26.0</td>\n",
       "      <td>3.12</td>\n",
       "    </tr>\n",
       "    <tr>\n",
       "      <th>10</th>\n",
       "      <td>29.0</td>\n",
       "      <td>1.00</td>\n",
       "    </tr>\n",
       "    <tr>\n",
       "      <th>11</th>\n",
       "      <td>25.0</td>\n",
       "      <td>3.54</td>\n",
       "    </tr>\n",
       "    <tr>\n",
       "      <th rowspan=\"11\" valign=\"top\">Adak Island, AK: Adak</th>\n",
       "      <th rowspan=\"11\" valign=\"top\">AS</th>\n",
       "      <th rowspan=\"11\" valign=\"top\">2016</th>\n",
       "      <th>1</th>\n",
       "      <td>9.0</td>\n",
       "      <td>1.00</td>\n",
       "    </tr>\n",
       "    <tr>\n",
       "      <th>2</th>\n",
       "      <td>8.0</td>\n",
       "      <td>1.00</td>\n",
       "    </tr>\n",
       "    <tr>\n",
       "      <th>3</th>\n",
       "      <td>9.0</td>\n",
       "      <td>0.00</td>\n",
       "    </tr>\n",
       "    <tr>\n",
       "      <th>4</th>\n",
       "      <td>8.0</td>\n",
       "      <td>0.00</td>\n",
       "    </tr>\n",
       "    <tr>\n",
       "      <th>5</th>\n",
       "      <td>9.0</td>\n",
       "      <td>0.00</td>\n",
       "    </tr>\n",
       "    <tr>\n",
       "      <th>6</th>\n",
       "      <td>9.0</td>\n",
       "      <td>0.86</td>\n",
       "    </tr>\n",
       "    <tr>\n",
       "      <th>7</th>\n",
       "      <td>9.0</td>\n",
       "      <td>2.00</td>\n",
       "    </tr>\n",
       "    <tr>\n",
       "      <th>8</th>\n",
       "      <td>8.0</td>\n",
       "      <td>0.06</td>\n",
       "    </tr>\n",
       "    <tr>\n",
       "      <th>9</th>\n",
       "      <td>9.0</td>\n",
       "      <td>0.00</td>\n",
       "    </tr>\n",
       "    <tr>\n",
       "      <th>10</th>\n",
       "      <td>9.0</td>\n",
       "      <td>0.00</td>\n",
       "    </tr>\n",
       "    <tr>\n",
       "      <th>11</th>\n",
       "      <td>8.0</td>\n",
       "      <td>0.00</td>\n",
       "    </tr>\n",
       "    <tr>\n",
       "      <th rowspan=\"2\" valign=\"top\">Aguadilla, PR: Rafael Hernandez</th>\n",
       "      <th rowspan=\"2\" valign=\"top\">B6</th>\n",
       "      <th rowspan=\"2\" valign=\"top\">2016</th>\n",
       "      <th>1</th>\n",
       "      <td>123.0</td>\n",
       "      <td>14.59</td>\n",
       "    </tr>\n",
       "    <tr>\n",
       "      <th>2</th>\n",
       "      <td>67.0</td>\n",
       "      <td>7.24</td>\n",
       "    </tr>\n",
       "    <tr>\n",
       "      <th>...</th>\n",
       "      <th>...</th>\n",
       "      <th>...</th>\n",
       "      <th>...</th>\n",
       "      <td>...</td>\n",
       "      <td>...</td>\n",
       "    </tr>\n",
       "    <tr>\n",
       "      <th rowspan=\"8\" valign=\"top\">Wrangell, AK: Wrangell Airport</th>\n",
       "      <th rowspan=\"8\" valign=\"top\">AS</th>\n",
       "      <th rowspan=\"8\" valign=\"top\">2016</th>\n",
       "      <th>4</th>\n",
       "      <td>60.0</td>\n",
       "      <td>0.00</td>\n",
       "    </tr>\n",
       "    <tr>\n",
       "      <th>5</th>\n",
       "      <td>62.0</td>\n",
       "      <td>0.77</td>\n",
       "    </tr>\n",
       "    <tr>\n",
       "      <th>6</th>\n",
       "      <td>60.0</td>\n",
       "      <td>0.58</td>\n",
       "    </tr>\n",
       "    <tr>\n",
       "      <th>7</th>\n",
       "      <td>62.0</td>\n",
       "      <td>2.88</td>\n",
       "    </tr>\n",
       "    <tr>\n",
       "      <th>8</th>\n",
       "      <td>62.0</td>\n",
       "      <td>0.00</td>\n",
       "    </tr>\n",
       "    <tr>\n",
       "      <th>9</th>\n",
       "      <td>60.0</td>\n",
       "      <td>3.89</td>\n",
       "    </tr>\n",
       "    <tr>\n",
       "      <th>10</th>\n",
       "      <td>62.0</td>\n",
       "      <td>2.98</td>\n",
       "    </tr>\n",
       "    <tr>\n",
       "      <th>11</th>\n",
       "      <td>58.0</td>\n",
       "      <td>1.16</td>\n",
       "    </tr>\n",
       "    <tr>\n",
       "      <th rowspan=\"11\" valign=\"top\">Yakutat, AK: Yakutat Airport</th>\n",
       "      <th rowspan=\"11\" valign=\"top\">AS</th>\n",
       "      <th rowspan=\"11\" valign=\"top\">2016</th>\n",
       "      <th>1</th>\n",
       "      <td>60.0</td>\n",
       "      <td>0.20</td>\n",
       "    </tr>\n",
       "    <tr>\n",
       "      <th>2</th>\n",
       "      <td>58.0</td>\n",
       "      <td>0.00</td>\n",
       "    </tr>\n",
       "    <tr>\n",
       "      <th>3</th>\n",
       "      <td>62.0</td>\n",
       "      <td>1.08</td>\n",
       "    </tr>\n",
       "    <tr>\n",
       "      <th>4</th>\n",
       "      <td>60.0</td>\n",
       "      <td>1.94</td>\n",
       "    </tr>\n",
       "    <tr>\n",
       "      <th>5</th>\n",
       "      <td>61.0</td>\n",
       "      <td>0.19</td>\n",
       "    </tr>\n",
       "    <tr>\n",
       "      <th>6</th>\n",
       "      <td>60.0</td>\n",
       "      <td>1.20</td>\n",
       "    </tr>\n",
       "    <tr>\n",
       "      <th>7</th>\n",
       "      <td>61.0</td>\n",
       "      <td>0.48</td>\n",
       "    </tr>\n",
       "    <tr>\n",
       "      <th>8</th>\n",
       "      <td>62.0</td>\n",
       "      <td>2.10</td>\n",
       "    </tr>\n",
       "    <tr>\n",
       "      <th>9</th>\n",
       "      <td>60.0</td>\n",
       "      <td>0.06</td>\n",
       "    </tr>\n",
       "    <tr>\n",
       "      <th>10</th>\n",
       "      <td>62.0</td>\n",
       "      <td>1.00</td>\n",
       "    </tr>\n",
       "    <tr>\n",
       "      <th>11</th>\n",
       "      <td>58.0</td>\n",
       "      <td>0.67</td>\n",
       "    </tr>\n",
       "    <tr>\n",
       "      <th rowspan=\"11\" valign=\"top\">Yuma, AZ: Yuma MCAS/Yuma International</th>\n",
       "      <th rowspan=\"11\" valign=\"top\">OO</th>\n",
       "      <th rowspan=\"11\" valign=\"top\">2016</th>\n",
       "      <th>1</th>\n",
       "      <td>177.0</td>\n",
       "      <td>11.43</td>\n",
       "    </tr>\n",
       "    <tr>\n",
       "      <th>2</th>\n",
       "      <td>165.0</td>\n",
       "      <td>6.65</td>\n",
       "    </tr>\n",
       "    <tr>\n",
       "      <th>3</th>\n",
       "      <td>177.0</td>\n",
       "      <td>7.12</td>\n",
       "    </tr>\n",
       "    <tr>\n",
       "      <th>4</th>\n",
       "      <td>174.0</td>\n",
       "      <td>3.32</td>\n",
       "    </tr>\n",
       "    <tr>\n",
       "      <th>5</th>\n",
       "      <td>174.0</td>\n",
       "      <td>1.60</td>\n",
       "    </tr>\n",
       "    <tr>\n",
       "      <th>6</th>\n",
       "      <td>167.0</td>\n",
       "      <td>1.92</td>\n",
       "    </tr>\n",
       "    <tr>\n",
       "      <th>7</th>\n",
       "      <td>170.0</td>\n",
       "      <td>4.67</td>\n",
       "    </tr>\n",
       "    <tr>\n",
       "      <th>8</th>\n",
       "      <td>168.0</td>\n",
       "      <td>13.63</td>\n",
       "    </tr>\n",
       "    <tr>\n",
       "      <th>9</th>\n",
       "      <td>154.0</td>\n",
       "      <td>5.57</td>\n",
       "    </tr>\n",
       "    <tr>\n",
       "      <th>10</th>\n",
       "      <td>171.0</td>\n",
       "      <td>2.51</td>\n",
       "    </tr>\n",
       "    <tr>\n",
       "      <th>11</th>\n",
       "      <td>145.0</td>\n",
       "      <td>4.33</td>\n",
       "    </tr>\n",
       "  </tbody>\n",
       "</table>\n",
       "<p>11173 rows × 2 columns</p>\n",
       "</div>"
      ],
      "text/plain": [
       "                                                           arr_flights  \\\n",
       "airport_name                           carrier year month                \n",
       "Aberdeen, SD: Aberdeen Regional        OO      2016 1             62.0   \n",
       "                                                    2             58.0   \n",
       "                                                    3             62.0   \n",
       "                                                    4             60.0   \n",
       "                                                    5             62.0   \n",
       "                                                    6             60.0   \n",
       "                                                    7             62.0   \n",
       "                                                    8             62.0   \n",
       "                                                    9             60.0   \n",
       "                                                    10            69.0   \n",
       "                                                    11            65.0   \n",
       "Abilene, TX: Abilene Regional          EV      2016 6              4.0   \n",
       "                                                    7             23.0   \n",
       "                                                    8             27.0   \n",
       "                                                    9             26.0   \n",
       "                                                    10            29.0   \n",
       "                                                    11            25.0   \n",
       "Adak Island, AK: Adak                  AS      2016 1              9.0   \n",
       "                                                    2              8.0   \n",
       "                                                    3              9.0   \n",
       "                                                    4              8.0   \n",
       "                                                    5              9.0   \n",
       "                                                    6              9.0   \n",
       "                                                    7              9.0   \n",
       "                                                    8              8.0   \n",
       "                                                    9              9.0   \n",
       "                                                    10             9.0   \n",
       "                                                    11             8.0   \n",
       "Aguadilla, PR: Rafael Hernandez        B6      2016 1            123.0   \n",
       "                                                    2             67.0   \n",
       "...                                                                ...   \n",
       "Wrangell, AK: Wrangell Airport         AS      2016 4             60.0   \n",
       "                                                    5             62.0   \n",
       "                                                    6             60.0   \n",
       "                                                    7             62.0   \n",
       "                                                    8             62.0   \n",
       "                                                    9             60.0   \n",
       "                                                    10            62.0   \n",
       "                                                    11            58.0   \n",
       "Yakutat, AK: Yakutat Airport           AS      2016 1             60.0   \n",
       "                                                    2             58.0   \n",
       "                                                    3             62.0   \n",
       "                                                    4             60.0   \n",
       "                                                    5             61.0   \n",
       "                                                    6             60.0   \n",
       "                                                    7             61.0   \n",
       "                                                    8             62.0   \n",
       "                                                    9             60.0   \n",
       "                                                    10            62.0   \n",
       "                                                    11            58.0   \n",
       "Yuma, AZ: Yuma MCAS/Yuma International OO      2016 1            177.0   \n",
       "                                                    2            165.0   \n",
       "                                                    3            177.0   \n",
       "                                                    4            174.0   \n",
       "                                                    5            174.0   \n",
       "                                                    6            167.0   \n",
       "                                                    7            170.0   \n",
       "                                                    8            168.0   \n",
       "                                                    9            154.0   \n",
       "                                                    10           171.0   \n",
       "                                                    11           145.0   \n",
       "\n",
       "                                                           carrier_ct  \n",
       "airport_name                           carrier year month              \n",
       "Aberdeen, SD: Aberdeen Regional        OO      2016 1            0.00  \n",
       "                                                    2            5.63  \n",
       "                                                    3            2.23  \n",
       "                                                    4            1.00  \n",
       "                                                    5            1.00  \n",
       "                                                    6            1.48  \n",
       "                                                    7            1.93  \n",
       "                                                    8            0.66  \n",
       "                                                    9            1.75  \n",
       "                                                    10           1.00  \n",
       "                                                    11           0.89  \n",
       "Abilene, TX: Abilene Regional          EV      2016 6            1.00  \n",
       "                                                    7            0.56  \n",
       "                                                    8            1.60  \n",
       "                                                    9            3.12  \n",
       "                                                    10           1.00  \n",
       "                                                    11           3.54  \n",
       "Adak Island, AK: Adak                  AS      2016 1            1.00  \n",
       "                                                    2            1.00  \n",
       "                                                    3            0.00  \n",
       "                                                    4            0.00  \n",
       "                                                    5            0.00  \n",
       "                                                    6            0.86  \n",
       "                                                    7            2.00  \n",
       "                                                    8            0.06  \n",
       "                                                    9            0.00  \n",
       "                                                    10           0.00  \n",
       "                                                    11           0.00  \n",
       "Aguadilla, PR: Rafael Hernandez        B6      2016 1           14.59  \n",
       "                                                    2            7.24  \n",
       "...                                                               ...  \n",
       "Wrangell, AK: Wrangell Airport         AS      2016 4            0.00  \n",
       "                                                    5            0.77  \n",
       "                                                    6            0.58  \n",
       "                                                    7            2.88  \n",
       "                                                    8            0.00  \n",
       "                                                    9            3.89  \n",
       "                                                    10           2.98  \n",
       "                                                    11           1.16  \n",
       "Yakutat, AK: Yakutat Airport           AS      2016 1            0.20  \n",
       "                                                    2            0.00  \n",
       "                                                    3            1.08  \n",
       "                                                    4            1.94  \n",
       "                                                    5            0.19  \n",
       "                                                    6            1.20  \n",
       "                                                    7            0.48  \n",
       "                                                    8            2.10  \n",
       "                                                    9            0.06  \n",
       "                                                    10           1.00  \n",
       "                                                    11           0.67  \n",
       "Yuma, AZ: Yuma MCAS/Yuma International OO      2016 1           11.43  \n",
       "                                                    2            6.65  \n",
       "                                                    3            7.12  \n",
       "                                                    4            3.32  \n",
       "                                                    5            1.60  \n",
       "                                                    6            1.92  \n",
       "                                                    7            4.67  \n",
       "                                                    8           13.63  \n",
       "                                                    9            5.57  \n",
       "                                                    10           2.51  \n",
       "                                                    11           4.33  \n",
       "\n",
       "[11173 rows x 2 columns]"
      ]
     },
     "execution_count": 110,
     "metadata": {},
     "output_type": "execute_result"
    }
   ],
   "source": [
    "airport_grouping.sum()"
   ]
  },
  {
   "cell_type": "code",
   "execution_count": 111,
   "metadata": {},
   "outputs": [
    {
     "data": {
      "text/html": [
       "<div>\n",
       "<style>\n",
       "    .dataframe thead tr:only-child th {\n",
       "        text-align: right;\n",
       "    }\n",
       "\n",
       "    .dataframe thead th {\n",
       "        text-align: left;\n",
       "    }\n",
       "\n",
       "    .dataframe tbody tr th {\n",
       "        vertical-align: top;\n",
       "    }\n",
       "</style>\n",
       "<table border=\"1\" class=\"dataframe\">\n",
       "  <thead>\n",
       "    <tr style=\"text-align: right;\">\n",
       "      <th></th>\n",
       "      <th></th>\n",
       "      <th></th>\n",
       "      <th></th>\n",
       "      <th>arr_flights</th>\n",
       "      <th>carrier_ct</th>\n",
       "    </tr>\n",
       "    <tr>\n",
       "      <th>airport_name</th>\n",
       "      <th>carrier</th>\n",
       "      <th>year</th>\n",
       "      <th>month</th>\n",
       "      <th></th>\n",
       "      <th></th>\n",
       "    </tr>\n",
       "  </thead>\n",
       "  <tbody>\n",
       "    <tr>\n",
       "      <th rowspan=\"5\" valign=\"top\">Aberdeen, SD: Aberdeen Regional</th>\n",
       "      <th rowspan=\"5\" valign=\"top\">OO</th>\n",
       "      <th rowspan=\"5\" valign=\"top\">2016</th>\n",
       "      <th>1</th>\n",
       "      <td>62.0</td>\n",
       "      <td>0.00</td>\n",
       "    </tr>\n",
       "    <tr>\n",
       "      <th>2</th>\n",
       "      <td>58.0</td>\n",
       "      <td>5.63</td>\n",
       "    </tr>\n",
       "    <tr>\n",
       "      <th>3</th>\n",
       "      <td>62.0</td>\n",
       "      <td>2.23</td>\n",
       "    </tr>\n",
       "    <tr>\n",
       "      <th>4</th>\n",
       "      <td>60.0</td>\n",
       "      <td>1.00</td>\n",
       "    </tr>\n",
       "    <tr>\n",
       "      <th>5</th>\n",
       "      <td>62.0</td>\n",
       "      <td>1.00</td>\n",
       "    </tr>\n",
       "  </tbody>\n",
       "</table>\n",
       "</div>"
      ],
      "text/plain": [
       "                                                    arr_flights  carrier_ct\n",
       "airport_name                    carrier year month                         \n",
       "Aberdeen, SD: Aberdeen Regional OO      2016 1             62.0        0.00\n",
       "                                             2             58.0        5.63\n",
       "                                             3             62.0        2.23\n",
       "                                             4             60.0        1.00\n",
       "                                             5             62.0        1.00"
      ]
     },
     "execution_count": 111,
     "metadata": {},
     "output_type": "execute_result"
    }
   ],
   "source": [
    "airport_grouping.mean().head()"
   ]
  },
  {
   "cell_type": "code",
   "execution_count": 112,
   "metadata": {},
   "outputs": [
    {
     "data": {
      "text/html": [
       "<div>\n",
       "<style>\n",
       "    .dataframe thead tr:only-child th {\n",
       "        text-align: right;\n",
       "    }\n",
       "\n",
       "    .dataframe thead th {\n",
       "        text-align: left;\n",
       "    }\n",
       "\n",
       "    .dataframe tbody tr th {\n",
       "        vertical-align: top;\n",
       "    }\n",
       "</style>\n",
       "<table border=\"1\" class=\"dataframe\">\n",
       "  <thead>\n",
       "    <tr style=\"text-align: right;\">\n",
       "      <th></th>\n",
       "      <th></th>\n",
       "      <th></th>\n",
       "      <th></th>\n",
       "      <th>arr_flights</th>\n",
       "      <th>carrier_ct</th>\n",
       "    </tr>\n",
       "    <tr>\n",
       "      <th>airport_name</th>\n",
       "      <th>carrier</th>\n",
       "      <th>year</th>\n",
       "      <th>month</th>\n",
       "      <th></th>\n",
       "      <th></th>\n",
       "    </tr>\n",
       "  </thead>\n",
       "  <tbody>\n",
       "    <tr>\n",
       "      <th rowspan=\"5\" valign=\"top\">Aberdeen, SD: Aberdeen Regional</th>\n",
       "      <th rowspan=\"5\" valign=\"top\">OO</th>\n",
       "      <th rowspan=\"5\" valign=\"top\">2016</th>\n",
       "      <th>1</th>\n",
       "      <td>62.0</td>\n",
       "      <td>0.00</td>\n",
       "    </tr>\n",
       "    <tr>\n",
       "      <th>2</th>\n",
       "      <td>58.0</td>\n",
       "      <td>5.63</td>\n",
       "    </tr>\n",
       "    <tr>\n",
       "      <th>3</th>\n",
       "      <td>62.0</td>\n",
       "      <td>2.23</td>\n",
       "    </tr>\n",
       "    <tr>\n",
       "      <th>4</th>\n",
       "      <td>60.0</td>\n",
       "      <td>1.00</td>\n",
       "    </tr>\n",
       "    <tr>\n",
       "      <th>5</th>\n",
       "      <td>62.0</td>\n",
       "      <td>1.00</td>\n",
       "    </tr>\n",
       "  </tbody>\n",
       "</table>\n",
       "</div>"
      ],
      "text/plain": [
       "                                                    arr_flights  carrier_ct\n",
       "airport_name                    carrier year month                         \n",
       "Aberdeen, SD: Aberdeen Regional OO      2016 1             62.0        0.00\n",
       "                                             2             58.0        5.63\n",
       "                                             3             62.0        2.23\n",
       "                                             4             60.0        1.00\n",
       "                                             5             62.0        1.00"
      ]
     },
     "execution_count": 112,
     "metadata": {},
     "output_type": "execute_result"
    }
   ],
   "source": [
    "airport_grouping.median().head()"
   ]
  },
  {
   "cell_type": "code",
   "execution_count": 113,
   "metadata": {},
   "outputs": [
    {
     "data": {
      "text/html": [
       "<div>\n",
       "<style>\n",
       "    .dataframe thead tr:only-child th {\n",
       "        text-align: right;\n",
       "    }\n",
       "\n",
       "    .dataframe thead th {\n",
       "        text-align: left;\n",
       "    }\n",
       "\n",
       "    .dataframe tbody tr th {\n",
       "        vertical-align: top;\n",
       "    }\n",
       "</style>\n",
       "<table border=\"1\" class=\"dataframe\">\n",
       "  <thead>\n",
       "    <tr>\n",
       "      <th></th>\n",
       "      <th></th>\n",
       "      <th></th>\n",
       "      <th></th>\n",
       "      <th colspan=\"8\" halign=\"left\">arr_flights</th>\n",
       "      <th colspan=\"8\" halign=\"left\">carrier_ct</th>\n",
       "    </tr>\n",
       "    <tr>\n",
       "      <th></th>\n",
       "      <th></th>\n",
       "      <th></th>\n",
       "      <th></th>\n",
       "      <th>count</th>\n",
       "      <th>mean</th>\n",
       "      <th>std</th>\n",
       "      <th>min</th>\n",
       "      <th>25%</th>\n",
       "      <th>50%</th>\n",
       "      <th>75%</th>\n",
       "      <th>max</th>\n",
       "      <th>count</th>\n",
       "      <th>mean</th>\n",
       "      <th>std</th>\n",
       "      <th>min</th>\n",
       "      <th>25%</th>\n",
       "      <th>50%</th>\n",
       "      <th>75%</th>\n",
       "      <th>max</th>\n",
       "    </tr>\n",
       "    <tr>\n",
       "      <th>airport_name</th>\n",
       "      <th>carrier</th>\n",
       "      <th>year</th>\n",
       "      <th>month</th>\n",
       "      <th></th>\n",
       "      <th></th>\n",
       "      <th></th>\n",
       "      <th></th>\n",
       "      <th></th>\n",
       "      <th></th>\n",
       "      <th></th>\n",
       "      <th></th>\n",
       "      <th></th>\n",
       "      <th></th>\n",
       "      <th></th>\n",
       "      <th></th>\n",
       "      <th></th>\n",
       "      <th></th>\n",
       "      <th></th>\n",
       "      <th></th>\n",
       "    </tr>\n",
       "  </thead>\n",
       "  <tbody>\n",
       "    <tr>\n",
       "      <th rowspan=\"5\" valign=\"top\">Aberdeen, SD: Aberdeen Regional</th>\n",
       "      <th rowspan=\"5\" valign=\"top\">OO</th>\n",
       "      <th rowspan=\"5\" valign=\"top\">2016</th>\n",
       "      <th>1</th>\n",
       "      <td>1.0</td>\n",
       "      <td>62.0</td>\n",
       "      <td>NaN</td>\n",
       "      <td>62.0</td>\n",
       "      <td>62.0</td>\n",
       "      <td>62.0</td>\n",
       "      <td>62.0</td>\n",
       "      <td>62.0</td>\n",
       "      <td>1.0</td>\n",
       "      <td>0.00</td>\n",
       "      <td>NaN</td>\n",
       "      <td>0.00</td>\n",
       "      <td>0.00</td>\n",
       "      <td>0.00</td>\n",
       "      <td>0.00</td>\n",
       "      <td>0.00</td>\n",
       "    </tr>\n",
       "    <tr>\n",
       "      <th>2</th>\n",
       "      <td>1.0</td>\n",
       "      <td>58.0</td>\n",
       "      <td>NaN</td>\n",
       "      <td>58.0</td>\n",
       "      <td>58.0</td>\n",
       "      <td>58.0</td>\n",
       "      <td>58.0</td>\n",
       "      <td>58.0</td>\n",
       "      <td>1.0</td>\n",
       "      <td>5.63</td>\n",
       "      <td>NaN</td>\n",
       "      <td>5.63</td>\n",
       "      <td>5.63</td>\n",
       "      <td>5.63</td>\n",
       "      <td>5.63</td>\n",
       "      <td>5.63</td>\n",
       "    </tr>\n",
       "    <tr>\n",
       "      <th>3</th>\n",
       "      <td>1.0</td>\n",
       "      <td>62.0</td>\n",
       "      <td>NaN</td>\n",
       "      <td>62.0</td>\n",
       "      <td>62.0</td>\n",
       "      <td>62.0</td>\n",
       "      <td>62.0</td>\n",
       "      <td>62.0</td>\n",
       "      <td>1.0</td>\n",
       "      <td>2.23</td>\n",
       "      <td>NaN</td>\n",
       "      <td>2.23</td>\n",
       "      <td>2.23</td>\n",
       "      <td>2.23</td>\n",
       "      <td>2.23</td>\n",
       "      <td>2.23</td>\n",
       "    </tr>\n",
       "    <tr>\n",
       "      <th>4</th>\n",
       "      <td>1.0</td>\n",
       "      <td>60.0</td>\n",
       "      <td>NaN</td>\n",
       "      <td>60.0</td>\n",
       "      <td>60.0</td>\n",
       "      <td>60.0</td>\n",
       "      <td>60.0</td>\n",
       "      <td>60.0</td>\n",
       "      <td>1.0</td>\n",
       "      <td>1.00</td>\n",
       "      <td>NaN</td>\n",
       "      <td>1.00</td>\n",
       "      <td>1.00</td>\n",
       "      <td>1.00</td>\n",
       "      <td>1.00</td>\n",
       "      <td>1.00</td>\n",
       "    </tr>\n",
       "    <tr>\n",
       "      <th>5</th>\n",
       "      <td>1.0</td>\n",
       "      <td>62.0</td>\n",
       "      <td>NaN</td>\n",
       "      <td>62.0</td>\n",
       "      <td>62.0</td>\n",
       "      <td>62.0</td>\n",
       "      <td>62.0</td>\n",
       "      <td>62.0</td>\n",
       "      <td>1.0</td>\n",
       "      <td>1.00</td>\n",
       "      <td>NaN</td>\n",
       "      <td>1.00</td>\n",
       "      <td>1.00</td>\n",
       "      <td>1.00</td>\n",
       "      <td>1.00</td>\n",
       "      <td>1.00</td>\n",
       "    </tr>\n",
       "  </tbody>\n",
       "</table>\n",
       "</div>"
      ],
      "text/plain": [
       "                                                   arr_flights            \\\n",
       "                                                         count  mean std   \n",
       "airport_name                    carrier year month                         \n",
       "Aberdeen, SD: Aberdeen Regional OO      2016 1             1.0  62.0 NaN   \n",
       "                                             2             1.0  58.0 NaN   \n",
       "                                             3             1.0  62.0 NaN   \n",
       "                                             4             1.0  60.0 NaN   \n",
       "                                             5             1.0  62.0 NaN   \n",
       "\n",
       "                                                                            \\\n",
       "                                                     min   25%   50%   75%   \n",
       "airport_name                    carrier year month                           \n",
       "Aberdeen, SD: Aberdeen Regional OO      2016 1      62.0  62.0  62.0  62.0   \n",
       "                                             2      58.0  58.0  58.0  58.0   \n",
       "                                             3      62.0  62.0  62.0  62.0   \n",
       "                                             4      60.0  60.0  60.0  60.0   \n",
       "                                             5      62.0  62.0  62.0  62.0   \n",
       "\n",
       "                                                         carrier_ct            \\\n",
       "                                                     max      count  mean std   \n",
       "airport_name                    carrier year month                              \n",
       "Aberdeen, SD: Aberdeen Regional OO      2016 1      62.0        1.0  0.00 NaN   \n",
       "                                             2      58.0        1.0  5.63 NaN   \n",
       "                                             3      62.0        1.0  2.23 NaN   \n",
       "                                             4      60.0        1.0  1.00 NaN   \n",
       "                                             5      62.0        1.0  1.00 NaN   \n",
       "\n",
       "                                                                            \\\n",
       "                                                     min   25%   50%   75%   \n",
       "airport_name                    carrier year month                           \n",
       "Aberdeen, SD: Aberdeen Regional OO      2016 1      0.00  0.00  0.00  0.00   \n",
       "                                             2      5.63  5.63  5.63  5.63   \n",
       "                                             3      2.23  2.23  2.23  2.23   \n",
       "                                             4      1.00  1.00  1.00  1.00   \n",
       "                                             5      1.00  1.00  1.00  1.00   \n",
       "\n",
       "                                                          \n",
       "                                                     max  \n",
       "airport_name                    carrier year month        \n",
       "Aberdeen, SD: Aberdeen Regional OO      2016 1      0.00  \n",
       "                                             2      5.63  \n",
       "                                             3      2.23  \n",
       "                                             4      1.00  \n",
       "                                             5      1.00  "
      ]
     },
     "execution_count": 113,
     "metadata": {},
     "output_type": "execute_result"
    }
   ],
   "source": [
    "# this cell takes about a minute to run\n",
    "airport_grouping.describe().head()"
   ]
  },
  {
   "cell_type": "markdown",
   "metadata": {},
   "source": [
    "It would be useful to see the data grouped by airport and count of late arrivals"
   ]
  },
  {
   "cell_type": "code",
   "execution_count": 114,
   "metadata": {},
   "outputs": [
    {
     "data": {
      "text/plain": [
       "0    False\n",
       "1    False\n",
       "2    False\n",
       "3    False\n",
       "4    False\n",
       "Name: airport, dtype: bool"
      ]
     },
     "execution_count": 114,
     "metadata": {},
     "output_type": "execute_result"
    }
   ],
   "source": [
    "denver = data.airport == 'DEN'\n",
    "denver.head()"
   ]
  },
  {
   "cell_type": "code",
   "execution_count": 115,
   "metadata": {
    "collapsed": true
   },
   "outputs": [],
   "source": [
    "carrier_grouping = data.iloc[:, [0, 1, 2, 3, 4,5,6,7, 8]].groupby(by=['carrier_name', 'year', 'month'])"
   ]
  },
  {
   "cell_type": "code",
   "execution_count": 116,
   "metadata": {
    "scrolled": true
   },
   "outputs": [
    {
     "data": {
      "text/html": [
       "<div>\n",
       "<style>\n",
       "    .dataframe thead tr:only-child th {\n",
       "        text-align: right;\n",
       "    }\n",
       "\n",
       "    .dataframe thead th {\n",
       "        text-align: left;\n",
       "    }\n",
       "\n",
       "    .dataframe tbody tr th {\n",
       "        vertical-align: top;\n",
       "    }\n",
       "</style>\n",
       "<table border=\"1\" class=\"dataframe\">\n",
       "  <thead>\n",
       "    <tr style=\"text-align: right;\">\n",
       "      <th></th>\n",
       "      <th></th>\n",
       "      <th></th>\n",
       "      <th>arr_flights</th>\n",
       "      <th>carrier_ct</th>\n",
       "      <th>weather_ct</th>\n",
       "    </tr>\n",
       "    <tr>\n",
       "      <th>carrier_name</th>\n",
       "      <th>year</th>\n",
       "      <th>month</th>\n",
       "      <th></th>\n",
       "      <th></th>\n",
       "      <th></th>\n",
       "    </tr>\n",
       "  </thead>\n",
       "  <tbody>\n",
       "    <tr>\n",
       "      <th rowspan=\"11\" valign=\"top\">Alaska Airlines Inc.</th>\n",
       "      <th rowspan=\"11\" valign=\"top\">2016</th>\n",
       "      <th>1</th>\n",
       "      <td>14205.0</td>\n",
       "      <td>410.72</td>\n",
       "      <td>65.10</td>\n",
       "    </tr>\n",
       "    <tr>\n",
       "      <th>2</th>\n",
       "      <td>13399.0</td>\n",
       "      <td>390.42</td>\n",
       "      <td>27.14</td>\n",
       "    </tr>\n",
       "    <tr>\n",
       "      <th>3</th>\n",
       "      <td>14781.0</td>\n",
       "      <td>449.26</td>\n",
       "      <td>22.61</td>\n",
       "    </tr>\n",
       "    <tr>\n",
       "      <th>4</th>\n",
       "      <td>14662.0</td>\n",
       "      <td>382.61</td>\n",
       "      <td>11.59</td>\n",
       "    </tr>\n",
       "    <tr>\n",
       "      <th>5</th>\n",
       "      <td>15385.0</td>\n",
       "      <td>404.49</td>\n",
       "      <td>14.30</td>\n",
       "    </tr>\n",
       "    <tr>\n",
       "      <th>6</th>\n",
       "      <td>15730.0</td>\n",
       "      <td>458.06</td>\n",
       "      <td>35.03</td>\n",
       "    </tr>\n",
       "    <tr>\n",
       "      <th>7</th>\n",
       "      <td>16256.0</td>\n",
       "      <td>466.95</td>\n",
       "      <td>26.67</td>\n",
       "    </tr>\n",
       "    <tr>\n",
       "      <th>8</th>\n",
       "      <td>16455.0</td>\n",
       "      <td>460.72</td>\n",
       "      <td>39.29</td>\n",
       "    </tr>\n",
       "    <tr>\n",
       "      <th>9</th>\n",
       "      <td>13858.0</td>\n",
       "      <td>319.39</td>\n",
       "      <td>24.51</td>\n",
       "    </tr>\n",
       "    <tr>\n",
       "      <th>10</th>\n",
       "      <td>14088.0</td>\n",
       "      <td>342.50</td>\n",
       "      <td>37.36</td>\n",
       "    </tr>\n",
       "    <tr>\n",
       "      <th>11</th>\n",
       "      <td>13946.0</td>\n",
       "      <td>417.04</td>\n",
       "      <td>23.06</td>\n",
       "    </tr>\n",
       "    <tr>\n",
       "      <th rowspan=\"11\" valign=\"top\">American Airlines Inc.</th>\n",
       "      <th rowspan=\"11\" valign=\"top\">2016</th>\n",
       "      <th>1</th>\n",
       "      <td>75580.0</td>\n",
       "      <td>4397.83</td>\n",
       "      <td>374.40</td>\n",
       "    </tr>\n",
       "    <tr>\n",
       "      <th>2</th>\n",
       "      <td>71440.0</td>\n",
       "      <td>3437.04</td>\n",
       "      <td>327.03</td>\n",
       "    </tr>\n",
       "    <tr>\n",
       "      <th>3</th>\n",
       "      <td>79119.0</td>\n",
       "      <td>4301.65</td>\n",
       "      <td>412.13</td>\n",
       "    </tr>\n",
       "    <tr>\n",
       "      <th>4</th>\n",
       "      <td>74859.0</td>\n",
       "      <td>3557.23</td>\n",
       "      <td>315.71</td>\n",
       "    </tr>\n",
       "    <tr>\n",
       "      <th>5</th>\n",
       "      <td>78678.0</td>\n",
       "      <td>4246.90</td>\n",
       "      <td>699.27</td>\n",
       "    </tr>\n",
       "    <tr>\n",
       "      <th>6</th>\n",
       "      <td>79648.0</td>\n",
       "      <td>6277.23</td>\n",
       "      <td>786.37</td>\n",
       "    </tr>\n",
       "    <tr>\n",
       "      <th>7</th>\n",
       "      <td>81678.0</td>\n",
       "      <td>6565.57</td>\n",
       "      <td>953.90</td>\n",
       "    </tr>\n",
       "    <tr>\n",
       "      <th>8</th>\n",
       "      <td>80241.0</td>\n",
       "      <td>6113.78</td>\n",
       "      <td>836.34</td>\n",
       "    </tr>\n",
       "    <tr>\n",
       "      <th>9</th>\n",
       "      <td>72459.0</td>\n",
       "      <td>3634.08</td>\n",
       "      <td>487.08</td>\n",
       "    </tr>\n",
       "    <tr>\n",
       "      <th>10</th>\n",
       "      <td>75171.0</td>\n",
       "      <td>3433.82</td>\n",
       "      <td>86.16</td>\n",
       "    </tr>\n",
       "    <tr>\n",
       "      <th>11</th>\n",
       "      <td>71819.0</td>\n",
       "      <td>3032.41</td>\n",
       "      <td>112.26</td>\n",
       "    </tr>\n",
       "    <tr>\n",
       "      <th rowspan=\"8\" valign=\"top\">Delta Air Lines Inc.</th>\n",
       "      <th rowspan=\"8\" valign=\"top\">2016</th>\n",
       "      <th>1</th>\n",
       "      <td>69711.0</td>\n",
       "      <td>2919.70</td>\n",
       "      <td>549.45</td>\n",
       "    </tr>\n",
       "    <tr>\n",
       "      <th>2</th>\n",
       "      <td>67771.0</td>\n",
       "      <td>2669.67</td>\n",
       "      <td>461.35</td>\n",
       "    </tr>\n",
       "    <tr>\n",
       "      <th>3</th>\n",
       "      <td>78210.0</td>\n",
       "      <td>3034.07</td>\n",
       "      <td>350.46</td>\n",
       "    </tr>\n",
       "    <tr>\n",
       "      <th>4</th>\n",
       "      <td>76607.0</td>\n",
       "      <td>2746.23</td>\n",
       "      <td>160.54</td>\n",
       "    </tr>\n",
       "    <tr>\n",
       "      <th>5</th>\n",
       "      <td>80556.0</td>\n",
       "      <td>3342.27</td>\n",
       "      <td>282.82</td>\n",
       "    </tr>\n",
       "    <tr>\n",
       "      <th>6</th>\n",
       "      <td>81517.0</td>\n",
       "      <td>4103.74</td>\n",
       "      <td>673.44</td>\n",
       "    </tr>\n",
       "    <tr>\n",
       "      <th>7</th>\n",
       "      <td>83677.0</td>\n",
       "      <td>4699.28</td>\n",
       "      <td>890.76</td>\n",
       "    </tr>\n",
       "    <tr>\n",
       "      <th>8</th>\n",
       "      <td>84540.0</td>\n",
       "      <td>5936.10</td>\n",
       "      <td>476.31</td>\n",
       "    </tr>\n",
       "    <tr>\n",
       "      <th>...</th>\n",
       "      <th>...</th>\n",
       "      <th>...</th>\n",
       "      <td>...</td>\n",
       "      <td>...</td>\n",
       "      <td>...</td>\n",
       "    </tr>\n",
       "    <tr>\n",
       "      <th rowspan=\"8\" valign=\"top\">Spirit Air Lines</th>\n",
       "      <th rowspan=\"8\" valign=\"top\">2016</th>\n",
       "      <th>4</th>\n",
       "      <td>11281.0</td>\n",
       "      <td>644.27</td>\n",
       "      <td>47.50</td>\n",
       "    </tr>\n",
       "    <tr>\n",
       "      <th>5</th>\n",
       "      <td>11992.0</td>\n",
       "      <td>623.45</td>\n",
       "      <td>71.68</td>\n",
       "    </tr>\n",
       "    <tr>\n",
       "      <th>6</th>\n",
       "      <td>11605.0</td>\n",
       "      <td>714.68</td>\n",
       "      <td>55.43</td>\n",
       "    </tr>\n",
       "    <tr>\n",
       "      <th>7</th>\n",
       "      <td>11995.0</td>\n",
       "      <td>216.06</td>\n",
       "      <td>17.02</td>\n",
       "    </tr>\n",
       "    <tr>\n",
       "      <th>8</th>\n",
       "      <td>11992.0</td>\n",
       "      <td>303.06</td>\n",
       "      <td>53.37</td>\n",
       "    </tr>\n",
       "    <tr>\n",
       "      <th>9</th>\n",
       "      <td>11151.0</td>\n",
       "      <td>36.98</td>\n",
       "      <td>5.39</td>\n",
       "    </tr>\n",
       "    <tr>\n",
       "      <th>10</th>\n",
       "      <td>11503.0</td>\n",
       "      <td>186.70</td>\n",
       "      <td>5.65</td>\n",
       "    </tr>\n",
       "    <tr>\n",
       "      <th>11</th>\n",
       "      <td>11607.0</td>\n",
       "      <td>324.47</td>\n",
       "      <td>18.37</td>\n",
       "    </tr>\n",
       "    <tr>\n",
       "      <th rowspan=\"11\" valign=\"top\">United Air Lines Inc.</th>\n",
       "      <th rowspan=\"11\" valign=\"top\">2016</th>\n",
       "      <th>1</th>\n",
       "      <td>39761.0</td>\n",
       "      <td>2064.86</td>\n",
       "      <td>294.64</td>\n",
       "    </tr>\n",
       "    <tr>\n",
       "      <th>2</th>\n",
       "      <td>38944.0</td>\n",
       "      <td>1553.06</td>\n",
       "      <td>284.70</td>\n",
       "    </tr>\n",
       "    <tr>\n",
       "      <th>3</th>\n",
       "      <td>44250.0</td>\n",
       "      <td>2330.40</td>\n",
       "      <td>265.09</td>\n",
       "    </tr>\n",
       "    <tr>\n",
       "      <th>4</th>\n",
       "      <td>43281.0</td>\n",
       "      <td>1735.66</td>\n",
       "      <td>160.74</td>\n",
       "    </tr>\n",
       "    <tr>\n",
       "      <th>5</th>\n",
       "      <td>45914.0</td>\n",
       "      <td>2204.20</td>\n",
       "      <td>230.11</td>\n",
       "    </tr>\n",
       "    <tr>\n",
       "      <th>6</th>\n",
       "      <td>46424.0</td>\n",
       "      <td>2865.74</td>\n",
       "      <td>380.90</td>\n",
       "    </tr>\n",
       "    <tr>\n",
       "      <th>7</th>\n",
       "      <td>48049.0</td>\n",
       "      <td>3152.23</td>\n",
       "      <td>571.45</td>\n",
       "    </tr>\n",
       "    <tr>\n",
       "      <th>8</th>\n",
       "      <td>49758.0</td>\n",
       "      <td>3083.73</td>\n",
       "      <td>431.36</td>\n",
       "    </tr>\n",
       "    <tr>\n",
       "      <th>9</th>\n",
       "      <td>46935.0</td>\n",
       "      <td>2259.40</td>\n",
       "      <td>236.23</td>\n",
       "    </tr>\n",
       "    <tr>\n",
       "      <th>10</th>\n",
       "      <td>49951.0</td>\n",
       "      <td>2518.95</td>\n",
       "      <td>65.94</td>\n",
       "    </tr>\n",
       "    <tr>\n",
       "      <th>11</th>\n",
       "      <td>46082.0</td>\n",
       "      <td>1922.49</td>\n",
       "      <td>122.15</td>\n",
       "    </tr>\n",
       "    <tr>\n",
       "      <th rowspan=\"11\" valign=\"top\">Virgin America</th>\n",
       "      <th rowspan=\"11\" valign=\"top\">2016</th>\n",
       "      <th>1</th>\n",
       "      <td>5384.0</td>\n",
       "      <td>237.80</td>\n",
       "      <td>71.20</td>\n",
       "    </tr>\n",
       "    <tr>\n",
       "      <th>2</th>\n",
       "      <td>4941.0</td>\n",
       "      <td>161.30</td>\n",
       "      <td>75.00</td>\n",
       "    </tr>\n",
       "    <tr>\n",
       "      <th>3</th>\n",
       "      <td>5635.0</td>\n",
       "      <td>266.02</td>\n",
       "      <td>71.94</td>\n",
       "    </tr>\n",
       "    <tr>\n",
       "      <th>4</th>\n",
       "      <td>5644.0</td>\n",
       "      <td>237.04</td>\n",
       "      <td>99.94</td>\n",
       "    </tr>\n",
       "    <tr>\n",
       "      <th>5</th>\n",
       "      <td>5847.0</td>\n",
       "      <td>280.78</td>\n",
       "      <td>80.11</td>\n",
       "    </tr>\n",
       "    <tr>\n",
       "      <th>6</th>\n",
       "      <td>5919.0</td>\n",
       "      <td>388.19</td>\n",
       "      <td>106.93</td>\n",
       "    </tr>\n",
       "    <tr>\n",
       "      <th>7</th>\n",
       "      <td>6100.0</td>\n",
       "      <td>357.69</td>\n",
       "      <td>96.58</td>\n",
       "    </tr>\n",
       "    <tr>\n",
       "      <th>8</th>\n",
       "      <td>6071.0</td>\n",
       "      <td>313.22</td>\n",
       "      <td>104.90</td>\n",
       "    </tr>\n",
       "    <tr>\n",
       "      <th>9</th>\n",
       "      <td>5726.0</td>\n",
       "      <td>230.98</td>\n",
       "      <td>96.58</td>\n",
       "    </tr>\n",
       "    <tr>\n",
       "      <th>10</th>\n",
       "      <td>5854.0</td>\n",
       "      <td>226.93</td>\n",
       "      <td>71.84</td>\n",
       "    </tr>\n",
       "    <tr>\n",
       "      <th>11</th>\n",
       "      <td>5917.0</td>\n",
       "      <td>232.53</td>\n",
       "      <td>137.92</td>\n",
       "    </tr>\n",
       "  </tbody>\n",
       "</table>\n",
       "<p>132 rows × 3 columns</p>\n",
       "</div>"
      ],
      "text/plain": [
       "                                   arr_flights  carrier_ct  weather_ct\n",
       "carrier_name           year month                                     \n",
       "Alaska Airlines Inc.   2016 1          14205.0      410.72       65.10\n",
       "                            2          13399.0      390.42       27.14\n",
       "                            3          14781.0      449.26       22.61\n",
       "                            4          14662.0      382.61       11.59\n",
       "                            5          15385.0      404.49       14.30\n",
       "                            6          15730.0      458.06       35.03\n",
       "                            7          16256.0      466.95       26.67\n",
       "                            8          16455.0      460.72       39.29\n",
       "                            9          13858.0      319.39       24.51\n",
       "                            10         14088.0      342.50       37.36\n",
       "                            11         13946.0      417.04       23.06\n",
       "American Airlines Inc. 2016 1          75580.0     4397.83      374.40\n",
       "                            2          71440.0     3437.04      327.03\n",
       "                            3          79119.0     4301.65      412.13\n",
       "                            4          74859.0     3557.23      315.71\n",
       "                            5          78678.0     4246.90      699.27\n",
       "                            6          79648.0     6277.23      786.37\n",
       "                            7          81678.0     6565.57      953.90\n",
       "                            8          80241.0     6113.78      836.34\n",
       "                            9          72459.0     3634.08      487.08\n",
       "                            10         75171.0     3433.82       86.16\n",
       "                            11         71819.0     3032.41      112.26\n",
       "Delta Air Lines Inc.   2016 1          69711.0     2919.70      549.45\n",
       "                            2          67771.0     2669.67      461.35\n",
       "                            3          78210.0     3034.07      350.46\n",
       "                            4          76607.0     2746.23      160.54\n",
       "                            5          80556.0     3342.27      282.82\n",
       "                            6          81517.0     4103.74      673.44\n",
       "                            7          83677.0     4699.28      890.76\n",
       "                            8          84540.0     5936.10      476.31\n",
       "...                                        ...         ...         ...\n",
       "Spirit Air Lines       2016 4          11281.0      644.27       47.50\n",
       "                            5          11992.0      623.45       71.68\n",
       "                            6          11605.0      714.68       55.43\n",
       "                            7          11995.0      216.06       17.02\n",
       "                            8          11992.0      303.06       53.37\n",
       "                            9          11151.0       36.98        5.39\n",
       "                            10         11503.0      186.70        5.65\n",
       "                            11         11607.0      324.47       18.37\n",
       "United Air Lines Inc.  2016 1          39761.0     2064.86      294.64\n",
       "                            2          38944.0     1553.06      284.70\n",
       "                            3          44250.0     2330.40      265.09\n",
       "                            4          43281.0     1735.66      160.74\n",
       "                            5          45914.0     2204.20      230.11\n",
       "                            6          46424.0     2865.74      380.90\n",
       "                            7          48049.0     3152.23      571.45\n",
       "                            8          49758.0     3083.73      431.36\n",
       "                            9          46935.0     2259.40      236.23\n",
       "                            10         49951.0     2518.95       65.94\n",
       "                            11         46082.0     1922.49      122.15\n",
       "Virgin America         2016 1           5384.0      237.80       71.20\n",
       "                            2           4941.0      161.30       75.00\n",
       "                            3           5635.0      266.02       71.94\n",
       "                            4           5644.0      237.04       99.94\n",
       "                            5           5847.0      280.78       80.11\n",
       "                            6           5919.0      388.19      106.93\n",
       "                            7           6100.0      357.69       96.58\n",
       "                            8           6071.0      313.22      104.90\n",
       "                            9           5726.0      230.98       96.58\n",
       "                            10          5854.0      226.93       71.84\n",
       "                            11          5917.0      232.53      137.92\n",
       "\n",
       "[132 rows x 3 columns]"
      ]
     },
     "execution_count": 116,
     "metadata": {},
     "output_type": "execute_result"
    }
   ],
   "source": [
    "carrier_grouping.sum()"
   ]
  },
  {
   "cell_type": "code",
   "execution_count": 117,
   "metadata": {
    "collapsed": true
   },
   "outputs": [],
   "source": [
    "# # this little for loop helps find the column numbers when slicing with .iloc\n",
    "# for i, x in enumerate(data.columns):\n",
    "#     print(\"%d. %s\"%(i, x))"
   ]
  },
  {
   "cell_type": "code",
   "execution_count": 118,
   "metadata": {},
   "outputs": [
    {
     "data": {
      "text/html": [
       "<div>\n",
       "<style>\n",
       "    .dataframe thead tr:only-child th {\n",
       "        text-align: right;\n",
       "    }\n",
       "\n",
       "    .dataframe thead th {\n",
       "        text-align: left;\n",
       "    }\n",
       "\n",
       "    .dataframe tbody tr th {\n",
       "        vertical-align: top;\n",
       "    }\n",
       "</style>\n",
       "<table border=\"1\" class=\"dataframe\">\n",
       "  <thead>\n",
       "    <tr style=\"text-align: right;\">\n",
       "      <th></th>\n",
       "      <th>arr_flights</th>\n",
       "      <th>weather_ct</th>\n",
       "      <th>nas_ct</th>\n",
       "      <th>security_ct</th>\n",
       "      <th>late_aircraft_ct</th>\n",
       "      <th>arr_cancelled</th>\n",
       "      <th>arr_diverted</th>\n",
       "      <th>arr_delay</th>\n",
       "      <th>carrier_delay</th>\n",
       "      <th>weather_delay</th>\n",
       "      <th>nas_delay</th>\n",
       "      <th>security_delay</th>\n",
       "      <th>late_aircraft_delay</th>\n",
       "      <th>target_X</th>\n",
       "      <th>carrier_ct</th>\n",
       "    </tr>\n",
       "  </thead>\n",
       "  <tbody>\n",
       "    <tr>\n",
       "      <th>arr_flights</th>\n",
       "      <td>1.000000</td>\n",
       "      <td>0.768739</td>\n",
       "      <td>0.804379</td>\n",
       "      <td>0.512487</td>\n",
       "      <td>0.881786</td>\n",
       "      <td>0.565827</td>\n",
       "      <td>0.636067</td>\n",
       "      <td>0.875205</td>\n",
       "      <td>0.876582</td>\n",
       "      <td>0.742316</td>\n",
       "      <td>0.697623</td>\n",
       "      <td>0.457597</td>\n",
       "      <td>0.852771</td>\n",
       "      <td>0.283758</td>\n",
       "      <td>0.918256</td>\n",
       "    </tr>\n",
       "    <tr>\n",
       "      <th>weather_ct</th>\n",
       "      <td>0.768739</td>\n",
       "      <td>1.000000</td>\n",
       "      <td>0.747240</td>\n",
       "      <td>0.497817</td>\n",
       "      <td>0.789935</td>\n",
       "      <td>0.539500</td>\n",
       "      <td>0.710763</td>\n",
       "      <td>0.821846</td>\n",
       "      <td>0.755200</td>\n",
       "      <td>0.954521</td>\n",
       "      <td>0.693923</td>\n",
       "      <td>0.451133</td>\n",
       "      <td>0.798067</td>\n",
       "      <td>0.243806</td>\n",
       "      <td>0.819565</td>\n",
       "    </tr>\n",
       "    <tr>\n",
       "      <th>nas_ct</th>\n",
       "      <td>0.804379</td>\n",
       "      <td>0.747240</td>\n",
       "      <td>1.000000</td>\n",
       "      <td>0.527607</td>\n",
       "      <td>0.810437</td>\n",
       "      <td>0.580871</td>\n",
       "      <td>0.626720</td>\n",
       "      <td>0.901002</td>\n",
       "      <td>0.771117</td>\n",
       "      <td>0.727642</td>\n",
       "      <td>0.949171</td>\n",
       "      <td>0.491155</td>\n",
       "      <td>0.830760</td>\n",
       "      <td>0.277520</td>\n",
       "      <td>0.831446</td>\n",
       "    </tr>\n",
       "    <tr>\n",
       "      <th>security_ct</th>\n",
       "      <td>0.512487</td>\n",
       "      <td>0.497817</td>\n",
       "      <td>0.527607</td>\n",
       "      <td>1.000000</td>\n",
       "      <td>0.563590</td>\n",
       "      <td>0.368564</td>\n",
       "      <td>0.405597</td>\n",
       "      <td>0.525674</td>\n",
       "      <td>0.475086</td>\n",
       "      <td>0.476423</td>\n",
       "      <td>0.435350</td>\n",
       "      <td>0.838333</td>\n",
       "      <td>0.537822</td>\n",
       "      <td>0.190799</td>\n",
       "      <td>0.575996</td>\n",
       "    </tr>\n",
       "    <tr>\n",
       "      <th>late_aircraft_ct</th>\n",
       "      <td>0.881786</td>\n",
       "      <td>0.789935</td>\n",
       "      <td>0.810437</td>\n",
       "      <td>0.563590</td>\n",
       "      <td>1.000000</td>\n",
       "      <td>0.626644</td>\n",
       "      <td>0.675512</td>\n",
       "      <td>0.924192</td>\n",
       "      <td>0.854865</td>\n",
       "      <td>0.764240</td>\n",
       "      <td>0.729300</td>\n",
       "      <td>0.527007</td>\n",
       "      <td>0.969846</td>\n",
       "      <td>0.294210</td>\n",
       "      <td>0.936909</td>\n",
       "    </tr>\n",
       "    <tr>\n",
       "      <th>arr_cancelled</th>\n",
       "      <td>0.565827</td>\n",
       "      <td>0.539500</td>\n",
       "      <td>0.580871</td>\n",
       "      <td>0.368564</td>\n",
       "      <td>0.626644</td>\n",
       "      <td>1.000000</td>\n",
       "      <td>0.480179</td>\n",
       "      <td>0.659195</td>\n",
       "      <td>0.609488</td>\n",
       "      <td>0.550791</td>\n",
       "      <td>0.587824</td>\n",
       "      <td>0.323593</td>\n",
       "      <td>0.642849</td>\n",
       "      <td>0.192698</td>\n",
       "      <td>0.620186</td>\n",
       "    </tr>\n",
       "    <tr>\n",
       "      <th>arr_diverted</th>\n",
       "      <td>0.636067</td>\n",
       "      <td>0.710763</td>\n",
       "      <td>0.626720</td>\n",
       "      <td>0.405597</td>\n",
       "      <td>0.675512</td>\n",
       "      <td>0.480179</td>\n",
       "      <td>1.000000</td>\n",
       "      <td>0.711480</td>\n",
       "      <td>0.647781</td>\n",
       "      <td>0.721620</td>\n",
       "      <td>0.613622</td>\n",
       "      <td>0.372053</td>\n",
       "      <td>0.700735</td>\n",
       "      <td>0.166036</td>\n",
       "      <td>0.678039</td>\n",
       "    </tr>\n",
       "    <tr>\n",
       "      <th>arr_delay</th>\n",
       "      <td>0.875205</td>\n",
       "      <td>0.821846</td>\n",
       "      <td>0.901002</td>\n",
       "      <td>0.525674</td>\n",
       "      <td>0.924192</td>\n",
       "      <td>0.659195</td>\n",
       "      <td>0.711480</td>\n",
       "      <td>1.000000</td>\n",
       "      <td>0.945608</td>\n",
       "      <td>0.819009</td>\n",
       "      <td>0.874484</td>\n",
       "      <td>0.510864</td>\n",
       "      <td>0.971350</td>\n",
       "      <td>0.278043</td>\n",
       "      <td>0.942848</td>\n",
       "    </tr>\n",
       "    <tr>\n",
       "      <th>carrier_delay</th>\n",
       "      <td>0.876582</td>\n",
       "      <td>0.755200</td>\n",
       "      <td>0.771117</td>\n",
       "      <td>0.475086</td>\n",
       "      <td>0.854865</td>\n",
       "      <td>0.609488</td>\n",
       "      <td>0.647781</td>\n",
       "      <td>0.945608</td>\n",
       "      <td>1.000000</td>\n",
       "      <td>0.757641</td>\n",
       "      <td>0.713888</td>\n",
       "      <td>0.464096</td>\n",
       "      <td>0.909957</td>\n",
       "      <td>0.257489</td>\n",
       "      <td>0.931457</td>\n",
       "    </tr>\n",
       "    <tr>\n",
       "      <th>weather_delay</th>\n",
       "      <td>0.742316</td>\n",
       "      <td>0.954521</td>\n",
       "      <td>0.727642</td>\n",
       "      <td>0.476423</td>\n",
       "      <td>0.764240</td>\n",
       "      <td>0.550791</td>\n",
       "      <td>0.721620</td>\n",
       "      <td>0.819009</td>\n",
       "      <td>0.757641</td>\n",
       "      <td>1.000000</td>\n",
       "      <td>0.687027</td>\n",
       "      <td>0.432981</td>\n",
       "      <td>0.787836</td>\n",
       "      <td>0.215498</td>\n",
       "      <td>0.796313</td>\n",
       "    </tr>\n",
       "    <tr>\n",
       "      <th>nas_delay</th>\n",
       "      <td>0.697623</td>\n",
       "      <td>0.693923</td>\n",
       "      <td>0.949171</td>\n",
       "      <td>0.435350</td>\n",
       "      <td>0.729300</td>\n",
       "      <td>0.587824</td>\n",
       "      <td>0.613622</td>\n",
       "      <td>0.874484</td>\n",
       "      <td>0.713888</td>\n",
       "      <td>0.687027</td>\n",
       "      <td>1.000000</td>\n",
       "      <td>0.424500</td>\n",
       "      <td>0.782551</td>\n",
       "      <td>0.240784</td>\n",
       "      <td>0.734375</td>\n",
       "    </tr>\n",
       "    <tr>\n",
       "      <th>security_delay</th>\n",
       "      <td>0.457597</td>\n",
       "      <td>0.451133</td>\n",
       "      <td>0.491155</td>\n",
       "      <td>0.838333</td>\n",
       "      <td>0.527007</td>\n",
       "      <td>0.323593</td>\n",
       "      <td>0.372053</td>\n",
       "      <td>0.510864</td>\n",
       "      <td>0.464096</td>\n",
       "      <td>0.432981</td>\n",
       "      <td>0.424500</td>\n",
       "      <td>1.000000</td>\n",
       "      <td>0.522386</td>\n",
       "      <td>0.163779</td>\n",
       "      <td>0.536681</td>\n",
       "    </tr>\n",
       "    <tr>\n",
       "      <th>late_aircraft_delay</th>\n",
       "      <td>0.852771</td>\n",
       "      <td>0.798067</td>\n",
       "      <td>0.830760</td>\n",
       "      <td>0.537822</td>\n",
       "      <td>0.969846</td>\n",
       "      <td>0.642849</td>\n",
       "      <td>0.700735</td>\n",
       "      <td>0.971350</td>\n",
       "      <td>0.909957</td>\n",
       "      <td>0.787836</td>\n",
       "      <td>0.782551</td>\n",
       "      <td>0.522386</td>\n",
       "      <td>1.000000</td>\n",
       "      <td>0.277989</td>\n",
       "      <td>0.942444</td>\n",
       "    </tr>\n",
       "    <tr>\n",
       "      <th>target_X</th>\n",
       "      <td>0.283758</td>\n",
       "      <td>0.243806</td>\n",
       "      <td>0.277520</td>\n",
       "      <td>0.190799</td>\n",
       "      <td>0.294210</td>\n",
       "      <td>0.192698</td>\n",
       "      <td>0.166036</td>\n",
       "      <td>0.278043</td>\n",
       "      <td>0.257489</td>\n",
       "      <td>0.215498</td>\n",
       "      <td>0.240784</td>\n",
       "      <td>0.163779</td>\n",
       "      <td>0.277989</td>\n",
       "      <td>1.000000</td>\n",
       "      <td>0.323859</td>\n",
       "    </tr>\n",
       "    <tr>\n",
       "      <th>carrier_ct</th>\n",
       "      <td>0.918256</td>\n",
       "      <td>0.819565</td>\n",
       "      <td>0.831446</td>\n",
       "      <td>0.575996</td>\n",
       "      <td>0.936909</td>\n",
       "      <td>0.620186</td>\n",
       "      <td>0.678039</td>\n",
       "      <td>0.942848</td>\n",
       "      <td>0.931457</td>\n",
       "      <td>0.796313</td>\n",
       "      <td>0.734375</td>\n",
       "      <td>0.536681</td>\n",
       "      <td>0.942444</td>\n",
       "      <td>0.323859</td>\n",
       "      <td>1.000000</td>\n",
       "    </tr>\n",
       "  </tbody>\n",
       "</table>\n",
       "</div>"
      ],
      "text/plain": [
       "                     arr_flights  weather_ct    nas_ct  security_ct  \\\n",
       "arr_flights             1.000000    0.768739  0.804379     0.512487   \n",
       "weather_ct              0.768739    1.000000  0.747240     0.497817   \n",
       "nas_ct                  0.804379    0.747240  1.000000     0.527607   \n",
       "security_ct             0.512487    0.497817  0.527607     1.000000   \n",
       "late_aircraft_ct        0.881786    0.789935  0.810437     0.563590   \n",
       "arr_cancelled           0.565827    0.539500  0.580871     0.368564   \n",
       "arr_diverted            0.636067    0.710763  0.626720     0.405597   \n",
       "arr_delay               0.875205    0.821846  0.901002     0.525674   \n",
       "carrier_delay           0.876582    0.755200  0.771117     0.475086   \n",
       "weather_delay           0.742316    0.954521  0.727642     0.476423   \n",
       "nas_delay               0.697623    0.693923  0.949171     0.435350   \n",
       "security_delay          0.457597    0.451133  0.491155     0.838333   \n",
       "late_aircraft_delay     0.852771    0.798067  0.830760     0.537822   \n",
       "target_X                0.283758    0.243806  0.277520     0.190799   \n",
       "carrier_ct              0.918256    0.819565  0.831446     0.575996   \n",
       "\n",
       "                     late_aircraft_ct  arr_cancelled  arr_diverted  arr_delay  \\\n",
       "arr_flights                  0.881786       0.565827      0.636067   0.875205   \n",
       "weather_ct                   0.789935       0.539500      0.710763   0.821846   \n",
       "nas_ct                       0.810437       0.580871      0.626720   0.901002   \n",
       "security_ct                  0.563590       0.368564      0.405597   0.525674   \n",
       "late_aircraft_ct             1.000000       0.626644      0.675512   0.924192   \n",
       "arr_cancelled                0.626644       1.000000      0.480179   0.659195   \n",
       "arr_diverted                 0.675512       0.480179      1.000000   0.711480   \n",
       "arr_delay                    0.924192       0.659195      0.711480   1.000000   \n",
       "carrier_delay                0.854865       0.609488      0.647781   0.945608   \n",
       "weather_delay                0.764240       0.550791      0.721620   0.819009   \n",
       "nas_delay                    0.729300       0.587824      0.613622   0.874484   \n",
       "security_delay               0.527007       0.323593      0.372053   0.510864   \n",
       "late_aircraft_delay          0.969846       0.642849      0.700735   0.971350   \n",
       "target_X                     0.294210       0.192698      0.166036   0.278043   \n",
       "carrier_ct                   0.936909       0.620186      0.678039   0.942848   \n",
       "\n",
       "                     carrier_delay  weather_delay  nas_delay  security_delay  \\\n",
       "arr_flights               0.876582       0.742316   0.697623        0.457597   \n",
       "weather_ct                0.755200       0.954521   0.693923        0.451133   \n",
       "nas_ct                    0.771117       0.727642   0.949171        0.491155   \n",
       "security_ct               0.475086       0.476423   0.435350        0.838333   \n",
       "late_aircraft_ct          0.854865       0.764240   0.729300        0.527007   \n",
       "arr_cancelled             0.609488       0.550791   0.587824        0.323593   \n",
       "arr_diverted              0.647781       0.721620   0.613622        0.372053   \n",
       "arr_delay                 0.945608       0.819009   0.874484        0.510864   \n",
       "carrier_delay             1.000000       0.757641   0.713888        0.464096   \n",
       "weather_delay             0.757641       1.000000   0.687027        0.432981   \n",
       "nas_delay                 0.713888       0.687027   1.000000        0.424500   \n",
       "security_delay            0.464096       0.432981   0.424500        1.000000   \n",
       "late_aircraft_delay       0.909957       0.787836   0.782551        0.522386   \n",
       "target_X                  0.257489       0.215498   0.240784        0.163779   \n",
       "carrier_ct                0.931457       0.796313   0.734375        0.536681   \n",
       "\n",
       "                     late_aircraft_delay  target_X  carrier_ct  \n",
       "arr_flights                     0.852771  0.283758    0.918256  \n",
       "weather_ct                      0.798067  0.243806    0.819565  \n",
       "nas_ct                          0.830760  0.277520    0.831446  \n",
       "security_ct                     0.537822  0.190799    0.575996  \n",
       "late_aircraft_ct                0.969846  0.294210    0.936909  \n",
       "arr_cancelled                   0.642849  0.192698    0.620186  \n",
       "arr_diverted                    0.700735  0.166036    0.678039  \n",
       "arr_delay                       0.971350  0.278043    0.942848  \n",
       "carrier_delay                   0.909957  0.257489    0.931457  \n",
       "weather_delay                   0.787836  0.215498    0.796313  \n",
       "nas_delay                       0.782551  0.240784    0.734375  \n",
       "security_delay                  0.522386  0.163779    0.536681  \n",
       "late_aircraft_delay             1.000000  0.277989    0.942444  \n",
       "target_X                        0.277989  1.000000    0.323859  \n",
       "carrier_ct                      0.942444  0.323859    1.000000  "
      ]
     },
     "execution_count": 118,
     "metadata": {},
     "output_type": "execute_result"
    }
   ],
   "source": [
    "late_count = data.iloc[:, [6, 8, 9, 10, 11, 12, 13, 14, 15, 16, 17, 18, 19, 20, 7]]\n",
    "late_count.corr()"
   ]
  },
  {
   "cell_type": "code",
   "execution_count": 119,
   "metadata": {
    "scrolled": false
   },
   "outputs": [
    {
     "data": {
      "text/html": [
       "<div>\n",
       "<style>\n",
       "    .dataframe thead tr:only-child th {\n",
       "        text-align: right;\n",
       "    }\n",
       "\n",
       "    .dataframe thead th {\n",
       "        text-align: left;\n",
       "    }\n",
       "\n",
       "    .dataframe tbody tr th {\n",
       "        vertical-align: top;\n",
       "    }\n",
       "</style>\n",
       "<table border=\"1\" class=\"dataframe\">\n",
       "  <thead>\n",
       "    <tr style=\"text-align: right;\">\n",
       "      <th></th>\n",
       "      <th></th>\n",
       "      <th>arr_flights</th>\n",
       "      <th>carrier_ct</th>\n",
       "      <th>target_X</th>\n",
       "    </tr>\n",
       "    <tr>\n",
       "      <th>airport</th>\n",
       "      <th>carrier</th>\n",
       "      <th></th>\n",
       "      <th></th>\n",
       "      <th></th>\n",
       "    </tr>\n",
       "  </thead>\n",
       "  <tbody>\n",
       "    <tr>\n",
       "      <th rowspan=\"10\" valign=\"top\">DEN</th>\n",
       "      <th>AA</th>\n",
       "      <td>876.636364</td>\n",
       "      <td>65.354545</td>\n",
       "      <td>1.000000</td>\n",
       "    </tr>\n",
       "    <tr>\n",
       "      <th>AS</th>\n",
       "      <td>141.181818</td>\n",
       "      <td>6.504545</td>\n",
       "      <td>0.545455</td>\n",
       "    </tr>\n",
       "    <tr>\n",
       "      <th>B6</th>\n",
       "      <td>92.454545</td>\n",
       "      <td>8.475455</td>\n",
       "      <td>0.818182</td>\n",
       "    </tr>\n",
       "    <tr>\n",
       "      <th>DL</th>\n",
       "      <td>751.363636</td>\n",
       "      <td>38.898182</td>\n",
       "      <td>1.000000</td>\n",
       "    </tr>\n",
       "    <tr>\n",
       "      <th>F9</th>\n",
       "      <td>1887.545455</td>\n",
       "      <td>69.364545</td>\n",
       "      <td>1.000000</td>\n",
       "    </tr>\n",
       "    <tr>\n",
       "      <th>NK</th>\n",
       "      <td>372.727273</td>\n",
       "      <td>11.340000</td>\n",
       "      <td>1.000000</td>\n",
       "    </tr>\n",
       "    <tr>\n",
       "      <th>OO</th>\n",
       "      <td>4347.000000</td>\n",
       "      <td>128.551818</td>\n",
       "      <td>1.000000</td>\n",
       "    </tr>\n",
       "    <tr>\n",
       "      <th>UA</th>\n",
       "      <td>4914.909091</td>\n",
       "      <td>188.897273</td>\n",
       "      <td>1.000000</td>\n",
       "    </tr>\n",
       "    <tr>\n",
       "      <th>VX</th>\n",
       "      <td>82.444444</td>\n",
       "      <td>2.643333</td>\n",
       "      <td>0.555556</td>\n",
       "    </tr>\n",
       "    <tr>\n",
       "      <th>WN</th>\n",
       "      <td>5463.727273</td>\n",
       "      <td>224.510000</td>\n",
       "      <td>1.000000</td>\n",
       "    </tr>\n",
       "  </tbody>\n",
       "</table>\n",
       "</div>"
      ],
      "text/plain": [
       "                 arr_flights  carrier_ct  target_X\n",
       "airport carrier                                   \n",
       "DEN     AA        876.636364   65.354545  1.000000\n",
       "        AS        141.181818    6.504545  0.545455\n",
       "        B6         92.454545    8.475455  0.818182\n",
       "        DL        751.363636   38.898182  1.000000\n",
       "        F9       1887.545455   69.364545  1.000000\n",
       "        NK        372.727273   11.340000  1.000000\n",
       "        OO       4347.000000  128.551818  1.000000\n",
       "        UA       4914.909091  188.897273  1.000000\n",
       "        VX         82.444444    2.643333  0.555556\n",
       "        WN       5463.727273  224.510000  1.000000"
      ]
     },
     "execution_count": 119,
     "metadata": {},
     "output_type": "execute_result"
    }
   ],
   "source": [
    "# Denver only\n",
    "carrier_grouping = data.iloc[:, [2, 3, 4,5,6,7, 20]].groupby(by=['airport', 'carrier'])\n",
    "carr_x = carrier_grouping.mean()\n",
    "denver_by_carrier = carr_x[271:281]\n",
    "denver_by_carrier"
   ]
  },
  {
   "cell_type": "code",
   "execution_count": 120,
   "metadata": {},
   "outputs": [
    {
     "data": {
      "text/plain": [
       "array([('DEN', 'AA'), ('DEN', 'AS'), ('DEN', 'B6'), ('DEN', 'DL'),\n",
       "       ('DEN', 'F9'), ('DEN', 'NK'), ('DEN', 'OO'), ('DEN', 'UA'),\n",
       "       ('DEN', 'VX'), ('DEN', 'WN')], dtype=object)"
      ]
     },
     "execution_count": 120,
     "metadata": {},
     "output_type": "execute_result"
    }
   ],
   "source": [
    "denver_by_carrier.index.values"
   ]
  },
  {
   "cell_type": "code",
   "execution_count": 126,
   "metadata": {},
   "outputs": [
    {
     "name": "stdout",
     "output_type": "stream",
     "text": [
      "('DEN', 'DEN', 'DEN', 'DEN', 'DEN', 'DEN', 'DEN', 'DEN', 'DEN', 'DEN') \n",
      "\n",
      "('AA', 'AS', 'B6', 'DL', 'F9', 'NK', 'OO', 'UA', 'VX', 'WN')\n"
     ]
    }
   ],
   "source": [
    "air_port, carrier_ = zip(*denver_by_carrier.index.values)\n",
    "print (air_port),\n",
    "print \"\\n\"\n",
    "print (carrier_)"
   ]
  }
 ],
 "metadata": {
  "kernelspec": {
   "display_name": "Python 2",
   "language": "python",
   "name": "python2"
  },
  "language_info": {
   "codemirror_mode": {
    "name": "ipython",
    "version": 2
   },
   "file_extension": ".py",
   "mimetype": "text/x-python",
   "name": "python",
   "nbconvert_exporter": "python",
   "pygments_lexer": "ipython2",
   "version": "2.7.13"
  }
 },
 "nbformat": 4,
 "nbformat_minor": 2
}
