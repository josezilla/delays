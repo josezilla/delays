{
 "cells": [
  {
   "cell_type": "markdown",
   "metadata": {},
   "source": [
    "## Scrape the Fortune website to get a list of the worst airports"
   ]
  },
  {
   "cell_type": "markdown",
   "metadata": {},
   "source": [
    "##### Imports"
   ]
  },
  {
   "cell_type": "code",
   "execution_count": 1,
   "metadata": {
    "collapsed": true
   },
   "outputs": [],
   "source": [
    "from scrapy.selector import Selector\n",
    "from scrapy.http import HtmlResponse\n",
    "import requests\n",
    "from bs4 import BeautifulSoup\n",
    "import re"
   ]
  },
  {
   "cell_type": "markdown",
   "metadata": {},
   "source": [
    "##### Big-britches class and function scrape the fortune website and parse the h2 headings"
   ]
  },
  {
   "cell_type": "code",
   "execution_count": 2,
   "metadata": {
    "collapsed": true
   },
   "outputs": [],
   "source": [
    "class scraper:    \n",
    "    records = []\n",
    "    def parse(self, url, current_page=1):\n",
    "        response = requests.get(url)\n",
    "        html = response.text\n",
    "        for selector in Selector(text=html).xpath(\n",
    "            \"*\"):\n",
    "            self.records.append({\n",
    "                \"Airports\":     selector.xpath(\".//h2\").extract()                \n",
    "            }) \n",
    "scraper = scraper()\n",
    "scraper.parse(url=\"http://fortune.com/2015/04/15/delays-at-americas-busiest-airports/\")\n",
    "# scraper.records"
   ]
  },
  {
   "cell_type": "code",
   "execution_count": 3,
   "metadata": {},
   "outputs": [
    {
     "data": {
      "text/plain": [
       "[u\"<h2>Chicago's O'Hare International</h2>\",\n",
       " u\"<h2>Atlanta's Hartsfield-Jackson International</h2>\",\n",
       " u'<h2>Los Angeles International</h2>',\n",
       " u'<h2>Dallas/Fort Worth International</h2>',\n",
       " u'<h2>Denver International</h2>',\n",
       " u'<h2>Charlotte Douglas International</h2>',\n",
       " u\"<h2>Las Vegas' McCarran International</h2>\",\n",
       " u\"<h2>Houston's George Bush Intercontinental</h2>\",\n",
       " u'<h2>San Francisco International</h2>',\n",
       " u'<h2>Phoenix Sky Harbor International</h2>']"
      ]
     },
     "execution_count": 3,
     "metadata": {},
     "output_type": "execute_result"
    }
   ],
   "source": [
    "scraper.records[1]['Airports']"
   ]
  },
  {
   "cell_type": "markdown",
   "metadata": {},
   "source": [
    "There is a lot of unclean data, so , first we break it out of its formatting"
   ]
  },
  {
   "cell_type": "code",
   "execution_count": 4,
   "metadata": {
    "collapsed": true
   },
   "outputs": [],
   "source": [
    "rec_dict = scraper.records[1]['Airports']"
   ]
  },
  {
   "cell_type": "markdown",
   "metadata": {},
   "source": [
    "More manipulations that make the data redy to re-encode in utf-8, so it is just text"
   ]
  },
  {
   "cell_type": "code",
   "execution_count": 5,
   "metadata": {
    "collapsed": true
   },
   "outputs": [],
   "source": [
    "ddd = [g for g in rec_dict]"
   ]
  },
  {
   "cell_type": "code",
   "execution_count": 6,
   "metadata": {
    "collapsed": true
   },
   "outputs": [],
   "source": [
    "w = [x.encode('UTF8') for x in ddd]"
   ]
  },
  {
   "cell_type": "code",
   "execution_count": 7,
   "metadata": {
    "collapsed": true
   },
   "outputs": [],
   "source": [
    "lates = []\n",
    "for i in range(len(w)):\n",
    "    result = re.sub(\"<.*?>\", \"\", w[i])\n",
    "    lates.append(result)"
   ]
  },
  {
   "cell_type": "markdown",
   "metadata": {},
   "source": [
    "### This is the list we want"
   ]
  },
  {
   "cell_type": "code",
   "execution_count": 8,
   "metadata": {
    "scrolled": true
   },
   "outputs": [
    {
     "data": {
      "text/plain": [
       "[\"Chicago's O'Hare International\",\n",
       " \"Atlanta's Hartsfield-Jackson International\",\n",
       " 'Los Angeles International',\n",
       " 'Dallas/Fort Worth International',\n",
       " 'Denver International',\n",
       " 'Charlotte Douglas International',\n",
       " \"Las Vegas' McCarran International\",\n",
       " \"Houston's George Bush Intercontinental\",\n",
       " 'San Francisco International',\n",
       " 'Phoenix Sky Harbor International']"
      ]
     },
     "execution_count": 8,
     "metadata": {},
     "output_type": "execute_result"
    }
   ],
   "source": [
    "lates"
   ]
  },
  {
   "cell_type": "code",
   "execution_count": null,
   "metadata": {
    "collapsed": true
   },
   "outputs": [],
   "source": []
  }
 ],
 "metadata": {
  "kernelspec": {
   "display_name": "Python 2",
   "language": "python",
   "name": "python2"
  },
  "language_info": {
   "codemirror_mode": {
    "name": "ipython",
    "version": 2
   },
   "file_extension": ".py",
   "mimetype": "text/x-python",
   "name": "python",
   "nbconvert_exporter": "python",
   "pygments_lexer": "ipython2",
   "version": "2.7.13"
  }
 },
 "nbformat": 4,
 "nbformat_minor": 2
}
