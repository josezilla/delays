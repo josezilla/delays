{
 "cells": [
  {
   "cell_type": "markdown",
   "metadata": {},
   "source": [
    "Denver Delays 03"
   ]
  },
  {
   "cell_type": "markdown",
   "metadata": {},
   "source": [
    "Downloaded from \n",
    " - ```https://www.transtats.bts.gov/OT_Delay/ot_delaycause1.asp?display=data&pn=1```"
   ]
  },
  {
   "cell_type": "code",
   "execution_count": 22,
   "metadata": {
    "collapsed": true
   },
   "outputs": [],
   "source": [
    "import re\n",
    "import pandas as pd\n",
    "import numpy as np\n",
    "from pygeocoder import Geocoder\n",
    "import matplotlib as plt\n",
    "from mpl_toolkits.basemap import Basemap\n",
    "%matplotlib inline"
   ]
  },
  {
   "cell_type": "code",
   "execution_count": 23,
   "metadata": {
    "collapsed": true
   },
   "outputs": [],
   "source": [
    "datafile = '802772815_92017_5649_airline_delay_causes.csv'\n",
    "df = pd.read_csv(datafile)"
   ]
  },
  {
   "cell_type": "code",
   "execution_count": 24,
   "metadata": {
    "collapsed": true
   },
   "outputs": [],
   "source": [
    "df = df.drop('Unnamed: 21', axis=1)"
   ]
  },
  {
   "cell_type": "code",
   "execution_count": 25,
   "metadata": {},
   "outputs": [
    {
     "name": "stdout",
     "output_type": "stream",
     "text": [
      "<class 'pandas.core.frame.DataFrame'>\n",
      "Index: 17 entries, year to late_aircraft_delay\n",
      "Data columns (total 1 columns):\n",
      "0    17 non-null float64\n",
      "dtypes: float64(1)\n",
      "memory usage: 272.0+ bytes\n"
     ]
    }
   ],
   "source": [
    "# plt.yscale('log')\n",
    "var_df = pd.DataFrame(df.var())\n",
    "var_df.info()"
   ]
  },
  {
   "cell_type": "code",
   "execution_count": 26,
   "metadata": {},
   "outputs": [
    {
     "data": {
      "text/plain": [
       "(1050, 21)"
      ]
     },
     "execution_count": 26,
     "metadata": {},
     "output_type": "execute_result"
    }
   ],
   "source": [
    "df.shape"
   ]
  },
  {
   "cell_type": "code",
   "execution_count": 30,
   "metadata": {
    "collapsed": true
   },
   "outputs": [],
   "source": [
    "# for i, col in enumerate(df.columns):\n",
    "#     global columns\n",
    "#     col = re.sub(r'\\s+', '', col)\n",
    "#     columns.append(col)\n",
    "# columns"
   ]
  },
  {
   "cell_type": "code",
   "execution_count": 31,
   "metadata": {
    "collapsed": true
   },
   "outputs": [],
   "source": [
    "col_numeric = df.select_dtypes(include=[np.number]).columns.tolist()\n",
    "col_categorical = df.select_dtypes(include=[np.object]).columns.tolist()"
   ]
  },
  {
   "cell_type": "code",
   "execution_count": 34,
   "metadata": {
    "collapsed": true
   },
   "outputs": [],
   "source": [
    "# eliminate the space in the variable names\n",
    "numeric_list = []\n",
    "for vvv in col_numeric:\n",
    "    vvv = re.sub(r'\\s+', '', vvv)\n",
    "    numeric_list.append(vvv)"
   ]
  },
  {
   "cell_type": "code",
   "execution_count": 35,
   "metadata": {},
   "outputs": [
    {
     "data": {
      "text/plain": [
       "['year',\n",
       " 'month',\n",
       " 'arr_flights',\n",
       " 'arr_del15',\n",
       " 'carrier_ct',\n",
       " 'weather_ct',\n",
       " 'nas_ct',\n",
       " 'security_ct',\n",
       " 'late_aircraft_ct',\n",
       " 'arr_cancelled',\n",
       " 'arr_diverted',\n",
       " 'arr_delay',\n",
       " 'carrier_delay',\n",
       " 'weather_delay',\n",
       " 'nas_delay',\n",
       " 'security_delay',\n",
       " 'late_aircraft_delay']"
      ]
     },
     "execution_count": 35,
     "metadata": {},
     "output_type": "execute_result"
    }
   ],
   "source": [
    "numeric_list"
   ]
  },
  {
   "cell_type": "code",
   "execution_count": 36,
   "metadata": {},
   "outputs": [
    {
     "data": {
      "text/plain": [
       "<matplotlib.axes._subplots.AxesSubplot at 0x118f48710>"
      ]
     },
     "execution_count": 36,
     "metadata": {},
     "output_type": "execute_result"
    },
    {
     "data": {
      "image/png": "[encoded data removed]",
      "text/plain": [
       "<matplotlib.figure.Figure at 0x118f48050>"
      ]
     },
     "metadata": {},
     "output_type": "display_data"
    }
   ],
   "source": [
    "df['arr_flights'].hist(bins=15)"
   ]
  },
  {
   "cell_type": "code",
   "execution_count": 37,
   "metadata": {},
   "outputs": [
    {
     "data": {
      "text/plain": [
       "Index([u'year', u' month', u'carrier', u'carrier_name', u'airport',\n",
       "       u'airport_name', u'arr_flights', u'arr_del15', u'carrier_ct',\n",
       "       u' weather_ct', u'nas_ct', u'security_ct', u'late_aircraft_ct',\n",
       "       u'arr_cancelled', u'arr_diverted', u' arr_delay', u' carrier_delay',\n",
       "       u'weather_delay', u'nas_delay', u'security_delay',\n",
       "       u'late_aircraft_delay'],\n",
       "      dtype='object')"
      ]
     },
     "execution_count": 37,
     "metadata": {},
     "output_type": "execute_result"
    }
   ],
   "source": [
    "df.columns"
   ]
  },
  {
   "cell_type": "code",
   "execution_count": 38,
   "metadata": {
    "collapsed": true
   },
   "outputs": [],
   "source": [
    "import matplotlib.pyplot as plt\n",
    "%matplotlib inline\n",
    "\n",
    "import seaborn as sns\n",
    "\n",
    "from IPython.display import display\n",
    "\n",
    "%matplotlib inline "
   ]
  },
  {
   "cell_type": "code",
   "execution_count": 41,
   "metadata": {},
   "outputs": [
    {
     "data": {
      "text/plain": [
       "0         175.0\n",
       "1          79.0\n",
       "2          30.0\n",
       "3          30.0\n",
       "4         889.0\n",
       "5         733.0\n",
       "6         354.0\n",
       "7         460.0\n",
       "8          90.0\n",
       "9        2124.0\n",
       "10         79.0\n",
       "11        461.0\n",
       "12         35.0\n",
       "13        145.0\n",
       "14        266.0\n",
       "15       8063.0\n",
       "16        184.0\n",
       "17        112.0\n",
       "18         60.0\n",
       "19         59.0\n",
       "20       2040.0\n",
       "21        914.0\n",
       "22      11392.0\n",
       "23        143.0\n",
       "24        483.0\n",
       "25         30.0\n",
       "26         92.0\n",
       "27        609.0\n",
       "28         59.0\n",
       "29        450.0\n",
       "         ...   \n",
       "1020      524.0\n",
       "1021      996.0\n",
       "1022      238.0\n",
       "1023      133.0\n",
       "1024     1188.0\n",
       "1025      631.0\n",
       "1026     4766.0\n",
       "1027      724.0\n",
       "1028      101.0\n",
       "1029      524.0\n",
       "1030      116.0\n",
       "1031      803.0\n",
       "1032       85.0\n",
       "1033      696.0\n",
       "1034      118.0\n",
       "1035      302.0\n",
       "1036     2956.0\n",
       "1037     1270.0\n",
       "1038      364.0\n",
       "1039     1065.0\n",
       "1040     1476.0\n",
       "1041     2244.0\n",
       "1042      180.0\n",
       "1043      926.0\n",
       "1044     2221.0\n",
       "1045     1467.0\n",
       "1046     2981.0\n",
       "1047     1871.0\n",
       "1048      386.0\n",
       "1049      311.0\n",
       "Name: arr_flights, Length: 1050, dtype: float64"
      ]
     },
     "execution_count": 41,
     "metadata": {},
     "output_type": "execute_result"
    }
   ],
   "source": [
    "df.arr_flights"
   ]
  },
  {
   "cell_type": "code",
   "execution_count": null,
   "metadata": {
    "collapsed": true
   },
   "outputs": [],
   "source": []
  }
 ],
 "metadata": {
  "kernelspec": {
   "display_name": "Python 2",
   "language": "python",
   "name": "python2"
  },
  "language_info": {
   "codemirror_mode": {
    "name": "ipython",
    "version": 2
   },
   "file_extension": ".py",
   "mimetype": "text/x-python",
   "name": "python",
   "nbconvert_exporter": "python",
   "pygments_lexer": "ipython2",
   "version": "2.7.13"
  }
 },
 "nbformat": 4,
 "nbformat_minor": 2
}
