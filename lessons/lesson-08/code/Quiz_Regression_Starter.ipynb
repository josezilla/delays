{
 "cells": [
  {
   "cell_type": "markdown",
   "metadata": {},
   "source": [
    "# Quiz On Regression\n",
    "\n",
    "The aim of this exercise is to predict the number of games that a Major-League Baseball team won that season, based on the teams statistics and other variables from that season."
   ]
  },
  {
   "cell_type": "markdown",
   "metadata": {},
   "source": [
    "## Part A: Data Exploration"
   ]
  },
  {
   "cell_type": "code",
   "execution_count": null,
   "metadata": {},
   "outputs": [],
   "source": [
    "# import libraries\n",
    "import pandas as pd\n",
    "from sklearn.cross_validation import train_test_split\n",
    "from sklearn import linear_model, metrics\n",
    "from sklearn.grid_search import GridSearchCV\n",
    "from matplotlib import pyplot as plt\n",
    "import matplotlib"
   ]
  },
  {
   "cell_type": "code",
   "execution_count": null,
   "metadata": {},
   "outputs": [],
   "source": [
    "# import \"Teams.csv\" as teams_df and show the first 5 rows\n",
    "teams_df = pd.read_csv('../datasets/Teams.csv')\n",
    "print(teams_df.head())"
   ]
  },
  {
   "cell_type": "code",
   "execution_count": null,
   "metadata": {},
   "outputs": [],
   "source": [
    "#describe data\n",
    "teams_df.describe()"
   ]
  },
  {
   "cell_type": "markdown",
   "metadata": {},
   "source": [
    "### What this data means?\n",
    "\n",
    "Each of the columns contain data related to a specific team and year. Some of the more important variables are listed below.\n",
    "* yearID - Year\n",
    "* teamID - Team\n",
    "* franchID - Franchise (links to TeamsFranchise table)\n",
    "* G - Games played\n",
    "* W - Wins\n",
    "* LgWin - League Champion(Y or N)\n",
    "* WSWin - World Series Winner (Y or N)\n",
    "* R - Runs scored\n",
    "* AB - At bats\n",
    "* H - Hits by batters\n",
    "* HR - Homeruns by batters\n",
    "* BB - Walks by batters\n",
    "* SO - Strikeouts by batters\n",
    "* SB - Stolen bases\n",
    "* CS - Caught stealing\n",
    "* HBP - Batters hit by pitch\n",
    "* SF - Sacrifice flies\n",
    "* RA - Opponents runs scored\n",
    "* ER - Earned runs allowed\n",
    "* ERA - Earned run average\n",
    "* CG - Complete games\n",
    "* SHO - Shutouts\n",
    "* SV - Saves\n",
    "* IPOuts - Outs Pitched (innings pitched x 3)\n",
    "* HA - Hits allowed\n",
    "* HRA - Homeruns allowed\n",
    "* BBA - Walks allowed\n",
    "* SOA - Strikeouts by pitchers\n",
    "* E - Errors\n",
    "* DP - Double Plays\n",
    "* FP - Fielding percentage\n",
    "* name - Team’s full name\n"
   ]
  },
  {
   "cell_type": "code",
   "execution_count": null,
   "metadata": {},
   "outputs": [],
   "source": [
    "# Adding column names to dataframe\n",
    "cols = ['yearID','lgID','teamID','franchID','divID','Rank','G','Ghome','W','L','DivWin','WCWin','LgWin','WSWin','R','AB','H','2B','3B','HR','BB','SO','SB','CS','HBP','SF','RA','ER','ERA','CG','SHO','SV','IPouts','HA','HRA','BBA','SOA','E','DP','FP','name','park','attendance','BPF','PPF','teamIDBR','teamIDlahman45','teamIDretro','franchID','franchName','active','NAassoc']\n",
    "teams_df.columns = cols\n",
    "\n",
    "# Print the first rows of `teams_df`\n",
    "print(teams_df.head())\n",
    "\n",
    "# Print the length of `teams_df`\n",
    "print(len(teams_df))"
   ]
  },
  {
   "cell_type": "code",
   "execution_count": null,
   "metadata": {},
   "outputs": [],
   "source": [
    "# Dropping your unnecesary column variables.\n",
    "drop_cols = ['lgID','franchID','divID','Rank','Ghome','L','DivWin','WCWin','LgWin','WSWin','SF','name','park','attendance','BPF','PPF','teamIDBR','teamIDlahman45','teamIDretro','franchID','franchName','active','NAassoc']\n",
    "df = teams_df.drop(drop_cols, axis=1)\n",
    "\n",
    "# Print out first rows of `df`\n",
    "print(df.head())"
   ]
  },
  {
   "cell_type": "code",
   "execution_count": null,
   "metadata": {},
   "outputs": [],
   "source": [
    "# Print out the number of null values of all columns of `df`\n",
    "print(df.isnull().sum(axis=0).tolist())"
   ]
  },
  {
   "cell_type": "code",
   "execution_count": null,
   "metadata": {},
   "outputs": [],
   "source": [
    "# Eliminating columns with more than 100 null values ... in this case \"CS\" and \"BHP\"\n",
    "df = df.drop(['CS','HBP'], axis=1)\n",
    "\n",
    "# Filling null values of \"SO\" and \"DP\" using median\n",
    "df['SO'] = df['SO'].fillna(df['SO'].median())\n",
    "df['DP'] = df['DP'].fillna(df['DP'].median())\n",
    "\n",
    "# Print out null values of all columns of `df`\n",
    "print(df.isnull().sum(axis=0).tolist())"
   ]
  },
  {
   "cell_type": "code",
   "execution_count": null,
   "metadata": {},
   "outputs": [],
   "source": [
    "# matplotlib plots inline  \n",
    "%matplotlib inline\n",
    "\n",
    "# Plotting Histogram of of \"W\"\n",
    "plt.hist(df['W'])\n",
    "plt.xlabel('Wins')\n",
    "plt.title('Distribution of Wins')\n",
    "\n",
    "plt.show()"
   ]
  },
  {
   "cell_type": "code",
   "execution_count": null,
   "metadata": {},
   "outputs": [],
   "source": [
    "# Print mean of \"W\"\n",
    "print(df['W'].mean())"
   ]
  },
  {
   "cell_type": "code",
   "execution_count": null,
   "metadata": {
    "collapsed": true
   },
   "outputs": [],
   "source": [
    "# Creating bins for the win column\n",
    "def assign_win_bins(W):\n",
    "    if W < 50:\n",
    "        return 1\n",
    "    if W >= 50 and W <= 69:\n",
    "        return 2\n",
    "    if W >= 70 and W <= 89:\n",
    "        return 3\n",
    "    if W >= 90 and W <= 109:\n",
    "        return 4\n",
    "    if W >= 110:\n",
    "        return 5\n",
    "    \n",
    "df['win_bins'] = df['W'].apply(assign_win_bins)"
   ]
  },
  {
   "cell_type": "code",
   "execution_count": null,
   "metadata": {
    "collapsed": true
   },
   "outputs": [],
   "source": [
    "# Filter for rows where 'yearID' is greater than 1900\n",
    "df = df[df['yearID'] > 1900]"
   ]
  },
  {
   "cell_type": "code",
   "execution_count": null,
   "metadata": {},
   "outputs": [],
   "source": [
    "# Creating \"year_label\" column, which will give your algorithm information about how certain years are related \n",
    "# (Dead ball eras, Live ball/Steroid Eras)\n",
    "\n",
    "def assign_label(year):\n",
    "    if year < 1920:\n",
    "        return 1\n",
    "    elif year >= 1920 and year <= 1941:\n",
    "        return 2\n",
    "    elif year >= 1942 and year <= 1945:\n",
    "        return 3\n",
    "    elif year >= 1946 and year <= 1962:\n",
    "        return 4\n",
    "    elif year >= 1963 and year <= 1976:\n",
    "        return 5\n",
    "    elif year >= 1977 and year <= 1992:\n",
    "        return 6\n",
    "    elif year >= 1993 and year <= 2009:\n",
    "        return 7\n",
    "    elif year >= 2010:\n",
    "        return 8\n",
    "        \n",
    "# Add `year_label` column to `df`    \n",
    "df['year_label'] = df['yearID'].apply(assign_label)\n",
    "\n",
    "dummy_df = pd.get_dummies(df['year_label'], prefix='era')\n",
    "\n",
    "# Concatenate `df` and `dummy_df`\n",
    "df = pd.concat([df, dummy_df], axis=1)\n",
    "\n",
    "print(df.head())"
   ]
  },
  {
   "cell_type": "code",
   "execution_count": null,
   "metadata": {
    "collapsed": true
   },
   "outputs": [],
   "source": [
    "# Convert years into decade bins and creating dummy variables\n",
    "def assign_decade(year):\n",
    "    if year < 1920:\n",
    "        return 1910\n",
    "    elif year >= 1920 and year <= 1929:\n",
    "        return 1920\n",
    "    elif year >= 1930 and year <= 1939:\n",
    "        return 1930\n",
    "    elif year >= 1940 and year <= 1949:\n",
    "        return 1940\n",
    "    elif year >= 1950 and year <= 1959:\n",
    "        return 1950\n",
    "    elif year >= 1960 and year <= 1969:\n",
    "        return 1960\n",
    "    elif year >= 1970 and year <= 1979:\n",
    "        return 1970\n",
    "    elif year >= 1980 and year <= 1989:\n",
    "        return 1980\n",
    "    elif year >= 1990 and year <= 1999:\n",
    "        return 1990\n",
    "    elif year >= 2000 and year <= 2009:\n",
    "        return 2000\n",
    "    elif year >= 2010:\n",
    "        return 2010\n",
    "    \n",
    "df['decade_label'] = df['yearID'].apply(assign_decade)\n",
    "decade_df = pd.get_dummies(df['decade_label'], prefix='decade')\n",
    "df = pd.concat([df, decade_df], axis=1)\n",
    "\n",
    "# Drop unnecessary columns\n",
    "df = df.drop(['yearID','year_label','decade_label'], axis=1)"
   ]
  },
  {
   "cell_type": "code",
   "execution_count": null,
   "metadata": {
    "collapsed": true
   },
   "outputs": [],
   "source": [
    "# Create new features for Runs per Game and Runs Allowed per Game\n",
    "df['R_per_game'] = df['R'] / df['G']\n",
    "df['RA_per_game'] = df['RA'] / df['G']"
   ]
  },
  {
   "cell_type": "code",
   "execution_count": null,
   "metadata": {},
   "outputs": [],
   "source": [
    "# Create scatter plots for runs per game vs. wins and runs allowed per game vs. wins\n",
    "fig = plt.figure(figsize=(12, 6))\n",
    "\n",
    "ax1 = fig.add_subplot(1,2,1)\n",
    "ax2 = fig.add_subplot(1,2,2)\n",
    "\n",
    "ax1.scatter(df['R_per_game'], df['W'], c='blue')\n",
    "ax1.set_title('Runs per Game vs. Wins')\n",
    "ax1.set_ylabel('Wins')\n",
    "ax1.set_xlabel('Runs per Game')\n",
    "\n",
    "ax2.scatter(df['RA_per_game'], df['W'], c='red')\n",
    "ax2.set_title('Runs Allowed per Game vs. Wins')\n",
    "ax2.set_xlabel('Runs Allowed per Game')\n",
    "\n",
    "plt.show()"
   ]
  },
  {
   "cell_type": "code",
   "execution_count": null,
   "metadata": {},
   "outputs": [],
   "source": [
    "df.corr()['W']"
   ]
  },
  {
   "cell_type": "code",
   "execution_count": null,
   "metadata": {},
   "outputs": [],
   "source": [
    "df.shape"
   ]
  },
  {
   "cell_type": "markdown",
   "metadata": {},
   "source": [
    "## Part B: Modeling"
   ]
  },
  {
   "cell_type": "markdown",
   "metadata": {},
   "source": [
    "### Create and compare different models to predict \"W\" in function of other inputs."
   ]
  },
  {
   "cell_type": "code",
   "execution_count": null,
   "metadata": {},
   "outputs": [],
   "source": [
    "# Create new DataFrame using only variables to be included in models\n",
    "numeric_cols = ['G','R','AB','H','2B','3B','HR','BB','SO','SB','RA','ER','ERA','CG','SHO','SV','IPouts','HA','HRA','BBA','SOA','E','DP','FP','era_1','era_2','era_3','era_4','era_5','era_6','era_7','era_8','decade_1910','decade_1920','decade_1930','decade_1940','decade_1950','decade_1960','decade_1970','decade_1980','decade_1990','decade_2000','decade_2010','R_per_game','RA_per_game']\n",
    "X = df[numeric_cols]\n",
    "y = df['W']\n",
    "\n",
    "# Create X_train, X_test, y_train, y_test (25% tesing anf 75% training/validation)\n",
    "\n",
    "# print shapes of X_train, X_test, y_train, y_test \n"
   ]
  },
  {
   "cell_type": "code",
   "execution_count": null,
   "metadata": {},
   "outputs": [],
   "source": [
    "# Create 3 models: OLS, Ridge (default hyperparameters), and Lasso (default hyperparameters) \n",
    "# where you train the model on Training Data and test it on Testing Data.\n",
    "# Print out the MSE and R2 values of each model.\n",
    "\n"
   ]
  },
  {
   "cell_type": "markdown",
   "metadata": {},
   "source": [
    "#### Which model was the best?\n",
    "Answer:"
   ]
  },
  {
   "cell_type": "code",
   "execution_count": null,
   "metadata": {},
   "outputs": [],
   "source": [
    "# What are the properties (hyperparameters) of trained Lasso Regression\n"
   ]
  },
  {
   "cell_type": "code",
   "execution_count": null,
   "metadata": {},
   "outputs": [],
   "source": [
    "# What are the properties (hyperparameters) of trained Ridge Regression\n"
   ]
  },
  {
   "cell_type": "code",
   "execution_count": null,
   "metadata": {},
   "outputs": [],
   "source": [
    "# Create Grid Search to find the best \"alpha\" and \"normalize\" hyperparameters\n",
    "# for Lasso Regression. Print out the best estimators and best scores\n",
    "# Use Grid Search with CV = 5\n"
   ]
  },
  {
   "cell_type": "code",
   "execution_count": null,
   "metadata": {},
   "outputs": [],
   "source": [
    "# Create Grid Search to find the best \"alpha\" and \"normalize\" hyperparameters\n",
    "# for Ridge Regression. Print out the best estimators and best scores. \n",
    "# Use Grid Search with CV = 5\n"
   ]
  },
  {
   "cell_type": "code",
   "execution_count": null,
   "metadata": {},
   "outputs": [],
   "source": [
    "# Which model was the best out of OLS, Lasso, and Ridge? What was its R2 and MSE values?\n"
   ]
  },
  {
   "cell_type": "code",
   "execution_count": null,
   "metadata": {},
   "outputs": [],
   "source": [
    "# Plot a scatterplot of \"Real Values\" vs \"Predicted Values\" of the best performing model\n"
   ]
  }
 ],
 "metadata": {
  "kernelspec": {
   "display_name": "Python 2",
   "language": "python",
   "name": "python2"
  },
  "language_info": {
   "codemirror_mode": {
    "name": "ipython",
    "version": 2
   },
   "file_extension": ".py",
   "mimetype": "text/x-python",
   "name": "python",
   "nbconvert_exporter": "python",
   "pygments_lexer": "ipython2",
   "version": "2.7.13"
  }
 },
 "nbformat": 4,
 "nbformat_minor": 2
}
