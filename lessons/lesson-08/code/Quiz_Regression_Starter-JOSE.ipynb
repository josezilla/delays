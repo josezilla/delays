{
 "cells": [
  {
   "cell_type": "markdown",
   "metadata": {},
   "source": [
    "# Quiz On Regression\n",
    "\n",
    "The aim of this exercise is to predict the number of games that a Major-League Baseball team won that season, based on the teams statistics and other variables from that season."
   ]
  },
  {
   "cell_type": "markdown",
   "metadata": {},
   "source": [
    "## Part A: Data Exploration"
   ]
  },
  {
   "cell_type": "code",
   "execution_count": 113,
   "metadata": {},
   "outputs": [],
   "source": [
    "# import libraries\n",
    "import pandas as pd\n",
    "from sklearn.cross_validation import train_test_split\n",
    "from sklearn import linear_model, metrics\n",
    "from sklearn.grid_search import GridSearchCV\n",
    "from matplotlib import pyplot as plt\n",
    "import matplotlib"
   ]
  },
  {
   "cell_type": "code",
   "execution_count": 114,
   "metadata": {},
   "outputs": [
    {
     "name": "stdout",
     "output_type": "stream",
     "text": [
      "      0   1    2    3    4  5    6     7   8   9 ...        42   43   44   45  \\\n",
      "0  1961  AL  LAA  ANA  NaN  8  162  82.0  70  91 ...    603510  111  112  LAA   \n",
      "1  1962  AL  LAA  ANA  NaN  3  162  81.0  86  76 ...   1144063   97   97  LAA   \n",
      "2  1963  AL  LAA  ANA  NaN  9  161  81.0  70  91 ...    821015   94   94  LAA   \n",
      "3  1964  AL  LAA  ANA  NaN  5  162  81.0  82  80 ...    760439   90   90  LAA   \n",
      "4  1965  AL  CAL  ANA  NaN  7  162  80.0  75  87 ...    566727   97   98  CAL   \n",
      "\n",
      "    46   47   48                             49  50   51  \n",
      "0  LAA  LAA  ANA  Los Angeles Angels of Anaheim   Y  NaN  \n",
      "1  LAA  LAA  ANA  Los Angeles Angels of Anaheim   Y  NaN  \n",
      "2  LAA  LAA  ANA  Los Angeles Angels of Anaheim   Y  NaN  \n",
      "3  LAA  LAA  ANA  Los Angeles Angels of Anaheim   Y  NaN  \n",
      "4  CAL  CAL  ANA  Los Angeles Angels of Anaheim   Y  NaN  \n",
      "\n",
      "[5 rows x 52 columns]\n"
     ]
    }
   ],
   "source": [
    "# import \"Teams.csv\" as teams_df and show the first 5 rows\n",
    "teams_df = pd.read_csv('../datasets/Teams.csv')\n",
    "print(teams_df.head())"
   ]
  },
  {
   "cell_type": "code",
   "execution_count": 115,
   "metadata": {},
   "outputs": [
    {
     "data": {
      "text/html": [
       "<div>\n",
       "<style>\n",
       "    .dataframe thead tr:only-child th {\n",
       "        text-align: right;\n",
       "    }\n",
       "\n",
       "    .dataframe thead th {\n",
       "        text-align: left;\n",
       "    }\n",
       "\n",
       "    .dataframe tbody tr th {\n",
       "        vertical-align: top;\n",
       "    }\n",
       "</style>\n",
       "<table border=\"1\" class=\"dataframe\">\n",
       "  <thead>\n",
       "    <tr style=\"text-align: right;\">\n",
       "      <th></th>\n",
       "      <th>0</th>\n",
       "      <th>5</th>\n",
       "      <th>6</th>\n",
       "      <th>7</th>\n",
       "      <th>8</th>\n",
       "      <th>9</th>\n",
       "      <th>14</th>\n",
       "      <th>15</th>\n",
       "      <th>16</th>\n",
       "      <th>17</th>\n",
       "      <th>...</th>\n",
       "      <th>33</th>\n",
       "      <th>34</th>\n",
       "      <th>35</th>\n",
       "      <th>36</th>\n",
       "      <th>37</th>\n",
       "      <th>38</th>\n",
       "      <th>39</th>\n",
       "      <th>42</th>\n",
       "      <th>43</th>\n",
       "      <th>44</th>\n",
       "    </tr>\n",
       "  </thead>\n",
       "  <tbody>\n",
       "    <tr>\n",
       "      <th>count</th>\n",
       "      <td>2287.000000</td>\n",
       "      <td>2287.000000</td>\n",
       "      <td>2287.000000</td>\n",
       "      <td>2265.000000</td>\n",
       "      <td>2287.000000</td>\n",
       "      <td>2287.000000</td>\n",
       "      <td>2287.000000</td>\n",
       "      <td>2287.000000</td>\n",
       "      <td>2287.000000</td>\n",
       "      <td>2287.000000</td>\n",
       "      <td>...</td>\n",
       "      <td>2287.000000</td>\n",
       "      <td>2287.000000</td>\n",
       "      <td>2287.000000</td>\n",
       "      <td>2287.000000</td>\n",
       "      <td>2287.000000</td>\n",
       "      <td>2265.000000</td>\n",
       "      <td>2287.000000</td>\n",
       "      <td>2.287000e+03</td>\n",
       "      <td>2287.000000</td>\n",
       "      <td>2287.000000</td>\n",
       "    </tr>\n",
       "    <tr>\n",
       "      <th>mean</th>\n",
       "      <td>1967.512462</td>\n",
       "      <td>3.925667</td>\n",
       "      <td>158.959773</td>\n",
       "      <td>79.503753</td>\n",
       "      <td>79.230433</td>\n",
       "      <td>79.086139</td>\n",
       "      <td>700.365982</td>\n",
       "      <td>5414.390031</td>\n",
       "      <td>1414.773502</td>\n",
       "      <td>244.439440</td>\n",
       "      <td>...</td>\n",
       "      <td>1414.184521</td>\n",
       "      <td>117.460866</td>\n",
       "      <td>513.413205</td>\n",
       "      <td>817.533887</td>\n",
       "      <td>151.546130</td>\n",
       "      <td>145.466667</td>\n",
       "      <td>0.975552</td>\n",
       "      <td>1.441997e+06</td>\n",
       "      <td>100.205509</td>\n",
       "      <td>100.197202</td>\n",
       "    </tr>\n",
       "    <tr>\n",
       "      <th>std</th>\n",
       "      <td>33.207119</td>\n",
       "      <td>2.155926</td>\n",
       "      <td>3.764287</td>\n",
       "      <td>2.091990</td>\n",
       "      <td>13.045240</td>\n",
       "      <td>13.024542</td>\n",
       "      <td>102.720336</td>\n",
       "      <td>172.157391</td>\n",
       "      <td>106.132452</td>\n",
       "      <td>45.846798</td>\n",
       "      <td>...</td>\n",
       "      <td>109.631025</td>\n",
       "      <td>51.877465</td>\n",
       "      <td>81.845625</td>\n",
       "      <td>258.356654</td>\n",
       "      <td>57.949909</td>\n",
       "      <td>23.682023</td>\n",
       "      <td>0.008877</td>\n",
       "      <td>9.389702e+05</td>\n",
       "      <td>4.513778</td>\n",
       "      <td>4.563255</td>\n",
       "    </tr>\n",
       "    <tr>\n",
       "      <th>min</th>\n",
       "      <td>1892.000000</td>\n",
       "      <td>1.000000</td>\n",
       "      <td>150.000000</td>\n",
       "      <td>68.000000</td>\n",
       "      <td>36.000000</td>\n",
       "      <td>36.000000</td>\n",
       "      <td>371.000000</td>\n",
       "      <td>4768.000000</td>\n",
       "      <td>1044.000000</td>\n",
       "      <td>110.000000</td>\n",
       "      <td>...</td>\n",
       "      <td>1018.000000</td>\n",
       "      <td>5.000000</td>\n",
       "      <td>233.000000</td>\n",
       "      <td>281.000000</td>\n",
       "      <td>54.000000</td>\n",
       "      <td>64.000000</td>\n",
       "      <td>0.913000</td>\n",
       "      <td>8.092200e+04</td>\n",
       "      <td>88.000000</td>\n",
       "      <td>88.000000</td>\n",
       "    </tr>\n",
       "    <tr>\n",
       "      <th>25%</th>\n",
       "      <td>1940.000000</td>\n",
       "      <td>2.000000</td>\n",
       "      <td>155.000000</td>\n",
       "      <td>78.000000</td>\n",
       "      <td>70.000000</td>\n",
       "      <td>70.000000</td>\n",
       "      <td>634.000000</td>\n",
       "      <td>5297.500000</td>\n",
       "      <td>1348.000000</td>\n",
       "      <td>212.000000</td>\n",
       "      <td>...</td>\n",
       "      <td>1343.000000</td>\n",
       "      <td>83.000000</td>\n",
       "      <td>462.000000</td>\n",
       "      <td>592.500000</td>\n",
       "      <td>113.000000</td>\n",
       "      <td>132.000000</td>\n",
       "      <td>0.972000</td>\n",
       "      <td>6.419195e+05</td>\n",
       "      <td>97.000000</td>\n",
       "      <td>97.000000</td>\n",
       "    </tr>\n",
       "    <tr>\n",
       "      <th>50%</th>\n",
       "      <td>1972.000000</td>\n",
       "      <td>4.000000</td>\n",
       "      <td>162.000000</td>\n",
       "      <td>81.000000</td>\n",
       "      <td>80.000000</td>\n",
       "      <td>79.000000</td>\n",
       "      <td>698.000000</td>\n",
       "      <td>5457.000000</td>\n",
       "      <td>1413.000000</td>\n",
       "      <td>245.000000</td>\n",
       "      <td>...</td>\n",
       "      <td>1415.000000</td>\n",
       "      <td>124.000000</td>\n",
       "      <td>512.000000</td>\n",
       "      <td>834.000000</td>\n",
       "      <td>137.000000</td>\n",
       "      <td>147.000000</td>\n",
       "      <td>0.978000</td>\n",
       "      <td>1.250722e+06</td>\n",
       "      <td>100.000000</td>\n",
       "      <td>100.000000</td>\n",
       "    </tr>\n",
       "    <tr>\n",
       "      <th>75%</th>\n",
       "      <td>1997.000000</td>\n",
       "      <td>5.000000</td>\n",
       "      <td>162.000000</td>\n",
       "      <td>81.000000</td>\n",
       "      <td>89.000000</td>\n",
       "      <td>88.000000</td>\n",
       "      <td>765.000000</td>\n",
       "      <td>5538.000000</td>\n",
       "      <td>1486.500000</td>\n",
       "      <td>278.000000</td>\n",
       "      <td>...</td>\n",
       "      <td>1484.000000</td>\n",
       "      <td>156.000000</td>\n",
       "      <td>567.000000</td>\n",
       "      <td>1012.500000</td>\n",
       "      <td>171.500000</td>\n",
       "      <td>161.000000</td>\n",
       "      <td>0.982000</td>\n",
       "      <td>2.108386e+06</td>\n",
       "      <td>103.000000</td>\n",
       "      <td>103.000000</td>\n",
       "    </tr>\n",
       "    <tr>\n",
       "      <th>max</th>\n",
       "      <td>2016.000000</td>\n",
       "      <td>12.000000</td>\n",
       "      <td>165.000000</td>\n",
       "      <td>84.000000</td>\n",
       "      <td>116.000000</td>\n",
       "      <td>120.000000</td>\n",
       "      <td>1067.000000</td>\n",
       "      <td>5781.000000</td>\n",
       "      <td>1783.000000</td>\n",
       "      <td>376.000000</td>\n",
       "      <td>...</td>\n",
       "      <td>1993.000000</td>\n",
       "      <td>258.000000</td>\n",
       "      <td>827.000000</td>\n",
       "      <td>1510.000000</td>\n",
       "      <td>565.000000</td>\n",
       "      <td>217.000000</td>\n",
       "      <td>0.991000</td>\n",
       "      <td>4.483350e+06</td>\n",
       "      <td>127.000000</td>\n",
       "      <td>127.000000</td>\n",
       "    </tr>\n",
       "  </tbody>\n",
       "</table>\n",
       "<p>8 rows × 35 columns</p>\n",
       "</div>"
      ],
      "text/plain": [
       "                 0            5            6            7            8  \\\n",
       "count  2287.000000  2287.000000  2287.000000  2265.000000  2287.000000   \n",
       "mean   1967.512462     3.925667   158.959773    79.503753    79.230433   \n",
       "std      33.207119     2.155926     3.764287     2.091990    13.045240   \n",
       "min    1892.000000     1.000000   150.000000    68.000000    36.000000   \n",
       "25%    1940.000000     2.000000   155.000000    78.000000    70.000000   \n",
       "50%    1972.000000     4.000000   162.000000    81.000000    80.000000   \n",
       "75%    1997.000000     5.000000   162.000000    81.000000    89.000000   \n",
       "max    2016.000000    12.000000   165.000000    84.000000   116.000000   \n",
       "\n",
       "                 9           14           15           16           17  \\\n",
       "count  2287.000000  2287.000000  2287.000000  2287.000000  2287.000000   \n",
       "mean     79.086139   700.365982  5414.390031  1414.773502   244.439440   \n",
       "std      13.024542   102.720336   172.157391   106.132452    45.846798   \n",
       "min      36.000000   371.000000  4768.000000  1044.000000   110.000000   \n",
       "25%      70.000000   634.000000  5297.500000  1348.000000   212.000000   \n",
       "50%      79.000000   698.000000  5457.000000  1413.000000   245.000000   \n",
       "75%      88.000000   765.000000  5538.000000  1486.500000   278.000000   \n",
       "max     120.000000  1067.000000  5781.000000  1783.000000   376.000000   \n",
       "\n",
       "          ...                33           34           35           36  \\\n",
       "count     ...       2287.000000  2287.000000  2287.000000  2287.000000   \n",
       "mean      ...       1414.184521   117.460866   513.413205   817.533887   \n",
       "std       ...        109.631025    51.877465    81.845625   258.356654   \n",
       "min       ...       1018.000000     5.000000   233.000000   281.000000   \n",
       "25%       ...       1343.000000    83.000000   462.000000   592.500000   \n",
       "50%       ...       1415.000000   124.000000   512.000000   834.000000   \n",
       "75%       ...       1484.000000   156.000000   567.000000  1012.500000   \n",
       "max       ...       1993.000000   258.000000   827.000000  1510.000000   \n",
       "\n",
       "                37           38           39            42           43  \\\n",
       "count  2287.000000  2265.000000  2287.000000  2.287000e+03  2287.000000   \n",
       "mean    151.546130   145.466667     0.975552  1.441997e+06   100.205509   \n",
       "std      57.949909    23.682023     0.008877  9.389702e+05     4.513778   \n",
       "min      54.000000    64.000000     0.913000  8.092200e+04    88.000000   \n",
       "25%     113.000000   132.000000     0.972000  6.419195e+05    97.000000   \n",
       "50%     137.000000   147.000000     0.978000  1.250722e+06   100.000000   \n",
       "75%     171.500000   161.000000     0.982000  2.108386e+06   103.000000   \n",
       "max     565.000000   217.000000     0.991000  4.483350e+06   127.000000   \n",
       "\n",
       "                44  \n",
       "count  2287.000000  \n",
       "mean    100.197202  \n",
       "std       4.563255  \n",
       "min      88.000000  \n",
       "25%      97.000000  \n",
       "50%     100.000000  \n",
       "75%     103.000000  \n",
       "max     127.000000  \n",
       "\n",
       "[8 rows x 35 columns]"
      ]
     },
     "execution_count": 115,
     "metadata": {},
     "output_type": "execute_result"
    }
   ],
   "source": [
    "#describe data\n",
    "teams_df.describe()"
   ]
  },
  {
   "cell_type": "markdown",
   "metadata": {},
   "source": [
    "### What this data means?\n",
    "\n",
    "Each of the columns contain data related to a specific team and year. Some of the more important variables are listed below.\n",
    "* yearID - Year\n",
    "* teamID - Team\n",
    "* franchID - Franchise (links to TeamsFranchise table)\n",
    "* G - Games played\n",
    "* W - Wins\n",
    "* LgWin - League Champion(Y or N)\n",
    "* WSWin - World Series Winner (Y or N)\n",
    "* R - Runs scored\n",
    "* AB - At bats\n",
    "* H - Hits by batters\n",
    "* HR - Homeruns by batters\n",
    "* BB - Walks by batters\n",
    "* SO - Strikeouts by batters\n",
    "* SB - Stolen bases\n",
    "* CS - Caught stealing\n",
    "* HBP - Batters hit by pitch\n",
    "* SF - Sacrifice flies\n",
    "* RA - Opponents runs scored\n",
    "* ER - Earned runs allowed\n",
    "* ERA - Earned run average\n",
    "* CG - Complete games\n",
    "* SHO - Shutouts\n",
    "* SV - Saves\n",
    "* IPOuts - Outs Pitched (innings pitched x 3)\n",
    "* HA - Hits allowed\n",
    "* HRA - Homeruns allowed\n",
    "* BBA - Walks allowed\n",
    "* SOA - Strikeouts by pitchers\n",
    "* E - Errors\n",
    "* DP - Double Plays\n",
    "* FP - Fielding percentage\n",
    "* name - Team’s full name\n"
   ]
  },
  {
   "cell_type": "code",
   "execution_count": 116,
   "metadata": {},
   "outputs": [
    {
     "name": "stdout",
     "output_type": "stream",
     "text": [
      "   yearID lgID teamID  franchID divID  Rank    G  Ghome   W   L   ...     \\\n",
      "0    1961   AL    LAA       ANA   NaN     8  162   82.0  70  91   ...      \n",
      "1    1962   AL    LAA       ANA   NaN     3  162   81.0  86  76   ...      \n",
      "2    1963   AL    LAA       ANA   NaN     9  161   81.0  70  91   ...      \n",
      "3    1964   AL    LAA       ANA   NaN     5  162   81.0  82  80   ...      \n",
      "4    1965   AL    CAL       ANA   NaN     7  162   80.0  75  87   ...      \n",
      "\n",
      "  attendance  BPF  PPF teamIDBR  teamIDlahman45  teamIDretro  franchID  \\\n",
      "0     603510  111  112      LAA             LAA          LAA       ANA   \n",
      "1    1144063   97   97      LAA             LAA          LAA       ANA   \n",
      "2     821015   94   94      LAA             LAA          LAA       ANA   \n",
      "3     760439   90   90      LAA             LAA          LAA       ANA   \n",
      "4     566727   97   98      CAL             CAL          CAL       ANA   \n",
      "\n",
      "                      franchName  active  NAassoc  \n",
      "0  Los Angeles Angels of Anaheim       Y      NaN  \n",
      "1  Los Angeles Angels of Anaheim       Y      NaN  \n",
      "2  Los Angeles Angels of Anaheim       Y      NaN  \n",
      "3  Los Angeles Angels of Anaheim       Y      NaN  \n",
      "4  Los Angeles Angels of Anaheim       Y      NaN  \n",
      "\n",
      "[5 rows x 52 columns]\n",
      "2287\n"
     ]
    }
   ],
   "source": [
    "# Adding column names to dataframe\n",
    "cols = ['yearID','lgID','teamID','franchID','divID','Rank','G','Ghome','W','L','DivWin','WCWin','LgWin','WSWin','R','AB','H','2B','3B','HR','BB','SO','SB','CS','HBP','SF','RA','ER','ERA','CG','SHO','SV','IPouts','HA','HRA','BBA','SOA','E','DP','FP','name','park','attendance','BPF','PPF','teamIDBR','teamIDlahman45','teamIDretro','franchID','franchName','active','NAassoc']\n",
    "teams_df.columns = cols\n",
    "\n",
    "# Print the first rows of `teams_df`\n",
    "print(teams_df.head())\n",
    "\n",
    "# Print the length of `teams_df`\n",
    "print(len(teams_df))"
   ]
  },
  {
   "cell_type": "code",
   "execution_count": 117,
   "metadata": {},
   "outputs": [
    {
     "name": "stdout",
     "output_type": "stream",
     "text": [
      "   yearID teamID    G   W    R    AB     H   2B  3B   HR  ...    SHO  SV  \\\n",
      "0    1961    LAA  162  70  744  5424  1331  218  22  189  ...      5  34   \n",
      "1    1962    LAA  162  86  718  5499  1377  232  35  137  ...     15  47   \n",
      "2    1963    LAA  161  70  597  5506  1378  208  38   95  ...     13  31   \n",
      "3    1964    LAA  162  82  544  5362  1297  186  27  102  ...     28  41   \n",
      "4    1965    CAL  162  75  527  5354  1279  200  36   92  ...     14  33   \n",
      "\n",
      "   IPouts    HA  HRA  BBA  SOA    E     DP     FP  \n",
      "0    4314  1391  180  713  973  192  154.0  0.969  \n",
      "1    4398  1412  118  616  858  175  153.0  0.972  \n",
      "2    4365  1317  120  578  889  163  155.0  0.974  \n",
      "3    4350  1273  100  530  965  138  168.0  0.978  \n",
      "4    4323  1259   91  563  847  123  149.0  0.981  \n",
      "\n",
      "[5 rows x 29 columns]\n"
     ]
    }
   ],
   "source": [
    "# Dropping your unnecesary column variables.\n",
    "drop_cols = ['lgID','franchID','divID','Rank','Ghome','L','DivWin','WCWin','LgWin','WSWin','SF','name','park','attendance','BPF','PPF','teamIDBR','teamIDlahman45','teamIDretro','franchID','franchName','active','NAassoc']\n",
    "df = teams_df.drop(drop_cols, axis=1)\n",
    "\n",
    "# Print out first rows of `df`\n",
    "print(df.head())"
   ]
  },
  {
   "cell_type": "code",
   "execution_count": 118,
   "metadata": {},
   "outputs": [
    {
     "name": "stdout",
     "output_type": "stream",
     "text": [
      "[0, 0, 0, 0, 0, 0, 0, 0, 0, 0, 0, 110, 0, 419, 1777, 0, 0, 0, 0, 0, 0, 0, 0, 0, 0, 0, 0, 22, 0]\n"
     ]
    }
   ],
   "source": [
    "# Print out the number of null values of all columns of `df`\n",
    "print(df.isnull().sum(axis=0).tolist())"
   ]
  },
  {
   "cell_type": "code",
   "execution_count": 119,
   "metadata": {},
   "outputs": [
    {
     "name": "stdout",
     "output_type": "stream",
     "text": [
      "[0, 0, 0, 0, 0, 0, 0, 0, 0, 0, 0, 0, 0, 0, 0, 0, 0, 0, 0, 0, 0, 0, 0, 0, 0, 0, 0]\n"
     ]
    }
   ],
   "source": [
    "# Eliminating columns with more than 100 null values ... in this case \"CS\" and \"BHP\"\n",
    "df = df.drop(['CS','HBP'], axis=1)\n",
    "\n",
    "# Filling null values of \"SO\" and \"DP\" using median\n",
    "df['SO'] = df['SO'].fillna(df['SO'].median())\n",
    "df['DP'] = df['DP'].fillna(df['DP'].median())\n",
    "\n",
    "# Print out null values of all columns of `df`\n",
    "print(df.isnull().sum(axis=0).tolist())"
   ]
  },
  {
   "cell_type": "code",
   "execution_count": 120,
   "metadata": {},
   "outputs": [
    {
     "data": {
      "image/png": "[encoded data removed]",
      "text/plain": [
       "<matplotlib.figure.Figure at 0x10fed8150>"
      ]
     },
     "metadata": {},
     "output_type": "display_data"
    }
   ],
   "source": [
    "# matplotlib plots inline  \n",
    "%matplotlib inline\n",
    "\n",
    "# Plotting Histogram of of \"W\"\n",
    "plt.hist(df['W'])\n",
    "plt.xlabel('Wins')\n",
    "plt.title('Distribution of Wins')\n",
    "\n",
    "plt.show()"
   ]
  },
  {
   "cell_type": "code",
   "execution_count": 121,
   "metadata": {},
   "outputs": [
    {
     "name": "stdout",
     "output_type": "stream",
     "text": [
      "79.2304328815\n"
     ]
    }
   ],
   "source": [
    "# Print mean of \"W\"\n",
    "print(df['W'].mean())"
   ]
  },
  {
   "cell_type": "code",
   "execution_count": 122,
   "metadata": {
    "collapsed": true
   },
   "outputs": [],
   "source": [
    "# Creating bins for the win column\n",
    "def assign_win_bins(W):\n",
    "    if W < 50:\n",
    "        return 1\n",
    "    if W >= 50 and W <= 69:\n",
    "        return 2\n",
    "    if W >= 70 and W <= 89:\n",
    "        return 3\n",
    "    if W >= 90 and W <= 109:\n",
    "        return 4\n",
    "    if W >= 110:\n",
    "        return 5\n",
    "    \n",
    "df['win_bins'] = df['W'].apply(assign_win_bins)"
   ]
  },
  {
   "cell_type": "code",
   "execution_count": 123,
   "metadata": {
    "collapsed": true
   },
   "outputs": [],
   "source": [
    "# Filter for rows where 'yearID' is greater than 1900\n",
    "df = df[df['yearID'] > 1900]"
   ]
  },
  {
   "cell_type": "code",
   "execution_count": 124,
   "metadata": {},
   "outputs": [
    {
     "name": "stdout",
     "output_type": "stream",
     "text": [
      "   yearID teamID    G   W    R    AB     H   2B  3B   HR  ...    win_bins  \\\n",
      "0    1961    LAA  162  70  744  5424  1331  218  22  189  ...           3   \n",
      "1    1962    LAA  162  86  718  5499  1377  232  35  137  ...           3   \n",
      "2    1963    LAA  161  70  597  5506  1378  208  38   95  ...           3   \n",
      "3    1964    LAA  162  82  544  5362  1297  186  27  102  ...           3   \n",
      "4    1965    CAL  162  75  527  5354  1279  200  36   92  ...           3   \n",
      "\n",
      "   year_label  era_1  era_2  era_3  era_4  era_5  era_6  era_7  era_8  \n",
      "0           4      0      0      0      1      0      0      0      0  \n",
      "1           4      0      0      0      1      0      0      0      0  \n",
      "2           5      0      0      0      0      1      0      0      0  \n",
      "3           5      0      0      0      0      1      0      0      0  \n",
      "4           5      0      0      0      0      1      0      0      0  \n",
      "\n",
      "[5 rows x 37 columns]\n"
     ]
    }
   ],
   "source": [
    "# Creating \"year_label\" column, which will give your algorithm information about how certain years are related \n",
    "# (Dead ball eras, Live ball/Steroid Eras)\n",
    "\n",
    "def assign_label(year):\n",
    "    if year < 1920:\n",
    "        return 1\n",
    "    elif year >= 1920 and year <= 1941:\n",
    "        return 2\n",
    "    elif year >= 1942 and year <= 1945:\n",
    "        return 3\n",
    "    elif year >= 1946 and year <= 1962:\n",
    "        return 4\n",
    "    elif year >= 1963 and year <= 1976:\n",
    "        return 5\n",
    "    elif year >= 1977 and year <= 1992:\n",
    "        return 6\n",
    "    elif year >= 1993 and year <= 2009:\n",
    "        return 7\n",
    "    elif year >= 2010:\n",
    "        return 8\n",
    "        \n",
    "# Add `year_label` column to `df`    \n",
    "df['year_label'] = df['yearID'].apply(assign_label)\n",
    "\n",
    "dummy_df = pd.get_dummies(df['year_label'], prefix='era')\n",
    "\n",
    "# Concatenate `df` and `dummy_df`\n",
    "df = pd.concat([df, dummy_df], axis=1)\n",
    "\n",
    "print(df.head())"
   ]
  },
  {
   "cell_type": "code",
   "execution_count": 125,
   "metadata": {
    "collapsed": true
   },
   "outputs": [],
   "source": [
    "# Convert years into decade bins and creating dummy variables\n",
    "def assign_decade(year):\n",
    "    if year < 1920:\n",
    "        return 1910\n",
    "    elif year >= 1920 and year <= 1929:\n",
    "        return 1920\n",
    "    elif year >= 1930 and year <= 1939:\n",
    "        return 1930\n",
    "    elif year >= 1940 and year <= 1949:\n",
    "        return 1940\n",
    "    elif year >= 1950 and year <= 1959:\n",
    "        return 1950\n",
    "    elif year >= 1960 and year <= 1969:\n",
    "        return 1960\n",
    "    elif year >= 1970 and year <= 1979:\n",
    "        return 1970\n",
    "    elif year >= 1980 and year <= 1989:\n",
    "        return 1980\n",
    "    elif year >= 1990 and year <= 1999:\n",
    "        return 1990\n",
    "    elif year >= 2000 and year <= 2009:\n",
    "        return 2000\n",
    "    elif year >= 2010:\n",
    "        return 2010\n",
    "    \n",
    "df['decade_label'] = df['yearID'].apply(assign_decade)\n",
    "decade_df = pd.get_dummies(df['decade_label'], prefix='decade')\n",
    "df = pd.concat([df, decade_df], axis=1)\n",
    "\n",
    "# Drop unnecessary columns\n",
    "df = df.drop(['yearID','year_label','decade_label'], axis=1)"
   ]
  },
  {
   "cell_type": "code",
   "execution_count": 126,
   "metadata": {
    "collapsed": true
   },
   "outputs": [],
   "source": [
    "# Create new features for Runs per Game and Runs Allowed per Game\n",
    "df['R_per_game'] = df['R'] / df['G']\n",
    "df['RA_per_game'] = df['RA'] / df['G']"
   ]
  },
  {
   "cell_type": "code",
   "execution_count": 127,
   "metadata": {},
   "outputs": [
    {
     "data": {
      "image/png": "[encoded data removed]",
      "text/plain": [
       "<matplotlib.figure.Figure at 0x104504b90>"
      ]
     },
     "metadata": {},
     "output_type": "display_data"
    }
   ],
   "source": [
    "# Create scatter plots for runs per game vs. wins and runs allowed per game vs. wins\n",
    "fig = plt.figure(figsize=(12, 6))\n",
    "\n",
    "ax1 = fig.add_subplot(1,2,1)\n",
    "ax2 = fig.add_subplot(1,2,2)\n",
    "\n",
    "ax1.scatter(df['R_per_game'], df['W'], c='blue')\n",
    "ax1.set_title('Runs per Game vs. Wins')\n",
    "ax1.set_ylabel('Wins')\n",
    "ax1.set_xlabel('Runs per Game')\n",
    "\n",
    "ax2.scatter(df['RA_per_game'], df['W'], c='red')\n",
    "ax2.set_title('Runs Allowed per Game vs. Wins')\n",
    "ax2.set_xlabel('Runs Allowed per Game')\n",
    "\n",
    "plt.show()"
   ]
  },
  {
   "cell_type": "code",
   "execution_count": 128,
   "metadata": {},
   "outputs": [
    {
     "data": {
      "text/plain": [
       "W             1.000000\n",
       "win_bins      0.912545\n",
       "R             0.551504\n",
       "R_per_game    0.528489\n",
       "SHO           0.426892\n",
       "SV            0.382174\n",
       "H             0.380281\n",
       "BB            0.345348\n",
       "IPouts        0.326087\n",
       "FP            0.319597\n",
       "Name: W, dtype: float64"
      ]
     },
     "execution_count": 128,
     "metadata": {},
     "output_type": "execute_result"
    }
   ],
   "source": [
    "df.corr()['W'].nlargest(10)"
   ]
  },
  {
   "cell_type": "code",
   "execution_count": 129,
   "metadata": {},
   "outputs": [
    {
     "data": {
      "text/plain": [
       "(2265, 48)"
      ]
     },
     "execution_count": 129,
     "metadata": {},
     "output_type": "execute_result"
    }
   ],
   "source": [
    "df.shape"
   ]
  },
  {
   "cell_type": "markdown",
   "metadata": {},
   "source": [
    "## Part B: Modeling"
   ]
  },
  {
   "cell_type": "markdown",
   "metadata": {},
   "source": [
    "### Create and compare different models to predict \"W\" in function of other inputs."
   ]
  },
  {
   "cell_type": "code",
   "execution_count": 130,
   "metadata": {},
   "outputs": [
    {
     "name": "stdout",
     "output_type": "stream",
     "text": [
      "(1585, 45) (680, 45) (1585,) (1585,)\n"
     ]
    }
   ],
   "source": [
    "# Create new DataFrame using only variables to be included in models\n",
    "numeric_cols = ['G','R','AB','H','2B','3B','HR','BB','SO','SB','RA','ER','ERA','CG','SHO','SV','IPouts','HA','HRA','BBA','SOA','E','DP','FP','era_1','era_2','era_3','era_4','era_5','era_6','era_7','era_8','decade_1910','decade_1920','decade_1930','decade_1940','decade_1950','decade_1960','decade_1970','decade_1980','decade_1990','decade_2000','decade_2010','R_per_game','RA_per_game']\n",
    "X = df[numeric_cols]\n",
    "y = df['W']\n",
    "\n",
    "# Create X_train, X_test, y_train, y_test (25% tesing anf 75% training/validation)\n",
    "X_train, X_test, y_train, y_test = train_test_split(X, y, test_size=.30, random_state=42)\n",
    "# print shapes of X_train, X_test, y_train, y_test \n",
    "print (X_train.shape),\n",
    "print (X_test.shape),\n",
    "print (y_train.shape),\n",
    "print (y_train.shape)"
   ]
  },
  {
   "cell_type": "code",
   "execution_count": 131,
   "metadata": {},
   "outputs": [
    {
     "name": "stdout",
     "output_type": "stream",
     "text": [
      "2.87908144466\n"
     ]
    }
   ],
   "source": [
    "# Create 3 models: OLS, Ridge (default hyperparameters), and Lasso (default hyperparameters) \n",
    "# where you train the model on Training Data and test it on Testing Data.\n",
    "# Print out the MSE and R2 values of each model.\n",
    "from sklearn.linear_model import LinearRegression\n",
    "linreg = LinearRegression()\n",
    "linreg.fit(X_train, y_train)\n",
    "y_pred = linreg.predict(X_test)\n",
    "\n",
    "print(metrics.mean_absolute_error(y_test, y_pred))"
   ]
  },
  {
   "cell_type": "code",
   "execution_count": 132,
   "metadata": {},
   "outputs": [
    {
     "name": "stdout",
     "output_type": "stream",
     "text": [
      "~~~ OLS ~~~\n",
      "OLS MSE:  12.850743611\n",
      "OLS R2: 0.932153182057\n",
      "~~~ Lasso ~~~\n",
      "Lasso MSE:  12.850743611\n",
      "Lasso R2: 0.932153182057\n",
      "~~~ Ridge ~~~\n",
      "Ridge MSE:  12.850743611\n",
      "Ridge R2: 0.932153182057\n"
     ]
    }
   ],
   "source": [
    "\n",
    "lmLinear = linear_model.LinearRegression().fit(X_train, y_train)\n",
    "print \"~~~ OLS ~~~\"\n",
    "print 'OLS MSE: ', metrics.mean_squared_error(y_test, lm.predict(X_test))\n",
    "print 'OLS R2:', lm.score(X_train, y_train)\n",
    "\n",
    "lmLasso = linear_model.Lasso().fit(X_train, y_train)\n",
    "print \"~~~ Lasso ~~~\"\n",
    "print 'Lasso MSE: ', metrics.mean_squared_error(y_test, lm.predict(X_test))\n",
    "print 'Lasso R2:', lm.score(X_train, y_train)\n",
    "\n",
    "lmRidge = linear_model.Ridge().fit(X_train, y_train)\n",
    "print \"~~~ Ridge ~~~\"\n",
    "print 'Ridge MSE: ', metrics.mean_squared_error(y_test, lm.predict(X_test))\n",
    "print 'Ridge R2:', lm.score(X_train, y_train)"
   ]
  },
  {
   "cell_type": "markdown",
   "metadata": {},
   "source": [
    "#### Which model was the best?\n",
    "Answer: OLS"
   ]
  },
  {
   "cell_type": "code",
   "execution_count": 133,
   "metadata": {},
   "outputs": [
    {
     "data": {
      "text/plain": [
       "Lasso(alpha=1.0, copy_X=True, fit_intercept=True, max_iter=1000,\n",
       "   normalize=False, positive=False, precompute=False, random_state=None,\n",
       "   selection='cyclic', tol=0.0001, warm_start=False)"
      ]
     },
     "execution_count": 133,
     "metadata": {},
     "output_type": "execute_result"
    }
   ],
   "source": [
    "# What are the properties (hyperparameters) of trained Lasso Regression\n",
    "lmLasso"
   ]
  },
  {
   "cell_type": "code",
   "execution_count": 134,
   "metadata": {},
   "outputs": [
    {
     "data": {
      "text/plain": [
       "Ridge(alpha=1.0, copy_X=True, fit_intercept=True, max_iter=None,\n",
       "   normalize=False, random_state=None, solver='auto', tol=0.001)"
      ]
     },
     "execution_count": 134,
     "metadata": {},
     "output_type": "execute_result"
    }
   ],
   "source": [
    "# What are the properties (hyperparameters) of trained Ridge Regression\n",
    "lmRidge"
   ]
  },
  {
   "cell_type": "code",
   "execution_count": 135,
   "metadata": {
    "collapsed": true
   },
   "outputs": [],
   "source": [
    "from sklearn import grid_search\n",
    "import numpy as np\n",
    "import warnings\n",
    "warnings.filterwarnings('ignore')"
   ]
  },
  {
   "cell_type": "code",
   "execution_count": 136,
   "metadata": {},
   "outputs": [
    {
     "data": {
      "text/plain": [
       "GridSearchCV(cv=5, error_score='raise',\n",
       "       estimator=Lasso(alpha=1.0, copy_X=True, fit_intercept=True, max_iter=1000,\n",
       "   normalize=False, positive=False, precompute=False, random_state=None,\n",
       "   selection='cyclic', tol=0.0001, warm_start=False),\n",
       "       fit_params={}, iid=True, n_jobs=1,\n",
       "       param_grid={'alpha': array([  1.00000e-10,   1.00000e-09,   1.00000e-08,   1.00000e-07,\n",
       "         1.00000e-06,   1.00000e-05,   1.00000e-04,   1.00000e-03,\n",
       "         1.00000e-02,   1.00000e-01,   1.00000e+00,   1.00000e+01,\n",
       "         1.00000e+02,   1.00000e+03,   1.00000e+04,   1.00000e+05,\n",
       "         1.00000e+06,   1.00000e+07,   1.00000e+08,   1.00000e+09,\n",
       "         1.00000e+10])},\n",
       "       pre_dispatch='2*n_jobs', refit=True, scoring='mean_squared_error',\n",
       "       verbose=0)"
      ]
     },
     "execution_count": 136,
     "metadata": {},
     "output_type": "execute_result"
    }
   ],
   "source": [
    "# Create Grid Search to find the best \"alpha\" and \"normalize\" hyperparameters\n",
    "# for Lasso Regression. Print out the best estimators and best scores\n",
    "# Use Grid Search with CV = 5\n",
    "alphas = np.logspace(-10, 10, 21)\n",
    "gsLasso = grid_search.GridSearchCV(\n",
    "    estimator=linear_model.Lasso(),\n",
    "    param_grid={'alpha': alphas},\n",
    "    cv=5,\n",
    "    scoring='mean_squared_error')\n",
    "\n",
    "gsLasso.fit(X_train, y_train)"
   ]
  },
  {
   "cell_type": "code",
   "execution_count": 137,
   "metadata": {},
   "outputs": [
    {
     "data": {
      "text/plain": [
       "-12.28690434635684"
      ]
     },
     "execution_count": 137,
     "metadata": {},
     "output_type": "execute_result"
    }
   ],
   "source": [
    "gsLasso.best_score_"
   ]
  },
  {
   "cell_type": "code",
   "execution_count": 138,
   "metadata": {},
   "outputs": [
    {
     "data": {
      "text/plain": [
       "Lasso(alpha=0.01, copy_X=True, fit_intercept=True, max_iter=1000,\n",
       "   normalize=False, positive=False, precompute=False, random_state=None,\n",
       "   selection='cyclic', tol=0.0001, warm_start=False)"
      ]
     },
     "execution_count": 138,
     "metadata": {},
     "output_type": "execute_result"
    }
   ],
   "source": [
    "gsLasso.best_estimator_"
   ]
  },
  {
   "cell_type": "code",
   "execution_count": 139,
   "metadata": {},
   "outputs": [
    {
     "data": {
      "text/plain": [
       "GridSearchCV(cv=5, error_score='raise',\n",
       "       estimator=Ridge(alpha=1.0, copy_X=True, fit_intercept=True, max_iter=None,\n",
       "   normalize=False, random_state=None, solver='auto', tol=0.001),\n",
       "       fit_params={}, iid=True, n_jobs=1,\n",
       "       param_grid={'alpha': array([  1.00000e-10,   1.00000e-09,   1.00000e-08,   1.00000e-07,\n",
       "         1.00000e-06,   1.00000e-05,   1.00000e-04,   1.00000e-03,\n",
       "         1.00000e-02,   1.00000e-01,   1.00000e+00,   1.00000e+01,\n",
       "         1.00000e+02,   1.00000e+03,   1.00000e+04,   1.00000e+05,\n",
       "         1.00000e+06,   1.00000e+07,   1.00000e+08,   1.00000e+09,\n",
       "         1.00000e+10])},\n",
       "       pre_dispatch='2*n_jobs', refit=True, scoring='mean_squared_error',\n",
       "       verbose=0)"
      ]
     },
     "execution_count": 139,
     "metadata": {},
     "output_type": "execute_result"
    }
   ],
   "source": [
    "# Create Grid Search to find the best \"alpha\" and \"normalize\" hyperparameters\n",
    "# for Ridge Regression. Print out the best estimators and best scores. \n",
    "# Use Grid Search with CV = 5\n",
    "alphas = np.logspace(-10, 10, 21)\n",
    "gsRidge = grid_search.GridSearchCV(\n",
    "    estimator=linear_model.Ridge(),\n",
    "    param_grid={'alpha': alphas},\n",
    "    cv=5,\n",
    "    scoring='mean_squared_error')\n",
    "\n",
    "gsRidge.fit(X_train, y_train)"
   ]
  },
  {
   "cell_type": "code",
   "execution_count": 140,
   "metadata": {},
   "outputs": [
    {
     "data": {
      "text/plain": [
       "-12.278900276986729"
      ]
     },
     "execution_count": 140,
     "metadata": {},
     "output_type": "execute_result"
    }
   ],
   "source": [
    "gsRidge.best_score_"
   ]
  },
  {
   "cell_type": "code",
   "execution_count": 142,
   "metadata": {},
   "outputs": [
    {
     "data": {
      "text/plain": [
       "Ridge(alpha=10.0, copy_X=True, fit_intercept=True, max_iter=None,\n",
       "   normalize=False, random_state=None, solver='auto', tol=0.001)"
      ]
     },
     "execution_count": 142,
     "metadata": {},
     "output_type": "execute_result"
    }
   ],
   "source": [
    "gsRidge.best_estimator_"
   ]
  },
  {
   "cell_type": "code",
   "execution_count": 143,
   "metadata": {},
   "outputs": [
    {
     "name": "stdout",
     "output_type": "stream",
     "text": [
      "r2 / variance :  0.927203671798\n",
      "Residual sum of squares: 12.84\n"
     ]
    }
   ],
   "source": [
    "model = linear_model.LinearRegression()\n",
    "parameters = {'fit_intercept':[True,False], 'normalize':[True,False], 'copy_X':[True, False]}\n",
    "\n",
    "gsOLS = GridSearchCV(model,parameters, cv=5)\n",
    "gsOLS.fit(X_train, y_train)\n",
    "print \"r2 / variance : \", gsOLS.best_score_\n",
    "print(\"Residual sum of squares: %.2f\"\n",
    "              % np.mean((gsOLS.predict(X_test) - y_test) ** 2))"
   ]
  },
  {
   "cell_type": "code",
   "execution_count": 153,
   "metadata": {},
   "outputs": [
    {
     "name": "stdout",
     "output_type": "stream",
     "text": [
      "~~~ ~~~\n",
      "~~~ GridSearch OLS ~~~\n",
      "OLS MSE:  12.8448059795\n",
      "OLS R2: 0.932153182057\n",
      "~~~ ~~~\n",
      "~~~ GridSearch Lasso ~~~\n",
      "Lasso MSE:  12.7324290013\n",
      "Lasso R2: 0.932153182057\n",
      "~~~ ~~~\n",
      "~~~ GridSearch Ridge ~~~\n",
      "Ridge MSE:  12.7937576751\n",
      "Ridge R2: 0.932153182057\n"
     ]
    }
   ],
   "source": [
    "# Which model was the best out of OLS, Lasso, and Ridge? What was its R2 and MSE values?\n",
    "# gsOLS = linear_model.Lasso().fit(X_train, y_train)\n",
    "print \"~~~ ~~~\"\n",
    "print \"~~~ GridSearch OLS ~~~\"\n",
    "print 'OLS MSE: ', metrics.mean_squared_error(y_test, gsOLS.predict(X_test))\n",
    "print 'OLS R2:', lm.score(X_train, y_train)\n",
    "\n",
    "# gsLasso = linear_model.Lasso().fit(X_train, y_train)\n",
    "print \"~~~ ~~~\"\n",
    "print \"~~~ GridSearch Lasso ~~~\"\n",
    "print 'Lasso MSE: ', metrics.mean_squared_error(y_test, gsLasso.predict(X_test))\n",
    "print 'Lasso R2:', lm.score(X_train, y_train)\n",
    "\n",
    "# gsRidge = linear_model.Ridge().fit(X_train, y_train)\n",
    "print \"~~~ ~~~\"\n",
    "print \"~~~ GridSearch Ridge ~~~\"\n",
    "print 'Ridge MSE: ', metrics.mean_squared_error(y_test, gsRidge.predict(X_test))\n",
    "print 'Ridge R2:', lm.score(X_train, y_train)"
   ]
  },
  {
   "cell_type": "code",
   "execution_count": 156,
   "metadata": {},
   "outputs": [
    {
     "data": {
      "image/png": "[encoded data removed]",
      "text/plain": [
       "<matplotlib.figure.Figure at 0x11562da10>"
      ]
     },
     "metadata": {},
     "output_type": "display_data"
    }
   ],
   "source": [
    "# Plot a scatterplot of \"Real Values\" vs \"Predicted Values\" of the best performing model\n",
    "# Lasso is the winner, since it has the lowest MSE and r2 is a three-way tie\n",
    "\n",
    "plt.scatter(y_test, \n",
    "            gsLasso.predict(X_test), \n",
    "            marker='+', \n",
    "            color='g',\n",
    "            s=200,\n",
    "            label='Real vs Predicted')"
   ]
  },
  {
   "cell_type": "code",
   "execution_count": 157,
   "metadata": {},
   "outputs": [
    {
     "data": {
      "text/plain": [
       "[<matplotlib.lines.Line2D at 0x11562d290>]"
      ]
     },
     "execution_count": 157,
     "metadata": {},
     "output_type": "execute_result"
    },
    {
     "data": {
      "image/png": "[encoded data removed]",
      "text/plain": [
       "<matplotlib.figure.Figure at 0x11562d910>"
      ]
     },
     "metadata": {},
     "output_type": "display_data"
    }
   ],
   "source": [
    "plt.plot([y_test.min(), y_test.max()], [y_test.min(), y_test.max()], 'k--', lw=4)"
   ]
  },
  {
   "cell_type": "code",
   "execution_count": 161,
   "metadata": {},
   "outputs": [
    {
     "data": {
      "text/plain": [
       "<matplotlib.collections.PathCollection at 0x1161eed90>"
      ]
     },
     "execution_count": 161,
     "metadata": {},
     "output_type": "execute_result"
    },
    {
     "data": {
      "image/png": "[encoded data removed]",
      "text/plain": [
       "<matplotlib.figure.Figure at 0x1160fa310>"
      ]
     },
     "metadata": {},
     "output_type": "display_data"
    }
   ],
   "source": [
    "plt.scatter(y_test, gsLasso.predict(X_test), marker='+')"
   ]
  },
  {
   "cell_type": "code",
   "execution_count": null,
   "metadata": {
    "collapsed": true
   },
   "outputs": [],
   "source": []
  }
 ],
 "metadata": {
  "kernelspec": {
   "display_name": "Python 2",
   "language": "python",
   "name": "python2"
  },
  "language_info": {
   "codemirror_mode": {
    "name": "ipython",
    "version": 2
   },
   "file_extension": ".py",
   "mimetype": "text/x-python",
   "name": "python",
   "nbconvert_exporter": "python",
   "pygments_lexer": "ipython2",
   "version": "2.7.13"
  }
 },
 "nbformat": 4,
 "nbformat_minor": 2
}
