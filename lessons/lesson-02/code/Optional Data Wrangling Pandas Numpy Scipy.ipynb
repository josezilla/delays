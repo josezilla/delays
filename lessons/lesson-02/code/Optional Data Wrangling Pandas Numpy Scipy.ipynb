{
 "cells": [
  {
   "cell_type": "markdown",
   "metadata": {},
   "source": [
    "Simple Exploration with Pandas\n",
    "-----------------------------"
   ]
  },
  {
   "cell_type": "code",
   "execution_count": 1,
   "metadata": {},
   "outputs": [
    {
     "name": "stdout",
     "output_type": "stream",
     "text": [
      "result of creating a dataframe\n",
      "   Column1  Column2\n",
      "0        1       11\n",
      "1        2       22\n",
      "2        3       33\n",
      "3        4       44\n",
      "4        5       55\n",
      "5        6       66\n"
     ]
    }
   ],
   "source": [
    "import pandas as pd\n",
    "\n",
    "# read a csv file\n",
    "# data = pd.read_table('C:/datafile.csv',sep=',')\n",
    "\n",
    "# create a dataframe from scratch\n",
    "\n",
    "dictionarydata = {'Column1' : [1,2,3,4,5,6], 'Column2' : [11,22,33,44,55,66]}\n",
    "data = pd.DataFrame(dictionarydata)\n",
    "print 'result of creating a dataframe'\n",
    "print data"
   ]
  },
  {
   "cell_type": "code",
   "execution_count": 2,
   "metadata": {},
   "outputs": [
    {
     "name": "stdout",
     "output_type": "stream",
     "text": [
      "\n",
      "result of getting first column\n",
      "0    1\n",
      "1    2\n",
      "2    3\n",
      "3    4\n",
      "4    5\n",
      "5    6\n",
      "Name: Column1, dtype: int64\n"
     ]
    }
   ],
   "source": [
    "# give me just the first column data\n",
    "# since it is only one column it returns what is called a dataseries\n",
    "data1 = data['Column1']\n",
    "print '\\nresult of getting first column' # using \\n in front puts a empty space between prints\n",
    "print data1"
   ]
  },
  {
   "cell_type": "code",
   "execution_count": 3,
   "metadata": {
    "scrolled": true
   },
   "outputs": [
    {
     "name": "stdout",
     "output_type": "stream",
     "text": [
      "\n",
      "result of getting second column\n",
      "0    11\n",
      "1    22\n",
      "2    33\n",
      "3    44\n",
      "4    55\n",
      "5    66\n",
      "Name: Column2, dtype: int64\n"
     ]
    }
   ],
   "source": [
    "# give me only the other column\n",
    "data2 = data['Column2']\n",
    "print '\\nresult of getting second column'\n",
    "print data2"
   ]
  },
  {
   "cell_type": "code",
   "execution_count": 4,
   "metadata": {},
   "outputs": [
    {
     "name": "stdout",
     "output_type": "stream",
     "text": [
      "\n",
      "give me the third row\n",
      "Column1     3\n",
      "Column2    33\n",
      "Name: 2, dtype: int64\n"
     ]
    }
   ],
   "source": [
    "# give me just the 3rd row\n",
    "data3 = data.loc[2]\n",
    "print '\\ngive me the third row'\n",
    "print data3"
   ]
  },
  {
   "cell_type": "code",
   "execution_count": 5,
   "metadata": {},
   "outputs": [
    {
     "name": "stdout",
     "output_type": "stream",
     "text": [
      "\n",
      "show the column names\n",
      "Index([u'Column1', u'Column2'], dtype='object')\n"
     ]
    }
   ],
   "source": [
    "# show me the column names\n",
    "print '\\nshow the column names'\n",
    "print data.columns"
   ]
  },
  {
   "cell_type": "code",
   "execution_count": 6,
   "metadata": {},
   "outputs": [
    {
     "name": "stdout",
     "output_type": "stream",
     "text": [
      "\n",
      "show the indexes\n",
      "RangeIndex(start=0, stop=6, step=1)\n"
     ]
    }
   ],
   "source": [
    "# show me the row indexes\n",
    "print '\\nshow the indexes'\n",
    "print data.index"
   ]
  },
  {
   "cell_type": "code",
   "execution_count": 7,
   "metadata": {},
   "outputs": [
    {
     "name": "stdout",
     "output_type": "stream",
     "text": [
      "\n",
      "creating a new column with ones\n",
      "   Column1  Column2  Column3\n",
      "0        1       11        1\n",
      "1        2       22        1\n",
      "2        3       33        1\n",
      "3        4       44        1\n",
      "4        5       55        1\n",
      "5        6       66        1\n"
     ]
    }
   ],
   "source": [
    "# give me a new column and fill it with ones\n",
    "data['Column3'] = 1\n",
    "print '\\ncreating a new column with ones'\n",
    "print data"
   ]
  },
  {
   "cell_type": "code",
   "execution_count": 8,
   "metadata": {},
   "outputs": [
    {
     "name": "stdout",
     "output_type": "stream",
     "text": [
      "\n",
      "create a new column that is the multiplication of the first two columns\n",
      "   Column1  Column2  Column3  Column4\n",
      "0        1       11        1       11\n",
      "1        2       22        1       44\n",
      "2        3       33        1       99\n",
      "3        4       44        1      176\n",
      "4        5       55        1      275\n",
      "5        6       66        1      396\n"
     ]
    }
   ],
   "source": [
    "# give me a new column by multiplying the first and second columns together\n",
    "data['Column4'] = data['Column1']*data['Column2']\n",
    "print '\\ncreate a new column that is the multiplication of the first two columns'\n",
    "print data"
   ]
  },
  {
   "cell_type": "code",
   "execution_count": 9,
   "metadata": {},
   "outputs": [
    {
     "name": "stdout",
     "output_type": "stream",
     "text": [
      "\n",
      "create a new column using a function that operates a row at a time\n",
      "   Column1  Column2  Column3  Column4  Column5\n",
      "0        1       11        1       11       11\n",
      "1        2       22        1       44       23\n",
      "2        3       33        1       99       35\n",
      "3        4       44        1      176       47\n",
      "4        5       55        1      275       59\n",
      "5        6       66        1      396       71\n"
     ]
    }
   ],
   "source": [
    "# you can also create a new column using a function\n",
    "def func1(data_row):\n",
    "    return data_row['Column1'] + data_row['Column2'] - data_row['Column3']\n",
    "print '\\ncreate a new column using a function that operates a row at a time'\n",
    "data['Column5'] = data.apply(func1,axis=1)\n",
    "print data"
   ]
  },
  {
   "cell_type": "code",
   "execution_count": 10,
   "metadata": {},
   "outputs": [
    {
     "name": "stdout",
     "output_type": "stream",
     "text": [
      "\n",
      "summary statistics for each column\n",
      "        Column1    Column2  Column3     Column4    Column5\n",
      "count  6.000000   6.000000      6.0    6.000000   6.000000\n",
      "mean   3.500000  38.500000      1.0  166.833333  41.000000\n",
      "std    1.870829  20.579116      0.0  147.156266  22.449944\n",
      "min    1.000000  11.000000      1.0   11.000000  11.000000\n",
      "25%    2.250000  24.750000      1.0   57.750000  26.000000\n",
      "50%    3.500000  38.500000      1.0  137.500000  41.000000\n",
      "75%    4.750000  52.250000      1.0  250.250000  56.000000\n",
      "max    6.000000  66.000000      1.0  396.000000  71.000000\n"
     ]
    }
   ],
   "source": [
    "# you can also get the summary statistics of the data\n",
    "print '\\nsummary statistics for each column'\n",
    "print data.describe()"
   ]
  },
  {
   "cell_type": "code",
   "execution_count": 11,
   "metadata": {},
   "outputs": [
    {
     "name": "stdout",
     "output_type": "stream",
     "text": [
      "\n",
      "show me the first few rows\n",
      "   Column1  Column2  Column3  Column4  Column5\n",
      "0        1       11        1       11       11\n",
      "1        2       22        1       44       23\n",
      "2        3       33        1       99       35\n",
      "3        4       44        1      176       47\n",
      "4        5       55        1      275       59\n"
     ]
    }
   ],
   "source": [
    "# you can show just the first few rows\n",
    "print '\\nshow me the first few rows'\n",
    "print data.head()"
   ]
  },
  {
   "cell_type": "code",
   "execution_count": 12,
   "metadata": {},
   "outputs": [
    {
     "name": "stdout",
     "output_type": "stream",
     "text": [
      "\n",
      "show me the last few rows\n",
      "   Column1  Column2  Column3  Column4  Column5\n",
      "1        2       22        1       44       23\n",
      "2        3       33        1       99       35\n",
      "3        4       44        1      176       47\n",
      "4        5       55        1      275       59\n",
      "5        6       66        1      396       71\n"
     ]
    }
   ],
   "source": [
    "# you can show just the last few rows\n",
    "print '\\nshow me the last few rows'\n",
    "print data.tail()"
   ]
  },
  {
   "cell_type": "code",
   "execution_count": 13,
   "metadata": {},
   "outputs": [
    {
     "name": "stdout",
     "output_type": "stream",
     "text": [
      "\n",
      "merging two dataframes\n",
      "first dataframe\n",
      "   a  b\n",
      "0  1  1\n",
      "1  2  3\n",
      "2  3  5\n",
      "second dataframe\n",
      "   a  c\n",
      "0  1  3\n",
      "1  3  3\n",
      "merged dataframe1 with dataframe2\n",
      "   a  b    c\n",
      "0  1  1  3.0\n",
      "1  2  3  NaN\n",
      "2  3  5  3.0\n"
     ]
    }
   ],
   "source": [
    "# you can merge / join two dataframes\n",
    "dataframe1 = pd.DataFrame({'a' : [1,2,3], 'b' : [1,3,5]})\n",
    "dataframe2 = pd.DataFrame({'a' : [1,3], 'c' : [3,3]})\n",
    "dataframe3 = dataframe1.merge(dataframe2, on=['a'], how='left')\n",
    "print '\\nmerging two dataframes'\n",
    "print 'first dataframe'\n",
    "print dataframe1\n",
    "print 'second dataframe'\n",
    "print dataframe2\n",
    "print 'merged dataframe1 with dataframe2'\n",
    "print dataframe3\n",
    "# notice how dataframe3 has a NaN (not a number) since there was no 2 value in the 'a' column of dataframe2 "
   ]
  },
  {
   "cell_type": "code",
   "execution_count": 14,
   "metadata": {},
   "outputs": [
    {
     "name": "stdout",
     "output_type": "stream",
     "text": [
      "\n",
      " merging two dataframes again\n",
      "first dataframe\n",
      "   Column1  Column2  Column3  Column4  Column5\n",
      "0        1       11        1       11       11\n",
      "1        2       22        1       44       23\n",
      "2        3       33        1       99       35\n",
      "3        4       44        1      176       47\n",
      "4        5       55        1      275       59\n",
      "5        6       66        1      396       71\n",
      "second dataframe\n",
      "   a  b    c\n",
      "0  1  1  3.0\n",
      "1  2  3  NaN\n",
      "2  3  5  3.0\n",
      "merged data with dataframe3 on index column\n",
      "   Column1  Column2  Column3  Column4  Column5    a    b    c\n",
      "0        1       11        1       11       11  1.0  1.0  3.0\n",
      "1        2       22        1       44       23  2.0  3.0  NaN\n",
      "2        3       33        1       99       35  3.0  5.0  3.0\n",
      "3        4       44        1      176       47  NaN  NaN  NaN\n",
      "4        5       55        1      275       59  NaN  NaN  NaN\n",
      "5        6       66        1      396       71  NaN  NaN  NaN\n"
     ]
    }
   ],
   "source": [
    "# lets merge data with dataframe3 on the index column\n",
    "dataframe4 = data.merge(dataframe3,how='left',left_index=True,right_index=True)\n",
    "print '\\n merging two dataframes again'\n",
    "print 'first dataframe'\n",
    "print data\n",
    "print 'second dataframe'\n",
    "print dataframe3\n",
    "print 'merged data with dataframe3 on index column'\n",
    "print dataframe4"
   ]
  },
  {
   "cell_type": "code",
   "execution_count": 15,
   "metadata": {},
   "outputs": [
    {
     "name": "stdout",
     "output_type": "stream",
     "text": [
      "\n",
      "new data column with strings\n",
      "   Column1  Column2  Column3  Column4  Column5    a    b    c newcolumn\n",
      "0        1       11        1       11       11  1.0  1.0  3.0     mocha\n",
      "1        2       22        1       44       23  2.0  3.0  NaN    cherry\n",
      "2        3       33        1       99       35  3.0  5.0  3.0     mocha\n",
      "3        4       44        1      176       47  NaN  NaN  NaN      corn\n",
      "4        5       55        1      275       59  NaN  NaN  NaN      rice\n",
      "5        6       66        1      396       71  NaN  NaN  NaN   chicken\n"
     ]
    }
   ],
   "source": [
    "# lets add a new column with some strings\n",
    "dataframe5 = pd.DataFrame({'d' : ['mocha','cherry','mocha','corn','rice','chicken']})\n",
    "dataframe4['newcolumn'] = dataframe5\n",
    "print '\\nnew data column with strings'\n",
    "print dataframe4"
   ]
  },
  {
   "cell_type": "code",
   "execution_count": 16,
   "metadata": {},
   "outputs": [
    {
     "name": "stdout",
     "output_type": "stream",
     "text": [
      "\n",
      "new data column2 with strings\n",
      "   Column1  Column2  Column3  Column4  Column5    a    b    c newcolumn  \\\n",
      "0        1       11        1       11       11  1.0  1.0  3.0     mocha   \n",
      "1        2       22        1       44       23  2.0  3.0  NaN    cherry   \n",
      "2        3       33        1       99       35  3.0  5.0  3.0     mocha   \n",
      "3        4       44        1      176       47  NaN  NaN  NaN      corn   \n",
      "4        5       55        1      275       59  NaN  NaN  NaN      rice   \n",
      "5        6       66        1      396       71  NaN  NaN  NaN   chicken   \n",
      "\n",
      "  newcolumn2  \n",
      "0     cheese  \n",
      "1      bacon  \n",
      "2       milk  \n",
      "3      house  \n",
      "4      horse  \n",
      "5    unicorn  \n"
     ]
    }
   ],
   "source": [
    "# you can also do it this way (or other ways)\n",
    "datalist1 = ['cheese','bacon','milk','house','horse','unicorn']\n",
    "dataframe4['newcolumn2'] = datalist1\n",
    "print '\\nnew data column2 with strings'\n",
    "print dataframe4"
   ]
  },
  {
   "cell_type": "code",
   "execution_count": 17,
   "metadata": {},
   "outputs": [
    {
     "name": "stdout",
     "output_type": "stream",
     "text": [
      "\n",
      "description of the data with strings\n",
      "        Column1    Column2  Column3     Column4    Column5    a    b    c\n",
      "count  6.000000   6.000000      6.0    6.000000   6.000000  3.0  3.0  2.0\n",
      "mean   3.500000  38.500000      1.0  166.833333  41.000000  2.0  3.0  3.0\n",
      "std    1.870829  20.579116      0.0  147.156266  22.449944  1.0  2.0  0.0\n",
      "min    1.000000  11.000000      1.0   11.000000  11.000000  1.0  1.0  3.0\n",
      "25%    2.250000  24.750000      1.0   57.750000  26.000000  1.5  2.0  3.0\n",
      "50%    3.500000  38.500000      1.0  137.500000  41.000000  2.0  3.0  3.0\n",
      "75%    4.750000  52.250000      1.0  250.250000  56.000000  2.5  4.0  3.0\n",
      "max    6.000000  66.000000      1.0  396.000000  71.000000  3.0  5.0  3.0\n"
     ]
    }
   ],
   "source": [
    "# what's the description of the data noew\n",
    "print '\\ndescription of the data with strings'\n",
    "print dataframe4.describe()\n",
    "# it's default is not do it for strings"
   ]
  },
  {
   "cell_type": "code",
   "execution_count": 18,
   "metadata": {},
   "outputs": [
    {
     "name": "stdout",
     "output_type": "stream",
     "text": [
      "\n",
      "descriptions of the strings\n",
      "       newcolumn newcolumn2\n",
      "count          6          6\n",
      "unique         5          6\n",
      "top        mocha      horse\n",
      "freq           2          1\n"
     ]
    }
   ],
   "source": [
    "# here is how you see the description of strings\n",
    "print '\\ndescriptions of the strings'\n",
    "print dataframe4.describe(include=['O'])"
   ]
  },
  {
   "cell_type": "code",
   "execution_count": 19,
   "metadata": {},
   "outputs": [
    {
     "name": "stdout",
     "output_type": "stream",
     "text": [
      "\n",
      "   a  b\n",
      "0  1  1\n",
      "1  2  4\n",
      "2  3  9\n",
      "\n",
      "   a  b    c\n",
      "0  1  1  1.0\n",
      "1  2  4  2.0\n",
      "2  3  9  3.0\n",
      "\n",
      "   a  b    c    d\n",
      "0  1  1  1.0  1.0\n",
      "1  2  4  2.0  2.0\n",
      "2  3  9  3.0  3.0\n",
      "\n",
      "   a  b    c    d     e\n",
      "0  1  1  1.0  1.0   1.0\n",
      "1  2  4  2.0  2.0   8.0\n",
      "2  3  9  3.0  3.0  27.0\n"
     ]
    }
   ],
   "source": [
    "# create a new column using mathematical operations on other columns\n",
    "df1 = pd.DataFrame({'a' : [1,2,3], 'b' : [1,4,9]})\n",
    "print\n",
    "print df1\n",
    "df1['c'] = df1['b']/df1['a']\n",
    "print\n",
    "print df1\n",
    "\n",
    "def func1(row):\n",
    "    return row['b']/row['a']\n",
    "\n",
    "df1['d'] = df1.apply(func1,axis=1)\n",
    "print\n",
    "print df1\n",
    "\n",
    "def func2(x):\n",
    "    if ((x['b'] + x['a']) <= 2):\n",
    "        return x['b']/x['a']\n",
    "    else:\n",
    "        return x['b']*x['a']\n",
    "\n",
    "df1['e'] = df1.apply(func2,axis=1)\n",
    "print\n",
    "print df1"
   ]
  },
  {
   "cell_type": "code",
   "execution_count": 20,
   "metadata": {},
   "outputs": [
    {
     "name": "stdout",
     "output_type": "stream",
     "text": [
      "\n",
      "   a  b\n",
      "0  1  1\n",
      "1  2  4\n",
      "2  3  9\n",
      "\n",
      "0    False\n",
      "1    False\n",
      "2     True\n",
      "Name: a, dtype: bool\n",
      "\n",
      "   a  b\n",
      "2  3  9\n",
      "\n",
      "0    False\n",
      "1     True\n",
      "2    False\n",
      "dtype: bool\n",
      "\n",
      "   a  b\n",
      "1  2  4\n"
     ]
    }
   ],
   "source": [
    "# boolean array slicing\n",
    "df1 = pd.DataFrame({'a' : [1,2,3], 'b' : [1,4,9]})\n",
    "print\n",
    "print df1\n",
    "print\n",
    "print df1['a'] > 2\n",
    "print\n",
    "print df1[df1['a'] > 2]\n",
    "print\n",
    "jp = (df1['a'] > 1) & (df1['b'] <= 4)\n",
    "print jp\n",
    "print\n",
    "print df1[jp]"
   ]
  },
  {
   "cell_type": "code",
   "execution_count": 21,
   "metadata": {},
   "outputs": [
    {
     "name": "stdout",
     "output_type": "stream",
     "text": [
      "   a  b\n",
      "0  1  2\n",
      "1  1  2\n",
      "2  1  2\n",
      "3  1  2\n",
      "4  1  2\n",
      "\n",
      "   a  b\n",
      "0  3  3\n",
      "\n",
      "\n",
      "   a  b\n",
      "0  1  2\n",
      "1  1  2\n",
      "2  1  2\n",
      "3  1  2\n",
      "4  1  2\n",
      "0  3  3\n",
      "\n",
      "   a  b\n",
      "0  1  2\n",
      "1  1  2\n",
      "2  1  2\n",
      "3  1  2\n",
      "4  1  2\n",
      "5  3  3\n",
      "\n",
      "   a  b\n",
      "0  1  2\n",
      "1  1  2\n",
      "2  1  2\n",
      "3  1  2\n",
      "4  1  2\n",
      "\n",
      "   a\n",
      "0  1\n",
      "1  2\n",
      "2  3\n",
      "3  4\n",
      "\n",
      "   a    b\n",
      "0  1  2.0\n",
      "1  1  2.0\n",
      "2  1  2.0\n",
      "3  1  2.0\n",
      "4  1  2.0\n",
      "5  1  NaN\n",
      "6  2  NaN\n",
      "7  3  NaN\n",
      "8  4  NaN\n"
     ]
    }
   ],
   "source": [
    "# combining rows of two dataframes\n",
    "dataframe1  = pd.DataFrame({'a' : [1,1,1,1,1], 'b' : [2,2,2,2,2]})\n",
    "dataframe2 = pd.DataFrame({'a' : [3], 'b' : [3]})\n",
    "print dataframe1\n",
    "print\n",
    "print dataframe2\n",
    "print\n",
    "\n",
    "dataframe3 = dataframe1.append(dataframe2)\n",
    "print\n",
    "print dataframe3\n",
    "\n",
    "dataframe4 = dataframe1.append(dataframe2, ignore_index=True)\n",
    "print\n",
    "print dataframe4\n",
    "\n",
    "dataframe5 = pd.DataFrame({'a' : [1,2,3,4]})\n",
    "print\n",
    "print dataframe1\n",
    "print\n",
    "print dataframe5\n",
    "print\n",
    "print dataframe1.append(dataframe5, ignore_index=True)"
   ]
  },
  {
   "cell_type": "code",
   "execution_count": 22,
   "metadata": {},
   "outputs": [
    {
     "name": "stdout",
     "output_type": "stream",
     "text": [
      "\n",
      "   a  b\n",
      "0  1  1\n",
      "1  2  3\n",
      "2  3  5\n",
      "\n",
      "   c   d\n",
      "0  1  10\n",
      "1  3  10\n",
      "2  5  10\n",
      "\n",
      "     a    b    c     d\n",
      "0  1.0  1.0  NaN   NaN\n",
      "1  2.0  3.0  NaN   NaN\n",
      "2  3.0  5.0  NaN   NaN\n",
      "0  NaN  NaN  1.0  10.0\n",
      "1  NaN  NaN  3.0  10.0\n",
      "2  NaN  NaN  5.0  10.0\n",
      "\n",
      "     a    b    c     d\n",
      "0  1.0  1.0  NaN   NaN\n",
      "1  2.0  3.0  NaN   NaN\n",
      "2  3.0  5.0  NaN   NaN\n",
      "3  NaN  NaN  1.0  10.0\n",
      "4  NaN  NaN  3.0  10.0\n",
      "5  NaN  NaN  5.0  10.0\n",
      "6  NaN  NaN  1.0  10.0\n",
      "7  NaN  NaN  3.0  10.0\n",
      "8  NaN  NaN  5.0  10.0\n",
      "\n",
      "   a  b  c   d\n",
      "0  1  1  1  10\n",
      "1  2  3  3  10\n",
      "2  3  5  5  10\n"
     ]
    }
   ],
   "source": [
    "# concat example\n",
    "dataframe1 = pd.DataFrame({'a' : [1,2,3], 'b' : [1,3,5]})\n",
    "dataframe2 = pd.DataFrame({'c' : [1,3,5], 'd' : [10,10,10]})\n",
    "print\n",
    "print dataframe1\n",
    "print\n",
    "print dataframe2\n",
    "\n",
    "dataframe3 = pd.concat([dataframe1,dataframe2])\n",
    "print\n",
    "print dataframe3\n",
    "\n",
    "dataframe4 = pd.concat([dataframe1,dataframe2,dataframe2], ignore_index=True)\n",
    "print\n",
    "print dataframe4\n",
    "\n",
    "dataframe5 = pd.concat([dataframe1,dataframe2],axis=1)\n",
    "print\n",
    "print dataframe5"
   ]
  },
  {
   "cell_type": "code",
   "execution_count": 23,
   "metadata": {},
   "outputs": [
    {
     "name": "stdout",
     "output_type": "stream",
     "text": [
      "\n",
      "   a  b\n",
      "0  1  1\n",
      "1  2  3\n",
      "2  3  5\n",
      "\n",
      "   a   c\n",
      "0  1  10\n",
      "1  3  10\n",
      "2  5  10\n",
      "\n",
      "   a  b     c\n",
      "0  1  1  10.0\n",
      "1  2  3   NaN\n",
      "2  3  5  10.0\n",
      "\n",
      "   a    b   c\n",
      "0  1  1.0  10\n",
      "1  3  5.0  10\n",
      "2  5  NaN  10\n",
      "\n",
      "   a  b   c\n",
      "0  1  1  10\n",
      "1  3  5  10\n",
      "\n",
      "   a    b     c\n",
      "0  1  1.0  10.0\n",
      "1  2  3.0   NaN\n",
      "2  3  5.0  10.0\n",
      "3  5  NaN  10.0\n"
     ]
    }
   ],
   "source": [
    "# merge example\n",
    "dataframe1 = pd.DataFrame({'a' : [1,2,3], 'b' : [1,3,5]})\n",
    "dataframe2 = pd.DataFrame({'a' : [1,3,5], 'c' : [10,10,10]})\n",
    "print\n",
    "print dataframe1\n",
    "print\n",
    "print dataframe2\n",
    "\n",
    "dataframe3 = dataframe1.merge(dataframe2, on=['a'], how='left')\n",
    "print\n",
    "print dataframe3\n",
    "\n",
    "dataframe4 = dataframe1.merge(dataframe2, on=['a'], how='right')\n",
    "print\n",
    "print dataframe4\n",
    "\n",
    "dataframe5 = dataframe1.merge(dataframe2, on=['a'], how='inner')\n",
    "print\n",
    "print dataframe5\n",
    "\n",
    "dataframe6 = dataframe1.merge(dataframe2, on=['a'], how='outer')\n",
    "print\n",
    "print dataframe6"
   ]
  },
  {
   "cell_type": "code",
   "execution_count": 24,
   "metadata": {},
   "outputs": [
    {
     "name": "stdout",
     "output_type": "stream",
     "text": [
      "   a  b\n",
      "0  1  2\n",
      "1  1  2\n",
      "2  1  2\n",
      "3  1  2\n",
      "4  1  2\n",
      "\n",
      "   a  b\n",
      "0  3  3\n",
      "1  3  3\n",
      "2  3  3\n",
      "\n",
      "   a  b\n",
      "0  1  2\n",
      "1  1  2\n",
      "2  1  2\n",
      "3  1  2\n",
      "4  1  2\n",
      "5  3  3\n",
      "6  3  3\n",
      "7  3  3\n",
      "\n",
      "   a  b\n",
      "0  1  2\n",
      "1  1  2\n",
      "2  1  2\n",
      "3  1  2\n",
      "4  1  2\n",
      "0  3  3\n",
      "1  3  3\n",
      "2  3  3\n",
      "\n",
      "   index  a  b\n",
      "0      0  1  2\n",
      "1      1  1  2\n",
      "2      2  1  2\n",
      "3      3  1  2\n",
      "4      4  1  2\n",
      "5      0  3  3\n",
      "6      1  3  3\n",
      "7      2  3  3\n",
      "\n",
      "   a  b\n",
      "0  1  2\n",
      "1  1  2\n",
      "2  1  2\n",
      "3  1  2\n",
      "4  1  2\n",
      "5  3  3\n",
      "6  3  3\n",
      "7  3  3\n",
      "\n"
     ]
    }
   ],
   "source": [
    "# reset_index example\n",
    "df1 = pd.DataFrame({'a' : [1,1,1,1,1],'b' : [2,2,2,2,2]})\n",
    "df2 = pd.DataFrame({'a' : [3,3,3],'b' : [3,3,3]})\n",
    "print df1\n",
    "print\n",
    "print df2\n",
    "print\n",
    "df3 = df1.append(df2,ignore_index=True)\n",
    "print df3\n",
    "print\n",
    "df4 = df1.append(df2)\n",
    "print df4\n",
    "print\n",
    "df5 = df4.reset_index()\n",
    "print df5\n",
    "print\n",
    "df6 = df4.reset_index(drop=True)\n",
    "print df6\n",
    "print"
   ]
  },
  {
   "cell_type": "code",
   "execution_count": 25,
   "metadata": {},
   "outputs": [
    {
     "name": "stdout",
     "output_type": "stream",
     "text": [
      "   a\n",
      "0  7\n",
      "1  5\n",
      "2  8\n",
      "\n",
      "   b\n",
      "0  3\n",
      "1  2\n",
      "2  1\n",
      "\n",
      "   a  b\n",
      "0  7  3\n",
      "1  5  2\n",
      "2  8  1\n",
      "\n",
      "   a  b\n",
      "2  8  1\n",
      "1  5  2\n",
      "0  7  3\n",
      "\n",
      "   a  b\n",
      "2  8  1\n",
      "0  7  3\n",
      "1  5  2\n",
      "\n",
      "   a  b\n",
      "0  8  1\n",
      "1  7  3\n",
      "2  5  2\n",
      "\n"
     ]
    }
   ],
   "source": [
    "# sort_values example\n",
    "df1 = pd.DataFrame({'a' : [7,5,8]})\n",
    "df2 = pd.DataFrame({'b' : [3,2,1]})\n",
    "print df1\n",
    "print\n",
    "print df2\n",
    "print\n",
    "df3 = pd.concat([df1,df2],axis=1)\n",
    "print df3\n",
    "print\n",
    "df4 = df3.sort_values(by=['b'],axis=0,ascending=True)\n",
    "print df4\n",
    "print\n",
    "df5 = df3.sort_values(by=['a','b'],axis=0,ascending=False)\n",
    "print df5\n",
    "print\n",
    "df6 = df5.reset_index(drop=True)\n",
    "print df6\n",
    "print"
   ]
  },
  {
   "cell_type": "code",
   "execution_count": 26,
   "metadata": {},
   "outputs": [
    {
     "name": "stdout",
     "output_type": "stream",
     "text": [
      "  equip_id  sensor1  sensor2\n",
      "0        a        1        5\n",
      "1        c        2        5\n",
      "2        a        1        5\n",
      "3        b        1        5\n",
      "4        a        2        5\n",
      "\n",
      "<pandas.core.groupby.DataFrameGroupBy object at 0x116217c50>\n",
      "\n",
      "  equip_id  sensor1  sensor2\n",
      "0        a        1        5\n",
      "2        a        1        5\n",
      "4        a        2        5\n",
      "\n",
      "  equip_id  sensor1  sensor2\n",
      "3        b        1        5\n",
      "\n",
      "  equip_id  sensor1  sensor2\n",
      "1        c        2        5\n",
      "\n",
      "a\n",
      "  equip_id  sensor1  sensor2\n",
      "0        a        1        5\n",
      "2        a        1        5\n",
      "4        a        2        5\n",
      "\n",
      "b\n",
      "  equip_id  sensor1  sensor2\n",
      "3        b        1        5\n",
      "\n",
      "c\n",
      "  equip_id  sensor1  sensor2\n",
      "1        c        2        5\n",
      "\n"
     ]
    }
   ],
   "source": [
    "# groupby example\n",
    "df1 = pd.DataFrame({'equip_id' : ['a', 'c', 'a', 'b', 'a'], \\\n",
    "                    'sensor1' : [1,2,1,1,2],\n",
    "                    'sensor2' : [5,5,5,5,5]})\n",
    "print df1\n",
    "print\n",
    "dg1 = df1.groupby(by=['equip_id'],axis=0)\n",
    "print dg1\n",
    "print\n",
    "df2 = dg1.get_group('a')\n",
    "print df2\n",
    "print\n",
    "df3 = dg1.get_group('b')\n",
    "print df3\n",
    "print\n",
    "df4 = dg1.get_group('c')\n",
    "print df4\n",
    "print\n",
    "for name,group in dg1:\n",
    "    print name\n",
    "    print group\n",
    "    print\n",
    "dg2 = df1.groupby(by=['equip_id','sensor1'],axis=1)\n",
    "for name,group in dg2:\n",
    "    print name\n",
    "    print group\n",
    "    print"
   ]
  },
  {
   "cell_type": "code",
   "execution_count": 27,
   "metadata": {},
   "outputs": [
    {
     "name": "stdout",
     "output_type": "stream",
     "text": [
      "  equip_id  sensor1  sensor2\n",
      "0        a        1        5\n",
      "1        c        2        5\n",
      "2        a        1        5\n",
      "3        b        1        5\n",
      "4        a        2        5\n",
      "\n",
      "          sensor1  sensor2\n",
      "equip_id                  \n",
      "a               4       15\n",
      "b               1        5\n",
      "c               2        5\n",
      "\n",
      "         sensor1                 sensor2            \n",
      "             sum     myavg count     sum myavg count\n",
      "equip_id                                            \n",
      "a              4  1.333333     3      15     5     3\n",
      "b              1  1.000000     1       5     5     1\n",
      "c              2  2.000000     1       5     5     1\n",
      "\n",
      "  equip_id  sensor1  sensor2\n",
      "0        a        1        5\n",
      "1        c        2        5\n",
      "2        a        1        5\n",
      "3        b        1        5\n",
      "4        a        2        5\n",
      "\n",
      "  equip_id  sensor1  sensor2\n",
      "0        a      1.0      5.0\n",
      "1        c      2.0      5.0\n",
      "2        a      1.0      NaN\n",
      "3        b      NaN      5.0\n",
      "4        a      2.0      5.0\n",
      "\n",
      "  equip_id  sensor1  sensor2\n",
      "0        a      1.0      5.0\n",
      "1        c      2.0      5.0\n",
      "2        a      1.0      0.0\n",
      "3        b      0.0      5.0\n",
      "4        a      2.0      5.0\n",
      "  equip_id  sensor1  sensor2\n",
      "0        a      1.0      5.0\n",
      "1        c      2.0      5.0\n",
      "4        a      2.0      5.0\n"
     ]
    }
   ],
   "source": [
    "# aggregation example\n",
    "print df1\n",
    "print\n",
    "dg1 = df1.groupby(by=['equip_id'],axis=0)\n",
    "result = dg1.agg(sum)\n",
    "print result\n",
    "print\n",
    "def myavg(col):\n",
    "    return sum(col) / float(len(col))\n",
    "result2 = dg1.agg([sum,myavg,'count'])\n",
    "print result2\n",
    "print\n",
    "\n",
    "# NaN functions example\n",
    "print df1\n",
    "print\n",
    "df1.iloc[2,2] = None\n",
    "df1.iloc[3,1] = None\n",
    "print df1\n",
    "print\n",
    "df2 = df1.fillna(value=0)\n",
    "print df2\n",
    "print df1.dropna()"
   ]
  },
  {
   "cell_type": "markdown",
   "metadata": {
    "collapsed": true
   },
   "source": [
    "Simple Exploration with Numpy\n",
    "-----------------------------"
   ]
  },
  {
   "cell_type": "code",
   "execution_count": 28,
   "metadata": {},
   "outputs": [
    {
     "name": "stdout",
     "output_type": "stream",
     "text": [
      "[[1 2 3]\n",
      " [4 5 6]\n",
      " [7 8 9]]\n",
      "\n",
      "5\n",
      "\n",
      "8\n",
      "\n",
      "[4 5 6]\n",
      "\n",
      "[2 5 8]\n",
      "\n",
      "[[1 2]\n",
      " [4 5]]\n",
      "\n"
     ]
    }
   ],
   "source": [
    "import numpy as np\n",
    "import pandas as pd\n",
    "\n",
    "# creating array and accessing elements and slices\n",
    "a = np.array([[1,2,3],[4,5,6],[7,8,9]])\n",
    "print a\n",
    "print\n",
    "print a[1,1]\n",
    "print\n",
    "print a[2,1]\n",
    "print\n",
    "print a[1]\n",
    "print\n",
    "print a[:,1]\n",
    "print\n",
    "print a[0:2,0:2]\n",
    "print"
   ]
  },
  {
   "cell_type": "code",
   "execution_count": 29,
   "metadata": {},
   "outputs": [
    {
     "name": "stdout",
     "output_type": "stream",
     "text": [
      "[[1 2]\n",
      " [4 5]]\n",
      "\n",
      "[[   1    2]\n",
      " [   4 1000]]\n",
      "\n",
      "[[   1    2    3]\n",
      " [   4 1000    6]\n",
      " [   7    8    9]]\n",
      "\n"
     ]
    }
   ],
   "source": [
    "# shallow and deep copy\n",
    "b = a[0:2,0:2]\n",
    "print b\n",
    "print\n",
    "b[1,1] = 1000\n",
    "print b\n",
    "print\n",
    "print a\n",
    "print"
   ]
  },
  {
   "cell_type": "code",
   "execution_count": 30,
   "metadata": {},
   "outputs": [
    {
     "name": "stdout",
     "output_type": "stream",
     "text": [
      "[[   1    2]\n",
      " [   4 2000]]\n",
      "\n",
      "[[   1    2    3]\n",
      " [   4 1000    6]\n",
      " [   7    8    9]]\n",
      "\n"
     ]
    }
   ],
   "source": [
    "### lets tra a deep copy\n",
    "b = a[0:2,0:2].copy()\n",
    "b[1,1] = 2000\n",
    "print b\n",
    "print\n",
    "print a\n",
    "print"
   ]
  },
  {
   "cell_type": "code",
   "execution_count": 31,
   "metadata": {},
   "outputs": [
    {
     "name": "stdout",
     "output_type": "stream",
     "text": [
      "(3, 3)\n",
      "\n",
      "3\n",
      "3\n"
     ]
    }
   ],
   "source": [
    "### print out size\n",
    "print a.shape\n",
    "print\n",
    "print a.shape[0]\n",
    "print a.shape[1]"
   ]
  },
  {
   "cell_type": "code",
   "execution_count": 32,
   "metadata": {},
   "outputs": [
    {
     "name": "stdout",
     "output_type": "stream",
     "text": [
      "[[ 0.  0.  0.]\n",
      " [ 0.  0.  0.]\n",
      " [ 0.  0.  0.]]\n",
      "\n",
      "[[ 1.  1.  1.]\n",
      " [ 1.  1.  1.]\n",
      " [ 1.  1.  1.]]\n",
      "\n",
      "[[ 1.  0.  0.  0.  0.]\n",
      " [ 0.  1.  0.  0.  0.]\n",
      " [ 0.  0.  1.  0.  0.]\n",
      " [ 0.  0.  0.  1.  0.]\n",
      " [ 0.  0.  0.  0.  1.]]\n",
      "\n",
      "[[ 0.56095695  0.4988657   0.3124092 ]\n",
      " [ 0.06257537  0.99909755  0.16562462]\n",
      " [ 0.77076685  0.48129234  0.1795428 ]]\n",
      "\n",
      "[[ 0.  0.  0.]\n",
      " [ 0.  0.  0.]\n",
      " [ 0.  0.  0.]]\n",
      "\n",
      "[  1.   3.   5.   7.   9.  11.  13.  15.  17.  19.  21.  23.  25.  27.  29.\n",
      "  31.  33.  35.  37.  39.  41.  43.  45.  47.  49.  51.  53.  55.  57.  59.\n",
      "  61.  63.  65.  67.  69.  71.  73.  75.  77.  79.  81.  83.  85.  87.  89.\n",
      "  91.  93.  95.  97.  99.]\n",
      "\n",
      "[[  1.   3.   5.   7.   9.]\n",
      " [ 11.  13.  15.  17.  19.]\n",
      " [ 21.  23.  25.  27.  29.]\n",
      " [ 31.  33.  35.  37.  39.]\n",
      " [ 41.  43.  45.  47.  49.]\n",
      " [ 51.  53.  55.  57.  59.]\n",
      " [ 61.  63.  65.  67.  69.]\n",
      " [ 71.  73.  75.  77.  79.]\n",
      " [ 81.  83.  85.  87.  89.]\n",
      " [ 91.  93.  95.  97.  99.]]\n",
      "\n",
      "[[ 1.  2.  3.]\n",
      " [ 4.  5.  6.]\n",
      " [ 7.  8.  9.]]\n",
      "\n",
      "   a  b  c\n",
      "0  1  4  7\n",
      "1  2  5  8\n",
      "2  3  6  9\n",
      "\n",
      "[[1 4 7]\n",
      " [2 5 8]\n",
      " [3 6 9]]\n",
      "\n",
      "[[ 1.  4.  7.]\n",
      " [ 2.  5.  8.]\n",
      " [ 3.  6.  9.]]\n",
      "\n",
      "[['1' '4' '7']\n",
      " ['2' '5' '8']\n",
      " ['3' '6' '9']]\n"
     ]
    }
   ],
   "source": [
    "# other ways to make numpy arrays\n",
    "a = np.zeros([3,3])\n",
    "print a\n",
    "print\n",
    "b = np.ones([3,3])\n",
    "print b\n",
    "print\n",
    "c = np.eye(5)\n",
    "print c\n",
    "print\n",
    "d = np.random.random([3,3])\n",
    "print d\n",
    "print\n",
    "e = np.empty([3,3])\n",
    "print e\n",
    "print\n",
    "f = np.linspace(start=1,stop=99,num=50)\n",
    "print f\n",
    "print\n",
    "g = f.reshape([10,5])\n",
    "print g\n",
    "print\n",
    "h = np.array([[1,2,3],[4,5,6],[7,8,9]],dtype='float')\n",
    "print h\n",
    "print\n",
    "i = pd.DataFrame({'a' : [1,2,3], 'b' : [4,5,6], 'c' : [7,8,9]})\n",
    "print i\n",
    "print\n",
    "j = i.values\n",
    "print j\n",
    "print\n",
    "print j.astype(dtype='float')\n",
    "print\n",
    "print j.astype(dtype='str')"
   ]
  },
  {
   "cell_type": "code",
   "execution_count": 33,
   "metadata": {},
   "outputs": [
    {
     "name": "stdout",
     "output_type": "stream",
     "text": [
      "[[ 1.  0.  0.]\n",
      " [ 0.  1.  0.]\n",
      " [ 0.  0.  1.]]\n",
      "\n",
      "[[ 1.  1.  1.]\n",
      " [ 1.  1.  1.]\n",
      " [ 1.  1.  1.]]\n",
      "\n",
      "[[ 3.  0.  0.]\n",
      " [ 0.  3.  0.]\n",
      " [ 0.  0.  3.]]\n",
      "\n",
      "[[ 4.  4.  4.]\n",
      " [ 4.  4.  4.]\n",
      " [ 4.  4.  4.]]\n",
      "\n",
      "[[ 7.  4.  4.]\n",
      " [ 4.  7.  4.]\n",
      " [ 4.  4.  7.]]\n",
      "\n",
      "[[-1. -4. -4.]\n",
      " [-4. -1. -4.]\n",
      " [-4. -4. -1.]]\n",
      "\n",
      "[[ 12.   0.   0.]\n",
      " [  0.  12.   0.]\n",
      " [  0.   0.  12.]]\n",
      "\n",
      "[[ 1.  0.  0.]\n",
      " [ 0.  1.  0.]\n",
      " [ 0.  0.  1.]]\n",
      "\n",
      "[[  1.  inf  inf]\n",
      " [ inf   1.  inf]\n",
      " [ inf  inf   1.]]\n",
      "\n",
      "[[ 0.14112001  0.          0.        ]\n",
      " [ 0.          0.14112001  0.        ]\n",
      " [ 0.          0.          0.14112001]]\n",
      "\n",
      "[[-0.9899925  1.         1.       ]\n",
      " [ 1.        -0.9899925  1.       ]\n",
      " [ 1.         1.        -0.9899925]]\n"
     ]
    },
    {
     "name": "stderr",
     "output_type": "stream",
     "text": [
      "/Users/665066/anaconda/lib/python2.7/site-packages/ipykernel_launcher.py:20: RuntimeWarning: divide by zero encountered in divide\n"
     ]
    }
   ],
   "source": [
    "# mathematics on numpy arrays (element by element)\n",
    "a = np.eye(3)\n",
    "b = np.ones([3,3])\n",
    "print a\n",
    "print\n",
    "print b\n",
    "print\n",
    "print 3*a\n",
    "print\n",
    "print 4*b\n",
    "print\n",
    "print 3*a + 4*b\n",
    "print\n",
    "print 3*a - 4*b\n",
    "print\n",
    "print 3*a*4*b\n",
    "print\n",
    "print a/b\n",
    "print\n",
    "print b/a\n",
    "print\n",
    "print np.sin(3*a)\n",
    "print\n",
    "print np.cos(3*a)"
   ]
  },
  {
   "cell_type": "code",
   "execution_count": 34,
   "metadata": {},
   "outputs": [
    {
     "name": "stdout",
     "output_type": "stream",
     "text": [
      "[[ 0.97014273  0.37706255  0.32013152]\n",
      " [ 0.39582982  0.23735961  0.14126427]\n",
      " [ 0.64195507  0.29798094  0.4474947 ]]\n",
      "\n",
      "[[ 0.97014273  0.39582982  0.64195507]\n",
      " [ 0.37706255  0.23735961  0.29798094]\n",
      " [ 0.32013152  0.14126427  0.4474947 ]]\n",
      "\n",
      "[[ 0.97014273  0.39582982  0.64195507]\n",
      " [ 0.37706255  0.23735961  0.29798094]\n",
      " [ 0.32013152  0.14126427  0.4474947 ]]\n",
      "\n",
      "0.0185924985326\n",
      "\n",
      "3\n",
      "\n",
      "[[  3.44886983  -3.94462314  -1.22204275]\n",
      " [ -4.64953281  12.29655465  -0.55554126]\n",
      " [ -1.85152435  -2.52934406   4.35767677]]\n",
      "\n",
      "[[  1.00000000e+00   2.80165101e-16  -8.67169121e-17]\n",
      " [ -6.93053758e-17   1.00000000e+00  -1.53617792e-17]\n",
      " [ -8.62777861e-16   3.51004482e-16   1.00000000e+00]]\n",
      "\n",
      "1.65499703853\n",
      "\n",
      "[[1 0 0]\n",
      " [0 2 0]\n",
      " [0 0 3]]\n",
      "\n",
      "[1 2 3]\n",
      "\n",
      "[ 1.  1.  1.]\n",
      "\n",
      "(array([ 1.,  2.,  3.]), array([[ 1.,  0.,  0.],\n",
      "       [ 0.,  1.,  0.],\n",
      "       [ 0.,  0.,  1.]]))\n",
      "\n",
      "(array([[ 0.,  0.,  1.],\n",
      "       [ 0.,  1.,  0.],\n",
      "       [ 1.,  0.,  0.]]), array([ 3.,  2.,  1.]), array([[ 0.,  0.,  1.],\n",
      "       [ 0.,  1.,  0.],\n",
      "       [ 1.,  0.,  0.]]))\n"
     ]
    }
   ],
   "source": [
    "# linear algebra\n",
    "a = np.random.random([3,3])\n",
    "print a\n",
    "print\n",
    "print a.T\n",
    "print\n",
    "print a.transpose()\n",
    "print\n",
    "print np.linalg.det(a)\n",
    "print\n",
    "print np.linalg.matrix_rank(a)\n",
    "print\n",
    "print np.linalg.inv(a)\n",
    "print\n",
    "print a.dot(np.linalg.inv(a))\n",
    "print\n",
    "print a.trace()\n",
    "print\n",
    "# Ax = b, solve for x\n",
    "A = np.array([[1,0,0],[0,2,0],[0,0,3]])\n",
    "b = np.array([1,2,3])\n",
    "print A\n",
    "print\n",
    "print b\n",
    "print\n",
    "print np.linalg.solve(A,b)\n",
    "print\n",
    "print np.linalg.eig(A)\n",
    "print\n",
    "print np.linalg.svd(A)"
   ]
  },
  {
   "cell_type": "markdown",
   "metadata": {},
   "source": [
    "Simple Exploration with Scipy\n",
    "-----------------------------"
   ]
  },
  {
   "cell_type": "code",
   "execution_count": 35,
   "metadata": {},
   "outputs": [
    {
     "name": "stdout",
     "output_type": "stream",
     "text": [
      "(10.0, 1.1102230246251565e-13)\n",
      "\n",
      "(3.0, 3.3306690738754696e-14)\n",
      "\n",
      "(4.0, 4.440892098500626e-14)\n",
      "\n"
     ]
    }
   ],
   "source": [
    "import numpy as np\n",
    "from scipy.integrate import quad\n",
    "##\n",
    "### integration example\n",
    "### integral of 1 from 0 to 10\n",
    "def func1(x):\n",
    "    return 1\n",
    "y = quad(func1, 0, 10)\n",
    "print y\n",
    "print\n",
    "##    \n",
    "### integral of 'a' from 0 to 1\n",
    "def func2(x,a):\n",
    "    return a\n",
    "a = 3\n",
    "y = quad(func2, 0, 1, args=(a))\n",
    "print y\n",
    "print\n",
    "##\n",
    "### integral of 'a*x + b' from 0 to 1\n",
    "def func3(x,a,b):\n",
    "    return a*x+b\n",
    "a = 4\n",
    "b = 2\n",
    "y = quad(func3,0,1,args = (a,b))\n",
    "print y\n",
    "print"
   ]
  },
  {
   "cell_type": "code",
   "execution_count": 36,
   "metadata": {},
   "outputs": [
    {
     "name": "stdout",
     "output_type": "stream",
     "text": [
      "(0.125, 5.515032205777789e-15)\n",
      "\n"
     ]
    }
   ],
   "source": [
    "### double integral of 'x*y' for x : [0,1], y : [0,x]\n",
    "from scipy.integrate import dblquad\n",
    "def func4(x,y):\n",
    "    return x*y\n",
    "def func5(x):\n",
    "    return 0\n",
    "def func6(x):\n",
    "    return x\n",
    "y = dblquad(func4,0,1,func5,func6)\n",
    "print y\n",
    "print"
   ]
  },
  {
   "cell_type": "markdown",
   "metadata": {},
   "source": [
    "Example on full preprocessing\n",
    "-----------------------------"
   ]
  },
  {
   "cell_type": "code",
   "execution_count": 32,
   "metadata": {},
   "outputs": [
    {
     "name": "stdout",
     "output_type": "stream",
     "text": [
      "   column1\n",
      "0   cheese\n",
      "1  hot dog\n",
      "2     rice\n",
      "3  hot dog\n",
      "4   cheese\n",
      "5   cheese\n",
      "\n"
     ]
    }
   ],
   "source": [
    "import pandas as pd\n",
    "import numpy as np\n",
    "from sklearn.preprocessing import LabelEncoder\n",
    "from sklearn.preprocessing import OneHotEncoder\n",
    "from sklearn.preprocessing import Imputer\n",
    "from sklearn.preprocessing import StandardScaler\n",
    "from sklearn.preprocessing import minmax_scale\n",
    "import matplotlib.pyplot as plt\n",
    "\n",
    "# new data\n",
    "data = pd.DataFrame(['cheese','hot dog','rice','hot dog','cheese','cheese'],columns=['column1'])\n",
    "print data\n",
    "print"
   ]
  },
  {
   "cell_type": "code",
   "execution_count": 33,
   "metadata": {},
   "outputs": [
    {
     "name": "stdout",
     "output_type": "stream",
     "text": [
      "   column1  column2\n",
      "0   cheese        0\n",
      "1  hot dog        1\n",
      "2     rice        2\n",
      "3  hot dog        1\n",
      "4   cheese        0\n",
      "5   cheese        0\n",
      "\n"
     ]
    }
   ],
   "source": [
    "# label encoding\n",
    "label_enc = LabelEncoder()\n",
    "data['column2'] = label_enc.fit_transform(data['column1'].values)\n",
    "print data\n",
    "print"
   ]
  },
  {
   "cell_type": "code",
   "execution_count": 34,
   "metadata": {},
   "outputs": [
    {
     "name": "stdout",
     "output_type": "stream",
     "text": [
      "   column1  column2  cheese  hot dog  rice\n",
      "0   cheese        0     1.0      0.0   0.0\n",
      "1  hot dog        1     0.0      1.0   0.0\n",
      "2     rice        2     0.0      0.0   1.0\n",
      "3  hot dog        1     0.0      1.0   0.0\n",
      "4   cheese        0     1.0      0.0   0.0\n",
      "5   cheese        0     1.0      0.0   0.0\n",
      "\n"
     ]
    }
   ],
   "source": [
    "# one hot encoding\n",
    "ohe = OneHotEncoder()\n",
    "tmp = ohe.fit_transform(data['column2'].values.reshape(-1,1))\n",
    "tmp_df = pd.DataFrame(tmp.toarray(),columns=list(label_enc.classes_))\n",
    "data = pd.concat([data,tmp_df],axis=1)\n",
    "print data\n",
    "print"
   ]
  },
  {
   "cell_type": "code",
   "execution_count": 35,
   "metadata": {},
   "outputs": [
    {
     "name": "stdout",
     "output_type": "stream",
     "text": [
      "   column1\n",
      "0      1.0\n",
      "1      2.0\n",
      "2      1.0\n",
      "3      NaN\n",
      "4      2.0\n",
      "5      1.0\n",
      "6      3.0\n",
      "7      NaN\n",
      "\n"
     ]
    }
   ],
   "source": [
    "# new data\n",
    "data = pd.DataFrame([1,2,1,np.NaN,2,1,3,np.NaN],columns=['column1'])\n",
    "print data\n",
    "print"
   ]
  },
  {
   "cell_type": "code",
   "execution_count": 36,
   "metadata": {},
   "outputs": [
    {
     "name": "stdout",
     "output_type": "stream",
     "text": [
      "   column1   column2\n",
      "0      1.0  1.000000\n",
      "1      2.0  2.000000\n",
      "2      1.0  1.000000\n",
      "3      NaN  1.666667\n",
      "4      2.0  2.000000\n",
      "5      1.0  1.000000\n",
      "6      3.0  3.000000\n",
      "7      NaN  1.666667\n",
      "\n"
     ]
    }
   ],
   "source": [
    "# imputation (note only works on float / numeric)\n",
    "imp = Imputer(missing_values='NaN',strategy='mean')\n",
    "data['column2'] = imp.fit_transform(data)\n",
    "print data\n",
    "print"
   ]
  },
  {
   "cell_type": "code",
   "execution_count": 37,
   "metadata": {},
   "outputs": [
    {
     "name": "stdout",
     "output_type": "stream",
     "text": [
      "   column1   column2   column3\n",
      "0      1.0  1.000000 -1.032796\n",
      "1      2.0  2.000000  0.516398\n",
      "2      1.0  1.000000 -1.032796\n",
      "3      NaN  1.666667  0.000000\n",
      "4      2.0  2.000000  0.516398\n",
      "5      1.0  1.000000 -1.032796\n",
      "6      3.0  3.000000  2.065591\n",
      "7      NaN  1.666667  0.000000\n",
      "\n"
     ]
    }
   ],
   "source": [
    "# normalize (Z-order)\n",
    "stdsca = StandardScaler()\n",
    "data['column3'] = stdsca.fit_transform(data['column2'].values.reshape(-1,1))\n",
    "print data\n",
    "print"
   ]
  },
  {
   "cell_type": "code",
   "execution_count": 38,
   "metadata": {},
   "outputs": [
    {
     "name": "stdout",
     "output_type": "stream",
     "text": [
      "   column1   column2   column3   column4\n",
      "0      1.0  1.000000 -1.032796  0.000000\n",
      "1      2.0  2.000000  0.516398  0.500000\n",
      "2      1.0  1.000000 -1.032796  0.000000\n",
      "3      NaN  1.666667  0.000000  0.333333\n",
      "4      2.0  2.000000  0.516398  0.500000\n",
      "5      1.0  1.000000 -1.032796  0.000000\n",
      "6      3.0  3.000000  2.065591  1.000000\n",
      "7      NaN  1.666667  0.000000  0.333333\n",
      "\n"
     ]
    }
   ],
   "source": [
    "# normalize (minmax_scale)\n",
    "data['column4'] = minmax_scale(data['column2'])\n",
    "print data\n",
    "print"
   ]
  },
  {
   "cell_type": "code",
   "execution_count": 39,
   "metadata": {},
   "outputs": [
    {
     "name": "stdout",
     "output_type": "stream",
     "text": [
      "     col1  col2      col3       col4\n",
      "0     4.0   4.0  0.410757  -9.884096\n",
      "1     4.0   4.0  1.630633  -8.964235\n",
      "2     4.0   4.0  0.211553 -11.629496\n",
      "3     4.0   4.0  1.697365 -10.223482\n",
      "4     4.0   4.0 -0.364186  -9.540726\n",
      "5     4.0   4.0  1.881258 -10.068666\n",
      "6     4.0   4.0 -0.292414  -9.357247\n",
      "7     4.0   4.0 -1.567544 -10.098699\n",
      "8     4.0   4.0  1.150469  -9.735966\n",
      "9     4.0   4.0  1.138639 -10.907035\n",
      "10    4.0   4.0 -0.651799  -9.894502\n",
      "11    4.0   4.0  0.884410  -9.977999\n",
      "12    4.0   4.0 -2.204444  -9.554433\n",
      "13    4.0   4.0 -1.552417  -9.744647\n",
      "14    4.0   4.0  1.138100 -10.305877\n",
      "15    4.0   4.0 -0.771178  -9.867291\n",
      "16    4.0   4.0  1.248311 -11.049759\n",
      "17    4.0   4.0 -0.387039  -9.656086\n",
      "18    4.0   4.0 -0.535221  -8.709820\n",
      "19    4.0   4.0 -0.743159 -11.276047\n",
      "20    4.0   4.0  1.229723  -9.920289\n",
      "21    4.0   4.0  0.916291  -9.697547\n",
      "22    4.0   4.0 -0.433695 -10.597782\n",
      "23    4.0   4.0 -0.775785  -9.927546\n",
      "24    4.0   4.0  0.044113  -9.822557\n",
      "25    4.0   4.0 -0.897122  -9.042130\n",
      "26    4.0   4.0  0.643211  -8.504246\n",
      "27    4.0   4.0 -0.865875  -9.368143\n",
      "28    4.0   4.0 -0.289828  -9.372258\n",
      "29    4.0   4.0 -0.793441 -10.341335\n",
      "..    ...   ...       ...        ...\n",
      "970   4.0  14.0 -0.728183  10.980493\n",
      "971   4.0  14.0 -0.486302  10.978322\n",
      "972   4.0  14.0 -0.211753   9.897859\n",
      "973   4.0  14.0  0.413833   9.029564\n",
      "974   4.0  14.0  0.074144  11.566755\n",
      "975   4.0  14.0  1.399793  11.534404\n",
      "976   4.0  14.0 -0.023414  10.618571\n",
      "977   4.0  14.0  0.034975  10.932039\n",
      "978   4.0  14.0  1.141428   8.969595\n",
      "979   4.0  14.0 -0.395034   9.377810\n",
      "980   4.0  14.0 -0.041486  10.471586\n",
      "981   4.0  14.0 -0.062624  11.719839\n",
      "982   4.0  14.0 -0.154234   9.113059\n",
      "983   4.0  14.0 -0.393417   9.454409\n",
      "984   4.0  14.0  0.509508   8.821046\n",
      "985   4.0  14.0 -2.251974  10.649081\n",
      "986   4.0  14.0  0.582311   9.905152\n",
      "987   4.0  14.0 -0.911093  11.082658\n",
      "988   4.0  14.0 -0.699519  10.609702\n",
      "989   4.0  14.0  1.500627  10.087311\n",
      "990   4.0  14.0  1.624255   8.392260\n",
      "991   4.0  14.0  0.021675  11.970788\n",
      "992   4.0  14.0  0.177894  10.307699\n",
      "993   4.0  14.0  0.112728   9.662260\n",
      "994   4.0  14.0  0.640114  11.880551\n",
      "995   4.0  14.0 -0.084517   8.826581\n",
      "996   4.0  14.0 -0.927403  10.292802\n",
      "997   4.0  14.0  0.334624  10.851957\n",
      "998   4.0  14.0  1.446825  11.708434\n",
      "999   4.0  14.0  0.537880   9.525558\n",
      "\n",
      "[1000 rows x 4 columns]\n",
      "\n"
     ]
    }
   ],
   "source": [
    "# new data\n",
    "d1 = np.ones((1000,1))*4\n",
    "d21 = np.ones((200,1))*4\n",
    "d22 = np.ones((750,1))*9\n",
    "d23 = np.ones((50,1))*14\n",
    "d2 = np.concatenate((d21,d22,d23))\n",
    "d3 = np.random.randn(1000,1)\n",
    "d41 = np.random.randn(500,1)-10\n",
    "d42 = np.random.randn(500,1)+10\n",
    "d4 = np.concatenate((d41,d42))\n",
    "d = np.concatenate((d1,d2,d3,d4),axis=1)\n",
    "data = pd.DataFrame(d, columns=['col1','col2','col3','col4'])\n",
    "print data\n",
    "print"
   ]
  },
  {
   "cell_type": "code",
   "execution_count": 40,
   "metadata": {},
   "outputs": [
    {
     "data": {
      "image/png": "[encoded data removed]",
      "text/plain": [
       "<matplotlib.figure.Figure at 0x1107cf550>"
      ]
     },
     "metadata": {},
     "output_type": "display_data"
    }
   ],
   "source": [
    "plt.subplot(4,1,1)\n",
    "plt.hist(data['col1'],bins=100)\n",
    "plt.subplot(4,1,2)\n",
    "plt.hist(data['col2'],bins=100)\n",
    "plt.subplot(4,1,3)\n",
    "plt.hist(data['col3'],bins=100)\n",
    "plt.subplot(4,1,4)\n",
    "plt.hist(data['col4'],bins=100)\n",
    "plt.show()"
   ]
  }
 ],
 "metadata": {
  "kernelspec": {
   "display_name": "Python 2",
   "language": "python",
   "name": "python2"
  },
  "language_info": {
   "codemirror_mode": {
    "name": "ipython",
    "version": 2
   },
   "file_extension": ".py",
   "mimetype": "text/x-python",
   "name": "python",
   "nbconvert_exporter": "python",
   "pygments_lexer": "ipython2",
   "version": "2.7.13"
  }
 },
 "nbformat": 4,
 "nbformat_minor": 2
}
