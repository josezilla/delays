{
 "cells": [
  {
   "cell_type": "markdown",
   "metadata": {},
   "source": [
    "# Lesson 2 Lab:  Practical Pandas"
   ]
  },
  {
   "cell_type": "markdown",
   "metadata": {},
   "source": [
    "_This is a quiz given in Roger Peng's [Coursera](https://www.coursera.org) class [Computing for Data Analysis](https://www.coursera.org/course/compdata).  _\n",
    "\n",
    "_Sourced from [Research Computing MeetUp's](https://github.com/ResearchComputing/Meetup-Fall-2013) Python course._\n"
   ]
  },
  {
   "cell_type": "code",
   "execution_count": 1,
   "metadata": {},
   "outputs": [
    {
     "data": {
      "text/plain": [
       "u'/Users/jg/Documents/GitHub/DAT-DEN-03/lessons/lesson-02/code'"
      ]
     },
     "execution_count": 1,
     "metadata": {},
     "output_type": "execute_result"
    }
   ],
   "source": [
    "pwd"
   ]
  },
  {
   "cell_type": "code",
   "execution_count": 2,
   "metadata": {
    "collapsed": true
   },
   "outputs": [],
   "source": [
    "import pandas as pd\n",
    "import os\n",
    "\n",
    "data = pd.read_csv('../dataset/ozone.csv')"
   ]
  },
  {
   "cell_type": "code",
   "execution_count": 3,
   "metadata": {},
   "outputs": [
    {
     "name": "stdout",
     "output_type": "stream",
     "text": [
      "   Ozone  Solar.R  Wind  Temp  Month  Day\n",
      "0   41.0    190.0   7.4    67      5    1\n",
      "1   36.0    118.0   8.0    72      5    2\n",
      "2   12.0    149.0  12.6    74      5    3\n",
      "3   18.0    313.0  11.5    62      5    4\n",
      "4    NaN      NaN  14.3    56      5    5\n"
     ]
    }
   ],
   "source": [
    "print data.head()"
   ]
  },
  {
   "cell_type": "markdown",
   "metadata": {},
   "source": [
    "Print the column names of the dataset to the screen, one column name per line.  "
   ]
  },
  {
   "cell_type": "code",
   "execution_count": 5,
   "metadata": {},
   "outputs": [
    {
     "data": {
      "text/plain": [
       "array(['Ozone', 'Solar.R', 'Wind', 'Temp', 'Month', 'Day'], dtype=object)"
      ]
     },
     "execution_count": 5,
     "metadata": {},
     "output_type": "execute_result"
    }
   ],
   "source": [
    "data.columns.values"
   ]
  },
  {
   "cell_type": "code",
   "execution_count": 4,
   "metadata": {},
   "outputs": [
    {
     "name": "stdout",
     "output_type": "stream",
     "text": [
      "Ozone\n",
      "Solar.R\n",
      "Wind\n",
      "Temp\n",
      "Month\n",
      "Day\n"
     ]
    }
   ],
   "source": [
    "for item in data.columns:\n",
    "    print item"
   ]
  },
  {
   "cell_type": "markdown",
   "metadata": {},
   "source": [
    "Extract the first 2 rows of the data frame and print them to the console. What does the output\n",
    "look like?"
   ]
  },
  {
   "cell_type": "code",
   "execution_count": 10,
   "metadata": {},
   "outputs": [
    {
     "data": {
      "text/html": [
       "<div>\n",
       "<style>\n",
       "    .dataframe thead tr:only-child th {\n",
       "        text-align: right;\n",
       "    }\n",
       "\n",
       "    .dataframe thead th {\n",
       "        text-align: left;\n",
       "    }\n",
       "\n",
       "    .dataframe tbody tr th {\n",
       "        vertical-align: top;\n",
       "    }\n",
       "</style>\n",
       "<table border=\"1\" class=\"dataframe\">\n",
       "  <thead>\n",
       "    <tr style=\"text-align: right;\">\n",
       "      <th></th>\n",
       "      <th>Ozone</th>\n",
       "      <th>Solar.R</th>\n",
       "      <th>Wind</th>\n",
       "      <th>Temp</th>\n",
       "      <th>Month</th>\n",
       "      <th>Day</th>\n",
       "    </tr>\n",
       "  </thead>\n",
       "  <tbody>\n",
       "    <tr>\n",
       "      <th>0</th>\n",
       "      <td>41.0</td>\n",
       "      <td>190.0</td>\n",
       "      <td>7.4</td>\n",
       "      <td>67</td>\n",
       "      <td>5</td>\n",
       "      <td>1</td>\n",
       "    </tr>\n",
       "    <tr>\n",
       "      <th>1</th>\n",
       "      <td>36.0</td>\n",
       "      <td>118.0</td>\n",
       "      <td>8.0</td>\n",
       "      <td>72</td>\n",
       "      <td>5</td>\n",
       "      <td>2</td>\n",
       "    </tr>\n",
       "  </tbody>\n",
       "</table>\n",
       "</div>"
      ],
      "text/plain": [
       "   Ozone  Solar.R  Wind  Temp  Month  Day\n",
       "0   41.0    190.0   7.4    67      5    1\n",
       "1   36.0    118.0   8.0    72      5    2"
      ]
     },
     "execution_count": 10,
     "metadata": {},
     "output_type": "execute_result"
    }
   ],
   "source": [
    "data[0:2]"
   ]
  },
  {
   "cell_type": "markdown",
   "metadata": {},
   "source": [
    "How many observations (i.e. rows) are in this data frame?"
   ]
  },
  {
   "cell_type": "code",
   "execution_count": 12,
   "metadata": {},
   "outputs": [
    {
     "data": {
      "text/plain": [
       "(153, 6)"
      ]
     },
     "execution_count": 12,
     "metadata": {},
     "output_type": "execute_result"
    }
   ],
   "source": [
    "data.shape"
   ]
  },
  {
   "cell_type": "markdown",
   "metadata": {},
   "source": [
    "Extract the last 2 rows of the data frame and print them to the console. What does the output\n",
    "look like?"
   ]
  },
  {
   "cell_type": "code",
   "execution_count": 13,
   "metadata": {},
   "outputs": [
    {
     "data": {
      "text/html": [
       "<div>\n",
       "<style>\n",
       "    .dataframe thead tr:only-child th {\n",
       "        text-align: right;\n",
       "    }\n",
       "\n",
       "    .dataframe thead th {\n",
       "        text-align: left;\n",
       "    }\n",
       "\n",
       "    .dataframe tbody tr th {\n",
       "        vertical-align: top;\n",
       "    }\n",
       "</style>\n",
       "<table border=\"1\" class=\"dataframe\">\n",
       "  <thead>\n",
       "    <tr style=\"text-align: right;\">\n",
       "      <th></th>\n",
       "      <th>Ozone</th>\n",
       "      <th>Solar.R</th>\n",
       "      <th>Wind</th>\n",
       "      <th>Temp</th>\n",
       "      <th>Month</th>\n",
       "      <th>Day</th>\n",
       "    </tr>\n",
       "  </thead>\n",
       "  <tbody>\n",
       "    <tr>\n",
       "      <th>151</th>\n",
       "      <td>18.0</td>\n",
       "      <td>131.0</td>\n",
       "      <td>8.0</td>\n",
       "      <td>76</td>\n",
       "      <td>9</td>\n",
       "      <td>29</td>\n",
       "    </tr>\n",
       "    <tr>\n",
       "      <th>152</th>\n",
       "      <td>20.0</td>\n",
       "      <td>223.0</td>\n",
       "      <td>11.5</td>\n",
       "      <td>68</td>\n",
       "      <td>9</td>\n",
       "      <td>30</td>\n",
       "    </tr>\n",
       "  </tbody>\n",
       "</table>\n",
       "</div>"
      ],
      "text/plain": [
       "     Ozone  Solar.R  Wind  Temp  Month  Day\n",
       "151   18.0    131.0   8.0    76      9   29\n",
       "152   20.0    223.0  11.5    68      9   30"
      ]
     },
     "execution_count": 13,
     "metadata": {},
     "output_type": "execute_result"
    }
   ],
   "source": [
    "data.tail(2)"
   ]
  },
  {
   "cell_type": "markdown",
   "metadata": {},
   "source": [
    "What is the value of Ozone in the 47th row?"
   ]
  },
  {
   "cell_type": "code",
   "execution_count": 130,
   "metadata": {},
   "outputs": [
    {
     "name": "stdout",
     "output_type": "stream",
     "text": [
      "<class 'pandas.core.frame.DataFrame'>\n",
      "RangeIndex: 153 entries, 0 to 152\n",
      "Data columns (total 6 columns):\n",
      "Ozone      116 non-null float64\n",
      "Solar.R    146 non-null float64\n",
      "Wind       153 non-null float64\n",
      "Temp       153 non-null int64\n",
      "Month      153 non-null int64\n",
      "Day        153 non-null int64\n",
      "dtypes: float64(3), int64(3)\n",
      "memory usage: 7.2 KB\n"
     ]
    }
   ],
   "source": [
    "data.info()"
   ]
  },
  {
   "cell_type": "code",
   "execution_count": 138,
   "metadata": {},
   "outputs": [
    {
     "data": {
      "text/plain": [
       "True"
      ]
     },
     "execution_count": 138,
     "metadata": {},
     "output_type": "execute_result"
    }
   ],
   "source": [
    "1 == True"
   ]
  },
  {
   "cell_type": "code",
   "execution_count": 140,
   "metadata": {},
   "outputs": [
    {
     "data": {
      "text/plain": [
       "False"
      ]
     },
     "execution_count": 140,
     "metadata": {},
     "output_type": "execute_result"
    }
   ],
   "source": [
    "0 == True"
   ]
  },
  {
   "cell_type": "code",
   "execution_count": 142,
   "metadata": {},
   "outputs": [
    {
     "data": {
      "text/plain": [
       "7"
      ]
     },
     "execution_count": 142,
     "metadata": {},
     "output_type": "execute_result"
    }
   ],
   "source": [
    "sum(data['Solar.R'].isnull())"
   ]
  },
  {
   "cell_type": "code",
   "execution_count": 16,
   "metadata": {},
   "outputs": [
    {
     "data": {
      "text/plain": [
       "21.0"
      ]
     },
     "execution_count": 16,
     "metadata": {},
     "output_type": "execute_result"
    }
   ],
   "source": [
    "data['Ozone'][46]"
   ]
  },
  {
   "cell_type": "markdown",
   "metadata": {},
   "source": [
    "How many missing values are in the Ozone column of this data frame?"
   ]
  },
  {
   "cell_type": "code",
   "execution_count": 136,
   "metadata": {},
   "outputs": [
    {
     "data": {
      "text/plain": [
       "37"
      ]
     },
     "execution_count": 136,
     "metadata": {},
     "output_type": "execute_result"
    }
   ],
   "source": [
    "sum(data['Ozone'].isnull())"
   ]
  },
  {
   "cell_type": "markdown",
   "metadata": {},
   "source": [
    "What is the mean of the Ozone column in this dataset? Exclude missing values (coded as NA)\n",
    "from this calculation."
   ]
  },
  {
   "cell_type": "code",
   "execution_count": 25,
   "metadata": {},
   "outputs": [
    {
     "data": {
      "text/plain": [
       "42.12931034482759"
      ]
     },
     "execution_count": 25,
     "metadata": {},
     "output_type": "execute_result"
    }
   ],
   "source": [
    "data['Ozone'].mean()"
   ]
  },
  {
   "cell_type": "markdown",
   "metadata": {},
   "source": [
    "Extract the subset of rows of the data frame where Ozone values are above 31 and Temp values\n",
    "are above 90. What is the mean of Solar.R in this subset?"
   ]
  },
  {
   "cell_type": "code",
   "execution_count": 117,
   "metadata": {},
   "outputs": [
    {
     "data": {
      "text/plain": [
       "212.8"
      ]
     },
     "execution_count": 117,
     "metadata": {},
     "output_type": "execute_result"
    }
   ],
   "source": [
    "selection = (data['Ozone'] > 31) & (data['Temp'] > 90)\n",
    "data[selection]['Solar.R'].mean()"
   ]
  },
  {
   "cell_type": "code",
   "execution_count": 123,
   "metadata": {
    "collapsed": true
   },
   "outputs": [],
   "source": [
    "def highlight_mean(s):\n",
    "    '''highlight the mean in a Series yellow.'''\n",
    "    is_mean = s == data[selection].describe()['Solar.R'][1]\n",
    "#     is_mean = s == s.mean()\n",
    "    return ['background-color: yellow' if v else '' for v in is_mean]"
   ]
  },
  {
   "cell_type": "code",
   "execution_count": 124,
   "metadata": {
    "collapsed": true
   },
   "outputs": [],
   "source": [
    "# data[selection].describe()['Solar.R']"
   ]
  },
  {
   "cell_type": "code",
   "execution_count": 125,
   "metadata": {},
   "outputs": [
    {
     "data": {
      "text/html": [
       "<style  type=\"text/css\" >\n",
       "    #T_a7d13a54_c625_11e7_ad4b_34363bc3fb0crow1_col1 {\n",
       "            background-color:  yellow;\n",
       "        }</style>  \n",
       "<table id=\"T_a7d13a54_c625_11e7_ad4b_34363bc3fb0c\" > \n",
       "<thead>    <tr> \n",
       "        <th class=\"blank level0\" ></th> \n",
       "        <th class=\"col_heading level0 col0\" >Ozone</th> \n",
       "        <th class=\"col_heading level0 col1\" >Solar.R</th> \n",
       "        <th class=\"col_heading level0 col2\" >Wind</th> \n",
       "        <th class=\"col_heading level0 col3\" >Temp</th> \n",
       "        <th class=\"col_heading level0 col4\" >Month</th> \n",
       "        <th class=\"col_heading level0 col5\" >Day</th> \n",
       "    </tr></thead> \n",
       "<tbody>    <tr> \n",
       "        <th id=\"T_a7d13a54_c625_11e7_ad4b_34363bc3fb0c\" class=\"row_heading level0 row0\" >count</th> \n",
       "        <td id=\"T_a7d13a54_c625_11e7_ad4b_34363bc3fb0crow0_col0\" class=\"data row0 col0\" >10</td> \n",
       "        <td id=\"T_a7d13a54_c625_11e7_ad4b_34363bc3fb0crow0_col1\" class=\"data row0 col1\" >10</td> \n",
       "        <td id=\"T_a7d13a54_c625_11e7_ad4b_34363bc3fb0crow0_col2\" class=\"data row0 col2\" >10</td> \n",
       "        <td id=\"T_a7d13a54_c625_11e7_ad4b_34363bc3fb0crow0_col3\" class=\"data row0 col3\" >10</td> \n",
       "        <td id=\"T_a7d13a54_c625_11e7_ad4b_34363bc3fb0crow0_col4\" class=\"data row0 col4\" >10</td> \n",
       "        <td id=\"T_a7d13a54_c625_11e7_ad4b_34363bc3fb0crow0_col5\" class=\"data row0 col5\" >10</td> \n",
       "    </tr>    <tr> \n",
       "        <th id=\"T_a7d13a54_c625_11e7_ad4b_34363bc3fb0c\" class=\"row_heading level0 row1\" >mean</th> \n",
       "        <td id=\"T_a7d13a54_c625_11e7_ad4b_34363bc3fb0crow1_col0\" class=\"data row1 col0\" >89.5</td> \n",
       "        <td id=\"T_a7d13a54_c625_11e7_ad4b_34363bc3fb0crow1_col1\" class=\"data row1 col1\" >212.8</td> \n",
       "        <td id=\"T_a7d13a54_c625_11e7_ad4b_34363bc3fb0crow1_col2\" class=\"data row1 col2\" >5.6</td> \n",
       "        <td id=\"T_a7d13a54_c625_11e7_ad4b_34363bc3fb0crow1_col3\" class=\"data row1 col3\" >93.4</td> \n",
       "        <td id=\"T_a7d13a54_c625_11e7_ad4b_34363bc3fb0crow1_col4\" class=\"data row1 col4\" >8.2</td> \n",
       "        <td id=\"T_a7d13a54_c625_11e7_ad4b_34363bc3fb0crow1_col5\" class=\"data row1 col5\" >14.5</td> \n",
       "    </tr>    <tr> \n",
       "        <th id=\"T_a7d13a54_c625_11e7_ad4b_34363bc3fb0c\" class=\"row_heading level0 row2\" >std</th> \n",
       "        <td id=\"T_a7d13a54_c625_11e7_ad4b_34363bc3fb0crow2_col0\" class=\"data row2 col0\" >13.3604</td> \n",
       "        <td id=\"T_a7d13a54_c625_11e7_ad4b_34363bc3fb0crow2_col1\" class=\"data row2 col1\" >36.0395</td> \n",
       "        <td id=\"T_a7d13a54_c625_11e7_ad4b_34363bc3fb0crow2_col2\" class=\"data row2 col2\" >2.10713</td> \n",
       "        <td id=\"T_a7d13a54_c625_11e7_ad4b_34363bc3fb0crow2_col3\" class=\"data row2 col3\" >1.89737</td> \n",
       "        <td id=\"T_a7d13a54_c625_11e7_ad4b_34363bc3fb0crow2_col4\" class=\"data row2 col4\" >0.788811</td> \n",
       "        <td id=\"T_a7d13a54_c625_11e7_ad4b_34363bc3fb0crow2_col5\" class=\"data row2 col5\" >13.1593</td> \n",
       "    </tr>    <tr> \n",
       "        <th id=\"T_a7d13a54_c625_11e7_ad4b_34363bc3fb0c\" class=\"row_heading level0 row3\" >min</th> \n",
       "        <td id=\"T_a7d13a54_c625_11e7_ad4b_34363bc3fb0crow3_col0\" class=\"data row3 col0\" >73</td> \n",
       "        <td id=\"T_a7d13a54_c625_11e7_ad4b_34363bc3fb0crow3_col1\" class=\"data row3 col1\" >167</td> \n",
       "        <td id=\"T_a7d13a54_c625_11e7_ad4b_34363bc3fb0crow3_col2\" class=\"data row3 col2\" >2.3</td> \n",
       "        <td id=\"T_a7d13a54_c625_11e7_ad4b_34363bc3fb0crow3_col3\" class=\"data row3 col3\" >91</td> \n",
       "        <td id=\"T_a7d13a54_c625_11e7_ad4b_34363bc3fb0crow3_col4\" class=\"data row3 col4\" >7</td> \n",
       "        <td id=\"T_a7d13a54_c625_11e7_ad4b_34363bc3fb0crow3_col5\" class=\"data row3 col5\" >1</td> \n",
       "    </tr>    <tr> \n",
       "        <th id=\"T_a7d13a54_c625_11e7_ad4b_34363bc3fb0c\" class=\"row_heading level0 row4\" >25%</th> \n",
       "        <td id=\"T_a7d13a54_c625_11e7_ad4b_34363bc3fb0crow4_col0\" class=\"data row4 col0\" >79.5</td> \n",
       "        <td id=\"T_a7d13a54_c625_11e7_ad4b_34363bc3fb0crow4_col1\" class=\"data row4 col1\" >188.25</td> \n",
       "        <td id=\"T_a7d13a54_c625_11e7_ad4b_34363bc3fb0crow4_col2\" class=\"data row4 col2\" >4.725</td> \n",
       "        <td id=\"T_a7d13a54_c625_11e7_ad4b_34363bc3fb0crow4_col3\" class=\"data row4 col3\" >92</td> \n",
       "        <td id=\"T_a7d13a54_c625_11e7_ad4b_34363bc3fb0crow4_col4\" class=\"data row4 col4\" >8</td> \n",
       "        <td id=\"T_a7d13a54_c625_11e7_ad4b_34363bc3fb0crow4_col5\" class=\"data row4 col5\" >3.25</td> \n",
       "    </tr>    <tr> \n",
       "        <th id=\"T_a7d13a54_c625_11e7_ad4b_34363bc3fb0c\" class=\"row_heading level0 row5\" >50%</th> \n",
       "        <td id=\"T_a7d13a54_c625_11e7_ad4b_34363bc3fb0crow5_col0\" class=\"data row5 col0\" >88</td> \n",
       "        <td id=\"T_a7d13a54_c625_11e7_ad4b_34363bc3fb0crow5_col1\" class=\"data row5 col1\" >200</td> \n",
       "        <td id=\"T_a7d13a54_c625_11e7_ad4b_34363bc3fb0crow5_col2\" class=\"data row5 col2\" >6</td> \n",
       "        <td id=\"T_a7d13a54_c625_11e7_ad4b_34363bc3fb0crow5_col3\" class=\"data row5 col3\" >93</td> \n",
       "        <td id=\"T_a7d13a54_c625_11e7_ad4b_34363bc3fb0crow5_col4\" class=\"data row5 col4\" >8</td> \n",
       "        <td id=\"T_a7d13a54_c625_11e7_ad4b_34363bc3fb0crow5_col5\" class=\"data row5 col5\" >8.5</td> \n",
       "    </tr>    <tr> \n",
       "        <th id=\"T_a7d13a54_c625_11e7_ad4b_34363bc3fb0c\" class=\"row_heading level0 row6\" >75%</th> \n",
       "        <td id=\"T_a7d13a54_c625_11e7_ad4b_34363bc3fb0crow6_col0\" class=\"data row6 col0\" >96.75</td> \n",
       "        <td id=\"T_a7d13a54_c625_11e7_ad4b_34363bc3fb0crow6_col1\" class=\"data row6 col1\" >234</td> \n",
       "        <td id=\"T_a7d13a54_c625_11e7_ad4b_34363bc3fb0crow6_col2\" class=\"data row6 col2\" >6.3</td> \n",
       "        <td id=\"T_a7d13a54_c625_11e7_ad4b_34363bc3fb0crow6_col3\" class=\"data row6 col3\" >94</td> \n",
       "        <td id=\"T_a7d13a54_c625_11e7_ad4b_34363bc3fb0crow6_col4\" class=\"data row6 col4\" >9</td> \n",
       "        <td id=\"T_a7d13a54_c625_11e7_ad4b_34363bc3fb0crow6_col5\" class=\"data row6 col5\" >28.75</td> \n",
       "    </tr>    <tr> \n",
       "        <th id=\"T_a7d13a54_c625_11e7_ad4b_34363bc3fb0c\" class=\"row_heading level0 row7\" >max</th> \n",
       "        <td id=\"T_a7d13a54_c625_11e7_ad4b_34363bc3fb0crow7_col0\" class=\"data row7 col0\" >118</td> \n",
       "        <td id=\"T_a7d13a54_c625_11e7_ad4b_34363bc3fb0crow7_col1\" class=\"data row7 col1\" >272</td> \n",
       "        <td id=\"T_a7d13a54_c625_11e7_ad4b_34363bc3fb0crow7_col2\" class=\"data row7 col2\" >9.7</td> \n",
       "        <td id=\"T_a7d13a54_c625_11e7_ad4b_34363bc3fb0crow7_col3\" class=\"data row7 col3\" >97</td> \n",
       "        <td id=\"T_a7d13a54_c625_11e7_ad4b_34363bc3fb0crow7_col4\" class=\"data row7 col4\" >9</td> \n",
       "        <td id=\"T_a7d13a54_c625_11e7_ad4b_34363bc3fb0crow7_col5\" class=\"data row7 col5\" >31</td> \n",
       "    </tr></tbody> \n",
       "</table> "
      ],
      "text/plain": [
       "<pandas.io.formats.style.Styler at 0x111cf3a50>"
      ]
     },
     "execution_count": 125,
     "metadata": {},
     "output_type": "execute_result"
    }
   ],
   "source": [
    "data[selection]\n",
    "df = data[selection].describe()\n",
    "df\n",
    "df.style.apply(highlight_mean)"
   ]
  },
  {
   "cell_type": "markdown",
   "metadata": {},
   "source": [
    "What is the mean of \"Temp\" when \"Month\" is equal to 6?"
   ]
  },
  {
   "cell_type": "code",
   "execution_count": 105,
   "metadata": {},
   "outputs": [
    {
     "data": {
      "text/plain": [
       "79.1"
      ]
     },
     "execution_count": 105,
     "metadata": {},
     "output_type": "execute_result"
    }
   ],
   "source": [
    "selectionX = data['Month'] == 6\n",
    "data[selectionX]['Temp'].mean()"
   ]
  },
  {
   "cell_type": "markdown",
   "metadata": {},
   "source": [
    "What was the maximum ozone value in the month of May (i.e. Month = 5)?"
   ]
  },
  {
   "cell_type": "code",
   "execution_count": 112,
   "metadata": {},
   "outputs": [
    {
     "data": {
      "text/plain": [
       "115.0"
      ]
     },
     "execution_count": 112,
     "metadata": {},
     "output_type": "execute_result"
    }
   ],
   "source": [
    "selectionMay = data['Month'] == 5\n",
    "data[selectionMay]['Ozone'].max()"
   ]
  },
  {
   "cell_type": "code",
   "execution_count": null,
   "metadata": {
    "collapsed": true
   },
   "outputs": [],
   "source": []
  },
  {
   "cell_type": "markdown",
   "metadata": {},
   "source": [
    "# Next Steps\n",
    "\n",
    "**Recommended Resources**\n",
    "\n",
    "Name | Description\n",
    "--- | ---\n",
    "[Official Pandas Tutorials](http://pandas.pydata.org/pandas-docs/stable/tutorials.html) | Wes & Company's selection of tutorials and lectures\n",
    "[Julia Evans Pandas Cookbook](https://github.com/jvns/pandas-cookbook) | Great resource with eamples from weather, bikes and 311 calls\n",
    "[Learn Pandas Tutorials](https://bitbucket.org/hrojas/learn-pandas) | A great series of Pandas tutorials from Dave Rojas\n",
    "[Research Computing Python Data PYNBs](https://github.com/ResearchComputing/Meetup-Fall-2013/tree/master/python) | A super awesome set of python notebooks from a meetup-based course exclusively devoted to pandas"
   ]
  }
 ],
 "metadata": {
  "kernelspec": {
   "display_name": "Python 2",
   "language": "python",
   "name": "python2"
  },
  "language_info": {
   "codemirror_mode": {
    "name": "ipython",
    "version": 2
   },
   "file_extension": ".py",
   "mimetype": "text/x-python",
   "name": "python",
   "nbconvert_exporter": "python",
   "pygments_lexer": "ipython2",
   "version": "2.7.13"
  }
 },
 "nbformat": 4,
 "nbformat_minor": 1
}
