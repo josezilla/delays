{
 "cells": [
  {
   "cell_type": "markdown",
   "metadata": {},
   "source": [
    "# Lesson 6 - Starter Code"
   ]
  },
  {
   "cell_type": "code",
   "execution_count": 63,
   "metadata": {
    "collapsed": false
   },
   "outputs": [],
   "source": [
    "%matplotlib inline\n",
    "import numpy as np\n",
    "import pandas as pd\n",
    "from matplotlib import pyplot as plt\n",
    "import seaborn as sns\n",
    "sns.set_style(\"darkgrid\")\n",
    "import sklearn.linear_model\n",
    "\n",
    "# read in the mammal dataset\n",
    "wd = '../../assets/dataset/msleep/'\n",
    "mammals = pd.read_csv(wd+'msleep.csv')\n",
    "mammals = mammals[mammals.brainwt.notnull()].copy()"
   ]
  },
  
 },
 "nbformat": 4,
 "nbformat_minor": 0
}
