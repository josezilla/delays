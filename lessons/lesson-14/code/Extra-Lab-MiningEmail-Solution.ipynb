{
 "cells": [
  {
   "cell_type": "markdown",
   "metadata": {},
   "source": [
    "## Snooping through emails"
   ]
  },
  {
   "cell_type": "code",
   "execution_count": 8,
   "metadata": {},
   "outputs": [],
   "source": [
    "import os\n",
    "import math\n",
    "import numpy as np\n",
    "import pandas as pd\n",
    "import matplotlib.pyplot as plt\n",
    "from sklearn import feature_extraction\n",
    "\n",
    "import gensim\n",
    "\n",
    "pd.set_option('display.max_rows', 10)\n",
    "pd.set_option('display.notebook_repr_html', True)\n",
    "pd.set_option('display.max_columns', 10)\n",
    "\n",
    "%matplotlib inline\n",
    "plt.style.use('ggplot')"
   ]
  },
  {
   "cell_type": "code",
   "execution_count": 9,
   "metadata": {},
   "outputs": [
    {
     "data": {
      "text/html": [
       "<div>\n",
       "<style>\n",
       "    .dataframe thead tr:only-child th {\n",
       "        text-align: right;\n",
       "    }\n",
       "\n",
       "    .dataframe thead th {\n",
       "        text-align: left;\n",
       "    }\n",
       "\n",
       "    .dataframe tbody tr th {\n",
       "        vertical-align: top;\n",
       "    }\n",
       "</style>\n",
       "<table border=\"1\" class=\"dataframe\">\n",
       "  <thead>\n",
       "    <tr style=\"text-align: right;\">\n",
       "      <th></th>\n",
       "      <th>message</th>\n",
       "    </tr>\n",
       "  </thead>\n",
       "  <tbody>\n",
       "    <tr>\n",
       "      <th>0</th>\n",
       "      <td>water pipe replacement cost todd water pipe re...</td>\n",
       "    </tr>\n",
       "    <tr>\n",
       "      <th>1</th>\n",
       "      <td>cell phone reimbursement commissioner reimburs...</td>\n",
       "    </tr>\n",
       "    <tr>\n",
       "      <th>2</th>\n",
       "      <td>travel fri. 3/28 todd first class friday s fli...</td>\n",
       "    </tr>\n",
       "    <tr>\n",
       "      <th>3</th>\n",
       "      <td>romer 1 roston 01774 released msnbc.com state ...</td>\n",
       "    </tr>\n",
       "    <tr>\n",
       "      <th>4</th>\n",
       "      <td>flight information: friday march 28th travel j...</td>\n",
       "    </tr>\n",
       "  </tbody>\n",
       "</table>\n",
       "</div>"
      ],
      "text/plain": [
       "                                             message\n",
       "0  water pipe replacement cost todd water pipe re...\n",
       "1  cell phone reimbursement commissioner reimburs...\n",
       "2  travel fri. 3/28 todd first class friday s fli...\n",
       "3  romer 1 roston 01774 released msnbc.com state ...\n",
       "4  flight information: friday march 28th travel j..."
      ]
     },
     "execution_count": 9,
     "metadata": {},
     "output_type": "execute_result"
    }
   ],
   "source": [
    "emails = pd.read_csv(\"../datasets/emails.csv\", names=[\"message\"])\n",
    "emails.reset_index(drop=True, inplace=True)\n",
    "\n",
    "emails.head()"
   ]
  },
  {
   "cell_type": "markdown",
   "metadata": {},
   "source": [
    "### Use Sklearn to build a corpus using CountVectorizer"
   ]
  },
  {
   "cell_type": "code",
   "execution_count": 10,
   "metadata": {
    "collapsed": true
   },
   "outputs": [],
   "source": [
    "vectorizer = feature_extraction.text.CountVectorizer(stop_words = 'english')\n",
    "\n",
    "documents = vectorizer.fit_transform(emails.message)"
   ]
  },
  {
   "cell_type": "markdown",
   "metadata": {},
   "source": [
    "### Build the corpus and use LdaModel to extract topics from it"
   ]
  },
  {
   "cell_type": "code",
   "execution_count": 11,
   "metadata": {},
   "outputs": [],
   "source": [
    "corpus = gensim.matutils.Sparse2Corpus(documents, documents_columns = False)\n",
    "\n",
    "id2word = dict(enumerate(vectorizer.get_feature_names()))"
   ]
  },
  {
   "cell_type": "code",
   "execution_count": 13,
   "metadata": {},
   "outputs": [],
   "source": [
    "model = gensim.models.ldamodel.LdaModel(corpus = corpus, num_topics = 10, id2word = id2word)"
   ]
  },
  {
   "cell_type": "code",
   "execution_count": 14,
   "metadata": {},
   "outputs": [
    {
     "data": {
      "text/plain": [
       "[(0,\n",
       "  u'0.008*\"com\" + 0.008*\"state\" + 0.006*\"health\" + 0.006*\"msnbc\" + 0.005*\"http\" + 0.005*\"school\" + 0.005*\"www\" + 0.004*\"education\" + 0.004*\"program\" + 0.004*\"care\"'),\n",
       " (1,\n",
       "  u'0.009*\"board\" + 0.008*\"alaska\" + 0.007*\"executive\" + 0.006*\"2009\" + 0.006*\"com\" + 0.005*\"10\" + 0.005*\"business\" + 0.004*\"11\" + 0.004*\"council\" + 0.004*\"new\"'),\n",
       " (2,\n",
       "  u'0.026*\"alaska\" + 0.022*\"state\" + 0.015*\"com\" + 0.010*\"msnbc\" + 0.009*\"gas\" + 0.006*\"oil\" + 0.005*\"www\" + 0.005*\"governor\" + 0.005*\"http\" + 0.004*\"pipeline\"'),\n",
       " (3,\n",
       "  u'0.024*\"alaska\" + 0.018*\"roston\" + 0.018*\"state\" + 0.018*\"crivella\" + 0.017*\"presented\" + 0.017*\"released\" + 0.017*\"west\" + 0.016*\"com\" + 0.013*\"msnbc\" + 0.013*\"governor\"'),\n",
       " (4,\n",
       "  u'0.009*\"sent\" + 0.008*\"pra\" + 0.007*\"state\" + 0.007*\"device\" + 0.007*\"cellular\" + 0.007*\"blackberry\" + 0.006*\"need\" + 0.005*\"com\" + 0.005*\"letter\" + 0.004*\"know\"'),\n",
       " (5,\n",
       "  u'0.058*\"com\" + 0.030*\"deliberative\" + 0.030*\"msnbc\" + 0.021*\"process\" + 0.016*\"http\" + 0.016*\"www\" + 0.015*\"posted\" + 0.015*\"publica\" + 0.015*\"msn\" + 0.015*\"palinemail\"'),\n",
       " (6,\n",
       "  u'0.032*\"gov\" + 0.026*\"governor\" + 0.023*\"907\" + 0.020*\"sarah\" + 0.015*\"465\" + 0.014*\"office\" + 0.014*\"08\" + 0.013*\"palin\" + 0.010*\"com\" + 0.009*\"director\"'),\n",
       " (7,\n",
       "  u'0.008*\"pra\" + 0.007*\"know\" + 0.007*\"com\" + 0.006*\"governor\" + 0.006*\"state\" + 0.006*\"email\" + 0.005*\"2009\" + 0.005*\"moose\" + 0.005*\"need\" + 0.004*\"today\"'),\n",
       " (8,\n",
       "  u'0.012*\"http\" + 0.012*\"com\" + 0.007*\"net\" + 0.005*\"waste\" + 0.005*\"gif\" + 0.005*\"msnbc\" + 0.005*\"business\" + 0.005*\"www\" + 0.004*\"jb\" + 0.004*\"10\"'),\n",
       " (9,\n",
       "  u'0.026*\"com\" + 0.020*\"yahoo\" + 0.012*\"msnbc\" + 0.012*\"alaska\" + 0.010*\"state\" + 0.008*\"http\" + 0.008*\"erika\" + 0.008*\"message\" + 0.008*\"governor\" + 0.008*\"mail\"')]"
      ]
     },
     "execution_count": 14,
     "metadata": {},
     "output_type": "execute_result"
    }
   ],
   "source": [
    "model.print_topics()"
   ]
  },
  {
   "cell_type": "markdown",
   "metadata": {},
   "source": [
    "## Bonus\n",
    "\n",
    "- Repeat the analysis but on the email inbox of CEO\n",
    "  - (You'll need to extract dates, subject line, recipients, and message content from the ceo dataset)"
   ]
  },
  {
   "cell_type": "code",
   "execution_count": null,
   "metadata": {
    "collapsed": true
   },
   "outputs": [],
   "source": []
  }
 ],
 "metadata": {
  "kernelspec": {
   "display_name": "Python 2",
   "language": "python",
   "name": "python2"
  },
  "language_info": {
   "codemirror_mode": {
    "name": "ipython",
    "version": 2
   },
   "file_extension": ".py",
   "mimetype": "text/x-python",
   "name": "python",
   "nbconvert_exporter": "python",
   "pygments_lexer": "ipython2",
   "version": "2.7.14"
  }
 },
 "nbformat": 4,
 "nbformat_minor": 1
}
